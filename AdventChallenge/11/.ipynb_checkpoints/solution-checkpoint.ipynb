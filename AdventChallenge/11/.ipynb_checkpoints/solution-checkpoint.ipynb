{
 "cells": [
  {
   "cell_type": "code",
   "execution_count": 205,
   "id": "010c8344",
   "metadata": {},
   "outputs": [],
   "source": [
    "from decimal import *"
   ]
  },
  {
   "cell_type": "code",
   "execution_count": 167,
   "id": "5f4f33be",
   "metadata": {},
   "outputs": [],
   "source": [
    "with open(\"input.txt\") as f:\n",
    "    monkeys = f.readlines()\n",
    "    \n",
    "monkeys = [x.strip() for x in monkeys]"
   ]
  },
  {
   "cell_type": "code",
   "execution_count": 193,
   "id": "2620c68c",
   "metadata": {},
   "outputs": [],
   "source": [
    "# Part 1\n",
    "class monkey():\n",
    "    def __init__(self,monkey_n, starting_items, operator, value, divisible_by):\n",
    "        self.monkeynumber = monkey_n\n",
    "        \n",
    "        self.items = starting_items\n",
    "        \n",
    "        self.operator = operator\n",
    "        self.value = value\n",
    "        \n",
    "        self.divisible_by = divisible_by\n",
    "        \n",
    "        self.log = []\n",
    "        self.n_inspection = 0\n",
    "    \n",
    "    def set_connection(self,true_monkey, false_monkey):\n",
    "        self.true_monkey = true_monkey\n",
    "        self.false_monkey = false_monkey\n",
    "    \n",
    "    def new_value(self,item_value):\n",
    "        if self.operator == \"*\":\n",
    "            new = item_value * self.value\n",
    "        if self.operator == \"+\":\n",
    "            new = item_value + self.value\n",
    "        if self.operator == \"old\":\n",
    "            new = item_value**2 \n",
    "        new = int(new/3)\n",
    "        return new\n",
    "    \n",
    "    def inspect_item(self):\n",
    "        for item in self.items:\n",
    "            self.n_inspection += 1\n",
    "            \n",
    "            item_value = self.new_value(item)\n",
    "            \n",
    "            if item_value % self.divisible_by == 0:\n",
    "                self.true_monkey.items.append(item_value)\n",
    "                message = f\"Inspected item {item}, new value {item_value}, gave it to Monkey_{self.true_monkey.monkeynumber}\"\n",
    "            else:\n",
    "                self.false_monkey.items.append(item_value)\n",
    "                message = f\"Inspected item {item}, new value {item_value}, gave it to Monkey_{self.false_monkey.monkeynumber}\"\n",
    "            \n",
    "            self.log.append((self.n_inspection, message))\n",
    "        \n",
    "        self.items = []"
   ]
  },
  {
   "cell_type": "code",
   "execution_count": 273,
   "id": "2798cc11",
   "metadata": {},
   "outputs": [],
   "source": [
    "# Part 2\n",
    "class monkey():\n",
    "    def __init__(self,monkey_n, starting_items, operator, value, divisible_by):\n",
    "        self.monkeynumber = monkey_n\n",
    "        \n",
    "        self.items = starting_items\n",
    "        \n",
    "        self.operator = operator\n",
    "        self.value = value\n",
    "        \n",
    "        self.divisible_by = divisible_by\n",
    "        \n",
    "        self.log = []\n",
    "        self.n_inspection = 0\n",
    "    \n",
    "    def set_connection(self,true_monkey, false_monkey):\n",
    "        self.true_monkey = true_monkey\n",
    "        self.false_monkey = false_monkey\n",
    "    \n",
    "    def new_value(self,item_value):\n",
    "        if self.operator == \"*\":\n",
    "            new = item_value * self.value\n",
    "        if self.operator == \"+\":\n",
    "            new = item_value + self.value\n",
    "        if self.operator == \"old\":\n",
    "            new = item_value**2 \n",
    "        \n",
    "        return new\n",
    "    \n",
    "    def inspect_item(self):\n",
    "        for item in self.items:\n",
    "            self.n_inspection += 1\n",
    "            \n",
    "            item_value = self.new_value(item)\n",
    "            \n",
    "            # Modulo check for integer\n",
    "            mod = item_value // self.divisible_by\n",
    "            \n",
    "            \n",
    "            if self.divisible_by * mod == item_value:\n",
    "                self.true_monkey.items.append(item_value)\n",
    "                message = f\"Inspected item {item}, new value {item_value}, gave it to Monkey_{self.true_monkey.monkeynumber}\"\n",
    "            else:\n",
    "                self.false_monkey.items.append(item_value)\n",
    "                message = f\"Inspected item {item}, new value {item_value}, gave it to Monkey_{self.false_monkey.monkeynumber}\"\n",
    "            \n",
    "            self.log.append((self.n_inspection, message))\n",
    "        \n",
    "        self.items = []\n",
    "            \n",
    "        "
   ]
  },
  {
   "cell_type": "markdown",
   "id": "e4bb7fb9",
   "metadata": {},
   "source": [
    "Monkey 0:\n",
    "  Starting items: 79, 98\n",
    "  Operation: new = old * 19\n",
    "  Test: divisible by 23\n",
    "    If true: throw to monkey 2\n",
    "    If false: throw to monkey 3\n",
    "\n",
    "Monkey 1:\n",
    "  Starting items: 54, 65, 75, 74\n",
    "  Operation: new = old + 6\n",
    "  Test: divisible by 19\n",
    "    If true: throw to monkey 2\n",
    "    If false: throw to monkey 0\n",
    "\n",
    "Monkey 2:\n",
    "  Starting items: 79, 60, 97\n",
    "  Operation: new = old * old\n",
    "  Test: divisible by 13\n",
    "    If true: throw to monkey 1\n",
    "    If false: throw to monkey 3\n",
    "\n",
    "Monkey 3:\n",
    "  Starting items: 74\n",
    "  Operation: new = old + 3\n",
    "  Test: divisible by 17\n",
    "    If true: throw to monkey 0\n",
    "    If false: throw to monkey 1"
   ]
  },
  {
   "cell_type": "code",
   "execution_count": 274,
   "id": "7785e409",
   "metadata": {},
   "outputs": [],
   "source": [
    "Monkey_0 = monkey(0, [79, 98], \"*\", 19,23)\n",
    "Monkey_1 = monkey(1, [54,65,75,74], \"+\", 6, 19)\n",
    "Monkey_2 = monkey(2, [79, 60, 97], \"old\", \"none\",13)\n",
    "Monkey_3 = monkey(3, [74], \"+\", 3, 17)"
   ]
  },
  {
   "cell_type": "code",
   "execution_count": 275,
   "id": "276e708a",
   "metadata": {},
   "outputs": [],
   "source": [
    "Monkey_0.set_connection(Monkey_2,Monkey_3)\n",
    "Monkey_1.set_connection(Monkey_2,Monkey_0)\n",
    "Monkey_2.set_connection(Monkey_1,Monkey_3)\n",
    "Monkey_3.set_connection(Monkey_0,Monkey_1)"
   ]
  },
  {
   "cell_type": "code",
   "execution_count": 276,
   "id": "fb554e31",
   "metadata": {},
   "outputs": [],
   "source": [
    "AllMonkeys = [Monkey_0,\n",
    "Monkey_1,\n",
    "Monkey_2,\n",
    "Monkey_3]"
   ]
  },
  {
   "cell_type": "code",
   "execution_count": 278,
   "id": "0cbe6322",
   "metadata": {
    "scrolled": true
   },
   "outputs": [
    {
     "ename": "KeyboardInterrupt",
     "evalue": "",
     "output_type": "error",
     "traceback": [
      "\u001b[1;31m---------------------------------------------------------------------------\u001b[0m",
      "\u001b[1;31mKeyboardInterrupt\u001b[0m                         Traceback (most recent call last)",
      "\u001b[1;32m~\\AppData\\Local\\Temp/ipykernel_11364/4262801932.py\u001b[0m in \u001b[0;36m<module>\u001b[1;34m\u001b[0m\n\u001b[0;32m      1\u001b[0m \u001b[1;32mfor\u001b[0m \u001b[0mi\u001b[0m \u001b[1;32min\u001b[0m \u001b[0mrange\u001b[0m\u001b[1;33m(\u001b[0m\u001b[1;36m20\u001b[0m\u001b[1;33m)\u001b[0m\u001b[1;33m:\u001b[0m\u001b[1;33m\u001b[0m\u001b[1;33m\u001b[0m\u001b[0m\n\u001b[0;32m      2\u001b[0m     \u001b[1;32mfor\u001b[0m \u001b[0mmonkey\u001b[0m \u001b[1;32min\u001b[0m \u001b[0mAllMonkeys\u001b[0m\u001b[1;33m:\u001b[0m\u001b[1;33m\u001b[0m\u001b[1;33m\u001b[0m\u001b[0m\n\u001b[1;32m----> 3\u001b[1;33m         \u001b[0mmonkey\u001b[0m\u001b[1;33m.\u001b[0m\u001b[0minspect_item\u001b[0m\u001b[1;33m(\u001b[0m\u001b[1;33m)\u001b[0m\u001b[1;33m\u001b[0m\u001b[1;33m\u001b[0m\u001b[0m\n\u001b[0m",
      "\u001b[1;32m~\\AppData\\Local\\Temp/ipykernel_11364/1707469615.py\u001b[0m in \u001b[0;36minspect_item\u001b[1;34m(self)\u001b[0m\n\u001b[0;32m     43\u001b[0m             \u001b[1;32melse\u001b[0m\u001b[1;33m:\u001b[0m\u001b[1;33m\u001b[0m\u001b[1;33m\u001b[0m\u001b[0m\n\u001b[0;32m     44\u001b[0m                 \u001b[0mself\u001b[0m\u001b[1;33m.\u001b[0m\u001b[0mfalse_monkey\u001b[0m\u001b[1;33m.\u001b[0m\u001b[0mitems\u001b[0m\u001b[1;33m.\u001b[0m\u001b[0mappend\u001b[0m\u001b[1;33m(\u001b[0m\u001b[0mitem_value\u001b[0m\u001b[1;33m)\u001b[0m\u001b[1;33m\u001b[0m\u001b[1;33m\u001b[0m\u001b[0m\n\u001b[1;32m---> 45\u001b[1;33m                 \u001b[0mmessage\u001b[0m \u001b[1;33m=\u001b[0m \u001b[1;34mf\"Inspected item {item}, new value {item_value}, gave it to Monkey_{self.false_monkey.monkeynumber}\"\u001b[0m\u001b[1;33m\u001b[0m\u001b[1;33m\u001b[0m\u001b[0m\n\u001b[0m\u001b[0;32m     46\u001b[0m \u001b[1;33m\u001b[0m\u001b[0m\n\u001b[0;32m     47\u001b[0m             \u001b[0mself\u001b[0m\u001b[1;33m.\u001b[0m\u001b[0mlog\u001b[0m\u001b[1;33m.\u001b[0m\u001b[0mappend\u001b[0m\u001b[1;33m(\u001b[0m\u001b[1;33m(\u001b[0m\u001b[0mself\u001b[0m\u001b[1;33m.\u001b[0m\u001b[0mn_inspection\u001b[0m\u001b[1;33m,\u001b[0m \u001b[0mmessage\u001b[0m\u001b[1;33m)\u001b[0m\u001b[1;33m)\u001b[0m\u001b[1;33m\u001b[0m\u001b[1;33m\u001b[0m\u001b[0m\n",
      "\u001b[1;31mKeyboardInterrupt\u001b[0m: "
     ]
    }
   ],
   "source": [
    "for i in range(20):\n",
    "    for monkey in AllMonkeys:\n",
    "        monkey.inspect_item()"
   ]
  },
  {
   "cell_type": "code",
   "execution_count": null,
   "id": "f54e1f82",
   "metadata": {
    "scrolled": true
   },
   "outputs": [],
   "source": [
    "for monkey in AllMonkeys:\n",
    "    print(monkey.monkeynumber,monkey.n_inspection, monkey.items)"
   ]
  },
  {
   "cell_type": "code",
   "execution_count": null,
   "id": "74881e8d",
   "metadata": {},
   "outputs": [],
   "source": []
  },
  {
   "cell_type": "code",
   "execution_count": 259,
   "id": "89d2d282",
   "metadata": {},
   "outputs": [],
   "source": [
    "import numpy as np"
   ]
  },
  {
   "cell_type": "code",
   "execution_count": 260,
   "id": "2956bb6e",
   "metadata": {},
   "outputs": [
    {
     "data": {
      "text/plain": [
       "2.302585092994046"
      ]
     },
     "execution_count": 260,
     "metadata": {},
     "output_type": "execute_result"
    }
   ],
   "source": [
    "np.log(10)\n",
    "np"
   ]
  },
  {
   "cell_type": "code",
   "execution_count": null,
   "id": "f048c663",
   "metadata": {},
   "outputs": [],
   "source": [
    "def f(a,m,n):\n",
    "    \"\"\" returns aaaa...a (m times) modulo n\"\"\"\n",
    "    k = len(str(a))\n",
    "    r = pow(10,k,n)\n",
    "    return (a*geom(r,m,n))%n"
   ]
  },
  {
   "cell_type": "code",
   "execution_count": 223,
   "id": "3eb332d4",
   "metadata": {},
   "outputs": [
    {
     "data": {
      "text/plain": [
       "[(3, 598), (0, 588), (1, 508), (2, 15)]"
      ]
     },
     "execution_count": 223,
     "metadata": {},
     "output_type": "execute_result"
    }
   ],
   "source": [
    "inspections = []\n",
    "for monkey in AllMonkeys:\n",
    "    info = (monkey.monkeynumber, monkey.n_inspection)\n",
    "    inspections.append(info)\n",
    "sorted(inspections, key = lambda x: x[1], reverse = True)"
   ]
  },
  {
   "cell_type": "code",
   "execution_count": 159,
   "id": "70b42c0d",
   "metadata": {},
   "outputs": [
    {
     "data": {
      "text/plain": [
       "['Monkey 0:',\n",
       " 'Starting items: 59, 65, 86, 56, 74, 57, 56',\n",
       " 'Operation: new = old * 17',\n",
       " 'Test: divisible by 3',\n",
       " 'If true: throw to monkey 3',\n",
       " 'If false: throw to monkey 6',\n",
       " '',\n",
       " 'Monkey 1:',\n",
       " 'Starting items: 63, 83, 50, 63, 56',\n",
       " 'Operation: new = old + 2',\n",
       " 'Test: divisible by 13',\n",
       " 'If true: throw to monkey 3',\n",
       " 'If false: throw to monkey 0',\n",
       " '',\n",
       " 'Monkey 2:',\n",
       " 'Starting items: 93, 79, 74, 55',\n",
       " 'Operation: new = old + 1',\n",
       " 'Test: divisible by 2',\n",
       " 'If true: throw to monkey 0',\n",
       " 'If false: throw to monkey 1',\n",
       " '',\n",
       " 'Monkey 3:',\n",
       " 'Starting items: 86, 61, 67, 88, 94, 69, 56, 91',\n",
       " 'Operation: new = old + 7',\n",
       " 'Test: divisible by 11',\n",
       " 'If true: throw to monkey 6',\n",
       " 'If false: throw to monkey 7',\n",
       " '',\n",
       " 'Monkey 4:',\n",
       " 'Starting items: 76, 50, 51',\n",
       " 'Operation: new = old * old',\n",
       " 'Test: divisible by 19',\n",
       " 'If true: throw to monkey 2',\n",
       " 'If false: throw to monkey 5',\n",
       " '',\n",
       " 'Monkey 5:',\n",
       " 'Starting items: 77, 76',\n",
       " 'Operation: new = old + 8',\n",
       " 'Test: divisible by 17',\n",
       " 'If true: throw to monkey 2',\n",
       " 'If false: throw to monkey 1',\n",
       " '',\n",
       " 'Monkey 6:',\n",
       " 'Starting items: 74',\n",
       " 'Operation: new = old * 2',\n",
       " 'Test: divisible by 5',\n",
       " 'If true: throw to monkey 4',\n",
       " 'If false: throw to monkey 7',\n",
       " '',\n",
       " 'Monkey 7:',\n",
       " 'Starting items: 86, 85, 52, 86, 91, 95',\n",
       " 'Operation: new = old + 6',\n",
       " 'Test: divisible by 7',\n",
       " 'If true: throw to monkey 4',\n",
       " 'If false: throw to monkey 5']"
      ]
     },
     "execution_count": 159,
     "metadata": {},
     "output_type": "execute_result"
    }
   ],
   "source": [
    "monkeys"
   ]
  },
  {
   "cell_type": "code",
   "execution_count": 160,
   "id": "6efd74b0",
   "metadata": {},
   "outputs": [],
   "source": [
    "Monkey_0 = monkey(0,[59, 65, 86, 56, 74, 57, 56],\"*\",17,3)\n",
    "Monkey_1 = monkey(1,[63, 83, 50, 63, 56],\"+\",2,13)\n",
    "Monkey_2 = monkey(2,[93, 79, 74, 55],\"+\",1,2)\n",
    "Monkey_3 = monkey(3,[86, 61, 67, 88, 94, 69, 56, 91],\"+\",7,11)\n",
    "Monkey_4 = monkey(4,[76, 50, 51],\"old\",\"none\",19)\n",
    "Monkey_5 = monkey(5,[77, 76],\"+\",8,17)\n",
    "Monkey_6 = monkey(6,[74],\"*\",2,5)\n",
    "Monkey_7 = monkey(7,[86, 85, 52, 86, 91, 95],\"+\",6,7)"
   ]
  },
  {
   "cell_type": "code",
   "execution_count": 161,
   "id": "68020d4b",
   "metadata": {},
   "outputs": [],
   "source": [
    "Monkey_0.set_connection(Monkey_3,Monkey_6)\n",
    "Monkey_1.set_connection(Monkey_3, Monkey_0)\n",
    "Monkey_2.set_connection(Monkey_0,Monkey_1)\n",
    "Monkey_3.set_connection(Monkey_6,Monkey_7)\n",
    "Monkey_4.set_connection(Monkey_2,Monkey_5)\n",
    "Monkey_5.set_connection(Monkey_2,Monkey_1)\n",
    "Monkey_6.set_connection(Monkey_4,Monkey_7)\n",
    "Monkey_7.set_connection(Monkey_4,Monkey_5)"
   ]
  },
  {
   "cell_type": "code",
   "execution_count": 162,
   "id": "711d556f",
   "metadata": {},
   "outputs": [],
   "source": [
    "AllMonkeys = [Monkey_0,\n",
    "Monkey_1,\n",
    "Monkey_2,\n",
    "Monkey_3,\n",
    "Monkey_4,\n",
    "Monkey_5,\n",
    "Monkey_6,\n",
    "Monkey_7]"
   ]
  },
  {
   "cell_type": "code",
   "execution_count": 163,
   "id": "c670a0ed",
   "metadata": {},
   "outputs": [],
   "source": [
    "for i in range(20):\n",
    "    for monkey in AllMonkeys:\n",
    "        monkey.inspect_item()"
   ]
  },
  {
   "cell_type": "code",
   "execution_count": 165,
   "id": "e295c09f",
   "metadata": {
    "scrolled": true
   },
   "outputs": [
    {
     "name": "stdout",
     "output_type": "stream",
     "text": [
      "0 227\n",
      "1 231\n",
      "2 5\n",
      "3 27\n",
      "4 19\n",
      "5 242\n",
      "6 214\n",
      "7 241\n"
     ]
    }
   ],
   "source": [
    "for monkey in AllMonkeys:\n",
    "    print(monkey.monkeynumber,monkey.n_inspection)"
   ]
  },
  {
   "cell_type": "code",
   "execution_count": 166,
   "id": "a6688f96",
   "metadata": {},
   "outputs": [
    {
     "data": {
      "text/plain": [
       "58322"
      ]
     },
     "execution_count": 166,
     "metadata": {},
     "output_type": "execute_result"
    }
   ],
   "source": [
    "241*242"
   ]
  }
 ],
 "metadata": {
  "kernelspec": {
   "display_name": "Python 3 (ipykernel)",
   "language": "python",
   "name": "python3"
  },
  "language_info": {
   "codemirror_mode": {
    "name": "ipython",
    "version": 3
   },
   "file_extension": ".py",
   "mimetype": "text/x-python",
   "name": "python",
   "nbconvert_exporter": "python",
   "pygments_lexer": "ipython3",
   "version": "3.9.7"
  }
 },
 "nbformat": 4,
 "nbformat_minor": 5
}

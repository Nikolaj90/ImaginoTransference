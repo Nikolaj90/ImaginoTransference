{
 "cells": [
  {
   "cell_type": "code",
   "execution_count": 1,
   "id": "b5c8f55b",
   "metadata": {},
   "outputs": [],
   "source": [
    "import matplotlib.pyplot as plt\n",
    "import seaborn as sns\n",
    "import pandas as pd\n",
    "import numpy as np"
   ]
  },
  {
   "cell_type": "code",
   "execution_count": 9,
   "id": "256ac467",
   "metadata": {},
   "outputs": [],
   "source": [
    "input_coord = \"\"\"2,2,2\n",
    "1,2,2\n",
    "3,2,2\n",
    "2,1,2\n",
    "2,3,2\n",
    "2,2,1\n",
    "2,2,3\n",
    "2,2,4\n",
    "2,2,6\n",
    "1,2,5\n",
    "3,2,5\n",
    "2,1,5\n",
    "2,3,5\"\"\"\n",
    "input_coord = input_coord.split(\"\\n\")\n",
    "input_coord = [coord.split(\",\") for coord in input_coord]\n",
    "input_arrays = [np.array([int(x) for x in coord]) for coord in input_coord] "
   ]
  },
  {
   "cell_type": "code",
   "execution_count": 70,
   "id": "ca749cd3",
   "metadata": {},
   "outputs": [],
   "source": [
    "with open(\"input.txt\") as f:\n",
    "    input_coord = f.read()\n",
    "input_coord = input_coord.split(\"\\n\")[:-1]\n",
    "input_coord = [coord.split(\",\") for coord in input_coord]\n",
    "input_arrays = [np.array([int(x) for x in coord]) for coord in input_coord]"
   ]
  },
  {
   "cell_type": "code",
   "execution_count": 73,
   "id": "fe6a49fb",
   "metadata": {},
   "outputs": [],
   "source": [
    "class Cube():\n",
    "    CUBIFY = np.array([[0,0,0],[1,0,0],[0,1,0],[0,0,1],[1,1,0],[1,1,1],[0,1,1],[1,0,1]])\n",
    "    def __init__(self,xyz_array):\n",
    "        self.exposed_sides = 6\n",
    "        self.corners = self.CUBIFY + xyz_array\n",
    "        self.set_corners = set([tuple(x) for x in self.corners])"
   ]
  },
  {
   "cell_type": "code",
   "execution_count": 74,
   "id": "867b893a",
   "metadata": {},
   "outputs": [],
   "source": [
    "list_cubes = [Cube(array) for array in input_arrays]"
   ]
  },
  {
   "cell_type": "code",
   "execution_count": 75,
   "id": "0fe84637",
   "metadata": {},
   "outputs": [],
   "source": [
    "for i in range(len(list_cubes)-1):\n",
    "    cubeA = list_cubes[i]\n",
    "    for j in range(i+1,len(list_cubes)):\n",
    "        cubeB = list_cubes[j]\n",
    "        if len(cubeA.set_corners.intersection(cubeB.set_corners)) == 4:\n",
    "            cubeA.exposed_sides -= 1\n",
    "            cubeB.exposed_sides -= 1"
   ]
  },
  {
   "cell_type": "code",
   "execution_count": 76,
   "id": "21876718",
   "metadata": {},
   "outputs": [],
   "source": [
    "sides = 0\n",
    "for cube in list_cubes:\n",
    "    sides += cube.exposed_sides"
   ]
  },
  {
   "cell_type": "code",
   "execution_count": 77,
   "id": "c81f27e7",
   "metadata": {},
   "outputs": [
    {
     "data": {
      "text/plain": [
       "3550"
      ]
     },
     "execution_count": 77,
     "metadata": {},
     "output_type": "execute_result"
    }
   ],
   "source": [
    "sides"
   ]
  },
  {
   "cell_type": "code",
   "execution_count": null,
   "id": "c41f1aa6",
   "metadata": {},
   "outputs": [],
   "source": []
  }
 ],
 "metadata": {
  "kernelspec": {
   "display_name": "Python 3 (ipykernel)",
   "language": "python",
   "name": "python3"
  },
  "language_info": {
   "codemirror_mode": {
    "name": "ipython",
    "version": 3
   },
   "file_extension": ".py",
   "mimetype": "text/x-python",
   "name": "python",
   "nbconvert_exporter": "python",
   "pygments_lexer": "ipython3",
   "version": "3.9.7"
  }
 },
 "nbformat": 4,
 "nbformat_minor": 5
}

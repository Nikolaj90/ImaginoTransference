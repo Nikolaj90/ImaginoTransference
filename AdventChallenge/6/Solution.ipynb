{
 "cells": [
  {
   "cell_type": "code",
   "execution_count": 33,
   "id": "f728769c",
   "metadata": {},
   "outputs": [],
   "source": [
    "with open(\"input.txt\") as f:\n",
    "    text = f.readlines()"
   ]
  },
  {
   "cell_type": "code",
   "execution_count": 29,
   "id": "e854e182",
   "metadata": {},
   "outputs": [
    {
     "name": "stdout",
     "output_type": "stream",
     "text": [
      "1544 thwr\n"
     ]
    }
   ],
   "source": [
    "# Part 1\n",
    "for i, x in enumerate(text[0]):\n",
    "    test = set(text[0][i:i+4])\n",
    "    if len(test) == 4:\n",
    "        print(i+4,text[0][i:i+4])\n",
    "        break"
   ]
  },
  {
   "cell_type": "code",
   "execution_count": 34,
   "id": "ce0dbdf1",
   "metadata": {},
   "outputs": [
    {
     "name": "stdout",
     "output_type": "stream",
     "text": [
      "2145 rldchztmwfjvnq\n"
     ]
    }
   ],
   "source": [
    "# Part 2\n",
    "\n",
    "for i, x in enumerate(text[0]):\n",
    "    test = set(text[0][i:i+14])\n",
    "    if len(test) == 14:\n",
    "        print(i+14,text[0][i:i+14])\n",
    "        break"
   ]
  }
 ],
 "metadata": {
  "kernelspec": {
   "display_name": "Python 3 (ipykernel)",
   "language": "python",
   "name": "python3"
  },
  "language_info": {
   "codemirror_mode": {
    "name": "ipython",
    "version": 3
   },
   "file_extension": ".py",
   "mimetype": "text/x-python",
   "name": "python",
   "nbconvert_exporter": "python",
   "pygments_lexer": "ipython3",
   "version": "3.9.7"
  }
 },
 "nbformat": 4,
 "nbformat_minor": 5
}

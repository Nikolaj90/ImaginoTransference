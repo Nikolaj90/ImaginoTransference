{
 "cells": [
  {
   "cell_type": "code",
   "execution_count": 1,
   "id": "93934d30",
   "metadata": {},
   "outputs": [],
   "source": [
    "import numpy as np\n",
    "import regex as re"
   ]
  },
  {
   "cell_type": "code",
   "execution_count": 2,
   "id": "17143a7e",
   "metadata": {},
   "outputs": [
    {
     "data": {
      "text/plain": [
       "['R 4', 'U 4', 'L 3', 'D 1', 'R 4', 'D 1', 'L 5', 'R 2']"
      ]
     },
     "execution_count": 2,
     "metadata": {},
     "output_type": "execute_result"
    }
   ],
   "source": [
    "moves = \"\"\"R 4\n",
    "U 4\n",
    "L 3\n",
    "D 1\n",
    "R 4\n",
    "D 1\n",
    "L 5\n",
    "R 2\"\"\"\n",
    "\n",
    "moves_list = moves.split(\"\\n\")\n"
   ]
  },
  {
   "cell_type": "code",
   "execution_count": 60,
   "id": "c6e5f986",
   "metadata": {},
   "outputs": [],
   "source": [
    "with open(\"input.txt\") as f:\n",
    "    moves_list = f.read().split(\"\\n\")"
   ]
  },
  {
   "cell_type": "code",
   "execution_count": 66,
   "id": "e644cd8b",
   "metadata": {},
   "outputs": [
    {
     "data": {
      "text/plain": [
       "'U 6'"
      ]
     },
     "execution_count": 66,
     "metadata": {},
     "output_type": "execute_result"
    }
   ],
   "source": [
    "moves_list = moves_list[:-1]\n",
    "moves_list[-1]"
   ]
  },
  {
   "cell_type": "code",
   "execution_count": 34,
   "id": "ff6482a8",
   "metadata": {},
   "outputs": [],
   "source": [
    "class rope():\n",
    "    def __init__(self):\n",
    "        self.H = np.array([0,0])\n",
    "        self.T = np.array([0,0])\n",
    "        self.dist = np.linalg.norm(self.T-self.H)\n",
    "        self.log_H = [np.array([0,0])]\n",
    "        self.log_T = [np.array([0,0])]\n",
    "    \n",
    "    def move_H(self, move):\n",
    "        if move == \"U\":\n",
    "            new_H = self.H + np.array([-1,0])\n",
    "        \n",
    "        if move == \"D\":\n",
    "            new_H = self.H + np.array([1,0])\n",
    "\n",
    "        if move == \"R\":\n",
    "            new_H = self.H + np.array([0,1])\n",
    "        \n",
    "        if move == \"L\":\n",
    "            new_H = self.H + np.array([0,-1])\n",
    "        \n",
    "        self.H = new_H\n",
    "        \n",
    "        self.move_T()\n",
    "        \n",
    "        self.log_add(\"H\")\n",
    "    \n",
    "    def move_T(self):\n",
    "        self.dist = np.linalg.norm(self.T-self.H)\n",
    "        \n",
    "        if self.dist >= 2:\n",
    "            self.T = self.log_H[-1]\n",
    "        self.log_add(\"T\")\n",
    "        \n",
    "        \n",
    "    def log_add(self, rope_end):\n",
    "        if rope_end == \"H\":\n",
    "            self.log_H.append(self.H)\n",
    "        if rope_end == \"T\":\n",
    "            self.log_T.append(self.T)"
   ]
  },
  {
   "cell_type": "code",
   "execution_count": 67,
   "id": "8c4ebeec",
   "metadata": {},
   "outputs": [
    {
     "data": {
      "text/plain": [
       "[array([0, 0])]"
      ]
     },
     "execution_count": 67,
     "metadata": {},
     "output_type": "execute_result"
    }
   ],
   "source": [
    "obj = rope()\n",
    "obj.log_H"
   ]
  },
  {
   "cell_type": "code",
   "execution_count": 68,
   "id": "847879d4",
   "metadata": {},
   "outputs": [],
   "source": [
    "for moves in moves_list:\n",
    "    move, n = moves.split(\" \")\n",
    "    for i in range(int(n)):\n",
    "        obj.move_H(move)"
   ]
  },
  {
   "cell_type": "code",
   "execution_count": 69,
   "id": "1da34753",
   "metadata": {},
   "outputs": [],
   "source": [
    "log = obj.log_T"
   ]
  },
  {
   "cell_type": "code",
   "execution_count": 70,
   "id": "eb02e6d0",
   "metadata": {},
   "outputs": [],
   "source": [
    "log = obj.log_T\n",
    "log = [tuple(coord.tolist()) for coord in log]\n",
    "len(set(log))"
   ]
  },
  {
   "cell_type": "code",
   "execution_count": 71,
   "id": "49e13a1e",
   "metadata": {},
   "outputs": [
    {
     "data": {
      "text/plain": [
       "5907"
      ]
     },
     "execution_count": 71,
     "metadata": {},
     "output_type": "execute_result"
    }
   ],
   "source": [
    "len(set(log))"
   ]
  },
  {
   "cell_type": "code",
   "execution_count": null,
   "id": "2ecf2404",
   "metadata": {},
   "outputs": [],
   "source": []
  },
  {
   "cell_type": "code",
   "execution_count": 125,
   "id": "22bcea80",
   "metadata": {},
   "outputs": [],
   "source": [
    "class rope():\n",
    "    def __init__(self, moves_list):\n",
    "        moves_dict = {\"R\":0,\"L\":0,\"U\":0, \"D\":0}\n",
    "        \n",
    "        for move in moves_list:\n",
    "            direction = re.findall(\"(\\w)\\s(\\d+)\",move)[0][0]\n",
    "            n = re.findall(\"(\\w)\\s(\\d+)\",move)[0][1]\n",
    "            moves_dict[direction] = moves_dict[direction] + int(n)\n",
    "            \n",
    "        self.n_columns = moves_dict[\"R\"]+1\n",
    "        self.n_rows = moves_dict[\"U\"]+1\n",
    "        \n",
    "        self.H = np.array([self.n_rows-1,0])\n",
    "        self.T = np.array([self.n_rows-1,0])\n",
    "        \n",
    "        # Matrix for the starting position of H and T\n",
    "        matrix_rows = []\n",
    "        row_list = []\n",
    "        for row in range(self.n_rows):\n",
    "            for column in range(self.n_columns):\n",
    "                if (row == self.H[0]) & (column == self.H[1]):\n",
    "                    value = \"H\"  \n",
    "                else:\n",
    "                    value = \".\"\n",
    "                row_list.append(value)\n",
    "            matrix_rows.append(row_list)\n",
    "            row_list = []\n",
    "        self.matrix = np.matrix(matrix_rows)\n",
    "        \n",
    "        # Starting log of T positions\n",
    "        matrix_rows = []\n",
    "        row_list = []\n",
    "        for row in range(self.n_rows):\n",
    "            for column in range(self.n_columns):\n",
    "                if (row == self.H[0]) & (column == self.H[1]):\n",
    "                    value = 1  \n",
    "                else:\n",
    "                    value = 0\n",
    "                row_list.append(value)\n",
    "            matrix_rows.append(row_list)\n",
    "            row_list = []\n",
    "        self.log = np.matrix(matrix_rows)\n",
    "        \n",
    "    \n",
    "    def new_matrix_H(self, new_H, new_T):\n",
    "        \"\"\"\n",
    "        When a move is introduced this function updates the matrix with the current position of H\n",
    "        \"\"\"\n",
    "        self.H = new_H\n",
    "        self.T = new_T\n",
    "        n_rows, n_columns = self.matrix.shape\n",
    "        matrix_rows = []\n",
    "        row_list = []\n",
    "        for row in range(n_rows):\n",
    "            for column in range(n_columns):\n",
    "                if (row == self.T[0]) & (column == self.T[1]):\n",
    "                    value = \"T\" \n",
    "                if (row == self.H[0]) & (column == self.H[1]):\n",
    "                    value = \"H\"\n",
    "                else:\n",
    "                    value = \".\"\n",
    "                row_list.append(value)\n",
    "            matrix_rows.append(row_list)\n",
    "            row_list = []\n",
    "        self.matrix = np.matrix(matrix_rows)\n",
    "        \n",
    "    def move(self, move):\n",
    "        dist = np.linalg.norm(self.T-self.H)\n",
    "        if dist > 2:\n",
    "            T = True\n",
    "        else:\n",
    "            T = False\n",
    "        if dist <= 2:\n",
    "            move_straight(move, T = T)\n",
    "#         if dist > 2:\n",
    "#             move_diag(move, T = T)\n",
    "        \n",
    "    \n",
    "    \n",
    "    def move_straight(self, move, T = False):\n",
    "        \"\"\"\n",
    "        currently n is not considered, but given a particular move, change the position of H and update the matrix\n",
    "        \"\"\"\n",
    "        if T == False:\n",
    "            new_T = self.T\n",
    "        if move == \"U\":\n",
    "            new_H = self.H + np.array([-1,0])\n",
    "            if T == True:\n",
    "                new_T = self.T + np.array([-1,0])\n",
    "        \n",
    "        if move == \"D\":\n",
    "            new_H = self.H + np.array([1,0])\n",
    "            if T == True:\n",
    "                new_T = self.T + np.array([1,0])\n",
    "\n",
    "        if move == \"R\":\n",
    "            new_H = self.H + np.array([0,1])\n",
    "            if T == True:\n",
    "                new_T = self.T + np.array([0,1])\n",
    "        \n",
    "        if move == \"L\":\n",
    "            new_H = self.H + np.array([0,-1])\n",
    "            if T == True:\n",
    "                new_T = self.T + np.array([0,-1])\n",
    "        \n",
    "        self.new_matrix_H(new_H = new_H, new_T=new_T)\n",
    "        \n",
    "        self.update_log()\n",
    "    \n",
    "#     def move_T(self):\n",
    "#         distance = np.linalg.norm(self.H-self.T)\n",
    "#         if distance > 2:\n",
    "            \n",
    "            \n",
    "    \n",
    "    \n",
    "    def update_log(self):\n",
    "        \"\"\"\n",
    "        Currently tracking the locations of H\n",
    "        \"\"\"\n",
    "        matrix_rows = []\n",
    "        row_list = []\n",
    "        for row in range(self.n_rows):\n",
    "            for column in range(self.n_columns):\n",
    "                if (row == self.T[0]) & (column == self.T[1]):\n",
    "                    value = 1  \n",
    "                else:\n",
    "                    value = 0\n",
    "                row_list.append(value)\n",
    "            matrix_rows.append(row_list)\n",
    "            row_list = []\n",
    "        self.log = self.log + np.matrix(matrix_rows)\n",
    "    \n",
    "    "
   ]
  },
  {
   "cell_type": "code",
   "execution_count": 114,
   "id": "5069d006",
   "metadata": {},
   "outputs": [],
   "source": [
    "grid = rope(moves_list)\n"
   ]
  },
  {
   "cell_type": "code",
   "execution_count": 117,
   "id": "71493474",
   "metadata": {},
   "outputs": [
    {
     "data": {
      "text/plain": [
       "matrix([[0, 0, 0, 0, 0, 0, 0, 0, 0, 0, 0],\n",
       "        [0, 0, 0, 0, 0, 0, 0, 0, 0, 0, 0],\n",
       "        [0, 0, 0, 0, 0, 0, 0, 0, 0, 0, 0],\n",
       "        [0, 0, 0, 0, 0, 0, 0, 0, 0, 0, 0],\n",
       "        [2, 0, 0, 0, 0, 0, 0, 0, 0, 0, 0]])"
      ]
     },
     "execution_count": 117,
     "metadata": {},
     "output_type": "execute_result"
    }
   ],
   "source": [
    "grid.log"
   ]
  },
  {
   "cell_type": "code",
   "execution_count": 116,
   "id": "6d4d68cb",
   "metadata": {},
   "outputs": [],
   "source": [
    "grid.move_straight(\"U\")"
   ]
  },
  {
   "cell_type": "code",
   "execution_count": 131,
   "id": "d3817eb6",
   "metadata": {},
   "outputs": [
    {
     "name": "stdout",
     "output_type": "stream",
     "text": [
      "[3 1]\n"
     ]
    }
   ],
   "source": [
    "T = np.array([2,2])\n",
    "H = np.array([3,0])\n",
    "grid = T - H\n",
    "if grid[0] < 0:\n",
    "    if grid[1] < 0:\n",
    "        print(H - np.array([0,1]))\n",
    "    \n",
    "    if grid[1] > 0:\n",
    "        print(H + np.array([0,1]))"
   ]
  },
  {
   "cell_type": "code",
   "execution_count": null,
   "id": "28970585",
   "metadata": {},
   "outputs": [],
   "source": []
  },
  {
   "cell_type": "markdown",
   "id": "d4835e8c",
   "metadata": {},
   "source": [
    "Cases:\n",
    "if the distance is zero, produce matrix without T and do not update log, T stays the same\n",
    "\n",
    "if distance is 1, do nothing\n",
    "\n",
    "if distance is 2, then also do nothing IF "
   ]
  },
  {
   "cell_type": "code",
   "execution_count": null,
   "id": "cb34a95a",
   "metadata": {},
   "outputs": [],
   "source": []
  },
  {
   "cell_type": "code",
   "execution_count": 116,
   "id": "54d50aaa",
   "metadata": {},
   "outputs": [
    {
     "name": "stdout",
     "output_type": "stream",
     "text": [
      "[-1 -1]\n"
     ]
    }
   ],
   "source": [
    "T = np.array([4,4])\n",
    "H = np.array([3,3])\n",
    "\n",
    "print(H-T)"
   ]
  },
  {
   "cell_type": "code",
   "execution_count": 114,
   "id": "ad7524f8",
   "metadata": {},
   "outputs": [
    {
     "name": "stdout",
     "output_type": "stream",
     "text": [
      "1.0\n"
     ]
    }
   ],
   "source": [
    "T = np.array([1,1])\n",
    "H = np.array([1,0])\n",
    "\n",
    "dist = np.linalg.norm(H-T)\n",
    "print(dist)"
   ]
  },
  {
   "cell_type": "code",
   "execution_count": 122,
   "id": "1501c4ff",
   "metadata": {},
   "outputs": [
    {
     "name": "stdout",
     "output_type": "stream",
     "text": [
      "2.0\n"
     ]
    }
   ],
   "source": [
    "T = np.array([0,2])\n",
    "H = np.array([0,0])\n",
    "\n",
    "dist = np.linalg.norm(H-T)\n",
    "print(dist)"
   ]
  },
  {
   "cell_type": "code",
   "execution_count": 111,
   "id": "82a85587",
   "metadata": {},
   "outputs": [
    {
     "name": "stdout",
     "output_type": "stream",
     "text": [
      "2.0\n"
     ]
    }
   ],
   "source": [
    "T = np.array([0,0])\n",
    "H = np.array([0,2])\n",
    "\n",
    "dist = np.linalg.norm(H-T)\n",
    "print(dist)"
   ]
  },
  {
   "cell_type": "code",
   "execution_count": null,
   "id": "8f3650a6",
   "metadata": {},
   "outputs": [],
   "source": []
  },
  {
   "cell_type": "code",
   "execution_count": 117,
   "id": "3892578c",
   "metadata": {},
   "outputs": [],
   "source": [
    "grida = rope(moves_list)\n",
    "gridb = rope(moves_list)"
   ]
  },
  {
   "cell_type": "code",
   "execution_count": 121,
   "id": "c48d09b2",
   "metadata": {},
   "outputs": [],
   "source": [
    "grida.move_H(\"U\",1)"
   ]
  },
  {
   "cell_type": "code",
   "execution_count": 126,
   "id": "3476bc8f",
   "metadata": {},
   "outputs": [
    {
     "data": {
      "text/plain": [
       "array([2, 0])"
      ]
     },
     "execution_count": 126,
     "metadata": {},
     "output_type": "execute_result"
    }
   ],
   "source": [
    "grida.H"
   ]
  },
  {
   "cell_type": "code",
   "execution_count": 127,
   "id": "9838043f",
   "metadata": {},
   "outputs": [
    {
     "data": {
      "text/plain": [
       "array([4, 0])"
      ]
     },
     "execution_count": 127,
     "metadata": {},
     "output_type": "execute_result"
    }
   ],
   "source": [
    "gridb.H"
   ]
  },
  {
   "cell_type": "code",
   "execution_count": 128,
   "id": "bc3e0034",
   "metadata": {},
   "outputs": [
    {
     "data": {
      "text/plain": [
       "array([2, 0])"
      ]
     },
     "execution_count": 128,
     "metadata": {},
     "output_type": "execute_result"
    }
   ],
   "source": [
    "gridb.H - grida.H"
   ]
  },
  {
   "cell_type": "code",
   "execution_count": 39,
   "id": "7a13e234",
   "metadata": {},
   "outputs": [
    {
     "data": {
      "text/plain": [
       "{'R': 10, 'L': 8, 'U': 4, 'D': 2}"
      ]
     },
     "execution_count": 39,
     "metadata": {},
     "output_type": "execute_result"
    }
   ],
   "source": [
    "moves_dict = {\"R\":0,\"L\":0,\"U\":0, \"D\":0}\n",
    "for move in moves_list:\n",
    "    direction = re.findall(\"(\\w)\\s(\\d+)\",move)[0][0]\n",
    "    n = re.findall(\"(\\w)\\s(\\d+)\",move)[0][1]\n",
    "    moves_dict[direction] = moves_dict[direction] + int(n)\n",
    "moves_dict"
   ]
  },
  {
   "cell_type": "code",
   "execution_count": 40,
   "id": "02c7c7d6",
   "metadata": {},
   "outputs": [
    {
     "data": {
      "text/plain": [
       "matrix([['.', '.', '.', '.', '.', '.', '.', '.', '.', '.', '.'],\n",
       "        ['.', '.', '.', '.', '.', '.', '.', '.', '.', '.', '.'],\n",
       "        ['.', '.', '.', '.', '.', '.', '.', '.', '.', '.', '.'],\n",
       "        ['.', '.', '.', '.', '.', '.', '.', '.', '.', '.', '.'],\n",
       "        ['H', '.', '.', '.', '.', '.', '.', '.', '.', '.', '.']],\n",
       "       dtype='<U1')"
      ]
     },
     "execution_count": 40,
     "metadata": {},
     "output_type": "execute_result"
    }
   ],
   "source": [
    "n_columns = moves_dict[\"R\"]+1\n",
    "n_rows = moves_dict[\"U\"]+1\n",
    "H = [n_rows-1,0]\n",
    "matrix_rows = []\n",
    "row_list = []\n",
    "for row in range(n_rows):\n",
    "    for column in range(n_columns):\n",
    "        if (row == H[0]) & (column == H[1]):\n",
    "            value = \"H\"  \n",
    "        else:\n",
    "            value = \".\"\n",
    "        row_list.append(value)\n",
    "    matrix_rows.append(row_list)\n",
    "    row_list = []\n",
    "matrix = np.matrix(matrix_rows)\n",
    "matrix"
   ]
  },
  {
   "cell_type": "code",
   "execution_count": 21,
   "id": "1f70cdab",
   "metadata": {},
   "outputs": [
    {
     "data": {
      "text/plain": [
       "matrix([['.', '.', '.', '.', '.'],\n",
       "        ['.', '.', '.', '.', '.'],\n",
       "        ['.', '.', '.', 'H', 'T'],\n",
       "        ['.', '.', '.', '.', '.'],\n",
       "        ['.', '.', '.', '.', '.'],\n",
       "        ['.', '.', '.', '.', '.'],\n",
       "        ['.', '.', '.', '.', '.'],\n",
       "        ['.', '.', '.', '.', '.'],\n",
       "        ['.', '.', '.', '.', '.'],\n",
       "        ['.', '.', '.', '.', '.']], dtype='<U1')"
      ]
     },
     "execution_count": 21,
     "metadata": {},
     "output_type": "execute_result"
    }
   ],
   "source": [
    "columns = 5\n",
    "rows = 10\n",
    "H = [2,3]\n",
    "T = [2,4]\n",
    "matrix_rows = []\n",
    "row_list = []\n",
    "for row in range(rows):\n",
    "    for column in range(columns):\n",
    "        if (row == H[0]) & (column == H[1]):\n",
    "            value = \"H\"\n",
    "        elif (row == T[0]) & (column == T[1]):\n",
    "            value = \"T\"    \n",
    "        else:\n",
    "            value = \".\"\n",
    "        row_list.append(value)\n",
    "    matrix_rows.append(row_list)\n",
    "    row_list = []\n",
    "matrix = np.matrix(matrix_rows)\n",
    "matrix"
   ]
  },
  {
   "cell_type": "code",
   "execution_count": 45,
   "id": "8ef658e2",
   "metadata": {},
   "outputs": [],
   "source": [
    "matrix_a = np.matrix([[0,1,0],[0,0,0]])\n",
    "matrix_b = np.matrix([[0,0,0],[0,1,0]])"
   ]
  },
  {
   "cell_type": "code",
   "execution_count": 46,
   "id": "ee05ec17",
   "metadata": {},
   "outputs": [
    {
     "data": {
      "text/plain": [
       "matrix([[0, 1, 0],\n",
       "        [0, 0, 0]])"
      ]
     },
     "execution_count": 46,
     "metadata": {},
     "output_type": "execute_result"
    }
   ],
   "source": [
    "matrix_a"
   ]
  },
  {
   "cell_type": "code",
   "execution_count": 47,
   "id": "64387077",
   "metadata": {},
   "outputs": [
    {
     "data": {
      "text/plain": [
       "matrix([[0, 0, 0],\n",
       "        [0, 1, 0]])"
      ]
     },
     "execution_count": 47,
     "metadata": {},
     "output_type": "execute_result"
    }
   ],
   "source": [
    "matrix_b"
   ]
  },
  {
   "cell_type": "code",
   "execution_count": 53,
   "id": "db8cfa64",
   "metadata": {},
   "outputs": [
    {
     "data": {
      "text/plain": [
       "matrix([[0, 1, 0],\n",
       "        [0, 1, 0]])"
      ]
     },
     "execution_count": 53,
     "metadata": {},
     "output_type": "execute_result"
    }
   ],
   "source": [
    "matrix_a + matrix_b"
   ]
  }
 ],
 "metadata": {
  "kernelspec": {
   "display_name": "Python 3",
   "language": "python",
   "name": "python3"
  },
  "language_info": {
   "codemirror_mode": {
    "name": "ipython",
    "version": 3
   },
   "file_extension": ".py",
   "mimetype": "text/x-python",
   "name": "python",
   "nbconvert_exporter": "python",
   "pygments_lexer": "ipython3",
   "version": "3.8.8"
  }
 },
 "nbformat": 4,
 "nbformat_minor": 5
}

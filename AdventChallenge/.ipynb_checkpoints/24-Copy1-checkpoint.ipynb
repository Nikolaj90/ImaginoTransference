{
 "cells": [
  {
   "cell_type": "code",
   "execution_count": 1,
   "id": "30b237de",
   "metadata": {},
   "outputs": [],
   "source": [
    "import numpy as np\n",
    "import pandas as pd\n",
    "import matplotlib.pyplot as plt\n",
    "from collections import Counter"
   ]
  },
  {
   "cell_type": "code",
   "execution_count": 2,
   "id": "12d675e9",
   "metadata": {},
   "outputs": [],
   "source": [
    "input_ = \"\"\"#E######\n",
    "#>>.<^<#\n",
    "#.<..<<#\n",
    "#>v.><>#\n",
    "#<^v^^>#\n",
    "######.#\"\"\".split(\"\\n\")"
   ]
  },
  {
   "cell_type": "code",
   "execution_count": 137,
   "id": "de4c7441",
   "metadata": {},
   "outputs": [
    {
     "ename": "FileNotFoundError",
     "evalue": "[Errno 2] No such file or directory: 'input.txt'",
     "output_type": "error",
     "traceback": [
      "\u001b[1;31m---------------------------------------------------------------------------\u001b[0m",
      "\u001b[1;31mFileNotFoundError\u001b[0m                         Traceback (most recent call last)",
      "Cell \u001b[1;32mIn[137], line 1\u001b[0m\n\u001b[1;32m----> 1\u001b[0m \u001b[38;5;28;01mwith\u001b[39;00m \u001b[38;5;28;43mopen\u001b[39;49m\u001b[43m(\u001b[49m\u001b[38;5;124;43m\"\u001b[39;49m\u001b[38;5;124;43minput.txt\u001b[39;49m\u001b[38;5;124;43m\"\u001b[39;49m\u001b[43m,\u001b[49m\u001b[43m \u001b[49m\u001b[38;5;124;43m\"\u001b[39;49m\u001b[38;5;124;43mr\u001b[39;49m\u001b[38;5;124;43m\"\u001b[39;49m\u001b[43m)\u001b[49m \u001b[38;5;28;01mas\u001b[39;00m f:\n\u001b[0;32m      2\u001b[0m     input_ \u001b[38;5;241m=\u001b[39m f\u001b[38;5;241m.\u001b[39mread()\u001b[38;5;241m.\u001b[39msplit(\u001b[38;5;124m\"\u001b[39m\u001b[38;5;130;01m\\n\u001b[39;00m\u001b[38;5;124m\"\u001b[39m)\n",
      "File \u001b[1;32mC:\\Python311\\Lib\\site-packages\\IPython\\core\\interactiveshell.py:284\u001b[0m, in \u001b[0;36m_modified_open\u001b[1;34m(file, *args, **kwargs)\u001b[0m\n\u001b[0;32m    277\u001b[0m \u001b[38;5;28;01mif\u001b[39;00m file \u001b[38;5;129;01min\u001b[39;00m {\u001b[38;5;241m0\u001b[39m, \u001b[38;5;241m1\u001b[39m, \u001b[38;5;241m2\u001b[39m}:\n\u001b[0;32m    278\u001b[0m     \u001b[38;5;28;01mraise\u001b[39;00m \u001b[38;5;167;01mValueError\u001b[39;00m(\n\u001b[0;32m    279\u001b[0m         \u001b[38;5;124mf\u001b[39m\u001b[38;5;124m\"\u001b[39m\u001b[38;5;124mIPython won\u001b[39m\u001b[38;5;124m'\u001b[39m\u001b[38;5;124mt let you open fd=\u001b[39m\u001b[38;5;132;01m{\u001b[39;00mfile\u001b[38;5;132;01m}\u001b[39;00m\u001b[38;5;124m by default \u001b[39m\u001b[38;5;124m\"\u001b[39m\n\u001b[0;32m    280\u001b[0m         \u001b[38;5;124m\"\u001b[39m\u001b[38;5;124mas it is likely to crash IPython. If you know what you are doing, \u001b[39m\u001b[38;5;124m\"\u001b[39m\n\u001b[0;32m    281\u001b[0m         \u001b[38;5;124m\"\u001b[39m\u001b[38;5;124myou can use builtins\u001b[39m\u001b[38;5;124m'\u001b[39m\u001b[38;5;124m open.\u001b[39m\u001b[38;5;124m\"\u001b[39m\n\u001b[0;32m    282\u001b[0m     )\n\u001b[1;32m--> 284\u001b[0m \u001b[38;5;28;01mreturn\u001b[39;00m \u001b[43mio_open\u001b[49m\u001b[43m(\u001b[49m\u001b[43mfile\u001b[49m\u001b[43m,\u001b[49m\u001b[43m \u001b[49m\u001b[38;5;241;43m*\u001b[39;49m\u001b[43margs\u001b[49m\u001b[43m,\u001b[49m\u001b[43m \u001b[49m\u001b[38;5;241;43m*\u001b[39;49m\u001b[38;5;241;43m*\u001b[39;49m\u001b[43mkwargs\u001b[49m\u001b[43m)\u001b[49m\n",
      "\u001b[1;31mFileNotFoundError\u001b[0m: [Errno 2] No such file or directory: 'input.txt'"
     ]
    }
   ],
   "source": [
    "with open(\"input.txt\", \"r\") as f:\n",
    "    input_ = f.read().split(\"\\n\")"
   ]
  },
  {
   "cell_type": "code",
   "execution_count": 18,
   "id": "0a03fdd4",
   "metadata": {},
   "outputs": [
    {
     "data": {
      "text/plain": [
       "(4, 6)"
      ]
     },
     "execution_count": 18,
     "metadata": {},
     "output_type": "execute_result"
    }
   ],
   "source": [
    "# Dimensions of the cave\n",
    "row_n = len(input_)-2\n",
    "column_n = len(input_[0])-2\n",
    "row_n, column_n"
   ]
  },
  {
   "cell_type": "code",
   "execution_count": 39,
   "id": "a529661a",
   "metadata": {},
   "outputs": [],
   "source": [
    "# First I create all the nodes\n",
    "nodes = []\n",
    "for row in range(row_n):\n",
    "    for column in range(column_n):\n",
    "        node = (row, column)\n",
    "        nodes.append(node)"
   ]
  },
  {
   "cell_type": "code",
   "execution_count": 40,
   "id": "4d263c0a",
   "metadata": {},
   "outputs": [],
   "source": [
    "# Then I get the wind directions and inital placement\n",
    "wind_dict = {\"<\":[],\">\":[], \"^\":[],\"v\":[]}\n",
    "for i, row in enumerate(input_[1:-1]):\n",
    "    for j, column in enumerate(row[1:-1]):\n",
    "        if column != \".\":\n",
    "             wind_dict[column].append((i,j)) "
   ]
  },
  {
   "cell_type": "code",
   "execution_count": 44,
   "id": "903a7027",
   "metadata": {},
   "outputs": [
    {
     "data": {
      "text/plain": [
       "{'<': [(0, 3), (0, 5), (1, 1), (1, 4), (1, 5), (2, 4), (3, 0)],\n",
       " '>': [(0, 0), (0, 1), (2, 0), (2, 3), (2, 5), (3, 5)],\n",
       " '^': [(0, 4), (3, 1), (3, 3), (3, 4)],\n",
       " 'v': [(2, 1), (3, 2)]}"
      ]
     },
     "execution_count": 44,
     "metadata": {},
     "output_type": "execute_result"
    }
   ],
   "source": [
    "wind_dict"
   ]
  },
  {
   "cell_type": "code",
   "execution_count": 55,
   "id": "7c1df3c2",
   "metadata": {},
   "outputs": [],
   "source": [
    "# Because of math, I know that the wind will be back at the inital state after 12 min for the test case \n",
    "# (6 and 4 both divides 12)\n",
    "# I will therefor calculate the placement of winds after 1 min to and including 11 min. Then I will be able to find\n",
    "# the currently unoccupied nodes for each minute and start calculating a path with a Breadth first approach to find the fastest \n",
    "# way\n",
    "wind_rounds = {}\n",
    "for minute in range(12):\n",
    "    set_minute = set()\n",
    "    for wind_dir, positions in wind_dict.items():\n",
    "        if (wind_dir == \"<\") or (wind_dir == \">\"):\n",
    "            move = np.array([0,1]) * minute\n",
    "        else:\n",
    "            move = np.array([1,0]) * minute\n",
    "\n",
    "        if (wind_dir == \"<\") or (wind_dir == \"^\"):\n",
    "            move = -1 * move\n",
    "\n",
    "        for pos in positions:\n",
    "            pos = np.array(pos)\n",
    "            new_row, new_column = pos + move\n",
    "            new_pos = (new_row % row_n, new_column % column_n)\n",
    "\n",
    "            set_minute.add(new_pos)\n",
    "    wind_rounds[minute] = set_minute\n"
   ]
  },
  {
   "cell_type": "code",
   "execution_count": 57,
   "id": "7562949a",
   "metadata": {},
   "outputs": [],
   "source": [
    "# For each round I want to find all unoccupied nodes, lets do some set operations!\n",
    "nodes_set = set(nodes)"
   ]
  },
  {
   "cell_type": "code",
   "execution_count": 60,
   "id": "93fda598",
   "metadata": {},
   "outputs": [],
   "source": [
    "free_nodes = {}\n",
    "for minute, wind_set in wind_rounds.items():\n",
    "    free_nodes[minute] = nodes_set.difference(wind_set)"
   ]
  },
  {
   "cell_type": "code",
   "execution_count": 85,
   "id": "dcf33b5d",
   "metadata": {},
   "outputs": [],
   "source": [
    "def find_neighbours(node, row_limit, col_limit):\n",
    "    row, col = node\n",
    "    n = []\n",
    "    if row + 1 < row_limit:\n",
    "        n1 = (row + 1, col)\n",
    "        n.append(n1)\n",
    "    if row - 1 >= 0:\n",
    "        n2 = (row - 1, col)\n",
    "        n.append(n2)\n",
    "    if col + 1 < col_limit:\n",
    "        n3 = (row, col + 1)\n",
    "        n.append(n3)\n",
    "    if col - 1 >= 0:\n",
    "        n4 = (row, col - 1)\n",
    "        n.append(n4)\n",
    "    return set(n)"
   ]
  },
  {
   "cell_type": "code",
   "execution_count": 136,
   "id": "7b3ed21b",
   "metadata": {},
   "outputs": [
    {
     "name": "stdout",
     "output_type": "stream",
     "text": [
      "18 (18, [(0, 0), (1, 0), (1, 0), (0, 0), (0, 1), (0, 2), (1, 2), (1, 1), (0, 1), (0, 2), (0, 2), (1, 2), (2, 2), (2, 3), (2, 4), (2, 5), (3, 5)])\n"
     ]
    }
   ],
   "source": [
    "\n",
    "minute = 0\n",
    "paths = [(minute, None)]\n",
    "stop = False\n",
    "log = []\n",
    "while stop == False:\n",
    "    minute, cur_path = paths.pop(0)\n",
    "    if cur_path == None:\n",
    "        set_minute = minute % 12\n",
    "        cur_set = free_nodes[set_minute]\n",
    "        \n",
    "        if (0,0) in cur_set:\n",
    "            minute = minute + 1\n",
    "            new_path = [minute, [(0,0)]]\n",
    "            paths.append(new_path)\n",
    "        else:\n",
    "            minute = minute + 1\n",
    "            new_path = [minute, None]\n",
    "            paths.append(new_path)\n",
    "            continue\n",
    "    else:\n",
    "        set_minute = minute % 12\n",
    "        cur_set = free_nodes[set_minute]\n",
    "        cur_pos = cur_path[-1]\n",
    "        cur_neighbours = find_neighbours(cur_pos, row_limit = row_n, col_limit = column_n)\n",
    "        pos_moves = cur_neighbours.intersection(cur_set)\n",
    "        log.append((minute,cur_path, cur_pos, pos_moves))\n",
    "        if len(pos_moves) != 0:\n",
    "            for new_pos in pos_moves:\n",
    "                new_path = cur_path.copy()\n",
    "                cur_minute = minute + 1\n",
    "                new_path.append(new_pos)\n",
    "                new_path = (cur_minute, new_path)\n",
    "                paths.append(new_path)\n",
    "                if new_pos == (row_n-1,column_n-1):\n",
    "                    stop = True\n",
    "                    print(cur_minute, new_path)\n",
    "        if len(pos_moves) == 0:\n",
    "            cur_minute = minute + 1\n",
    "            new_path = cur_path.copy()\n",
    "            new_path.append(cur_pos)\n",
    "            new_path = (cur_minute, new_path)\n",
    "            paths.append(new_path)"
   ]
  }
 ],
 "metadata": {
  "kernelspec": {
   "display_name": "Python 3 (ipykernel)",
   "language": "python",
   "name": "python3"
  },
  "language_info": {
   "codemirror_mode": {
    "name": "ipython",
    "version": 3
   },
   "file_extension": ".py",
   "mimetype": "text/x-python",
   "name": "python",
   "nbconvert_exporter": "python",
   "pygments_lexer": "ipython3",
   "version": "3.11.3"
  }
 },
 "nbformat": 4,
 "nbformat_minor": 5
}

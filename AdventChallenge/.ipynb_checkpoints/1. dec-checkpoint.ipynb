{
 "cells": [
  {
   "cell_type": "code",
   "execution_count": 24,
   "id": "ba0f1aa0",
   "metadata": {},
   "outputs": [],
   "source": [
    "import numpy as np"
   ]
  },
  {
   "cell_type": "code",
   "execution_count": 7,
   "id": "055e3f7c",
   "metadata": {},
   "outputs": [],
   "source": [
    "with open(\"input.txt\") as file:\n",
    "    text = file.read()"
   ]
  },
  {
   "cell_type": "code",
   "execution_count": 10,
   "id": "a8a02867",
   "metadata": {},
   "outputs": [],
   "source": [
    "listCal = text.split(\"\\n\\n\")"
   ]
  },
  {
   "cell_type": "code",
   "execution_count": 19,
   "id": "5058163d",
   "metadata": {},
   "outputs": [],
   "source": [
    "listCal2 = [x.split(\"\\n\") for x in listCal]"
   ]
  },
  {
   "cell_type": "code",
   "execution_count": 31,
   "id": "055fedc7",
   "metadata": {},
   "outputs": [],
   "source": [
    "ListCalSum = []\n",
    "for elf in listCal2:\n",
    "    try:\n",
    "        ListInt = [int(x) for x in elf]\n",
    "        array = np.array(ListInt)\n",
    "        ListCalSum.append(array.sum())\n",
    "    except:\n",
    "        continue"
   ]
  },
  {
   "cell_type": "code",
   "execution_count": 39,
   "id": "8bb21e05",
   "metadata": {},
   "outputs": [],
   "source": [
    "ListCalSum.sort()"
   ]
  },
  {
   "cell_type": "code",
   "execution_count": 42,
   "id": "29b1273c",
   "metadata": {},
   "outputs": [
    {
     "data": {
      "text/plain": [
       "212836"
      ]
     },
     "execution_count": 42,
     "metadata": {},
     "output_type": "execute_result"
    }
   ],
   "source": [
    "np.array(ListCalSum[-3:]).sum()"
   ]
  }
 ],
 "metadata": {
  "kernelspec": {
   "display_name": "Python 3",
   "language": "python",
   "name": "python3"
  },
  "language_info": {
   "codemirror_mode": {
    "name": "ipython",
    "version": 3
   },
   "file_extension": ".py",
   "mimetype": "text/x-python",
   "name": "python",
   "nbconvert_exporter": "python",
   "pygments_lexer": "ipython3",
   "version": "3.8.8"
  }
 },
 "nbformat": 4,
 "nbformat_minor": 5
}

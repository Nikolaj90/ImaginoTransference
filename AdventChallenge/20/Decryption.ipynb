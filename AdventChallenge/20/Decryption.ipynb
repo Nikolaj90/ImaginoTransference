{
 "cells": [
  {
   "cell_type": "code",
   "execution_count": 141,
   "id": "0a9a8a86",
   "metadata": {},
   "outputs": [],
   "source": [
    "from collections import Counter\n",
    "import numpy as np"
   ]
  },
  {
   "cell_type": "code",
   "execution_count": 130,
   "id": "9fd0c4b1",
   "metadata": {},
   "outputs": [],
   "source": [
    "with open(\"input.txt\", \"r\") as f:\n",
    "    txt_input = f.read()"
   ]
  },
  {
   "cell_type": "code",
   "execution_count": 131,
   "id": "0202e450",
   "metadata": {},
   "outputs": [],
   "source": [
    "ordered_list = [int(x) for x in txt_input.split(\"\\n\")[:-1]]"
   ]
  },
  {
   "cell_type": "code",
   "execution_count": 181,
   "id": "58f6db56",
   "metadata": {},
   "outputs": [
    {
     "data": {
      "text/plain": [
       "5783"
      ]
     },
     "execution_count": 181,
     "metadata": {},
     "output_type": "execute_result"
    }
   ],
   "source": [
    "ordered_list[-1]"
   ]
  },
  {
   "cell_type": "code",
   "execution_count": 211,
   "id": "906b1bfd",
   "metadata": {},
   "outputs": [],
   "source": [
    "ol = ordered_list\n",
    "ln = len(ol)\n",
    "indexed_list = {i:v for i,v in enumerate(ol)}\n",
    "index_order = list(indexed_list.keys())\n",
    "index_copy = index_order.copy()\n",
    "for item in index_copy:\n",
    "    pos = index_order.index(item)\n",
    "    x = index_order.pop(pos)\n",
    "    move = indexed_list[x]\n",
    "    new_pos = pos+move\n",
    "    if new_pos > ln:\n",
    "        new_pos = (new_pos % ln)+1\n",
    "    if new_pos < 0:\n",
    "        new_pos = (new_pos % ln)-1\n",
    "    index_order.insert(new_pos,x)"
   ]
  },
  {
   "cell_type": "code",
   "execution_count": 212,
   "id": "98fbca23",
   "metadata": {},
   "outputs": [
    {
     "data": {
      "text/plain": [
       "[(4995, 5104), (4996, -9193), (4997, 3932), (4998, -3129), (4999, 5783)]"
      ]
     },
     "execution_count": 212,
     "metadata": {},
     "output_type": "execute_result"
    }
   ],
   "source": [
    "list(indexed_list.items())[-5:]"
   ]
  },
  {
   "cell_type": "code",
   "execution_count": 213,
   "id": "434581f3",
   "metadata": {},
   "outputs": [],
   "source": [
    "res_list = [(indexed_list[x]) for x in index_order]\n",
    "index_o = res_list.index(0)"
   ]
  },
  {
   "cell_type": "code",
   "execution_count": 214,
   "id": "034557a2",
   "metadata": {},
   "outputs": [],
   "source": [
    "index_o = res_list.index(0)"
   ]
  },
  {
   "cell_type": "code",
   "execution_count": 215,
   "id": "736bb5a9",
   "metadata": {},
   "outputs": [
    {
     "data": {
      "text/plain": [
       "3915"
      ]
     },
     "execution_count": 215,
     "metadata": {},
     "output_type": "execute_result"
    }
   ],
   "source": [
    "index_o"
   ]
  },
  {
   "cell_type": "code",
   "execution_count": 216,
   "id": "e629d164",
   "metadata": {},
   "outputs": [
    {
     "data": {
      "text/plain": [
       "4915"
      ]
     },
     "execution_count": 216,
     "metadata": {},
     "output_type": "execute_result"
    }
   ],
   "source": [
    "(index_o + 1000) % ln"
   ]
  },
  {
   "cell_type": "code",
   "execution_count": 217,
   "id": "95de100c",
   "metadata": {},
   "outputs": [],
   "source": [
    "groove_coord = []\n",
    "for groove in [1000,2000,3000]:\n",
    "    groove_index = (index_o + groove) % ln\n",
    "    coord = res_list[groove_index]\n",
    "    groove_coord.append(coord)"
   ]
  },
  {
   "cell_type": "code",
   "execution_count": 218,
   "id": "93a72bf4",
   "metadata": {},
   "outputs": [
    {
     "data": {
      "text/plain": [
       "[4706, 1612, 3141]"
      ]
     },
     "execution_count": 218,
     "metadata": {},
     "output_type": "execute_result"
    }
   ],
   "source": [
    "groove_coord"
   ]
  },
  {
   "cell_type": "code",
   "execution_count": 219,
   "id": "ad07010d",
   "metadata": {},
   "outputs": [
    {
     "data": {
      "text/plain": [
       "9459"
      ]
     },
     "execution_count": 219,
     "metadata": {},
     "output_type": "execute_result"
    }
   ],
   "source": [
    "np.array(groove_coord).sum()"
   ]
  },
  {
   "cell_type": "code",
   "execution_count": null,
   "id": "884b4296",
   "metadata": {},
   "outputs": [],
   "source": []
  },
  {
   "cell_type": "code",
   "execution_count": 64,
   "id": "a7e0bda7",
   "metadata": {},
   "outputs": [],
   "source": [
    "ol = [1, 2, -3, 3, -2, 0, 4]"
   ]
  },
  {
   "cell_type": "code",
   "execution_count": 65,
   "id": "c026960c",
   "metadata": {},
   "outputs": [],
   "source": [
    "indexed_list = {i:v for i,v in enumerate(ol)}"
   ]
  },
  {
   "cell_type": "code",
   "execution_count": 66,
   "id": "b494c83c",
   "metadata": {},
   "outputs": [
    {
     "data": {
      "text/plain": [
       "{0: 1, 1: 2, 2: -3, 3: 3, 4: -2, 5: 0, 6: 4}"
      ]
     },
     "execution_count": 66,
     "metadata": {},
     "output_type": "execute_result"
    }
   ],
   "source": [
    "indexed_list"
   ]
  },
  {
   "cell_type": "code",
   "execution_count": 67,
   "id": "5b4a5b3f",
   "metadata": {},
   "outputs": [],
   "source": [
    "index_order = list(indexed_list.keys())"
   ]
  },
  {
   "cell_type": "code",
   "execution_count": 68,
   "id": "97b36135",
   "metadata": {},
   "outputs": [],
   "source": [
    "index_copy = index_order.copy()"
   ]
  },
  {
   "cell_type": "code",
   "execution_count": 69,
   "id": "c6ee5d68",
   "metadata": {},
   "outputs": [
    {
     "data": {
      "text/plain": [
       "[0, 1, 2, 3, 4, 5, 6]"
      ]
     },
     "execution_count": 69,
     "metadata": {},
     "output_type": "execute_result"
    }
   ],
   "source": [
    "index_copy"
   ]
  },
  {
   "cell_type": "code",
   "execution_count": 70,
   "id": "bd21cab4",
   "metadata": {},
   "outputs": [
    {
     "data": {
      "text/plain": [
       "0"
      ]
     },
     "execution_count": 70,
     "metadata": {},
     "output_type": "execute_result"
    }
   ],
   "source": [
    "pos = index_order.index(0)\n",
    "pos"
   ]
  },
  {
   "cell_type": "code",
   "execution_count": 71,
   "id": "3dc8f94d",
   "metadata": {},
   "outputs": [],
   "source": [
    "x = index_order.pop(0)"
   ]
  },
  {
   "cell_type": "code",
   "execution_count": 72,
   "id": "6677333a",
   "metadata": {},
   "outputs": [
    {
     "data": {
      "text/plain": [
       "[1, 2, 3, 4, 5, 6]"
      ]
     },
     "execution_count": 72,
     "metadata": {},
     "output_type": "execute_result"
    }
   ],
   "source": [
    "index_order"
   ]
  },
  {
   "cell_type": "code",
   "execution_count": 73,
   "id": "b8ae0f28",
   "metadata": {},
   "outputs": [],
   "source": [
    "move = indexed_list[0]"
   ]
  },
  {
   "cell_type": "code",
   "execution_count": 74,
   "id": "21fe2901",
   "metadata": {},
   "outputs": [
    {
     "data": {
      "text/plain": [
       "1"
      ]
     },
     "execution_count": 74,
     "metadata": {},
     "output_type": "execute_result"
    }
   ],
   "source": [
    "move"
   ]
  },
  {
   "cell_type": "code",
   "execution_count": 75,
   "id": "aa894fa9",
   "metadata": {},
   "outputs": [],
   "source": [
    "index_order.insert((pos+move)%ln,x)"
   ]
  },
  {
   "cell_type": "code",
   "execution_count": 76,
   "id": "d90c9b76",
   "metadata": {},
   "outputs": [
    {
     "data": {
      "text/plain": [
       "[1, 0, 2, 3, 4, 5, 6]"
      ]
     },
     "execution_count": 76,
     "metadata": {},
     "output_type": "execute_result"
    }
   ],
   "source": [
    "index_order"
   ]
  },
  {
   "cell_type": "code",
   "execution_count": 233,
   "id": "acc9428b",
   "metadata": {},
   "outputs": [],
   "source": [
    "ol = [1, 2, -3, 3, -2, 0, 4]\n",
    "ln = len(ol)\n",
    "indexed_list = {i:v for i,v in enumerate(ol)}\n",
    "index_order = list(indexed_list.keys())\n",
    "index_copy = index_order.copy()\n",
    "log = []\n",
    "for item in index_copy:\n",
    "    pos = index_order.index(item)\n",
    "    x = index_order.pop(pos)\n",
    "    move = indexed_list[x]\n",
    "    new_pos = pos+move\n",
    "    if new_pos > ln:\n",
    "        new_pos = (new_pos % ln)+1\n",
    "    if new_pos < 0:\n",
    "        new_pos = (new_pos % ln)-1\n",
    "    index_order.insert(new_pos,x)\n",
    "    log_list = [(indexed_list[x]) for x in index_order]\n",
    "    log.append((log_list,x,pos,move))"
   ]
  },
  {
   "cell_type": "code",
   "execution_count": 234,
   "id": "33868ab4",
   "metadata": {},
   "outputs": [
    {
     "data": {
      "text/plain": [
       "[([2, 1, -3, 3, -2, 0, 4], 0, 0, 1),\n",
       " ([1, -3, 2, 3, -2, 0, 4], 1, 0, 2),\n",
       " ([1, 2, 3, -2, -3, 0, 4], 2, 1, -3),\n",
       " ([1, 2, -2, -3, 0, 3, 4], 3, 2, 3),\n",
       " ([-2, 1, 2, -3, 0, 3, 4], 4, 2, -2),\n",
       " ([-2, 1, 2, -3, 0, 3, 4], 5, 4, 0),\n",
       " ([-2, 1, 2, -3, 4, 0, 3], 6, 6, 4)]"
      ]
     },
     "execution_count": 234,
     "metadata": {},
     "output_type": "execute_result"
    }
   ],
   "source": [
    "log"
   ]
  },
  {
   "cell_type": "code",
   "execution_count": 235,
   "id": "f4402ed5",
   "metadata": {},
   "outputs": [],
   "source": [
    "res_list = [(indexed_list[x]) for x in index_order]\n",
    "index_o = res_list.index(0)"
   ]
  },
  {
   "cell_type": "code",
   "execution_count": 236,
   "id": "ff96f96d",
   "metadata": {},
   "outputs": [],
   "source": [
    "groove_coord = []\n",
    "for groove in [1000,2000,3000]:\n",
    "    groove_index = (index_o + groove) % ln\n",
    "    coord = res_list[groove_index]\n",
    "    groove_coord.append(coord)"
   ]
  },
  {
   "cell_type": "code",
   "execution_count": 237,
   "id": "53b2098c",
   "metadata": {},
   "outputs": [
    {
     "data": {
      "text/plain": [
       "[4, -3, 2]"
      ]
     },
     "execution_count": 237,
     "metadata": {},
     "output_type": "execute_result"
    }
   ],
   "source": [
    "groove_coord"
   ]
  },
  {
   "cell_type": "code",
   "execution_count": 238,
   "id": "fdb29e9f",
   "metadata": {},
   "outputs": [],
   "source": [
    "res_list = [(indexed_list[x]) for x in index_order]"
   ]
  },
  {
   "cell_type": "code",
   "execution_count": 239,
   "id": "c7102362",
   "metadata": {},
   "outputs": [],
   "source": [
    "index0 = res_list.index(0)"
   ]
  },
  {
   "cell_type": "code",
   "execution_count": 232,
   "id": "b3897a5e",
   "metadata": {},
   "outputs": [
    {
     "data": {
      "text/plain": [
       "5"
      ]
     },
     "execution_count": 232,
     "metadata": {},
     "output_type": "execute_result"
    }
   ],
   "source": [
    "index0"
   ]
  },
  {
   "cell_type": "code",
   "execution_count": 150,
   "id": "0eed33c6",
   "metadata": {},
   "outputs": [
    {
     "data": {
      "text/plain": [
       "[0, 1, 2, 6, 5, 3, 4]"
      ]
     },
     "execution_count": 150,
     "metadata": {},
     "output_type": "execute_result"
    }
   ],
   "source": [
    "index_order"
   ]
  },
  {
   "cell_type": "code",
   "execution_count": 151,
   "id": "5bfc6fdc",
   "metadata": {},
   "outputs": [
    {
     "data": {
      "text/plain": [
       "[1, 2, -3, 4, 0, 3, -2]"
      ]
     },
     "execution_count": 151,
     "metadata": {},
     "output_type": "execute_result"
    }
   ],
   "source": [
    "log_list"
   ]
  },
  {
   "cell_type": "code",
   "execution_count": 105,
   "id": "e12c1bfc",
   "metadata": {},
   "outputs": [],
   "source": [
    "listaaa = [0,1,2]\n",
    "listaaa.insert(-1,4)"
   ]
  },
  {
   "cell_type": "code",
   "execution_count": 106,
   "id": "c23bf820",
   "metadata": {},
   "outputs": [
    {
     "data": {
      "text/plain": [
       "[0, 1, 4, 2]"
      ]
     },
     "execution_count": 106,
     "metadata": {},
     "output_type": "execute_result"
    }
   ],
   "source": [
    "listaaa"
   ]
  },
  {
   "cell_type": "code",
   "execution_count": 92,
   "id": "ab3d2188",
   "metadata": {},
   "outputs": [
    {
     "data": {
      "text/plain": [
       "[0, 1, 2, 3, 4, 5, 6]"
      ]
     },
     "execution_count": 92,
     "metadata": {},
     "output_type": "execute_result"
    }
   ],
   "source": [
    "index_copy"
   ]
  },
  {
   "cell_type": "code",
   "execution_count": 2,
   "id": "ab681e73",
   "metadata": {},
   "outputs": [],
   "source": [
    "x = ordered_list.pop(0)"
   ]
  },
  {
   "cell_type": "code",
   "execution_count": 4,
   "id": "014c9d16",
   "metadata": {},
   "outputs": [
    {
     "name": "stdout",
     "output_type": "stream",
     "text": [
      "1 [2, 3, 4]\n"
     ]
    }
   ],
   "source": [
    "print(x, ordered_list)"
   ]
  },
  {
   "cell_type": "code",
   "execution_count": 5,
   "id": "bd9a41ad",
   "metadata": {},
   "outputs": [],
   "source": [
    "ordered_list.insert(x,x)"
   ]
  },
  {
   "cell_type": "code",
   "execution_count": 6,
   "id": "20e54bf5",
   "metadata": {},
   "outputs": [
    {
     "data": {
      "text/plain": [
       "[2, 1, 3, 4]"
      ]
     },
     "execution_count": 6,
     "metadata": {},
     "output_type": "execute_result"
    }
   ],
   "source": [
    "ordered_list"
   ]
  },
  {
   "cell_type": "code",
   "execution_count": 7,
   "id": "22eda03a",
   "metadata": {},
   "outputs": [],
   "source": [
    "ol = [1, 2, -3, 3, -2, 0, 4]"
   ]
  },
  {
   "cell_type": "code",
   "execution_count": null,
   "id": "40aaa009",
   "metadata": {},
   "outputs": [],
   "source": [
    "def new_pos(pos, x, ordered_list):\n",
    "    if pos == 0:\n",
    "        x = ol.pop(pos)\n",
    "        ordered_list.insert((pos+x)%ln,x)\n",
    "        return ordered_list\n",
    "    else:\n",
    "        \n",
    "        pos = pos - 1\n",
    "        ordered_list = new_pos(pos, ordered_list)"
   ]
  },
  {
   "cell_type": "code",
   "execution_count": null,
   "id": "2bd14b73",
   "metadata": {},
   "outputs": [],
   "source": [
    "ol = [1, 2, -3, 3, -2, 0, 4]\n",
    "ln = len(ol)"
   ]
  },
  {
   "cell_type": "code",
   "execution_count": 18,
   "id": "771eb62c",
   "metadata": {},
   "outputs": [],
   "source": [
    "pos = 1\n",
    "x = ol.pop(pos)\n",
    "ol.insert((pos+x)%ln,x)"
   ]
  },
  {
   "cell_type": "code",
   "execution_count": 19,
   "id": "611c47d5",
   "metadata": {},
   "outputs": [
    {
     "data": {
      "text/plain": [
       "[1, 2, 3, -2, 0, -3, 4]"
      ]
     },
     "execution_count": 19,
     "metadata": {},
     "output_type": "execute_result"
    }
   ],
   "source": [
    "ol"
   ]
  },
  {
   "cell_type": "code",
   "execution_count": 12,
   "id": "d6490fec",
   "metadata": {},
   "outputs": [],
   "source": [
    "ln = len(ol)"
   ]
  },
  {
   "cell_type": "code",
   "execution_count": 14,
   "id": "55c90648",
   "metadata": {},
   "outputs": [
    {
     "data": {
      "text/plain": [
       "1"
      ]
     },
     "execution_count": 14,
     "metadata": {},
     "output_type": "execute_result"
    }
   ],
   "source": [
    "1 % ln"
   ]
  },
  {
   "cell_type": "code",
   "execution_count": 17,
   "id": "c0b9da1c",
   "metadata": {},
   "outputs": [
    {
     "data": {
      "text/plain": [
       "5"
      ]
     },
     "execution_count": 17,
     "metadata": {},
     "output_type": "execute_result"
    }
   ],
   "source": [
    "(1-3) % ln"
   ]
  }
 ],
 "metadata": {
  "kernelspec": {
   "display_name": "Python 3 (ipykernel)",
   "language": "python",
   "name": "python3"
  },
  "language_info": {
   "codemirror_mode": {
    "name": "ipython",
    "version": 3
   },
   "file_extension": ".py",
   "mimetype": "text/x-python",
   "name": "python",
   "nbconvert_exporter": "python",
   "pygments_lexer": "ipython3",
   "version": "3.11.3"
  }
 },
 "nbformat": 4,
 "nbformat_minor": 5
}

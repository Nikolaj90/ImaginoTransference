{
 "cells": [
  {
   "cell_type": "code",
   "execution_count": 1,
   "id": "47522389",
   "metadata": {},
   "outputs": [],
   "source": [
    "import regex as re\n",
    "import json\n",
    "import ast\n",
    "import numpy as np\n",
    "import queue"
   ]
  },
  {
   "cell_type": "markdown",
   "id": "ee8f2ea5",
   "metadata": {},
   "source": [
    "### Exercise 1 "
   ]
  },
  {
   "cell_type": "code",
   "execution_count": 57,
   "id": "db648dae",
   "metadata": {},
   "outputs": [],
   "source": [
    "def left_lower(left,right):\n",
    "    check = True\n",
    "    \n",
    "    # If the any of the list are empty before the other one, then they win!\n",
    "    if len(left) == 0:\n",
    "        check = True\n",
    "        return check\n",
    "    if len(right) == 0:\n",
    "        check = False\n",
    "        return check\n",
    "    \n",
    "    # Iterate over values of the list\n",
    "    for i in range(min(len(left),len(right))):\n",
    "        \n",
    "        # Only compare the values, if both are integer\n",
    "        if type(left[i]) == type(right[i]) == int:\n",
    "            if left[i] > right[i]:\n",
    "                check = False\n",
    "                return check\n",
    "            \n",
    "            if left[i] < right[i]:\n",
    "                check = True\n",
    "                return check\n",
    "            \n",
    "            # Check if any or both of the lists will be empty for next iteration\n",
    "            if (len(left)-(i+1)>0)&(len(right)-(i+1)==0):\n",
    "                check = False\n",
    "                return check\n",
    "            \n",
    "            if (len(left)-(i+1)==0)&(len(right)-(i+1)>=0):\n",
    "                check = True\n",
    "                return check\n",
    "            \n",
    "            else:\n",
    "                continue\n",
    "            \n",
    "        # If both aren't integers, one will be a list. Both are converted to list and passed back into the function \n",
    "        # recursively\n",
    "        else:\n",
    "            new_left = left[i]\n",
    "            new_right = right[i]\n",
    "            \n",
    "            if type(new_left) != list:\n",
    "                new_left = [new_left]\n",
    "            if type(new_right) != list:\n",
    "                new_right = [new_right]\n",
    "            \n",
    "            # If the new values are the same, there is no reason for compairing them\n",
    "            if new_left != new_right:\n",
    "                check = left_lower(new_left,new_right)\n",
    "\n",
    "                if check == False:\n",
    "                    return check\n",
    "                if check == True:\n",
    "                    return check\n",
    "\n",
    "    return check"
   ]
  },
  {
   "cell_type": "code",
   "execution_count": 58,
   "id": "f065ab06",
   "metadata": {},
   "outputs": [],
   "source": [
    "with open(\"input.txt\") as f:\n",
    "    pairs = f.read()\n",
    "pairs = pairs.split(\"\\n\\n\")\n",
    "pairs = [pair.split(\"\\n\") for pair in pairs]\n",
    "list_pairs = []\n",
    "for pair in pairs:\n",
    "    left,right = ast.literal_eval(pair[0]),ast.literal_eval(pair[1])\n",
    "    list_pairs.append([left,right])\n",
    "\n",
    "\n",
    "\n",
    "\n",
    "total = 0\n",
    "\n",
    "for i, pair in enumerate(list_pairs):\n",
    "    left = pair[0]\n",
    "    right = pair[1]\n",
    "\n",
    "    if left_lower(left,right):\n",
    "        total += i+1"
   ]
  },
  {
   "cell_type": "code",
   "execution_count": 59,
   "id": "b3af42d3",
   "metadata": {},
   "outputs": [
    {
     "data": {
      "text/plain": [
       "4734"
      ]
     },
     "execution_count": 59,
     "metadata": {},
     "output_type": "execute_result"
    }
   ],
   "source": [
    "total"
   ]
  },
  {
   "cell_type": "markdown",
   "id": "2b1bb5f6",
   "metadata": {},
   "source": [
    "# Workshop for exercise 2 "
   ]
  },
  {
   "cell_type": "code",
   "execution_count": 60,
   "id": "f9382aed",
   "metadata": {},
   "outputs": [],
   "source": [
    "# First all pairs are broken up an put in one list\n",
    "pairs_all = []\n",
    "for pair in list_pairs:\n",
    "    pairs_all.extend(pair)\n",
    "    "
   ]
  },
  {
   "cell_type": "code",
   "execution_count": 61,
   "id": "bfb40473",
   "metadata": {},
   "outputs": [
    {
     "data": {
      "text/plain": [
       "300"
      ]
     },
     "execution_count": 61,
     "metadata": {},
     "output_type": "execute_result"
    }
   ],
   "source": [
    "# Sanity check, there were 150, so now there should be 300\n",
    "len(pairs_all)"
   ]
  },
  {
   "cell_type": "code",
   "execution_count": 62,
   "id": "4f57405c",
   "metadata": {},
   "outputs": [],
   "source": [
    "# pairs = \"\"\"[1,1,3,1,1]\n",
    "# [1,1,5,1,1]\n",
    "\n",
    "# [[1],[2,3,4]]\n",
    "# [[1],4]\n",
    "\n",
    "# [9]\n",
    "# [[8,7,6]]\n",
    "\n",
    "# [[4,4],4,4]\n",
    "# [[4,4],4,4,4]\n",
    "\n",
    "# [7,7,7,7]\n",
    "# [7,7,7]\n",
    "\n",
    "# []\n",
    "# [3]\n",
    "\n",
    "# [[[]]]\n",
    "# [[]]\n",
    "\n",
    "# [1,[2,[3,[4,[5,6,7]]]],8,9]\n",
    "# [1,[2,[3,[4,[5,6,0]]]],8,9]\"\"\"\n",
    "# pairs = pairs.split(\"\\n\\n\")\n",
    "# pairs = [pair.split(\"\\n\") for pair in pairs]\n",
    "# list_pairs = []\n",
    "# for pair in pairs:\n",
    "#     left,right = ast.literal_eval(pair[0]),ast.literal_eval(pair[1])\n",
    "#     list_pairs.append([left,right])\n",
    "    \n",
    "# pairs_all = []\n",
    "# for pair in list_pairs:\n",
    "#     pairs_all.extend(pair)"
   ]
  },
  {
   "cell_type": "code",
   "execution_count": 63,
   "id": "93e5f1b3",
   "metadata": {},
   "outputs": [],
   "source": [
    "def bubble_sort(my_list):\n",
    "    list_length = len(my_list)\n",
    "    for i in range(list_length-1):\n",
    "        for j in range(list_length-1-i):\n",
    "            if left_lower(my_list[j],my_list[j+1]) == False:\n",
    "                my_list[j+1], my_list[j] = my_list[j], my_list[j+1]\n",
    "    return my_list"
   ]
  },
  {
   "cell_type": "code",
   "execution_count": 64,
   "id": "ba6e2e62",
   "metadata": {},
   "outputs": [],
   "source": [
    "sorted_list = bubble_sort(pairs_all)"
   ]
  },
  {
   "cell_type": "code",
   "execution_count": 65,
   "id": "f8349484",
   "metadata": {},
   "outputs": [
    {
     "data": {
      "text/plain": [
       "300"
      ]
     },
     "execution_count": 65,
     "metadata": {},
     "output_type": "execute_result"
    }
   ],
   "source": [
    "len(sorted_list)"
   ]
  },
  {
   "cell_type": "code",
   "execution_count": 66,
   "id": "bc684a35",
   "metadata": {},
   "outputs": [],
   "source": [
    "div_pos = []\n",
    "for i in range(len(sorted_list)-1):\n",
    "    if (left_lower(sorted_list[i],[[2]]) == True)&(left_lower(sorted_list[i+1],[[2]]) == False):\n",
    "        div_pos.append(([[2]],i+2))\n",
    "        continue\n",
    "    if (left_lower(sorted_list[i],[[6]]) == True)&(left_lower(sorted_list[i+1],[[6]]) == False):\n",
    "        div_pos.append(([[6]],i+3))\n",
    "        break"
   ]
  },
  {
   "cell_type": "code",
   "execution_count": 67,
   "id": "3ecdb995",
   "metadata": {},
   "outputs": [
    {
     "data": {
      "text/plain": [
       "[([[2]], 107), ([[2]], 119), ([[2]], 122), ([[6]], 207)]"
      ]
     },
     "execution_count": 67,
     "metadata": {},
     "output_type": "execute_result"
    }
   ],
   "source": [
    "div_pos"
   ]
  },
  {
   "cell_type": "code",
   "execution_count": 71,
   "id": "4ae698df",
   "metadata": {},
   "outputs": [
    {
     "name": "stdout",
     "output_type": "stream",
     "text": [
      "[[[2, [6, 4], [7, 9, 9, 0]], 10]] \n",
      " False \n",
      "\n",
      "\n",
      "[[[[2], 8]], [], [], [1, 3, [[3, 4], [], [1, 1, 2, 9]], [8, 0, [9, 0], 3, [3, 5, 6]], 1], [[8]]] \n",
      " True \n",
      "\n",
      "\n",
      "[[2, 1, 9, 3]] \n",
      " False \n",
      "\n",
      "\n",
      "[[[[2], [], 7, [6], [9, 8, 5, 5]], [[3, 6], 5, 9, [7, 3, 6], []], 10], [10, [[8], [4, 7, 10, 4, 3]]]] \n",
      " True \n",
      "\n",
      "\n"
     ]
    }
   ],
   "source": [
    "for bag in sorted_list[116:120]:\n",
    "    print(bag, \"\\n\",\n",
    "         left_lower(bag,[[2]]), \"\\n\\n\")"
   ]
  },
  {
   "cell_type": "code",
   "execution_count": 53,
   "id": "dcf167d6",
   "metadata": {
    "scrolled": true
   },
   "outputs": [
    {
     "name": "stdout",
     "output_type": "stream",
     "text": [
      "[] \n",
      "\n",
      "[[]] \n",
      "\n",
      "[[[]]] \n",
      "\n",
      "[1, 1, 3, 1, 1] \n",
      "\n",
      "[1, 1, 5, 1, 1] \n",
      "\n",
      "[[1], [2, 3, 4]] \n",
      "\n",
      "[1, [2, [3, [4, [5, 6, 0]]]], 8, 9] \n",
      "\n",
      "[1, [2, [3, [4, [5, 6, 7]]]], 8, 9] \n",
      "\n",
      "[[1], 4] \n",
      "\n",
      "[3] \n",
      "\n",
      "[[4, 4], 4, 4] \n",
      "\n",
      "[[4, 4], 4, 4, 4] \n",
      "\n",
      "[7, 7, 7] \n",
      "\n",
      "[7, 7, 7, 7] \n",
      "\n",
      "[[8, 7, 6]] \n",
      "\n",
      "[9] \n",
      "\n"
     ]
    }
   ],
   "source": [
    "# for bag in sorted_list:\n",
    "#     print(bag, \"\\n\")"
   ]
  },
  {
   "cell_type": "markdown",
   "id": "cfa61f18",
   "metadata": {},
   "source": [
    "# Workshop for exercise 1"
   ]
  },
  {
   "cell_type": "code",
   "execution_count": 222,
   "id": "88ba6447",
   "metadata": {},
   "outputs": [],
   "source": [
    "pairs = \"\"\"[1,1,3,1,1]\n",
    "[1,1,5,1,1]\n",
    "\n",
    "[[1],[2,3,4]]\n",
    "[[1],4]\n",
    "\n",
    "[9]\n",
    "[[8,7,6]]\n",
    "\n",
    "[[4,4],4,4]\n",
    "[[4,4],4,4,4]\n",
    "\n",
    "[7,7,7,7]\n",
    "[7,7,7]\n",
    "\n",
    "[]\n",
    "[3]\n",
    "\n",
    "[[[]]]\n",
    "[[]]\n",
    "\n",
    "[1,[2,[3,[4,[5,6,7]]]],8,9]\n",
    "[1,[2,[3,[4,[5,6,0]]]],8,9]\"\"\"\n",
    "pairs = pairs.split(\"\\n\\n\")\n",
    "pairs = [pair.split(\"\\n\") for pair in pairs]\n",
    "list_pairs = []\n",
    "for pair in pairs:\n",
    "    left,right = ast.literal_eval(pair[0]),ast.literal_eval(pair[1])\n",
    "    list_pairs.append([left,right])\n",
    "    \n",
    "pairs_all = []\n",
    "for pair in list_pairs:\n",
    "    pairs_all.extend(pair)"
   ]
  },
  {
   "cell_type": "code",
   "execution_count": 70,
   "id": "71561a9f",
   "metadata": {},
   "outputs": [
    {
     "data": {
      "text/plain": [
       "[1, 1, 3, 1, 1]"
      ]
     },
     "execution_count": 70,
     "metadata": {},
     "output_type": "execute_result"
    }
   ],
   "source": [
    "ast.literal_eval(pairs[0][0])"
   ]
  },
  {
   "cell_type": "code",
   "execution_count": 223,
   "id": "18646ec2",
   "metadata": {},
   "outputs": [],
   "source": [
    "list_pairs = []\n",
    "for pair in pairs:\n",
    "    left,right = ast.literal_eval(pair[0]),ast.literal_eval(pair[1])\n",
    "    list_pairs.append([left,right])"
   ]
  },
  {
   "cell_type": "code",
   "execution_count": null,
   "id": "8c7004ba",
   "metadata": {},
   "outputs": [],
   "source": []
  },
  {
   "cell_type": "code",
   "execution_count": 72,
   "id": "11efca8d",
   "metadata": {},
   "outputs": [
    {
     "name": "stdout",
     "output_type": "stream",
     "text": [
      "[1, 1, 3, 1, 1] [1, 1, 5, 1, 1]\n"
     ]
    }
   ],
   "source": [
    "print(list_pairs[0][0],\n",
    "list_pairs[0][1])"
   ]
  },
  {
   "cell_type": "code",
   "execution_count": 178,
   "id": "0de70da1",
   "metadata": {},
   "outputs": [],
   "source": [
    "# def left_lower_comments(left,right):\n",
    "#     print(\"start of function\")\n",
    "#     # If all checks go through, the check is set to True\n",
    "#     check = True\n",
    "    \n",
    "#     # For some reason, an empty list counts as an item, that you can run out of, so this needs to be incorporated\n",
    "#     if len(left) == 0:\n",
    "#         print(\"left is an empty list, end result true\")\n",
    "#         check = True\n",
    "#         return check\n",
    "#     if len(right) == 0:\n",
    "#         print(\"right is an empty list, end result false\")\n",
    "#         check = False\n",
    "#         return check\n",
    "    \n",
    "#     # Iterate over the smallest amount of values of the list (here the list will not run out of values, for some reason)\n",
    "#     for i in range(min(len(left),len(right))):\n",
    "#         print(f\"Compairing {left[i]} and {right[i]}\")\n",
    "#         # Only compare the values, if both are integer\n",
    "#         if type(left[i]) == type(right[i]) == int:\n",
    "#             if left[i] > right[i]:\n",
    "#                 print(f\"{left[i]} is greater than {right[i]}, end result False\")\n",
    "#                 check = False\n",
    "#                 return check\n",
    "            \n",
    "#             if left[i] < right[i]:\n",
    "#                 print(f\"{left[i]} is lower than {right[i]}, end result True\")\n",
    "#                 check = True\n",
    "#                 return check\n",
    "            \n",
    "#             if (len(left)-(i+1)>0)&(len(right)-(i+1)==0):\n",
    "#                 print(f\"End of right, but {len(left)-(i+1)} items remaining in left, end result False\")\n",
    "#                 check = False\n",
    "#                 return check\n",
    "            \n",
    "#             if (len(left)-(i+1)==0)&(len(right)-(i+1)>0):\n",
    "#                 print(f\"End of left, but {len(right)-(i+1)} items remaining in right, end result true\")\n",
    "#                 check = True\n",
    "#                 return check\n",
    "            \n",
    "#             else:\n",
    "#                 check = None\n",
    "#                 print(f\"{left[i]} == {right[i]}\")\n",
    "#                 continue\n",
    "            \n",
    "#         # If both aren't integers, one will be a list. Both are converted to list and passed back into the function \n",
    "#         # recursively\n",
    "#         else:\n",
    "#             print(f\"{left[i]} or {right[i]} is not an integer\")\n",
    "#             new_left = left[i]\n",
    "#             new_right = right[i]\n",
    "            \n",
    "#             if type(new_left) != list:\n",
    "#                 new_left = [new_left]\n",
    "#             if type(new_right) != list:\n",
    "#                 new_right = [new_right]\n",
    "#             print(f\"new left : {new_left}, new right: {new_right}\")\n",
    "#             check = left_lower_comments(new_left,new_right)\n",
    "#             if check == False:\n",
    "#                 print(\"Check came back False, sending false upstream\")\n",
    "#                 return check\n",
    "#             if check == True:\n",
    "#                 print(\"Check came back true, sending true upstream\")\n",
    "#                 return check\n",
    "#     print(\"Left and right are the same\")\n",
    "#     return check"
   ]
  },
  {
   "cell_type": "code",
   "execution_count": 2,
   "id": "383c3054",
   "metadata": {},
   "outputs": [],
   "source": [
    "def left_lower(left,right):\n",
    "    check = True\n",
    "    \n",
    "    # If the any of the list are empty before the other one, then they win!\n",
    "    if len(left) == 0:\n",
    "        check = True\n",
    "        return check\n",
    "    if len(right) == 0:\n",
    "        check = False\n",
    "        return check\n",
    "    \n",
    "    # Iterate over values of the list\n",
    "    for i in range(min(len(left),len(right))):\n",
    "        \n",
    "        # Only compare the values, if both are integer\n",
    "        if type(left[i]) == type(right[i]) == int:\n",
    "            if left[i] > right[i]:\n",
    "                check = False\n",
    "                return check\n",
    "            \n",
    "            if left[i] < right[i]:\n",
    "                check = True\n",
    "                return check\n",
    "            \n",
    "            # Check if any or both of the lists will be empty for next iteration\n",
    "            if (len(left)-(i+1)>0)&(len(right)-(i+1)==0):\n",
    "                check = False\n",
    "                return check\n",
    "            \n",
    "            if (len(left)-(i+1)==0)&(len(right)-(i+1)>=0):\n",
    "                check = True\n",
    "                return check\n",
    "            \n",
    "            else:\n",
    "                continue\n",
    "            \n",
    "        # If both aren't integers, one will be a list. Both are converted to list and passed back into the function \n",
    "        # recursively\n",
    "        else:\n",
    "            new_left = left[i]\n",
    "            new_right = right[i]\n",
    "            \n",
    "            if type(new_left) != list:\n",
    "                new_left = [new_left]\n",
    "            if type(new_right) != list:\n",
    "                new_right = [new_right]\n",
    "            \n",
    "            # If the new values are the same, there is no reason for compairing them\n",
    "            if new_left != new_right:\n",
    "                check = left_lower(new_left,new_right)\n",
    "\n",
    "                if check == False:\n",
    "                    return check\n",
    "                if check == True:\n",
    "                    return check\n",
    "\n",
    "    return check"
   ]
  },
  {
   "cell_type": "code",
   "execution_count": 221,
   "id": "acededbf",
   "metadata": {},
   "outputs": [
    {
     "data": {
      "text/plain": [
       "True"
      ]
     },
     "execution_count": 221,
     "metadata": {},
     "output_type": "execute_result"
    }
   ],
   "source": [
    "left_lower([[4,4],4,4],[[4,4],4,4])"
   ]
  },
  {
   "cell_type": "code",
   "execution_count": 213,
   "id": "dadc0225",
   "metadata": {},
   "outputs": [],
   "source": [
    "with open(\"input.txt\") as f:\n",
    "    pairs = f.read()\n",
    "pairs = pairs.split(\"\\n\\n\")\n",
    "pairs = [pair.split(\"\\n\") for pair in pairs]\n",
    "list_pairs = []\n",
    "for pair in pairs:\n",
    "    left,right = ast.literal_eval(pair[0]),ast.literal_eval(pair[1])\n",
    "    list_pairs.append([left,right])"
   ]
  },
  {
   "cell_type": "code",
   "execution_count": 192,
   "id": "ac6c71b8",
   "metadata": {},
   "outputs": [
    {
     "name": "stdout",
     "output_type": "stream",
     "text": [
      "[1]: New pair: \n",
      " [[[8, [4, 3, 4]], [[4, 8, 4, 0, 4], [3], 10, [10, 10, 5, 5, 7]], 10], [2, [], 6, 9]]  and  [[[6], [], [[]], [5, 4, 6, 9]], [[[9, 0, 10], [7, 2, 7]], 8, 9, 0, [[2, 9, 1, 3, 5], 1, [], 10, []]], [9]]\n",
      "start of function\n",
      "Compairing [[8, [4, 3, 4]], [[4, 8, 4, 0, 4], [3], 10, [10, 10, 5, 5, 7]], 10] and [[6], [], [[]], [5, 4, 6, 9]]\n",
      "[[8, [4, 3, 4]], [[4, 8, 4, 0, 4], [3], 10, [10, 10, 5, 5, 7]], 10] or [[6], [], [[]], [5, 4, 6, 9]] is not an integer\n",
      "new left : [[8, [4, 3, 4]], [[4, 8, 4, 0, 4], [3], 10, [10, 10, 5, 5, 7]], 10], new right: [[6], [], [[]], [5, 4, 6, 9]]\n",
      "start of function\n",
      "Compairing [8, [4, 3, 4]] and [6]\n",
      "[8, [4, 3, 4]] or [6] is not an integer\n",
      "new left : [8, [4, 3, 4]], new right: [6]\n",
      "start of function\n",
      "Compairing 8 and 6\n",
      "8 is greater than 6, end result False\n",
      "Check came back False, sending false upstream\n",
      "Check came back False, sending false upstream\n",
      "[2]: New pair: \n",
      " [[], [[6, 8, 0, 5]]]  and  [[3], [3, []], [[4]]]\n",
      "start of function\n",
      "Compairing [] and [3]\n",
      "[] or [3] is not an integer\n",
      "new left : [], new right: [3]\n",
      "start of function\n",
      "left is an empty list, end result true\n",
      "Check came back true, sending true upstream\n",
      "[3]: New pair: \n",
      " [[8, [10]], [1, 10, [1, [4, 3, 1, 6], [], [5]]], [3, [1]], [1, 8, 2, [3, 4]]]  and  [[1]]\n",
      "start of function\n",
      "Compairing [8, [10]] and [1]\n",
      "[8, [10]] or [1] is not an integer\n",
      "new left : [8, [10]], new right: [1]\n",
      "start of function\n",
      "Compairing 8 and 1\n",
      "8 is greater than 1, end result False\n",
      "Check came back False, sending false upstream\n",
      "[4]: New pair: \n",
      " [[9, [], []], [7, 0, [6, 4, 7], 7], [[[0, 1, 3]], 2, 6, 5], [10, [9, 10, 9]]]  and  [[10, [[2], [0]], 7, 5, [[3, 6, 10, 1, 3], [10, 6], 0, [3, 7]]], [[1], [], [[8, 8, 10, 8], [], [6, 5, 8, 3]], [[5, 10, 7], [1, 2, 4]]], [[8, 2, 0], [3, []]], [], [[0]]]\n",
      "start of function\n",
      "Compairing [9, [], []] and [10, [[2], [0]], 7, 5, [[3, 6, 10, 1, 3], [10, 6], 0, [3, 7]]]\n",
      "[9, [], []] or [10, [[2], [0]], 7, 5, [[3, 6, 10, 1, 3], [10, 6], 0, [3, 7]]] is not an integer\n",
      "new left : [9, [], []], new right: [10, [[2], [0]], 7, 5, [[3, 6, 10, 1, 3], [10, 6], 0, [3, 7]]]\n",
      "start of function\n",
      "Compairing 9 and 10\n",
      "9 is lower than 10, end result True\n",
      "Check came back true, sending true upstream\n",
      "[5]: New pair: \n",
      " [[[[3]], 9]]  and  [[], [2], []]\n",
      "start of function\n",
      "Compairing [[[3]], 9] and []\n",
      "[[[3]], 9] or [] is not an integer\n",
      "new left : [[[3]], 9], new right: []\n",
      "start of function\n",
      "right is an empty list, end result false\n",
      "Check came back False, sending false upstream\n",
      "[6]: New pair: \n",
      " [[9, [10]], [[], [], 5, 3, 8], []]  and  [[[[9, 5], [1, 5, 9, 1, 8], 1]], [[5, []], [[4, 7, 0], [3, 10], [4, 3, 8]], [8, [9, 0], 7, [2, 6, 6, 7], [10, 2, 5, 4, 10]], 4, 5], [10, [0, 9], 2], [2, [[0, 3, 2, 5, 6]], [], 0, [5]], [6, 3, 3, []]]\n",
      "start of function\n",
      "Compairing [9, [10]] and [[[9, 5], [1, 5, 9, 1, 8], 1]]\n",
      "[9, [10]] or [[[9, 5], [1, 5, 9, 1, 8], 1]] is not an integer\n",
      "new left : [9, [10]], new right: [[[9, 5], [1, 5, 9, 1, 8], 1]]\n",
      "start of function\n",
      "Compairing 9 and [[9, 5], [1, 5, 9, 1, 8], 1]\n",
      "9 or [[9, 5], [1, 5, 9, 1, 8], 1] is not an integer\n",
      "new left : [9], new right: [[9, 5], [1, 5, 9, 1, 8], 1]\n",
      "start of function\n",
      "Compairing 9 and [9, 5]\n",
      "9 or [9, 5] is not an integer\n",
      "new left : [9], new right: [9, 5]\n",
      "start of function\n",
      "Compairing 9 and 9\n",
      "End of left, but 1 items remaining in right, end result true\n",
      "Check came back true, sending true upstream\n",
      "Check came back true, sending true upstream\n",
      "Check came back true, sending true upstream\n",
      "[7]: New pair: \n",
      " [[[[5], [0, 7, 4, 1, 10], [3, 10], [3, 2, 10, 10]], [[7, 5, 10, 6, 9]], 2, [[8, 7, 0], [1, 6]]]]  and  [[[7, 7], 1, [7, 2, 1], [1, 7, [10, 10, 4]], 10]]\n",
      "start of function\n",
      "Compairing [[[5], [0, 7, 4, 1, 10], [3, 10], [3, 2, 10, 10]], [[7, 5, 10, 6, 9]], 2, [[8, 7, 0], [1, 6]]] and [[7, 7], 1, [7, 2, 1], [1, 7, [10, 10, 4]], 10]\n",
      "[[[5], [0, 7, 4, 1, 10], [3, 10], [3, 2, 10, 10]], [[7, 5, 10, 6, 9]], 2, [[8, 7, 0], [1, 6]]] or [[7, 7], 1, [7, 2, 1], [1, 7, [10, 10, 4]], 10] is not an integer\n",
      "new left : [[[5], [0, 7, 4, 1, 10], [3, 10], [3, 2, 10, 10]], [[7, 5, 10, 6, 9]], 2, [[8, 7, 0], [1, 6]]], new right: [[7, 7], 1, [7, 2, 1], [1, 7, [10, 10, 4]], 10]\n",
      "start of function\n",
      "Compairing [[5], [0, 7, 4, 1, 10], [3, 10], [3, 2, 10, 10]] and [7, 7]\n",
      "[[5], [0, 7, 4, 1, 10], [3, 10], [3, 2, 10, 10]] or [7, 7] is not an integer\n",
      "new left : [[5], [0, 7, 4, 1, 10], [3, 10], [3, 2, 10, 10]], new right: [7, 7]\n",
      "start of function\n",
      "Compairing [5] and 7\n",
      "[5] or 7 is not an integer\n",
      "new left : [5], new right: [7]\n",
      "start of function\n",
      "Compairing 5 and 7\n",
      "5 is lower than 7, end result True\n",
      "Check came back true, sending true upstream\n",
      "Check came back true, sending true upstream\n",
      "Check came back true, sending true upstream\n"
     ]
    }
   ],
   "source": [
    "sum_ = 0\n",
    "for i, pair in enumerate(list_pairs[:7]):\n",
    "    left = pair[0]\n",
    "    right = pair[1]\n",
    "    print(f\"[{i+1}]: New pair: \\n\",left, \" and \", right)\n",
    "    if left_lower_comments(left,right):\n",
    "        sum_ += i+1"
   ]
  },
  {
   "cell_type": "code",
   "execution_count": 239,
   "id": "cc7acfd1",
   "metadata": {},
   "outputs": [],
   "source": [
    "with open(\"input.txt\") as f:\n",
    "    pairs = f.read()\n",
    "pairs = pairs.split(\"\\n\\n\")\n",
    "pairs = [pair.split(\"\\n\") for pair in pairs]\n",
    "list_pairs = []\n",
    "for pair in pairs:\n",
    "    left,right = ast.literal_eval(pair[0]),ast.literal_eval(pair[1])\n",
    "    list_pairs.append([left,right])\n",
    "\n",
    "\n",
    "\n",
    "\n",
    "total = 0\n",
    "\n",
    "for i, pair in enumerate(list_pairs):\n",
    "    left = pair[0]\n",
    "    right = pair[1]\n",
    "\n",
    "    if left_lower(left,right):\n",
    "        total += i+1\n"
   ]
  },
  {
   "cell_type": "code",
   "execution_count": 240,
   "id": "474ba1fe",
   "metadata": {},
   "outputs": [
    {
     "data": {
      "text/plain": [
       "4734"
      ]
     },
     "execution_count": 240,
     "metadata": {},
     "output_type": "execute_result"
    }
   ],
   "source": [
    "total"
   ]
  },
  {
   "cell_type": "code",
   "execution_count": 181,
   "id": "c5776c02",
   "metadata": {
    "scrolled": true
   },
   "outputs": [
    {
     "data": {
      "text/plain": [
       "4902"
      ]
     },
     "execution_count": 181,
     "metadata": {},
     "output_type": "execute_result"
    }
   ],
   "source": [
    "sum_"
   ]
  },
  {
   "cell_type": "code",
   "execution_count": 136,
   "id": "56abc68c",
   "metadata": {},
   "outputs": [
    {
     "data": {
      "text/plain": [
       "4882"
      ]
     },
     "execution_count": 136,
     "metadata": {},
     "output_type": "execute_result"
    }
   ],
   "source": [
    "sum_"
   ]
  },
  {
   "cell_type": "code",
   "execution_count": 97,
   "id": "ad6bdef9",
   "metadata": {},
   "outputs": [
    {
     "data": {
      "text/plain": [
       "4786"
      ]
     },
     "execution_count": 97,
     "metadata": {},
     "output_type": "execute_result"
    }
   ],
   "source": [
    "sum_"
   ]
  },
  {
   "cell_type": "code",
   "execution_count": 60,
   "id": "6345f6ae",
   "metadata": {},
   "outputs": [
    {
     "data": {
      "text/plain": [
       "1658"
      ]
     },
     "execution_count": 60,
     "metadata": {},
     "output_type": "execute_result"
    }
   ],
   "source": [
    "sum_"
   ]
  },
  {
   "cell_type": "code",
   "execution_count": 123,
   "id": "c822e058",
   "metadata": {},
   "outputs": [
    {
     "data": {
      "text/plain": [
       "3288"
      ]
     },
     "execution_count": 123,
     "metadata": {},
     "output_type": "execute_result"
    }
   ],
   "source": [
    "sum_"
   ]
  },
  {
   "cell_type": "code",
   "execution_count": null,
   "id": "46ef9bef",
   "metadata": {},
   "outputs": [],
   "source": []
  },
  {
   "cell_type": "code",
   "execution_count": 124,
   "id": "48796b6f",
   "metadata": {},
   "outputs": [
    {
     "name": "stdout",
     "output_type": "stream",
     "text": [
      "[[[8, [4, 3, 4]], [[4, 8, 4, 0, 4], [3], 10, [10, 10, 5, 5, 7]], 10], [2, [], 6, 9]] [[[6], [], [[]], [5, 4, 6, 9]], [[[9, 0, 10], [7, 2, 7]], 8, 9, 0, [[2, 9, 1, 3, 5], 1, [], 10, []]], [9]]\n"
     ]
    },
    {
     "data": {
      "text/plain": [
       "False"
      ]
     },
     "execution_count": 124,
     "metadata": {},
     "output_type": "execute_result"
    }
   ],
   "source": [
    "left = list_pairs[0][0]\n",
    "right = list_pairs[0][1]\n",
    "\n",
    "print(left,right)\n",
    "left_lower(left,right)&(len(left)<=len(right)) "
   ]
  },
  {
   "cell_type": "code",
   "execution_count": null,
   "id": "dcf276d9",
   "metadata": {},
   "outputs": [],
   "source": []
  },
  {
   "cell_type": "code",
   "execution_count": null,
   "id": "0921d202",
   "metadata": {},
   "outputs": [],
   "source": []
  },
  {
   "cell_type": "code",
   "execution_count": 14,
   "id": "075f84c2",
   "metadata": {},
   "outputs": [
    {
     "name": "stdout",
     "output_type": "stream",
     "text": [
      "1 1\n",
      "1 1\n",
      "3 5\n",
      "1 1\n",
      "1 1\n",
      "True\n"
     ]
    }
   ],
   "source": [
    "left = list_pairs[1][0]\n",
    "right = list_pairs[1][1]\n",
    "\n",
    "q_left = queue.Queue()\n",
    "q_right = queue.Queue()\n",
    "\n",
    "for item in left:\n",
    "    q_left.put(item)\n",
    "\n",
    "for item in right:\n",
    "    q_right.put(item)\n",
    "\n",
    "while q_left.empty() == False:\n",
    "    if q_right.empty():\n",
    "        print(\"True\")\n",
    "    left = q_left.get()\n",
    "    right = q_right.get()\n",
    "    print(left,right)\n",
    "    if left_lower(left,right) == False:\n",
    "        print(\"False\")\n",
    "        break\n",
    "print(True)"
   ]
  },
  {
   "cell_type": "code",
   "execution_count": 34,
   "id": "b8e94178",
   "metadata": {},
   "outputs": [],
   "source": [
    "def left_lower(left,right):\n",
    "    if not left:\n",
    "        return True\n",
    "    \n",
    "    elif not right:\n",
    "        return False\n",
    "    \n",
    "    \n",
    "    if type(left[0]) == type(right[0]) == int:\n",
    "        if left[0] < right[0]:\n",
    "            left = left[1:]\n",
    "            right = right[1:]\n",
    "            left_lower(left,right)\n",
    "    else: \n",
    "        return print(\"Error\")\n"
   ]
  },
  {
   "cell_type": "code",
   "execution_count": 38,
   "id": "416658f5",
   "metadata": {},
   "outputs": [],
   "source": [
    "left_lower(list_pairs[0][0],list_pairs[0][1])"
   ]
  },
  {
   "cell_type": "code",
   "execution_count": 29,
   "id": "9230f6d0",
   "metadata": {},
   "outputs": [],
   "source": [
    "list_ = []"
   ]
  },
  {
   "cell_type": "code",
   "execution_count": 39,
   "id": "98817db5",
   "metadata": {},
   "outputs": [
    {
     "ename": "IndexError",
     "evalue": "pop from empty list",
     "output_type": "error",
     "traceback": [
      "\u001b[1;31m---------------------------------------------------------------------------\u001b[0m",
      "\u001b[1;31mIndexError\u001b[0m                                Traceback (most recent call last)",
      "\u001b[1;32m<ipython-input-39-4d772583bb66>\u001b[0m in \u001b[0;36m<module>\u001b[1;34m\u001b[0m\n\u001b[1;32m----> 1\u001b[1;33m \u001b[0mlist_\u001b[0m\u001b[1;33m.\u001b[0m\u001b[0mpop\u001b[0m\u001b[1;33m(\u001b[0m\u001b[1;33m)\u001b[0m\u001b[1;33m\u001b[0m\u001b[1;33m\u001b[0m\u001b[0m\n\u001b[0m",
      "\u001b[1;31mIndexError\u001b[0m: pop from empty list"
     ]
    }
   ],
   "source": [
    "list_.pop()"
   ]
  },
  {
   "cell_type": "code",
   "execution_count": 181,
   "id": "47bb1db7",
   "metadata": {},
   "outputs": [],
   "source": []
  },
  {
   "cell_type": "code",
   "execution_count": 202,
   "id": "d5e2600f",
   "metadata": {},
   "outputs": [],
   "source": [
    "def listValues(lista,listb):\n",
    "    if (len(lista) > len(listb)) & (i not in test):\n",
    "        test.append(i)\n",
    "    for left, right in zip(lista,listb):\n",
    "        if type(left) != type(right):\n",
    "            if type(left) != list:\n",
    "                left = [left]\n",
    "            if type(right) != list:\n",
    "                right = [right]\n",
    "        \n",
    "        if (type(left) == list) & (type(right) == list):\n",
    "            if (len(left) > len(right)) & (i not in test):\n",
    "                test.append(i)\n",
    "            listValues(left,right)\n",
    "        \n",
    "        if (type(left) == int) & (type(right) == int):\n",
    "            if (left > right) & (i not in test) :\n",
    "                test.append(i)"
   ]
  },
  {
   "cell_type": "code",
   "execution_count": 203,
   "id": "eed5eeb6",
   "metadata": {},
   "outputs": [],
   "source": [
    "test = []\n",
    "for i, pair in enumerate(pairs):\n",
    "    i = i+1\n",
    "    left = pair[0]\n",
    "    right = pair[1]\n",
    "    resA = ast.literal_eval(left)\n",
    "    resB = ast.literal_eval(right)\n",
    "    \n",
    "    listValues(resA, resB)\n",
    "    "
   ]
  },
  {
   "cell_type": "code",
   "execution_count": 204,
   "id": "4bf66bb5",
   "metadata": {},
   "outputs": [],
   "source": [
    "n_pair = [*range(1,len(pairs)+1)]\n",
    "for n in test:\n",
    "    n_pair.remove(n)"
   ]
  },
  {
   "cell_type": "code",
   "execution_count": 205,
   "id": "2614c07d",
   "metadata": {
    "scrolled": true
   },
   "outputs": [
    {
     "data": {
      "text/plain": [
       "548"
      ]
     },
     "execution_count": 205,
     "metadata": {},
     "output_type": "execute_result"
    }
   ],
   "source": [
    "np.array(n_pair).sum()"
   ]
  },
  {
   "cell_type": "code",
   "execution_count": 193,
   "id": "1f1e11b1",
   "metadata": {},
   "outputs": [
    {
     "data": {
      "text/plain": [
       "[1,\n",
       " 2,\n",
       " 3,\n",
       " 4,\n",
       " 5,\n",
       " 6,\n",
       " 7,\n",
       " 8,\n",
       " 9,\n",
       " 10,\n",
       " 11,\n",
       " 12,\n",
       " 13,\n",
       " 14,\n",
       " 15,\n",
       " 16,\n",
       " 17,\n",
       " 18,\n",
       " 19,\n",
       " 20,\n",
       " 21,\n",
       " 22,\n",
       " 24,\n",
       " 25,\n",
       " 26,\n",
       " 27,\n",
       " 28,\n",
       " 29,\n",
       " 30,\n",
       " 31,\n",
       " 32,\n",
       " 33,\n",
       " 34,\n",
       " 35,\n",
       " 36,\n",
       " 37,\n",
       " 38,\n",
       " 39,\n",
       " 40,\n",
       " 42,\n",
       " 43,\n",
       " 44,\n",
       " 45,\n",
       " 46,\n",
       " 47,\n",
       " 48,\n",
       " 49,\n",
       " 50,\n",
       " 51,\n",
       " 52,\n",
       " 53,\n",
       " 54,\n",
       " 56,\n",
       " 57,\n",
       " 58,\n",
       " 59,\n",
       " 60,\n",
       " 61,\n",
       " 62,\n",
       " 63,\n",
       " 64,\n",
       " 65,\n",
       " 66,\n",
       " 67,\n",
       " 68,\n",
       " 69,\n",
       " 71,\n",
       " 72,\n",
       " 73,\n",
       " 74,\n",
       " 75,\n",
       " 76,\n",
       " 77,\n",
       " 78,\n",
       " 79,\n",
       " 80,\n",
       " 81,\n",
       " 82,\n",
       " 83,\n",
       " 84,\n",
       " 85,\n",
       " 86,\n",
       " 87,\n",
       " 88,\n",
       " 89,\n",
       " 90,\n",
       " 91,\n",
       " 92,\n",
       " 93,\n",
       " 94,\n",
       " 95,\n",
       " 96,\n",
       " 97,\n",
       " 98,\n",
       " 99,\n",
       " 100,\n",
       " 101,\n",
       " 102,\n",
       " 103,\n",
       " 104,\n",
       " 105,\n",
       " 106,\n",
       " 107,\n",
       " 108,\n",
       " 109,\n",
       " 111,\n",
       " 113,\n",
       " 114,\n",
       " 115,\n",
       " 116,\n",
       " 117,\n",
       " 118,\n",
       " 119,\n",
       " 120,\n",
       " 121,\n",
       " 122,\n",
       " 123,\n",
       " 124,\n",
       " 125,\n",
       " 126,\n",
       " 127,\n",
       " 128,\n",
       " 129,\n",
       " 130,\n",
       " 131,\n",
       " 132,\n",
       " 133,\n",
       " 134,\n",
       " 135,\n",
       " 136,\n",
       " 138,\n",
       " 139,\n",
       " 140,\n",
       " 141,\n",
       " 142,\n",
       " 143,\n",
       " 144,\n",
       " 145,\n",
       " 146,\n",
       " 147,\n",
       " 148,\n",
       " 149,\n",
       " 150]"
      ]
     },
     "execution_count": 193,
     "metadata": {},
     "output_type": "execute_result"
    }
   ],
   "source": [
    "test"
   ]
  },
  {
   "cell_type": "code",
   "execution_count": 194,
   "id": "8d12d0e9",
   "metadata": {},
   "outputs": [
    {
     "data": {
      "text/plain": [
       "['[[[8,[4,3,4]],[[4,8,4,0,4],[3],10,[10,10,5,5,7]],10],[2,[],6,9]]',\n",
       " '[[[6],[],[[]],[5,4,6,9]],[[[9,0,10],[7,2,7]],8,9,0,[[2,9,1,3,5],1,[],10,[]]],[9]]']"
      ]
     },
     "execution_count": 194,
     "metadata": {},
     "output_type": "execute_result"
    }
   ],
   "source": []
  },
  {
   "cell_type": "markdown",
   "id": "86cf253a",
   "metadata": {},
   "source": [
    "# Test"
   ]
  },
  {
   "cell_type": "code",
   "execution_count": 153,
   "id": "0a335b54",
   "metadata": {},
   "outputs": [],
   "source": [
    "test_caseA = pairs[4][0]\n",
    "test_caseB = pairs[4][1]"
   ]
  },
  {
   "cell_type": "code",
   "execution_count": 154,
   "id": "f938eb6d",
   "metadata": {},
   "outputs": [],
   "source": [
    "resA = ast.literal_eval(test_caseA)\n",
    "resB = ast.literal_eval(test_caseB)"
   ]
  },
  {
   "cell_type": "code",
   "execution_count": 155,
   "id": "f9b8722b",
   "metadata": {},
   "outputs": [
    {
     "name": "stdout",
     "output_type": "stream",
     "text": [
      "[7, 7, 7, 7]\n"
     ]
    },
    {
     "data": {
      "text/plain": [
       "[7, 7, 7]"
      ]
     },
     "execution_count": 155,
     "metadata": {},
     "output_type": "execute_result"
    }
   ],
   "source": [
    "print(resA)\n",
    "resB"
   ]
  },
  {
   "cell_type": "code",
   "execution_count": 211,
   "id": "f2daed55",
   "metadata": {},
   "outputs": [],
   "source": [
    "def listValues(lista,listb):\n",
    "    if (len(lista) > len(listb)) & (i not in test):\n",
    "        test.append(i)\n",
    "    for left, right in zip(lista,listb):\n",
    "        print(left,right)\n",
    "        if type(left) != type(right):\n",
    "            if type(left) != list:\n",
    "                left = [left]\n",
    "            if type(right) != list:\n",
    "                right = [right]\n",
    "        \n",
    "        if (type(left) == list) & (type(right) == list):\n",
    "            if (len(left) > len(right)) & (i not in test):\n",
    "                test.append(i)\n",
    "            listValues(left,right)\n",
    "        \n",
    "        if (type(left) == int) & (type(right) == int):\n",
    "            if (left > right) & (i not in test) :\n",
    "                test.append(i)"
   ]
  },
  {
   "cell_type": "code",
   "execution_count": 206,
   "id": "7c684c58",
   "metadata": {},
   "outputs": [
    {
     "data": {
      "text/plain": [
       "[0,\n",
       " 1,\n",
       " 2,\n",
       " 3,\n",
       " 4,\n",
       " 5,\n",
       " 6,\n",
       " 7,\n",
       " 8,\n",
       " 9,\n",
       " 10,\n",
       " 11,\n",
       " 12,\n",
       " 13,\n",
       " 14,\n",
       " 15,\n",
       " 16,\n",
       " 17,\n",
       " 18,\n",
       " 19,\n",
       " 20,\n",
       " 21,\n",
       " 23,\n",
       " 24,\n",
       " 25,\n",
       " 26,\n",
       " 27,\n",
       " 28,\n",
       " 29,\n",
       " 30,\n",
       " 31,\n",
       " 32,\n",
       " 33,\n",
       " 34,\n",
       " 35,\n",
       " 36,\n",
       " 37,\n",
       " 38,\n",
       " 39,\n",
       " 41,\n",
       " 42,\n",
       " 43,\n",
       " 44,\n",
       " 45,\n",
       " 46,\n",
       " 47,\n",
       " 48,\n",
       " 49,\n",
       " 50,\n",
       " 51,\n",
       " 52,\n",
       " 53,\n",
       " 55,\n",
       " 56,\n",
       " 57,\n",
       " 58,\n",
       " 59,\n",
       " 60,\n",
       " 61,\n",
       " 62,\n",
       " 63,\n",
       " 64,\n",
       " 65,\n",
       " 66,\n",
       " 67,\n",
       " 68,\n",
       " 70,\n",
       " 71,\n",
       " 72,\n",
       " 73,\n",
       " 74,\n",
       " 75,\n",
       " 76,\n",
       " 77,\n",
       " 78,\n",
       " 79,\n",
       " 80,\n",
       " 81,\n",
       " 82,\n",
       " 83,\n",
       " 84,\n",
       " 85,\n",
       " 86,\n",
       " 87,\n",
       " 88,\n",
       " 89,\n",
       " 90,\n",
       " 91,\n",
       " 92,\n",
       " 93,\n",
       " 94,\n",
       " 95,\n",
       " 96,\n",
       " 97,\n",
       " 98,\n",
       " 99,\n",
       " 100,\n",
       " 101,\n",
       " 102,\n",
       " 103,\n",
       " 104,\n",
       " 105,\n",
       " 106,\n",
       " 107,\n",
       " 108,\n",
       " 110,\n",
       " 112,\n",
       " 113,\n",
       " 114,\n",
       " 115,\n",
       " 116,\n",
       " 117,\n",
       " 118,\n",
       " 119,\n",
       " 120,\n",
       " 121,\n",
       " 122,\n",
       " 123,\n",
       " 124,\n",
       " 125,\n",
       " 126,\n",
       " 127,\n",
       " 128,\n",
       " 129,\n",
       " 130,\n",
       " 131,\n",
       " 132,\n",
       " 133,\n",
       " 134,\n",
       " 135,\n",
       " 137,\n",
       " 138,\n",
       " 139,\n",
       " 140,\n",
       " 141,\n",
       " 142,\n",
       " 143,\n",
       " 144,\n",
       " 145,\n",
       " 146,\n",
       " 147,\n",
       " 148,\n",
       " 149]"
      ]
     },
     "execution_count": 206,
     "metadata": {},
     "output_type": "execute_result"
    }
   ],
   "source": [
    "[x-1 for x in test]"
   ]
  },
  {
   "cell_type": "code",
   "execution_count": 207,
   "id": "4a25352e",
   "metadata": {},
   "outputs": [
    {
     "data": {
      "text/plain": [
       "'[[],[[6,8,0,5]]]'"
      ]
     },
     "execution_count": 207,
     "metadata": {},
     "output_type": "execute_result"
    }
   ],
   "source": [
    "pairs[1][0]"
   ]
  },
  {
   "cell_type": "code",
   "execution_count": 208,
   "id": "4edf28d2",
   "metadata": {},
   "outputs": [
    {
     "data": {
      "text/plain": [
       "'[[3],[3,[]],[[4]]]'"
      ]
     },
     "execution_count": 208,
     "metadata": {},
     "output_type": "execute_result"
    }
   ],
   "source": [
    "pairs[1][1]"
   ]
  },
  {
   "cell_type": "code",
   "execution_count": 212,
   "id": "9f4e0bb9",
   "metadata": {},
   "outputs": [
    {
     "name": "stdout",
     "output_type": "stream",
     "text": [
      "[] [3]\n",
      "[[6, 8, 0, 5]] [3, []]\n",
      "[6, 8, 0, 5] 3\n",
      "6 3\n"
     ]
    }
   ],
   "source": [
    "test = []\n",
    "resA = ast.literal_eval(pairs[1][0])\n",
    "resB = ast.literal_eval(pairs[1][1])\n",
    "listValues(resA,resB)"
   ]
  },
  {
   "cell_type": "code",
   "execution_count": null,
   "id": "856b621c",
   "metadata": {},
   "outputs": [],
   "source": []
  }
 ],
 "metadata": {
  "kernelspec": {
   "display_name": "Python 3",
   "language": "python",
   "name": "python3"
  },
  "language_info": {
   "codemirror_mode": {
    "name": "ipython",
    "version": 3
   },
   "file_extension": ".py",
   "mimetype": "text/x-python",
   "name": "python",
   "nbconvert_exporter": "python",
   "pygments_lexer": "ipython3",
   "version": "3.8.8"
  }
 },
 "nbformat": 4,
 "nbformat_minor": 5
}

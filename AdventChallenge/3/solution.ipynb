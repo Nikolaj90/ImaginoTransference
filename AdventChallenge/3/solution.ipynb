{
 "cells": [
  {
   "cell_type": "code",
   "execution_count": 100,
   "id": "5ea6ea65",
   "metadata": {},
   "outputs": [],
   "source": [
    "import string\n",
    "from line_profiler import LineProfiler"
   ]
  },
  {
   "cell_type": "code",
   "execution_count": 21,
   "id": "8f50f6c5",
   "metadata": {},
   "outputs": [],
   "source": [
    "with open(\"input.txt\") as f:\n",
    "    text = f.readlines()"
   ]
  },
  {
   "cell_type": "code",
   "execution_count": 22,
   "id": "d9eb4732",
   "metadata": {},
   "outputs": [],
   "source": [
    "text_clean = [rucksack[:len(rucksack)-1] for rucksack in text]"
   ]
  },
  {
   "cell_type": "code",
   "execution_count": 34,
   "id": "35bbcd20",
   "metadata": {},
   "outputs": [
    {
     "data": {
      "text/plain": [
       "18"
      ]
     },
     "execution_count": 34,
     "metadata": {},
     "output_type": "execute_result"
    }
   ],
   "source": [
    "len(text_clean[0][int(len(text_clean[0])/2):])"
   ]
  },
  {
   "cell_type": "code",
   "execution_count": 35,
   "id": "dbffa280",
   "metadata": {},
   "outputs": [],
   "source": [
    "items = []\n",
    "\n",
    "for rucksack in text:\n",
    "    compartment_length = int(len(rucksack)/2)\n",
    "    comp1 = set(rucksack[:compartment_length])\n",
    "    comp2 = set(rucksack[compartment_length:])\n",
    "    item = comp1.intersection(comp2)\n",
    "    items.append(item)"
   ]
  },
  {
   "cell_type": "code",
   "execution_count": 120,
   "id": "6296e43b",
   "metadata": {},
   "outputs": [],
   "source": [
    "def intersect(rucksacks):\n",
    "    items = []\n",
    "\n",
    "    for rucksack in rucksacks:\n",
    "        compartment_length = int(len(rucksack)/2)\n",
    "        comp1 = set(rucksack[:compartment_length])\n",
    "        comp2 = set(rucksack[compartment_length:])\n",
    "        item = comp1.intersection(comp2)\n",
    "        items.append(item)\n",
    "    return items\n",
    "\n",
    "def loop_find(rucksacks):\n",
    "    items = []\n",
    "\n",
    "    for rucksack in rucksacks:\n",
    "        compartment_length = int(len(rucksack)/2)\n",
    "        comp1 = list(rucksack[:compartment_length])\n",
    "        comp2 = list(rucksack[compartment_length:])\n",
    "        for item in comp1:\n",
    "            if item in comp2:\n",
    "                items.append(item)\n",
    "                break\n",
    "    return items"
   ]
  },
  {
   "cell_type": "code",
   "execution_count": 130,
   "id": "439e8173",
   "metadata": {},
   "outputs": [
    {
     "name": "stdout",
     "output_type": "stream",
     "text": [
      "870 µs ± 20.1 µs per loop (mean ± std. dev. of 7 runs, 1000 loops each)\n"
     ]
    }
   ],
   "source": [
    "%timeit intersect(text_clean)"
   ]
  },
  {
   "cell_type": "code",
   "execution_count": 132,
   "id": "0281c71e",
   "metadata": {},
   "outputs": [
    {
     "name": "stdout",
     "output_type": "stream",
     "text": [
      "1.2 ms ± 46.9 µs per loop (mean ± std. dev. of 7 runs, 1000 loops each)\n"
     ]
    }
   ],
   "source": [
    "%timeit loop_find(text_clean)"
   ]
  },
  {
   "cell_type": "code",
   "execution_count": 129,
   "id": "72460419",
   "metadata": {},
   "outputs": [
    {
     "name": "stdout",
     "output_type": "stream",
     "text": [
      "Timer unit: 1e-07 s\n",
      "\n",
      "Total time: 0.0019624 s\n",
      "File: <ipython-input-120-45045b354425>\n",
      "Function: intersect at line 1\n",
      "\n",
      "Line #      Hits         Time  Per Hit   % Time  Line Contents\n",
      "==============================================================\n",
      "     1                                           def intersect(rucksacks):\n",
      "     2         1          7.0      7.0      0.0      items = []\n",
      "     3                                           \n",
      "     4       300       1319.0      4.4      6.7      for rucksack in rucksacks:\n",
      "     5       300       2499.0      8.3     12.7          compartment_length = int(len(rucksack)/2)\n",
      "     6       300       5239.0     17.5     26.7          comp1 = set(rucksack[:compartment_length])\n",
      "     7       300       5541.0     18.5     28.2          comp2 = set(rucksack[compartment_length:])\n",
      "     8       300       3127.0     10.4     15.9          item = comp1.intersection(comp2)\n",
      "     9       300       1887.0      6.3      9.6          items.append(item)\n",
      "    10         1          5.0      5.0      0.0      return items\n",
      "\n"
     ]
    }
   ],
   "source": [
    "lp = LineProfiler()\n",
    "lp.wrapper = lp(intersect)\n",
    "lp.wrapper(text_clean)\n",
    "lp.print_stats()"
   ]
  },
  {
   "cell_type": "code",
   "execution_count": 122,
   "id": "bba57ba3",
   "metadata": {},
   "outputs": [],
   "source": [
    "def loop_find(rucksacks):\n",
    "    items = []\n",
    "\n",
    "    for rucksack in rucksacks:\n",
    "        compartment_length = int(len(rucksack)/2)\n",
    "        comp1 = list(rucksack[:compartment_length])\n",
    "        comp2 = list(rucksack[compartment_length:])\n",
    "        for item in comp1:\n",
    "            if item in comp2:\n",
    "                items.append(item)\n",
    "                break\n",
    "    return items"
   ]
  },
  {
   "cell_type": "code",
   "execution_count": 123,
   "id": "fbed6daf",
   "metadata": {},
   "outputs": [
    {
     "name": "stdout",
     "output_type": "stream",
     "text": [
      "Timer unit: 1e-07 s\n",
      "\n",
      "Total time: 0.0039189 s\n",
      "File: <ipython-input-122-bcfaf3f0d138>\n",
      "Function: loop_find at line 1\n",
      "\n",
      "Line #      Hits         Time  Per Hit   % Time  Line Contents\n",
      "==============================================================\n",
      "     1                                           def loop_find(rucksacks):\n",
      "     2         1          7.0      7.0      0.0      items = []\n",
      "     3                                           \n",
      "     4       300       1366.0      4.6      3.5      for rucksack in rucksacks:\n",
      "     5       300       2608.0      8.7      6.7          compartment_length = int(len(rucksack)/2)\n",
      "     6       300       3611.0     12.0      9.2          comp1 = list(rucksack[:compartment_length])\n",
      "     7       300       3530.0     11.8      9.0          comp2 = list(rucksack[compartment_length:])\n",
      "     8      2309       9852.0      4.3     25.1          for item in comp1:\n",
      "     9      2009      15154.0      7.5     38.7              if item in comp2:\n",
      "    10       300       1793.0      6.0      4.6                  items.append(item)\n",
      "    11       300       1262.0      4.2      3.2                  break\n",
      "    12         1          6.0      6.0      0.0      return items\n",
      "\n"
     ]
    }
   ],
   "source": [
    "lp = LineProfiler()\n",
    "lp.wrapper = lp(loop_find)\n",
    "lp.wrapper(text_clean)\n",
    "lp.print_stats()"
   ]
  },
  {
   "cell_type": "code",
   "execution_count": 60,
   "id": "d84ced6d",
   "metadata": {},
   "outputs": [],
   "source": [
    "lower = list(string.ascii_lowercase)\n",
    "upper = list(string.ascii_uppercase)\n",
    "lower.extend(upper)\n",
    "all_letters = lower"
   ]
  },
  {
   "cell_type": "code",
   "execution_count": 74,
   "id": "12cc13c3",
   "metadata": {},
   "outputs": [],
   "source": [
    "value_all = 0\n",
    "for item in items:\n",
    "    value = all_letters.index(list(item)[0])+1\n",
    "    value_all = value_all + value"
   ]
  },
  {
   "cell_type": "code",
   "execution_count": 75,
   "id": "82961a1b",
   "metadata": {},
   "outputs": [
    {
     "data": {
      "text/plain": [
       "8401"
      ]
     },
     "execution_count": 75,
     "metadata": {},
     "output_type": "execute_result"
    }
   ],
   "source": [
    "value_all"
   ]
  },
  {
   "cell_type": "code",
   "execution_count": 117,
   "id": "888b9e18",
   "metadata": {},
   "outputs": [],
   "source": [
    "def func(rucksacks):\n",
    "    value_badges = 0\n",
    "\n",
    "    for i in range(3,len(rucksacks)+1,3):\n",
    "        team = rucksacks[i-3:i]\n",
    "        elf1 = set(team[0])\n",
    "        elf2 = set(team[1])\n",
    "        elf3 = set(team[2])\n",
    "        badge = elf1.intersection(elf2,elf3)\n",
    "        badge_value = all_letters.index(list(badge)[0])+1\n",
    "        value_badges = value_badges+badge_value\n",
    "    return value_badges\n"
   ]
  },
  {
   "cell_type": "code",
   "execution_count": 118,
   "id": "196cdf62",
   "metadata": {},
   "outputs": [
    {
     "name": "stdout",
     "output_type": "stream",
     "text": [
      "Timer unit: 1e-07 s\n",
      "\n",
      "Total time: 0.001275 s\n",
      "File: <ipython-input-117-31a7d22ebccf>\n",
      "Function: func at line 1\n",
      "\n",
      "Line #      Hits         Time  Per Hit   % Time  Line Contents\n",
      "==============================================================\n",
      "     1                                           def func(rucksacks):\n",
      "     2         1          8.0      8.0      0.1      value_badges = 0\n",
      "     3                                           \n",
      "     4       100        512.0      5.1      4.0      for i in range(3,len(rucksacks)+1,3):\n",
      "     5       100        803.0      8.0      6.3          team = rucksacks[i-3:i]\n",
      "     6       100       2424.0     24.2     19.0          elf1 = set(team[0])\n",
      "     7       100       2336.0     23.4     18.3          elf2 = set(team[1])\n",
      "     8       100       2397.0     24.0     18.8          elf3 = set(team[2])\n",
      "     9       100       2031.0     20.3     15.9          badge = elf1.intersection(elf2,elf3)\n",
      "    10       100       1656.0     16.6     13.0          badge_value = all_letters.index(list(badge)[0])+1\n",
      "    11       100        577.0      5.8      4.5          value_badges = value_badges+badge_value\n",
      "    12         1          6.0      6.0      0.0      return value_badges\n",
      "\n"
     ]
    }
   ],
   "source": [
    "lp = LineProfiler()\n",
    "lp_wrap = lp(func)\n",
    "lp_wrap(text_clean)\n",
    "lp.print_stats()"
   ]
  }
 ],
 "metadata": {
  "kernelspec": {
   "display_name": "Python 3",
   "language": "python",
   "name": "python3"
  },
  "language_info": {
   "codemirror_mode": {
    "name": "ipython",
    "version": 3
   },
   "file_extension": ".py",
   "mimetype": "text/x-python",
   "name": "python",
   "nbconvert_exporter": "python",
   "pygments_lexer": "ipython3",
   "version": "3.8.8"
  }
 },
 "nbformat": 4,
 "nbformat_minor": 5
}

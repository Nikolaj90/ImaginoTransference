{
 "cells": [
  {
   "cell_type": "markdown",
   "id": "f19b4417",
   "metadata": {},
   "source": [
    "# Falling Rocks\n",
    "I have to figure out how to create a seven unit wide matrix, that will grow in height - or just have an infinite height. \n",
    "Then I will have to create an object, that will be the current stone, which will be used to interact with the matrix. I think having a list of objects to draw from will be pretty neat. \n",
    "\n",
    "For a start I will create a single falling object, that falls straight and lands on top of the last object. After that I will implement new rocks and finally I will add the air."
   ]
  },
  {
   "cell_type": "code",
   "execution_count": 1,
   "id": "d0aa0cdc",
   "metadata": {},
   "outputs": [],
   "source": [
    "%matplotlib inline\n",
    "import matplotlib.pyplot as plt\n",
    "from IPython.display import display, clear_output\n",
    "import pandas as pd\n",
    "import numpy as np\n",
    "import ast\n",
    "import time"
   ]
  },
  {
   "cell_type": "code",
   "execution_count": 38,
   "id": "5ae2faa0",
   "metadata": {},
   "outputs": [],
   "source": [
    "class Cave():\n",
    "    \"\"\"\n",
    "    The cave class creates the initial empty cave, it has the functionality to interact with an object from the stone class.\n",
    "    \n",
    "    It is set, such that it will expand when more stones are added\n",
    "    \"\"\"\n",
    "    \n",
    "    def __init__(self,width,height,wind,dimensions = 3):\n",
    "        self.width = width+1\n",
    "        self.height = height+1\n",
    "        self.dimensions = dimensions\n",
    "        self.current_image = np.zeros((self.height,self.width,dimensions))\n",
    "        self.wind_pattern = wind\n",
    "        self.wind_que = wind\n",
    "        \n",
    "        \"\"\"From the task description: each rock appears so that its left edge is two units away from the left wall \n",
    "        and its bottom edge is three units above the highest rock in the room (or the floor, if there isn't one).\n",
    "        \n",
    "        \n",
    "        This is set, so the stone can initialize from the starting point defined by the cave\"\"\"\n",
    "        self.rock_start = 5\n",
    "        \n",
    "        # Add white roof\n",
    "        for column in range(self.width):\n",
    "            self.current_image[0,column] = [1,1,1]\n",
    "\n",
    "        # Add white sides\n",
    "        for row in range(self.height):\n",
    "            self.current_image[row,0] = [1,1,1]\n",
    "            self.current_image[row,-1] = [1,1,1]\n",
    "    \n",
    "    def draw_cave(self):\n",
    "        \"\"\"This function draws the cave as it currently is\"\"\"\n",
    "        fig, ax = plt.subplots(figsize=(15,10))\n",
    "        plt.imshow(self.current_image)\n",
    "        plt.show()\n",
    "    \n",
    "    def add_row(self,add_height):\n",
    "        \"\"\"When more rocks are added, the cave object will have more rows added. This function takes the input of \n",
    "        how many more rows will have to be added, since this is dependent on the shape of the stone\"\"\"\n",
    "        \n",
    "        extra_cave = np.zeros((add_height,self.width,self.dimensions))\n",
    "        for row in range(add_height):\n",
    "            extra_cave[row,0] = [1,1,1]\n",
    "            extra_cave[row,-1] = [1,1,1]\n",
    "        self.current_image = np.append(self.current_image,extra_cave,axis=0)\n",
    "        self.height = self.height + add_height\n",
    "        \n",
    "    def add_stone(self,coord):\n",
    "        \"\"\"This function dras the stone from coord which should be given by the stone object\"\"\"\n",
    "        for (x,y) in coord:\n",
    "            self.current_image[y,x] = [0,1,0]\n",
    "    \n",
    "    def remove_stone(self,previous, current):\n",
    "        \"\"\"When a stone falls, the previous position should be deleted from the image. This function helps with that\"\"\"\n",
    "        if previous == False:\n",
    "            return\n",
    "        for (x,y) in previous:\n",
    "            self.current_image[y,x] = [0,0,0]\n",
    "#             if (x,y) not in current:\n",
    "#                 self.current_image[y,x] = [0,0,0]\n",
    "    \n",
    "    def check_stop(self,current_pos, next_pos):\n",
    "        \"\"\"The positions under the bottom of the stone should be black, otherwise, the stone will not be able to fall \n",
    "        further.\n",
    "        \n",
    "        The function only checks the positions not already occupied by the stone\"\"\"\n",
    "        pos_dif = set(next_pos).difference(set(current_pos))\n",
    "        for (x,y) in pos_dif:\n",
    "            # I check if any of the next positions aren't 0, for any non-zero value False will be returned in the array,\n",
    "            # resulting in the function returning False as well\n",
    "            if False in (cave.current_image[y,x] == np.array([0,0,0])):\n",
    "                return True\n",
    "        return False\n",
    "    \n",
    "    \n",
    "    def falling_stone(self,stone):\n",
    "        \"\"\"This function takes a stone object as input, and places it in the cave. It then starts a loop where the stone falls\n",
    "        one unit on the y-axis each round, for each round it checks if the stone can fall further. If possible it changes the\n",
    "        position of the rock. It does this untill the rock cant fall any further\"\"\"\n",
    "\n",
    "        previous_pos = False\n",
    "        current_pos = stone.get_coord()\n",
    "#         self.add_stone(current_pos)\n",
    "#         self.draw_cave()\n",
    "        \n",
    "        \n",
    "        while stone.stopped == False:\n",
    "            self.remove_stone(previous_pos,current_pos)\n",
    "            \n",
    "            # Wind push\n",
    "            # I pop the next wind movement of the pattern\n",
    "            wind_move = self.wind_que.pop(0)\n",
    "            if len(self.wind_que) == 1:\n",
    "                self.wind_que.extend(self.wind_pattern)\n",
    "            \n",
    "            # I then check whether it is possible for the stone to move further that way\n",
    "            if wind_move == \"<\":\n",
    "                # Right\n",
    "                next_xpos = stone.next_coord(how=\"right\")\n",
    "                if self.check_stop(current_pos,next_xpos) == False:\n",
    "                    stone.x_start = stone.x_start +1\n",
    "                    stone.update_coord()\n",
    "            \n",
    "            if wind_move == \">\":\n",
    "                # Left\n",
    "                next_xpos = stone.next_coord(how=\"left\")\n",
    "                if self.check_stop(current_pos,next_xpos) == False:\n",
    "                    stone.x_start = stone.x_start -1\n",
    "                    stone.update_coord()    \n",
    "            \n",
    "            next_ypos = stone.next_coord(how=\"down\")\n",
    "            \n",
    "            # Fall one unit if possible\n",
    "            if self.check_stop(current_pos,next_ypos) == False:\n",
    "                stone.fall_one()\n",
    "                current_pos = stone.get_coord()\n",
    "                next_ypos = stone.next_coord(how=\"down\")\n",
    "                \n",
    "            else:\n",
    "                stone.stopped = True\n",
    "                \n",
    "            \n",
    "            self.add_stone(current_pos)\n",
    "            self.draw_cave()\n",
    "            \n",
    "            previous_pos = stone.get_coord()\n",
    "            \n",
    "            clear_output(wait=True)\n",
    "            time.sleep(0.3)\n",
    "    \n",
    "    def release_the_rocks(self,n):\n",
    "        # I create a sequence of falling stone in the length of n\n",
    "        seq = np.tile(np.array([\"-\",\"+\",\"J\",\"I\",\"o\"]),n//4+1)\n",
    "        seq = seq[:n]\n",
    "        \n",
    "        for shape in seq:\n",
    "            # I create a new stone object\n",
    "            stone = Stone(shape, 6, self.rock_start)\n",
    "            # I add the extra rows needed to fit the stone\n",
    "            if self.height < self.rock_start + 3 + stone.height:\n",
    "                self.add_row(3+stone.height)\n",
    "            # And i let it fall\n",
    "            self.falling_stone(stone)\n",
    "            # The next rock is going to start 3 units above the next, this i get by taking the lowest \n",
    "            # y-coordinate adding the height-1 and then adding 3\n",
    "            rock_top = stone.y_start + stone.height + 3 \n",
    "            \n",
    "            self.rock_start = max(self.rock_start, rock_top)\n",
    "        \n",
    "\n",
    "    \n",
    "\n",
    "            \n",
    "class Stone():\n",
    "    def __init__(self,shape, right, top):\n",
    "        \"\"\"Right is equal to left and top to bottom, that way its more confusing\"\"\"\n",
    "        self.shape = shape\n",
    "        self.stopped = False\n",
    "        self.x_start = right\n",
    "        self.y_start = top\n",
    "        \n",
    "        if self.shape == \"-\":\n",
    "            self.height = 1 \n",
    "            \n",
    "            self.right = (self.x_start,self.y_start)\n",
    "            self.rock_mid1 = (self.x_start-1,self.y_start)\n",
    "            self.rock_mid2 = (self.x_start-2,self.y_start)\n",
    "            self.left = (self.x_start-3,self.y_start)\n",
    "            self.coord = [self.right,self.rock_mid1,self.rock_mid2,self.left]\n",
    "            \n",
    "        \n",
    "        if self.shape == \"+\":\n",
    "            self.height = 3\n",
    "            \n",
    "            self.right = (self.x_start, self.y_start + 1)\n",
    "            self.top = (self.x_start-1,self.y_start)\n",
    "            self.mid = (self.x_start-1,self.y_start+1)\n",
    "            self.left = (self.x_start-2,self.y_start+1)\n",
    "            self.bottom = (self.x_start-1, self.y_start+2)\n",
    "            self.coord = [self.right,self.top,self.mid,self.left,self.bottom]\n",
    "        \n",
    "        if self.shape == \"J\":\n",
    "            self.height = 3\n",
    "            \n",
    "            self.top = (self.x_start,self.y_start)\n",
    "            self.mid1 = (self.x_start,self.y_start+1)\n",
    "            self.mid2 = (self.x_start,self.y_start+2)\n",
    "            self.mid3 = (self.x_start-1, self.y_start+2)\n",
    "            self.left = (self.x_start-2,self.y_start+2)\n",
    "            self.coord = [self.top,self.mid1,self.mid2,self.mid3,self.left]\n",
    "        \n",
    "        if self.shape == \"I\":\n",
    "            self.height = 4\n",
    "            \n",
    "            self.top = (self.x_start,self.y_start)\n",
    "            self.mid1 = (self.x_start,self.y_start+1)\n",
    "            self.mid2 = (self.x_start,self.y_start+2)\n",
    "            self.bottom = (self.x_start,self.y_start+3)\n",
    "            self.coord = [self.top,self.mid1,self.mid2,self.bottom]\n",
    "        \n",
    "        if self.shape == \"o\":\n",
    "            self.height = 2\n",
    "            \n",
    "            self.topright = (self.x_start,self.y_start)\n",
    "            self.topleft = (self.x_start-1,self.y_start)\n",
    "            self.bottomright = (self.x_start, self.y_start+1)\n",
    "            self.bottomleft = (self.x_start-1,self.y_start+1)\n",
    "            self.coord = [self.topright,self.topleft,self.bottomleft,self.bottomright]\n",
    "    \n",
    "    def update_coord(self):\n",
    "        if self.shape == \"-\":\n",
    "            self.right = (self.x_start,self.y_start)\n",
    "            self.rock_mid1 = (self.x_start-1,self.y_start)\n",
    "            self.rock_mid2 = (self.x_start-2,self.y_start)\n",
    "            self.left = (self.x_start-3,self.y_start)\n",
    "            self.coord = [self.right,self.rock_mid1,self.rock_mid2,self.left]\n",
    "        \n",
    "        if self.shape == \"+\":\n",
    "            self.right = (self.x_start, self.y_start + 1)\n",
    "            self.top = (self.x_start-1,self.y_start)\n",
    "            self.mid = (self.x_start-1,self.y_start+1)\n",
    "            self.left = (self.x_start-2,self.y_start+1)\n",
    "            self.bottom = (self.x_start-1, self.y_start+2)\n",
    "            self.coord = [self.right,self.top,self.mid,self.left,self.bottom]\n",
    "        \n",
    "        if self.shape == \"J\":\n",
    "            self.top = (self.x_start,self.y_start)\n",
    "            self.mid1 = (self.x_start,self.y_start+1)\n",
    "            self.mid2 = (self.x_start,self.y_start+2)\n",
    "            self.mid3 = (self.x_start-1, self.y_start)\n",
    "            self.left = (self.x_start-2,self.y_start)\n",
    "            self.coord = [self.top,self.mid1,self.mid2,self.mid3,self.left]\n",
    "        \n",
    "        if self.shape == \"I\":\n",
    "            self.top = (self.x_start,self.y_start)\n",
    "            self.mid1 = (self.x_start,self.y_start+1)\n",
    "            self.mid2 = (self.x_start,self.y_start+2)\n",
    "            self.bottom = (self.x_start,self.y_start+3)\n",
    "            self.coord = [self.top,self.mid1,self.mid2,self.bottom]\n",
    "        \n",
    "        if self.shape == \"o\":\n",
    "            self.topright = (self.x_start,self.y_start)\n",
    "            self.topleft = (self.x_start-1,self.y_start)\n",
    "            self.bottomright = (self.x_start, self.y_start+1)\n",
    "            self.bottomleft = (self.x_start-1,self.y_start+1)\n",
    "            self.coord = [self.topright,self.topleft,self.bottomleft,self.bottomright]\n",
    "    \n",
    "    def get_coord(self):\n",
    "        return self.coord\n",
    "    \n",
    "    def next_coord(self, how=\"down\"):\n",
    "        next_coord = []\n",
    "        if how == \"down\":\n",
    "            for i, (x,y) in enumerate(self.coord):\n",
    "                next_coord.append((x,y-1))\n",
    "        if how==\"right\":\n",
    "            for i, (x,y) in enumerate(self.coord):\n",
    "                next_coord.append((x+1,y))\n",
    "        if how==\"left\":\n",
    "            for i, (x,y) in enumerate(self.coord):\n",
    "                next_coord.append((x-1,y))\n",
    "        return next_coord\n",
    "    \n",
    "    def fall_one(self):\n",
    "        self.y_start = self.y_start-1\n",
    "        self.update_coord()\n",
    "        return\n",
    "    \n",
    "#     def set_coord(self):\n",
    "#         if self.shape == \"-\":\n",
    "#             self.right = (self.right[0],self.right[1]-1)\n",
    "#             self.rock_mid1 = (self.rock_mid1[0],self.rock_mid1[1]-1)\n",
    "#             self.rock_mid2 = (self.rock_mid2[0],self.rock_mid2[1]-1)\n",
    "#             self.left = (self.left[0],self.left[1]-1)\n",
    "#             self.coord = [self.right,self.rock_mid1,self.rock_mid2,self.left]\n",
    "        \n",
    "#         if self.shape == \"+\":\n",
    "#             self.right = (self.right[0], self.right[1]-1)\n",
    "#             self.top = (self.top[0],self.top[1]-1)\n",
    "#             self.mid = (self.mid[0],self.mid[1]-1)\n",
    "#             self.left = (self.left[0],self.left[1]-1)\n",
    "#             self.bottom = (self.bottom[0], self.bottom[1]-1)\n",
    "#             self.coord = [self.right,self.top,self.mid,self.left,self.bottom]\n",
    "        \n",
    "#         if self.shape == \"J\":\n",
    "#             self.top = (self.top[0],self.top[1]-1)\n",
    "#             self.mid1 = (self.mid1[0],self.mid1[1]-1)\n",
    "#             self.mid2 = (self.mid2[0],self.mid2[1]-1)\n",
    "#             self.mid3 = (self.mid3[0],self.mid3[1]-1)\n",
    "#             self.left = (self.left[0],self.left[1]-1)\n",
    "#             self.coord = [self.top,self.mid1,self.mid2,self.mid3,self.left]\n",
    "        \n",
    "#         if self.shape == \"I\":\n",
    "#             self.top = (self.top[0],self.top[1]-1)\n",
    "#             self.mid1 = (self.mid1[0],self.mid1[1]-1)\n",
    "#             self.mid2 = (self.mid2[0],self.mid2[1]-1)\n",
    "#             self.bottom = (self.bottom[0],self.bottom[1]-1)\n",
    "#             self.coord = [self.top,self.mid1,self.mid2,self.bottom]\n",
    "        \n",
    "#         if self.shape == \"O\":\n",
    "#             self.topright = (self.topright[0],self.topright[1]-1)\n",
    "#             self.topleft = (self.topleft[0],self.topleft[1]-1)\n",
    "#             self.bottomright = (self.bottomright[0],self.bottomright[1]-1)\n",
    "#             self.bottomleft = (self.bottomleft[0],self.bottomleft[1]-1)\n",
    "#             self.coord = [self.topright,self.topleft,self.bottomleft,self.bottomright]"
   ]
  },
  {
   "cell_type": "code",
   "execution_count": null,
   "id": "32066dfe",
   "metadata": {},
   "outputs": [],
   "source": []
  },
  {
   "cell_type": "code",
   "execution_count": 39,
   "id": "8f8c6b8d",
   "metadata": {
    "scrolled": true
   },
   "outputs": [
    {
     "data": {
      "text/plain": [
       "<matplotlib.image.AxesImage at 0x27f6d4289d0>"
      ]
     },
     "execution_count": 39,
     "metadata": {},
     "output_type": "execute_result"
    },
    {
     "data": {
      "image/png": "[encoded data removed]",
      "text/plain": [
       "<Figure size 432x288 with 1 Axes>"
      ]
     },
     "metadata": {
      "needs_background": "light"
     },
     "output_type": "display_data"
    }
   ],
   "source": [
    "color = [0,0.7,0]\n",
    "color2 = [0.5,0.1,0.7]\n",
    "color3 = [0.7,0.5,1]\n",
    "color4 = [1,0.6,0.8]\n",
    "test_color = np.zeros((2,2,3))\n",
    "test_color[0,0] = color\n",
    "test_color[0,1] = color2\n",
    "test_color[1,0] = color3\n",
    "test_color[1,1] = color4\n",
    "plt.imshow(test_color)"
   ]
  },
  {
   "cell_type": "code",
   "execution_count": null,
   "id": "b2295218",
   "metadata": {},
   "outputs": [],
   "source": []
  },
  {
   "cell_type": "code",
   "execution_count": 40,
   "id": "c31ac355",
   "metadata": {},
   "outputs": [
    {
     "data": {
      "image/png": "[encoded data removed]",
      "text/plain": [
       "<Figure size 1080x720 with 1 Axes>"
      ]
     },
     "metadata": {
      "needs_background": "light"
     },
     "output_type": "display_data"
    }
   ],
   "source": [
    "pattern = \">>><<><>><<<>><>>><<<>>><<<><<<>><>><<>>\"\n",
    "wind = list(pattern)\n",
    "cave = Cave(9,2,wind)\n",
    "cave.release_the_rocks(10)"
   ]
  },
  {
   "cell_type": "code",
   "execution_count": 36,
   "id": "793ff0af",
   "metadata": {},
   "outputs": [
    {
     "data": {
      "image/png": "[encoded data removed]",
      "text/plain": [
       "<Figure size 1080x720 with 1 Axes>"
      ]
     },
     "metadata": {
      "needs_background": "light"
     },
     "output_type": "display_data"
    }
   ],
   "source": []
  },
  {
   "cell_type": "code",
   "execution_count": 18,
   "id": "22c99213",
   "metadata": {},
   "outputs": [],
   "source": [
    "stone2 = Stone(\"-\",5,cave.rock_start)"
   ]
  },
  {
   "cell_type": "code",
   "execution_count": 19,
   "id": "142a38d0",
   "metadata": {},
   "outputs": [
    {
     "data": {
      "text/plain": [
       "[(5, 4), (4, 4), (3, 4), (2, 4)]"
      ]
     },
     "execution_count": 19,
     "metadata": {},
     "output_type": "execute_result"
    }
   ],
   "source": [
    "stone2.get_coord()"
   ]
  },
  {
   "cell_type": "code",
   "execution_count": 21,
   "id": "b447d337",
   "metadata": {},
   "outputs": [
    {
     "ename": "IndexError",
     "evalue": "index 4 is out of bounds for axis 0 with size 3",
     "output_type": "error",
     "traceback": [
      "\u001b[1;31m---------------------------------------------------------------------------\u001b[0m",
      "\u001b[1;31mIndexError\u001b[0m                                Traceback (most recent call last)",
      "\u001b[1;32m<ipython-input-21-2f885525780e>\u001b[0m in \u001b[0;36m<module>\u001b[1;34m\u001b[0m\n\u001b[1;32m----> 1\u001b[1;33m \u001b[0mcave\u001b[0m\u001b[1;33m.\u001b[0m\u001b[0mfalling_stone\u001b[0m\u001b[1;33m(\u001b[0m\u001b[0mstone2\u001b[0m\u001b[1;33m)\u001b[0m\u001b[1;33m\u001b[0m\u001b[1;33m\u001b[0m\u001b[0m\n\u001b[0m",
      "\u001b[1;32m<ipython-input-12-6c57231758ef>\u001b[0m in \u001b[0;36mfalling_stone\u001b[1;34m(self, stone)\u001b[0m\n\u001b[0;32m     98\u001b[0m                 \u001b[1;31m# Right\u001b[0m\u001b[1;33m\u001b[0m\u001b[1;33m\u001b[0m\u001b[1;33m\u001b[0m\u001b[0m\n\u001b[0;32m     99\u001b[0m                 \u001b[0mnext_xpos\u001b[0m \u001b[1;33m=\u001b[0m \u001b[0mstone\u001b[0m\u001b[1;33m.\u001b[0m\u001b[0mnext_coord\u001b[0m\u001b[1;33m(\u001b[0m\u001b[0mhow\u001b[0m\u001b[1;33m=\u001b[0m\u001b[1;34m\"right\"\u001b[0m\u001b[1;33m)\u001b[0m\u001b[1;33m\u001b[0m\u001b[1;33m\u001b[0m\u001b[0m\n\u001b[1;32m--> 100\u001b[1;33m                 \u001b[1;32mif\u001b[0m \u001b[0mself\u001b[0m\u001b[1;33m.\u001b[0m\u001b[0mcheck_stop\u001b[0m\u001b[1;33m(\u001b[0m\u001b[0mcurrent_pos\u001b[0m\u001b[1;33m,\u001b[0m\u001b[0mnext_xpos\u001b[0m\u001b[1;33m)\u001b[0m \u001b[1;33m==\u001b[0m \u001b[1;32mFalse\u001b[0m\u001b[1;33m:\u001b[0m\u001b[1;33m\u001b[0m\u001b[1;33m\u001b[0m\u001b[0m\n\u001b[0m\u001b[0;32m    101\u001b[0m                     \u001b[0mstone\u001b[0m\u001b[1;33m.\u001b[0m\u001b[0mx_start\u001b[0m \u001b[1;33m=\u001b[0m \u001b[0mstone\u001b[0m\u001b[1;33m.\u001b[0m\u001b[0mx_start\u001b[0m \u001b[1;33m+\u001b[0m\u001b[1;36m1\u001b[0m\u001b[1;33m\u001b[0m\u001b[1;33m\u001b[0m\u001b[0m\n\u001b[0;32m    102\u001b[0m                     \u001b[0mstone\u001b[0m\u001b[1;33m.\u001b[0m\u001b[0mupdate_coord\u001b[0m\u001b[1;33m(\u001b[0m\u001b[1;33m)\u001b[0m\u001b[1;33m\u001b[0m\u001b[1;33m\u001b[0m\u001b[0m\n",
      "\u001b[1;32m<ipython-input-12-6c57231758ef>\u001b[0m in \u001b[0;36mcheck_stop\u001b[1;34m(self, current_pos, next_pos)\u001b[0m\n\u001b[0;32m     69\u001b[0m             \u001b[1;31m# I check if any of the next positions aren't 0, for any non-zero value False will be returned in the array,\u001b[0m\u001b[1;33m\u001b[0m\u001b[1;33m\u001b[0m\u001b[1;33m\u001b[0m\u001b[0m\n\u001b[0;32m     70\u001b[0m             \u001b[1;31m# resulting in the function returning False as well\u001b[0m\u001b[1;33m\u001b[0m\u001b[1;33m\u001b[0m\u001b[1;33m\u001b[0m\u001b[0m\n\u001b[1;32m---> 71\u001b[1;33m             \u001b[1;32mif\u001b[0m \u001b[1;32mFalse\u001b[0m \u001b[1;32min\u001b[0m \u001b[1;33m(\u001b[0m\u001b[0mcave\u001b[0m\u001b[1;33m.\u001b[0m\u001b[0mcurrent_image\u001b[0m\u001b[1;33m[\u001b[0m\u001b[0my\u001b[0m\u001b[1;33m,\u001b[0m\u001b[0mx\u001b[0m\u001b[1;33m]\u001b[0m \u001b[1;33m==\u001b[0m \u001b[0mnp\u001b[0m\u001b[1;33m.\u001b[0m\u001b[0marray\u001b[0m\u001b[1;33m(\u001b[0m\u001b[1;33m[\u001b[0m\u001b[1;36m0\u001b[0m\u001b[1;33m,\u001b[0m\u001b[1;36m0\u001b[0m\u001b[1;33m,\u001b[0m\u001b[1;36m0\u001b[0m\u001b[1;33m]\u001b[0m\u001b[1;33m)\u001b[0m\u001b[1;33m)\u001b[0m\u001b[1;33m:\u001b[0m\u001b[1;33m\u001b[0m\u001b[1;33m\u001b[0m\u001b[0m\n\u001b[0m\u001b[0;32m     72\u001b[0m                 \u001b[1;32mreturn\u001b[0m \u001b[1;32mTrue\u001b[0m\u001b[1;33m\u001b[0m\u001b[1;33m\u001b[0m\u001b[0m\n\u001b[0;32m     73\u001b[0m         \u001b[1;32mreturn\u001b[0m \u001b[1;32mFalse\u001b[0m\u001b[1;33m\u001b[0m\u001b[1;33m\u001b[0m\u001b[0m\n",
      "\u001b[1;31mIndexError\u001b[0m: index 4 is out of bounds for axis 0 with size 3"
     ]
    }
   ],
   "source": [
    "cave.falling_stone(stone2)"
   ]
  },
  {
   "cell_type": "code",
   "execution_count": 224,
   "id": "76439c81",
   "metadata": {},
   "outputs": [
    {
     "data": {
      "text/plain": [
       "[0,\n",
       " (False, [(5, 4), (4, 4), (3, 4), (2, 4)], [(5, 3), (4, 3), (3, 3), (2, 3)]),\n",
       " 'During run n 1, check was run an gave False',\n",
       " 'During run n 2, check was run an gave False',\n",
       " 'During run n 3, check was run an gave False',\n",
       " 'Execution ended at 4']"
      ]
     },
     "execution_count": 224,
     "metadata": {},
     "output_type": "execute_result"
    }
   ],
   "source": [
    "log"
   ]
  },
  {
   "cell_type": "code",
   "execution_count": 204,
   "id": "e3ac7b71",
   "metadata": {},
   "outputs": [
    {
     "data": {
      "text/plain": [
       "[(5, 3), (4, 3), (3, 3), (2, 3)]"
      ]
     },
     "execution_count": 204,
     "metadata": {},
     "output_type": "execute_result"
    }
   ],
   "source": [
    "log[1][2]"
   ]
  },
  {
   "cell_type": "code",
   "execution_count": 209,
   "id": "36ac358a",
   "metadata": {},
   "outputs": [
    {
     "name": "stdout",
     "output_type": "stream",
     "text": [
      "[0. 0. 0.] 5 3\n",
      "[0. 0. 0.] 4 3\n",
      "[0. 0. 0.] 3 3\n",
      "[0. 0. 0.] 2 3\n"
     ]
    }
   ],
   "source": [
    "for (x,y) in log[1][2]:\n",
    "    # I check if any of the next positions aren't 0, for any non-zero value False will be returned in the array,\n",
    "    # resulting in the function returning False as well\n",
    "    print(cave.current_image[y,x],x,y)"
   ]
  },
  {
   "cell_type": "code",
   "execution_count": 217,
   "id": "52536443",
   "metadata": {},
   "outputs": [],
   "source": [
    "cave.remove_stone(stone.get_coord(),stone.next_coord())"
   ]
  },
  {
   "cell_type": "code",
   "execution_count": 167,
   "id": "cd5a2ec7",
   "metadata": {},
   "outputs": [
    {
     "name": "stdout",
     "output_type": "stream",
     "text": [
      "((5, 4), False)\n",
      "((4, 4), False)\n",
      "((3, 4), False)\n",
      "((2, 4), False)\n"
     ]
    }
   ],
   "source": [
    "for (x,y) in stone.get_coord():\n",
    "    check = (x,y) in stone.next_coord()\n",
    "    print(((x,y),check))"
   ]
  },
  {
   "cell_type": "code",
   "execution_count": 164,
   "id": "90e7cacf",
   "metadata": {},
   "outputs": [
    {
     "data": {
      "text/plain": [
       "[(5, 5), (4, 5), (3, 5), (2, 5)]"
      ]
     },
     "execution_count": 164,
     "metadata": {},
     "output_type": "execute_result"
    }
   ],
   "source": [
    "stone.next_coord()"
   ]
  },
  {
   "cell_type": "code",
   "execution_count": 218,
   "id": "9f8c9634",
   "metadata": {},
   "outputs": [
    {
     "data": {
      "image/png": "[encoded data removed]",
      "text/plain": [
       "<Figure size 1080x720 with 1 Axes>"
      ]
     },
     "metadata": {
      "needs_background": "light"
     },
     "output_type": "display_data"
    }
   ],
   "source": [
    "cave.draw_cave()"
   ]
  },
  {
   "cell_type": "code",
   "execution_count": 138,
   "id": "d3513b1e",
   "metadata": {},
   "outputs": [
    {
     "data": {
      "text/plain": [
       "[(5, 2), (4, 2), (3, 2), (2, 2)]"
      ]
     },
     "execution_count": 138,
     "metadata": {},
     "output_type": "execute_result"
    }
   ],
   "source": [
    "stone.get_coord()"
   ]
  },
  {
   "cell_type": "code",
   "execution_count": 137,
   "id": "7a4fdaaf",
   "metadata": {},
   "outputs": [],
   "source": [
    "stone.set_coord()"
   ]
  },
  {
   "cell_type": "code",
   "execution_count": null,
   "id": "d8b0a00e",
   "metadata": {},
   "outputs": [],
   "source": []
  },
  {
   "cell_type": "code",
   "execution_count": 13,
   "id": "6bb96a97",
   "metadata": {},
   "outputs": [],
   "source": [
    "# Creating the 'base' cave\n",
    "height = 20\n",
    "width = 9\n",
    "dimensions = 3\n",
    "cave = np.zeros((height,width,dimensions))\n",
    "\n",
    "# Add white roor\n",
    "for column in range(width):\n",
    "    cave[0,column] = [1,1,1]\n",
    "\n",
    "# Add white sides\n",
    "for row in range(height):\n",
    "    cave[row,0] = [1,1,1]\n",
    "    cave[row,-1] = [1,1,1]"
   ]
  },
  {
   "cell_type": "code",
   "execution_count": 16,
   "id": "cd9ed9f2",
   "metadata": {},
   "outputs": [],
   "source": [
    " new_cave = new_row(cave,10,9)"
   ]
  },
  {
   "cell_type": "code",
   "execution_count": 6,
   "id": "f1bf00d4",
   "metadata": {},
   "outputs": [],
   "source": []
  },
  {
   "cell_type": "code",
   "execution_count": 15,
   "id": "82ef3f51",
   "metadata": {},
   "outputs": [],
   "source": [
    "def new_row(old_cave,extra_height,width,dimensions = 3):\n",
    "    extra_cave = np.zeros((extra_height,width,dimensions))\n",
    "    for row in range(extra_height):\n",
    "        extra_cave[row,0] = [1,1,1]\n",
    "        extra_cave[row,-1] = [1,1,1]\n",
    "    new_cave = np.append(old_cave,extra_cave,axis=0)\n",
    "    return new_cave"
   ]
  },
  {
   "cell_type": "code",
   "execution_count": 29,
   "id": "c48f30d9",
   "metadata": {},
   "outputs": [],
   "source": [
    "\n",
    "            \n",
    "            \n",
    "\n",
    "# def add_stone(shape=\"-\"):\n",
    "    "
   ]
  },
  {
   "cell_type": "code",
   "execution_count": null,
   "id": "9996cd5a",
   "metadata": {},
   "outputs": [],
   "source": []
  },
  {
   "cell_type": "code",
   "execution_count": 14,
   "id": "9df88a47",
   "metadata": {},
   "outputs": [
    {
     "data": {
      "image/png": "[encoded data removed]",
      "text/plain": [
       "<Figure size 1080x720 with 1 Axes>"
      ]
     },
     "metadata": {
      "needs_background": "light"
     },
     "output_type": "display_data"
    }
   ],
   "source": []
  },
  {
   "cell_type": "code",
   "execution_count": 17,
   "id": "1c5542a2",
   "metadata": {},
   "outputs": [
    {
     "data": {
      "image/png": "[encoded data removed]",
      "text/plain": [
       "<Figure size 1080x720 with 1 Axes>"
      ]
     },
     "metadata": {
      "needs_background": "light"
     },
     "output_type": "display_data"
    }
   ],
   "source": [
    "fig, ax = plt.subplots(figsize=(15,10))\n",
    "plt.imshow(new_cave)\n",
    "plt.show()"
   ]
  },
  {
   "cell_type": "code",
   "execution_count": null,
   "id": "1ddde345",
   "metadata": {},
   "outputs": [],
   "source": []
  },
  {
   "cell_type": "code",
   "execution_count": null,
   "id": "90e8943e",
   "metadata": {},
   "outputs": [],
   "source": []
  },
  {
   "cell_type": "code",
   "execution_count": 8,
   "id": "417d3063",
   "metadata": {},
   "outputs": [],
   "source": [
    "extra_cave = np.zeros((4,width,dimensions))\n",
    "# for row in range(4):\n",
    "#     extra_cave[row,0] = [1,1,1]\n",
    "#     extra_cave[row,-1] = [1,1,1]\n"
   ]
  },
  {
   "cell_type": "code",
   "execution_count": 10,
   "id": "3ed7bc6d",
   "metadata": {},
   "outputs": [],
   "source": [
    "new_cave = np.append(cave,extra_cave,axis = 0)"
   ]
  },
  {
   "cell_type": "code",
   "execution_count": 78,
   "id": "e14eaf0f",
   "metadata": {},
   "outputs": [],
   "source": [
    "for row in extra_cave:\n",
    "    cave = np.append(cave,row)"
   ]
  },
  {
   "cell_type": "code",
   "execution_count": 79,
   "id": "0dc06f93",
   "metadata": {},
   "outputs": [
    {
     "data": {
      "text/plain": [
       "array([1., 1., 1., 1., 1., 1., 1., 1., 1., 1., 1., 1., 1., 1., 1., 1., 1.,\n",
       "       1., 1., 1., 1., 1., 1., 1., 1., 1., 1., 1., 1., 1., 0., 0., 0., 0.,\n",
       "       0., 0., 0., 0., 0., 0., 0., 0., 0., 0., 0., 0., 0., 0., 0., 0., 0.,\n",
       "       1., 1., 1., 1., 1., 1., 0., 0., 0., 0., 0., 0., 0., 0., 0., 0., 0.,\n",
       "       0., 0., 0., 0., 0., 0., 0., 0., 0., 0., 1., 1., 1., 1., 1., 1., 0.,\n",
       "       0., 0., 0., 0., 0., 0., 0., 0., 0., 0., 0., 0., 0., 0., 0., 0., 0.,\n",
       "       0., 0., 0., 1., 1., 1., 1., 1., 1., 0., 0., 0., 0., 0., 0., 0., 0.,\n",
       "       0., 0., 0., 0., 0., 0., 0., 0., 0., 0., 0., 0., 0., 1., 1., 1., 1.,\n",
       "       1., 1., 0., 0., 0., 0., 0., 0., 0., 0., 0., 0., 0., 0., 0., 0., 0.,\n",
       "       0., 0., 0., 0., 0., 0., 1., 1., 1., 1., 1., 1., 0., 0., 0., 0., 0.,\n",
       "       0., 0., 0., 0., 0., 0., 0., 0., 0., 0., 0., 0., 0., 0., 0., 0., 1.,\n",
       "       1., 1., 1., 1., 1., 0., 0., 0., 0., 0., 0., 0., 0., 0., 0., 0., 0.,\n",
       "       0., 0., 0., 0., 0., 0., 0., 0., 0., 1., 1., 1., 1., 1., 1., 0., 0.,\n",
       "       0., 0., 0., 0., 0., 0., 0., 0., 0., 0., 0., 0., 0., 0., 0., 0., 0.,\n",
       "       0., 0., 1., 1., 1., 1., 1., 1., 0., 0., 0., 0., 0., 0., 0., 0., 0.,\n",
       "       0., 0., 0., 0., 0., 0., 0., 0., 0., 0., 0., 0., 1., 1., 1., 1., 1.,\n",
       "       1., 0., 0., 0., 0., 0., 0., 0., 0., 0., 0., 0., 0., 0., 0., 0., 0.,\n",
       "       0., 0., 0., 0., 0., 1., 1., 1., 1., 1., 1., 0., 0., 0., 0., 0., 0.,\n",
       "       0., 0., 0., 0., 0., 0., 0., 0., 0., 0., 0., 0., 0., 0., 0., 1., 1.,\n",
       "       1., 1., 1., 1., 0., 0., 0., 0., 0., 0., 0., 0., 0., 0., 0., 0., 0.,\n",
       "       0., 0., 0., 0., 0., 0., 0., 0., 1., 1., 1., 1., 1., 1., 0., 0., 0.,\n",
       "       0., 0., 0., 0., 0., 0., 0., 0., 0., 0., 0., 0., 0., 0., 0., 0., 0.,\n",
       "       0., 1., 1., 1., 1., 1., 1., 0., 0., 0., 0., 0., 0., 0., 0., 0., 0.,\n",
       "       0., 0., 0., 0., 0., 0., 0., 0., 0., 0., 0., 1., 1., 1., 1., 1., 1.,\n",
       "       0., 0., 0., 0., 0., 0., 0., 0., 0., 0., 0., 0., 0., 0., 0., 0., 0.,\n",
       "       0., 0., 0., 0., 1., 1., 1., 1., 1., 1., 0., 0., 0., 0., 0., 0., 0.,\n",
       "       0., 0., 0., 0., 0., 0., 0., 0., 0., 0., 0., 0., 0., 0., 1., 1., 1.,\n",
       "       1., 1., 1., 0., 0., 0., 0., 0., 0., 0., 0., 0., 0., 0., 0., 0., 0.,\n",
       "       0., 0., 0., 0., 0., 0., 0., 1., 1., 1., 1., 1., 1., 0., 0., 0., 0.,\n",
       "       0., 0., 0., 0., 0., 0., 0., 0., 0., 0., 0., 0., 0., 0., 0., 0., 0.,\n",
       "       1., 1., 1., 1., 1., 1., 0., 0., 0., 0., 0., 0., 0., 0., 0., 0., 0.,\n",
       "       0., 0., 0., 0., 0., 0., 0., 0., 0., 0., 1., 1., 1., 1., 1., 1., 0.,\n",
       "       0., 0., 0., 0., 0., 0., 0., 0., 0., 0., 0., 0., 0., 0., 0., 0., 0.,\n",
       "       0., 0., 0., 1., 1., 1., 1., 1., 1., 0., 0., 0., 0., 0., 0., 0., 0.,\n",
       "       0., 0., 0., 0., 0., 0., 0., 0., 0., 0., 0., 0., 0., 1., 1., 1., 1.,\n",
       "       1., 1., 0., 0., 0., 0., 0., 0., 0., 0., 0., 0., 0., 0., 0., 0., 0.,\n",
       "       0., 0., 0., 0., 0., 0., 1., 1., 1., 1., 1., 1., 0., 0., 0., 0., 0.,\n",
       "       0., 0., 0., 0., 0., 0., 0., 0., 0., 0., 0., 0., 0., 0., 0., 0., 1.,\n",
       "       1., 1.])"
      ]
     },
     "execution_count": 79,
     "metadata": {},
     "output_type": "execute_result"
    }
   ],
   "source": [
    "cave"
   ]
  },
  {
   "cell_type": "code",
   "execution_count": 11,
   "id": "b556144b",
   "metadata": {},
   "outputs": [
    {
     "data": {
      "image/png": "[encoded data removed]",
      "text/plain": [
       "<Figure size 1080x720 with 1 Axes>"
      ]
     },
     "metadata": {
      "needs_background": "light"
     },
     "output_type": "display_data"
    }
   ],
   "source": [
    "fig, ax = plt.subplots(figsize=(15,10))\n",
    "plt.imshow(new_cave)\n",
    "plt.show()"
   ]
  },
  {
   "cell_type": "code",
   "execution_count": null,
   "id": "191105be",
   "metadata": {},
   "outputs": [],
   "source": []
  }
 ],
 "metadata": {
  "kernelspec": {
   "display_name": "Python 3",
   "language": "python",
   "name": "python3"
  },
  "language_info": {
   "codemirror_mode": {
    "name": "ipython",
    "version": 3
   },
   "file_extension": ".py",
   "mimetype": "text/x-python",
   "name": "python",
   "nbconvert_exporter": "python",
   "pygments_lexer": "ipython3",
   "version": "3.8.8"
  }
 },
 "nbformat": 4,
 "nbformat_minor": 5
}

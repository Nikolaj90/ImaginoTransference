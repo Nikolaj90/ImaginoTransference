{
 "cells": [
  {
   "cell_type": "markdown",
   "id": "f19b4417",
   "metadata": {},
   "source": [
    "# Falling Rocks\n",
    "I have to figure out how to create a seven unit wide matrix, that will grow in height - or just have an infinite height. \n",
    "Then I will have to create an object, that will be the current stone, which will be used to interact with the matrix. I think having a list of objects to draw from will be pretty neat. \n",
    "\n",
    "For a start I will create a single falling object, that falls straight and lands on top of the last object. After that I will implement new rocks and finally I will add the air."
   ]
  },
  {
   "cell_type": "code",
   "execution_count": 2,
   "id": "d0aa0cdc",
   "metadata": {},
   "outputs": [],
   "source": [
    "%matplotlib inline\n",
    "import matplotlib.pyplot as plt\n",
    "from IPython.display import display, clear_output\n",
    "import pandas as pd\n",
    "import numpy as np\n",
    "import ast\n",
    "import time"
   ]
  },
  {
   "cell_type": "code",
   "execution_count": 33,
   "id": "5ae2faa0",
   "metadata": {},
   "outputs": [],
   "source": [
    "class Cave():\n",
    "    def __init__(self,width,height,dimensions = 3):\n",
    "        self.width = width+1\n",
    "        self.height = height+1\n",
    "        self.dimensions = dimensions\n",
    "        self.current_image = np.zeros((self.height,self.width,dimensions))\n",
    "        \n",
    "        \"\"\"ach rock appears so that its left edge is two units away from the left wall \n",
    "        and its bottom edge is three units above the highest rock in the room (or the floor, if there isn't one)\"\"\"\n",
    "        self.rock_start = 4\n",
    "        \n",
    "        # Add white roor\n",
    "        for column in range(self.width):\n",
    "            self.current_image[0,column] = [1,1,1]\n",
    "\n",
    "        # Add white sides\n",
    "        for row in range(self.height):\n",
    "            self.current_image[row,0] = [1,1,1]\n",
    "            self.current_image[row,-1] = [1,1,1]\n",
    "    \n",
    "    def draw_cave(self):\n",
    "        fig, ax = plt.subplots(figsize=(15,10))\n",
    "        plt.imshow(self.current_image)\n",
    "        plt.show()\n",
    "    \n",
    "    def add_row(self,add_height):\n",
    "        extra_cave = np.zeros((add_height,self.width,self.dimensions))\n",
    "        for row in range(add_height):\n",
    "            extra_cave[row,0] = [1,1,1]\n",
    "            extra_cave[row,-1] = [1,1,1]\n",
    "        self.current_image = np.append(self.current_image,extra_cave,axis=0)\n",
    "        \n",
    "    def add_stone(self,coord):\n",
    "        for (x,y) in coord:\n",
    "            self.current_image[y,x] = [0,1,0]\n",
    "    "
   ]
  },
  {
   "cell_type": "code",
   "execution_count": 56,
   "id": "c31ac355",
   "metadata": {},
   "outputs": [
    {
     "data": {
      "image/png": "[encoded data removed]",
      "text/plain": [
       "<Figure size 1080x720 with 1 Axes>"
      ]
     },
     "metadata": {
      "needs_background": "light"
     },
     "output_type": "display_data"
    }
   ],
   "source": [
    "cave = Cave(9,20,3)\n",
    "cave.add_row(10)\n",
    "cave.draw_cave()"
   ]
  },
  {
   "cell_type": "code",
   "execution_count": 57,
   "id": "b447d337",
   "metadata": {},
   "outputs": [],
   "source": [
    "class Stone():\n",
    "    def __init__(self,shape,right, top):\n",
    "        self.shape = shape\n",
    "        \n",
    "        if self.shape == \"-\":\n",
    "            self.right = (right,top)\n",
    "            self.rock_mid1 = (right-1,top)\n",
    "            self.rock_mid2 = (right-2,top)\n",
    "            self.left = (right-3,top)\n",
    "            self.coord = [self.right,self.rock_mid1,self.rock_mid2,self.left]\n",
    "    \n",
    "    def get_coord(self):\n",
    "        return self.coord"
   ]
  },
  {
   "cell_type": "code",
   "execution_count": 58,
   "id": "9f8c9634",
   "metadata": {},
   "outputs": [],
   "source": [
    "stone = Stone(\"-\",5,cave.rock_start)\n",
    "coord_stone = stone.get_coord()"
   ]
  },
  {
   "cell_type": "code",
   "execution_count": 59,
   "id": "c0361415",
   "metadata": {},
   "outputs": [
    {
     "data": {
      "text/plain": [
       "[(5, 4), (4, 4), (3, 4), (2, 4)]"
      ]
     },
     "execution_count": 59,
     "metadata": {},
     "output_type": "execute_result"
    }
   ],
   "source": [
    "coord_stone"
   ]
  },
  {
   "cell_type": "code",
   "execution_count": 60,
   "id": "9f3c2c5f",
   "metadata": {},
   "outputs": [],
   "source": [
    "cave.add_stone(coord_stone)"
   ]
  },
  {
   "cell_type": "code",
   "execution_count": 61,
   "id": "158eaee2",
   "metadata": {},
   "outputs": [
    {
     "data": {
      "image/png": "[encoded data removed]",
      "text/plain": [
       "<Figure size 1080x720 with 1 Axes>"
      ]
     },
     "metadata": {
      "needs_background": "light"
     },
     "output_type": "display_data"
    }
   ],
   "source": [
    "cave.draw_cave()"
   ]
  },
  {
   "cell_type": "code",
   "execution_count": null,
   "id": "d8b0a00e",
   "metadata": {},
   "outputs": [],
   "source": []
  },
  {
   "cell_type": "code",
   "execution_count": 13,
   "id": "6bb96a97",
   "metadata": {},
   "outputs": [],
   "source": [
    "# Creating the 'base' cave\n",
    "height = 20\n",
    "width = 9\n",
    "dimensions = 3\n",
    "cave = np.zeros((height,width,dimensions))\n",
    "\n",
    "# Add white roor\n",
    "for column in range(width):\n",
    "    cave[0,column] = [1,1,1]\n",
    "\n",
    "# Add white sides\n",
    "for row in range(height):\n",
    "    cave[row,0] = [1,1,1]\n",
    "    cave[row,-1] = [1,1,1]"
   ]
  },
  {
   "cell_type": "code",
   "execution_count": 16,
   "id": "cd9ed9f2",
   "metadata": {},
   "outputs": [],
   "source": [
    " new_cave = new_row(cave,10,9)"
   ]
  },
  {
   "cell_type": "code",
   "execution_count": 6,
   "id": "f1bf00d4",
   "metadata": {},
   "outputs": [],
   "source": []
  },
  {
   "cell_type": "code",
   "execution_count": 15,
   "id": "82ef3f51",
   "metadata": {},
   "outputs": [],
   "source": [
    "def new_row(old_cave,extra_height,width,dimensions = 3):\n",
    "    extra_cave = np.zeros((extra_height,width,dimensions))\n",
    "    for row in range(extra_height):\n",
    "        extra_cave[row,0] = [1,1,1]\n",
    "        extra_cave[row,-1] = [1,1,1]\n",
    "    new_cave = np.append(old_cave,extra_cave,axis=0)\n",
    "    return new_cave"
   ]
  },
  {
   "cell_type": "code",
   "execution_count": 29,
   "id": "c48f30d9",
   "metadata": {},
   "outputs": [],
   "source": [
    "\n",
    "            \n",
    "            \n",
    "\n",
    "# def add_stone(shape=\"-\"):\n",
    "    "
   ]
  },
  {
   "cell_type": "code",
   "execution_count": null,
   "id": "9996cd5a",
   "metadata": {},
   "outputs": [],
   "source": []
  },
  {
   "cell_type": "code",
   "execution_count": 14,
   "id": "9df88a47",
   "metadata": {},
   "outputs": [
    {
     "data": {
      "image/png": "[encoded data removed]",
      "text/plain": [
       "<Figure size 1080x720 with 1 Axes>"
      ]
     },
     "metadata": {
      "needs_background": "light"
     },
     "output_type": "display_data"
    }
   ],
   "source": []
  },
  {
   "cell_type": "code",
   "execution_count": 17,
   "id": "1c5542a2",
   "metadata": {},
   "outputs": [
    {
     "data": {
      "image/png": "[encoded data removed]",
      "text/plain": [
       "<Figure size 1080x720 with 1 Axes>"
      ]
     },
     "metadata": {
      "needs_background": "light"
     },
     "output_type": "display_data"
    }
   ],
   "source": [
    "fig, ax = plt.subplots(figsize=(15,10))\n",
    "plt.imshow(new_cave)\n",
    "plt.show()"
   ]
  },
  {
   "cell_type": "code",
   "execution_count": null,
   "id": "1ddde345",
   "metadata": {},
   "outputs": [],
   "source": []
  },
  {
   "cell_type": "code",
   "execution_count": null,
   "id": "90e8943e",
   "metadata": {},
   "outputs": [],
   "source": []
  },
  {
   "cell_type": "code",
   "execution_count": 8,
   "id": "417d3063",
   "metadata": {},
   "outputs": [],
   "source": [
    "extra_cave = np.zeros((4,width,dimensions))\n",
    "# for row in range(4):\n",
    "#     extra_cave[row,0] = [1,1,1]\n",
    "#     extra_cave[row,-1] = [1,1,1]\n"
   ]
  },
  {
   "cell_type": "code",
   "execution_count": 10,
   "id": "3ed7bc6d",
   "metadata": {},
   "outputs": [],
   "source": [
    "new_cave = np.append(cave,extra_cave,axis = 0)"
   ]
  },
  {
   "cell_type": "code",
   "execution_count": 78,
   "id": "e14eaf0f",
   "metadata": {},
   "outputs": [],
   "source": [
    "for row in extra_cave:\n",
    "    cave = np.append(cave,row)"
   ]
  },
  {
   "cell_type": "code",
   "execution_count": 79,
   "id": "0dc06f93",
   "metadata": {},
   "outputs": [
    {
     "data": {
      "text/plain": [
       "array([1., 1., 1., 1., 1., 1., 1., 1., 1., 1., 1., 1., 1., 1., 1., 1., 1.,\n",
       "       1., 1., 1., 1., 1., 1., 1., 1., 1., 1., 1., 1., 1., 0., 0., 0., 0.,\n",
       "       0., 0., 0., 0., 0., 0., 0., 0., 0., 0., 0., 0., 0., 0., 0., 0., 0.,\n",
       "       1., 1., 1., 1., 1., 1., 0., 0., 0., 0., 0., 0., 0., 0., 0., 0., 0.,\n",
       "       0., 0., 0., 0., 0., 0., 0., 0., 0., 0., 1., 1., 1., 1., 1., 1., 0.,\n",
       "       0., 0., 0., 0., 0., 0., 0., 0., 0., 0., 0., 0., 0., 0., 0., 0., 0.,\n",
       "       0., 0., 0., 1., 1., 1., 1., 1., 1., 0., 0., 0., 0., 0., 0., 0., 0.,\n",
       "       0., 0., 0., 0., 0., 0., 0., 0., 0., 0., 0., 0., 0., 1., 1., 1., 1.,\n",
       "       1., 1., 0., 0., 0., 0., 0., 0., 0., 0., 0., 0., 0., 0., 0., 0., 0.,\n",
       "       0., 0., 0., 0., 0., 0., 1., 1., 1., 1., 1., 1., 0., 0., 0., 0., 0.,\n",
       "       0., 0., 0., 0., 0., 0., 0., 0., 0., 0., 0., 0., 0., 0., 0., 0., 1.,\n",
       "       1., 1., 1., 1., 1., 0., 0., 0., 0., 0., 0., 0., 0., 0., 0., 0., 0.,\n",
       "       0., 0., 0., 0., 0., 0., 0., 0., 0., 1., 1., 1., 1., 1., 1., 0., 0.,\n",
       "       0., 0., 0., 0., 0., 0., 0., 0., 0., 0., 0., 0., 0., 0., 0., 0., 0.,\n",
       "       0., 0., 1., 1., 1., 1., 1., 1., 0., 0., 0., 0., 0., 0., 0., 0., 0.,\n",
       "       0., 0., 0., 0., 0., 0., 0., 0., 0., 0., 0., 0., 1., 1., 1., 1., 1.,\n",
       "       1., 0., 0., 0., 0., 0., 0., 0., 0., 0., 0., 0., 0., 0., 0., 0., 0.,\n",
       "       0., 0., 0., 0., 0., 1., 1., 1., 1., 1., 1., 0., 0., 0., 0., 0., 0.,\n",
       "       0., 0., 0., 0., 0., 0., 0., 0., 0., 0., 0., 0., 0., 0., 0., 1., 1.,\n",
       "       1., 1., 1., 1., 0., 0., 0., 0., 0., 0., 0., 0., 0., 0., 0., 0., 0.,\n",
       "       0., 0., 0., 0., 0., 0., 0., 0., 1., 1., 1., 1., 1., 1., 0., 0., 0.,\n",
       "       0., 0., 0., 0., 0., 0., 0., 0., 0., 0., 0., 0., 0., 0., 0., 0., 0.,\n",
       "       0., 1., 1., 1., 1., 1., 1., 0., 0., 0., 0., 0., 0., 0., 0., 0., 0.,\n",
       "       0., 0., 0., 0., 0., 0., 0., 0., 0., 0., 0., 1., 1., 1., 1., 1., 1.,\n",
       "       0., 0., 0., 0., 0., 0., 0., 0., 0., 0., 0., 0., 0., 0., 0., 0., 0.,\n",
       "       0., 0., 0., 0., 1., 1., 1., 1., 1., 1., 0., 0., 0., 0., 0., 0., 0.,\n",
       "       0., 0., 0., 0., 0., 0., 0., 0., 0., 0., 0., 0., 0., 0., 1., 1., 1.,\n",
       "       1., 1., 1., 0., 0., 0., 0., 0., 0., 0., 0., 0., 0., 0., 0., 0., 0.,\n",
       "       0., 0., 0., 0., 0., 0., 0., 1., 1., 1., 1., 1., 1., 0., 0., 0., 0.,\n",
       "       0., 0., 0., 0., 0., 0., 0., 0., 0., 0., 0., 0., 0., 0., 0., 0., 0.,\n",
       "       1., 1., 1., 1., 1., 1., 0., 0., 0., 0., 0., 0., 0., 0., 0., 0., 0.,\n",
       "       0., 0., 0., 0., 0., 0., 0., 0., 0., 0., 1., 1., 1., 1., 1., 1., 0.,\n",
       "       0., 0., 0., 0., 0., 0., 0., 0., 0., 0., 0., 0., 0., 0., 0., 0., 0.,\n",
       "       0., 0., 0., 1., 1., 1., 1., 1., 1., 0., 0., 0., 0., 0., 0., 0., 0.,\n",
       "       0., 0., 0., 0., 0., 0., 0., 0., 0., 0., 0., 0., 0., 1., 1., 1., 1.,\n",
       "       1., 1., 0., 0., 0., 0., 0., 0., 0., 0., 0., 0., 0., 0., 0., 0., 0.,\n",
       "       0., 0., 0., 0., 0., 0., 1., 1., 1., 1., 1., 1., 0., 0., 0., 0., 0.,\n",
       "       0., 0., 0., 0., 0., 0., 0., 0., 0., 0., 0., 0., 0., 0., 0., 0., 1.,\n",
       "       1., 1.])"
      ]
     },
     "execution_count": 79,
     "metadata": {},
     "output_type": "execute_result"
    }
   ],
   "source": [
    "cave"
   ]
  },
  {
   "cell_type": "code",
   "execution_count": 11,
   "id": "b556144b",
   "metadata": {},
   "outputs": [
    {
     "data": {
      "image/png": "[encoded data removed]",
      "text/plain": [
       "<Figure size 1080x720 with 1 Axes>"
      ]
     },
     "metadata": {
      "needs_background": "light"
     },
     "output_type": "display_data"
    }
   ],
   "source": [
    "fig, ax = plt.subplots(figsize=(15,10))\n",
    "plt.imshow(new_cave)\n",
    "plt.show()"
   ]
  },
  {
   "cell_type": "code",
   "execution_count": null,
   "id": "191105be",
   "metadata": {},
   "outputs": [],
   "source": []
  }
 ],
 "metadata": {
  "kernelspec": {
   "display_name": "Python 3",
   "language": "python",
   "name": "python3"
  },
  "language_info": {
   "codemirror_mode": {
    "name": "ipython",
    "version": 3
   },
   "file_extension": ".py",
   "mimetype": "text/x-python",
   "name": "python",
   "nbconvert_exporter": "python",
   "pygments_lexer": "ipython3",
   "version": "3.8.8"
  }
 },
 "nbformat": 4,
 "nbformat_minor": 5
}

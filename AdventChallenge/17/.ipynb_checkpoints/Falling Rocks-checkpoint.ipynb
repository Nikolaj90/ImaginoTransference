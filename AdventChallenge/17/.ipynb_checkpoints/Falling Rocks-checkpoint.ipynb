{
 "cells": [
  {
   "cell_type": "markdown",
   "id": "f19b4417",
   "metadata": {},
   "source": [
    "# Falling Rocks\n",
    "I have to figure out how to create a seven unit wide matrix, that will grow in height - or just have an infinite height. \n",
    "Then I will have to create an object, that will be the current stone, which will be used to interact with the matrix. I think having a list of objects to draw from will be pretty neat. \n",
    "\n",
    "For a start I will create a single falling object, that falls straight and lands on top of the last object. After that I will implement new rocks and finally I will add the air."
   ]
  },
  {
   "cell_type": "code",
   "execution_count": 2,
   "id": "d0aa0cdc",
   "metadata": {},
   "outputs": [],
   "source": [
    "%matplotlib inline\n",
    "import matplotlib.pyplot as plt\n",
    "from IPython.display import display, clear_output\n",
    "import pandas as pd\n",
    "import numpy as np\n",
    "import ast\n",
    "import time"
   ]
  },
  {
   "cell_type": "code",
   "execution_count": 225,
   "id": "5ae2faa0",
   "metadata": {},
   "outputs": [],
   "source": [
    "class Cave():\n",
    "    \"\"\"\n",
    "    The cave class creates the initial empty cave, it has the functionality to interact with an object from the stone class.\n",
    "    \n",
    "    It is set, such that it will expand when more stones are added\n",
    "    \"\"\"\n",
    "    \n",
    "    def __init__(self,width,height,dimensions = 3):\n",
    "        self.width = width+1\n",
    "        self.height = height+1\n",
    "        self.dimensions = dimensions\n",
    "        self.current_image = np.zeros((self.height,self.width,dimensions))\n",
    "        \n",
    "        \"\"\"From the task description: each rock appears so that its left edge is two units away from the left wall \n",
    "        and its bottom edge is three units above the highest rock in the room (or the floor, if there isn't one).\n",
    "        \n",
    "        \n",
    "        This is set, so the stone can initialize from the starting point defined by the cave\"\"\"\n",
    "        self.rock_start = 4\n",
    "        \n",
    "        # Add white roof\n",
    "        for column in range(self.width):\n",
    "            self.current_image[0,column] = [1,1,1]\n",
    "\n",
    "        # Add white sides\n",
    "        for row in range(self.height):\n",
    "            self.current_image[row,0] = [1,1,1]\n",
    "            self.current_image[row,-1] = [1,1,1]\n",
    "    \n",
    "    def draw_cave(self):\n",
    "        \"\"\"This function draws the cave as it currently is\"\"\"\n",
    "        fig, ax = plt.subplots(figsize=(15,10))\n",
    "        plt.imshow(self.current_image)\n",
    "        plt.show()\n",
    "    \n",
    "    def add_row(self,add_height):\n",
    "        \"\"\"When more rocks are added, the cave object will have more rows added. This function takes the input of \n",
    "        how many more rows will have to be added, since this is dependent on the shape of the stone\"\"\"\n",
    "        \n",
    "        extra_cave = np.zeros((add_height,self.width,self.dimensions))\n",
    "        for row in range(add_height):\n",
    "            extra_cave[row,0] = [1,1,1]\n",
    "            extra_cave[row,-1] = [1,1,1]\n",
    "        self.current_image = np.append(self.current_image,extra_cave,axis=0)\n",
    "        \n",
    "    def add_stone(self,coord):\n",
    "        \"\"\"This function dras the stone from coord which should be given by the stone object\"\"\"\n",
    "        for (x,y) in coord:\n",
    "            self.current_image[y,x] = [0,1,0]\n",
    "    \n",
    "    def remove_stone(self,previous, current):\n",
    "        \"\"\"When a stone falls, the previous position should be deleted from the image. This function helps with that\"\"\"\n",
    "        if previous == False:\n",
    "            return\n",
    "        for (x,y) in previous:\n",
    "            if (x,y) not in current:\n",
    "                self.current_image[y,x] = [0,0,0]\n",
    "    \n",
    "    def check_stop(self,next_pos):\n",
    "        \"\"\"The positions under the bottom of the stone should be black, otherwise, the stone will not be able to fall further\"\"\"\n",
    "        for (x,y) in next_pos:\n",
    "            # I check if any of the next positions aren't 0, for any non-zero value False will be returned in the array,\n",
    "            # resulting in the function returning False as well\n",
    "            if False in (cave.current_image[y,x] == np.array([0,0,0])):\n",
    "                return True\n",
    "        return False\n",
    "    \n",
    "    \n",
    "    def falling_stone(self,stone):\n",
    "        \"\"\"This function takes a stone object as input, and places it in the cave. It then starts a loop where the stone falls\n",
    "        one unit on the y-axis each round, for each round it checks if the stone can fall further. If possible it changes the\n",
    "        position of the rock. It does this untill the rock cant fall any further\"\"\"\n",
    "        i = 0\n",
    "        log = [i]\n",
    "        previous_pos = False\n",
    "        current_pos = stone.get_coord()\n",
    "        next_pos = stone.next_coord()\n",
    "        log.append((previous_pos,current_pos,next_pos))\n",
    "        \n",
    "        while stone.stopped == False:\n",
    "            i += 1 \n",
    "            self.remove_stone(previous_pos,current_pos)\n",
    "            self.add_stone(current_pos)\n",
    "            \n",
    "            self.draw_cave()\n",
    "            \n",
    "            if self.check_stop(next_pos) == False:\n",
    "                message = f\"During run n {i}, check was run an gave {self.check_stop(next_pos)}\"\n",
    "                log.append(message)\n",
    "                \n",
    "                previous_pos = stone.get_coord()\n",
    "                \n",
    "                stone.set_coord()\n",
    "                \n",
    "                current_pos = stone.get_coord()\n",
    "                next_pos = stone.next_coord()\n",
    "                \n",
    "            else:\n",
    "                message = f\"Execution ended at {i}\"\n",
    "                log.append(message)\n",
    "                stone.stopped = True\n",
    "            \n",
    "            clear_output(wait=True)\n",
    "            \n",
    "        return log\n",
    "\n",
    "    \n",
    "\n",
    "            \n",
    "class Stone():\n",
    "    def __init__(self,shape,right, top):\n",
    "        self.shape = shape\n",
    "        self.stopped = False\n",
    "        \n",
    "        if self.shape == \"-\":\n",
    "            self.right = (right,top)\n",
    "            self.rock_mid1 = (right-1,top)\n",
    "            self.rock_mid2 = (right-2,top)\n",
    "            self.left = (right-3,top)\n",
    "            self.coord = [self.right,self.rock_mid1,self.rock_mid2,self.left]\n",
    "            self.bottom = [self.right,self.rock_mid1,self.rock_mid2,self.left]\n",
    "    \n",
    "    def get_coord(self):\n",
    "        return self.coord\n",
    "    \n",
    "    def next_coord(self):\n",
    "        next_coord = []\n",
    "        for i, (x,y) in enumerate(self.coord):\n",
    "            next_coord.append((x,y-1))\n",
    "        return next_coord\n",
    "    \n",
    "    def set_coord(self):\n",
    "        if self.shape == \"-\":\n",
    "            self.right = (self.right[0],self.right[1]-1)\n",
    "            self.rock_mid1 = (self.rock_mid1[0],self.rock_mid1[1]-1)\n",
    "            self.rock_mid2 = (self.rock_mid2[0],self.rock_mid2[1]-1)\n",
    "            self.left = (self.left[0],self.left[1]-1)\n",
    "            self.coord = [self.right,self.rock_mid1,self.rock_mid2,self.left]\n",
    "        "
   ]
  },
  {
   "cell_type": "code",
   "execution_count": 226,
   "id": "8f8c6b8d",
   "metadata": {},
   "outputs": [
    {
     "data": {
      "text/plain": [
       "<matplotlib.image.AxesImage at 0x190d692e070>"
      ]
     },
     "execution_count": 226,
     "metadata": {},
     "output_type": "execute_result"
    },
    {
     "data": {
      "image/png": "[encoded data removed]",
      "text/plain": [
       "<Figure size 432x288 with 1 Axes>"
      ]
     },
     "metadata": {
      "needs_background": "light"
     },
     "output_type": "display_data"
    }
   ],
   "source": [
    "color = [0,0.7,0]\n",
    "color2 = [0.5,0.1,0.7]\n",
    "color3 = [0.7,0.5,1]\n",
    "color4 = [1,0.6,0.8]\n",
    "test_color = np.zeros((2,2,3))\n",
    "test_color[0,0] = color\n",
    "test_color[0,1] = color2\n",
    "test_color[1,0] = color3\n",
    "test_color[1,1] = color4\n",
    "plt.imshow(test_color)"
   ]
  },
  {
   "cell_type": "code",
   "execution_count": 227,
   "id": "c31ac355",
   "metadata": {},
   "outputs": [
    {
     "data": {
      "image/png": "[encoded data removed]",
      "text/plain": [
       "<Figure size 1080x720 with 1 Axes>"
      ]
     },
     "metadata": {
      "needs_background": "light"
     },
     "output_type": "display_data"
    }
   ],
   "source": [
    "cave = Cave(9,20,3)\n",
    "cave.add_row(10)\n",
    "cave.draw_cave()"
   ]
  },
  {
   "cell_type": "code",
   "execution_count": 228,
   "id": "22c99213",
   "metadata": {},
   "outputs": [],
   "source": [
    "stone = Stone(\"-\",5,cave.rock_start)"
   ]
  },
  {
   "cell_type": "code",
   "execution_count": 221,
   "id": "6cf66446",
   "metadata": {},
   "outputs": [
    {
     "data": {
      "text/plain": [
       "[(5, 3), (4, 3), (3, 3), (2, 3)]"
      ]
     },
     "execution_count": 221,
     "metadata": {},
     "output_type": "execute_result"
    }
   ],
   "source": [
    "stone.next_coord()"
   ]
  },
  {
   "cell_type": "code",
   "execution_count": 222,
   "id": "85386c28",
   "metadata": {},
   "outputs": [
    {
     "data": {
      "text/plain": [
       "False"
      ]
     },
     "execution_count": 222,
     "metadata": {},
     "output_type": "execute_result"
    }
   ],
   "source": [
    "cave.check_stop(stone.next_coord())"
   ]
  },
  {
   "cell_type": "code",
   "execution_count": 229,
   "id": "b447d337",
   "metadata": {},
   "outputs": [
    {
     "data": {
      "image/png": "[encoded data removed]",
      "text/plain": [
       "<Figure size 1080x720 with 1 Axes>"
      ]
     },
     "metadata": {
      "needs_background": "light"
     },
     "output_type": "display_data"
    }
   ],
   "source": [
    "log = cave.falling_stone(stone)"
   ]
  },
  {
   "cell_type": "code",
   "execution_count": 224,
   "id": "76439c81",
   "metadata": {},
   "outputs": [
    {
     "data": {
      "text/plain": [
       "[0,\n",
       " (False, [(5, 4), (4, 4), (3, 4), (2, 4)], [(5, 3), (4, 3), (3, 3), (2, 3)]),\n",
       " 'During run n 1, check was run an gave False',\n",
       " 'During run n 2, check was run an gave False',\n",
       " 'During run n 3, check was run an gave False',\n",
       " 'Execution ended at 4']"
      ]
     },
     "execution_count": 224,
     "metadata": {},
     "output_type": "execute_result"
    }
   ],
   "source": [
    "log"
   ]
  },
  {
   "cell_type": "code",
   "execution_count": 204,
   "id": "e3ac7b71",
   "metadata": {},
   "outputs": [
    {
     "data": {
      "text/plain": [
       "[(5, 3), (4, 3), (3, 3), (2, 3)]"
      ]
     },
     "execution_count": 204,
     "metadata": {},
     "output_type": "execute_result"
    }
   ],
   "source": [
    "log[1][2]"
   ]
  },
  {
   "cell_type": "code",
   "execution_count": 209,
   "id": "36ac358a",
   "metadata": {},
   "outputs": [
    {
     "name": "stdout",
     "output_type": "stream",
     "text": [
      "[0. 0. 0.] 5 3\n",
      "[0. 0. 0.] 4 3\n",
      "[0. 0. 0.] 3 3\n",
      "[0. 0. 0.] 2 3\n"
     ]
    }
   ],
   "source": [
    "for (x,y) in log[1][2]:\n",
    "    # I check if any of the next positions aren't 0, for any non-zero value False will be returned in the array,\n",
    "    # resulting in the function returning False as well\n",
    "    print(cave.current_image[y,x],x,y)"
   ]
  },
  {
   "cell_type": "code",
   "execution_count": 217,
   "id": "52536443",
   "metadata": {},
   "outputs": [],
   "source": [
    "cave.remove_stone(stone.get_coord(),stone.next_coord())"
   ]
  },
  {
   "cell_type": "code",
   "execution_count": 167,
   "id": "cd5a2ec7",
   "metadata": {},
   "outputs": [
    {
     "name": "stdout",
     "output_type": "stream",
     "text": [
      "((5, 4), False)\n",
      "((4, 4), False)\n",
      "((3, 4), False)\n",
      "((2, 4), False)\n"
     ]
    }
   ],
   "source": [
    "for (x,y) in stone.get_coord():\n",
    "    check = (x,y) in stone.next_coord()\n",
    "    print(((x,y),check))"
   ]
  },
  {
   "cell_type": "code",
   "execution_count": 164,
   "id": "90e7cacf",
   "metadata": {},
   "outputs": [
    {
     "data": {
      "text/plain": [
       "[(5, 5), (4, 5), (3, 5), (2, 5)]"
      ]
     },
     "execution_count": 164,
     "metadata": {},
     "output_type": "execute_result"
    }
   ],
   "source": [
    "stone.next_coord()"
   ]
  },
  {
   "cell_type": "code",
   "execution_count": 218,
   "id": "9f8c9634",
   "metadata": {},
   "outputs": [
    {
     "data": {
      "image/png": "[encoded data removed]",
      "text/plain": [
       "<Figure size 1080x720 with 1 Axes>"
      ]
     },
     "metadata": {
      "needs_background": "light"
     },
     "output_type": "display_data"
    }
   ],
   "source": [
    "cave.draw_cave()"
   ]
  },
  {
   "cell_type": "code",
   "execution_count": 138,
   "id": "d3513b1e",
   "metadata": {},
   "outputs": [
    {
     "data": {
      "text/plain": [
       "[(5, 2), (4, 2), (3, 2), (2, 2)]"
      ]
     },
     "execution_count": 138,
     "metadata": {},
     "output_type": "execute_result"
    }
   ],
   "source": [
    "stone.get_coord()"
   ]
  },
  {
   "cell_type": "code",
   "execution_count": 137,
   "id": "7a4fdaaf",
   "metadata": {},
   "outputs": [],
   "source": [
    "stone.set_coord()"
   ]
  },
  {
   "cell_type": "code",
   "execution_count": null,
   "id": "d8b0a00e",
   "metadata": {},
   "outputs": [],
   "source": []
  },
  {
   "cell_type": "code",
   "execution_count": 13,
   "id": "6bb96a97",
   "metadata": {},
   "outputs": [],
   "source": [
    "# Creating the 'base' cave\n",
    "height = 20\n",
    "width = 9\n",
    "dimensions = 3\n",
    "cave = np.zeros((height,width,dimensions))\n",
    "\n",
    "# Add white roor\n",
    "for column in range(width):\n",
    "    cave[0,column] = [1,1,1]\n",
    "\n",
    "# Add white sides\n",
    "for row in range(height):\n",
    "    cave[row,0] = [1,1,1]\n",
    "    cave[row,-1] = [1,1,1]"
   ]
  },
  {
   "cell_type": "code",
   "execution_count": 16,
   "id": "cd9ed9f2",
   "metadata": {},
   "outputs": [],
   "source": [
    " new_cave = new_row(cave,10,9)"
   ]
  },
  {
   "cell_type": "code",
   "execution_count": 6,
   "id": "f1bf00d4",
   "metadata": {},
   "outputs": [],
   "source": []
  },
  {
   "cell_type": "code",
   "execution_count": 15,
   "id": "82ef3f51",
   "metadata": {},
   "outputs": [],
   "source": [
    "def new_row(old_cave,extra_height,width,dimensions = 3):\n",
    "    extra_cave = np.zeros((extra_height,width,dimensions))\n",
    "    for row in range(extra_height):\n",
    "        extra_cave[row,0] = [1,1,1]\n",
    "        extra_cave[row,-1] = [1,1,1]\n",
    "    new_cave = np.append(old_cave,extra_cave,axis=0)\n",
    "    return new_cave"
   ]
  },
  {
   "cell_type": "code",
   "execution_count": 29,
   "id": "c48f30d9",
   "metadata": {},
   "outputs": [],
   "source": [
    "\n",
    "            \n",
    "            \n",
    "\n",
    "# def add_stone(shape=\"-\"):\n",
    "    "
   ]
  },
  {
   "cell_type": "code",
   "execution_count": null,
   "id": "9996cd5a",
   "metadata": {},
   "outputs": [],
   "source": []
  },
  {
   "cell_type": "code",
   "execution_count": 14,
   "id": "9df88a47",
   "metadata": {},
   "outputs": [
    {
     "data": {
      "image/png": "[encoded data removed]",
      "text/plain": [
       "<Figure size 1080x720 with 1 Axes>"
      ]
     },
     "metadata": {
      "needs_background": "light"
     },
     "output_type": "display_data"
    }
   ],
   "source": []
  },
  {
   "cell_type": "code",
   "execution_count": 17,
   "id": "1c5542a2",
   "metadata": {},
   "outputs": [
    {
     "data": {
      "image/png": "[encoded data removed]",
      "text/plain": [
       "<Figure size 1080x720 with 1 Axes>"
      ]
     },
     "metadata": {
      "needs_background": "light"
     },
     "output_type": "display_data"
    }
   ],
   "source": [
    "fig, ax = plt.subplots(figsize=(15,10))\n",
    "plt.imshow(new_cave)\n",
    "plt.show()"
   ]
  },
  {
   "cell_type": "code",
   "execution_count": null,
   "id": "1ddde345",
   "metadata": {},
   "outputs": [],
   "source": []
  },
  {
   "cell_type": "code",
   "execution_count": null,
   "id": "90e8943e",
   "metadata": {},
   "outputs": [],
   "source": []
  },
  {
   "cell_type": "code",
   "execution_count": 8,
   "id": "417d3063",
   "metadata": {},
   "outputs": [],
   "source": [
    "extra_cave = np.zeros((4,width,dimensions))\n",
    "# for row in range(4):\n",
    "#     extra_cave[row,0] = [1,1,1]\n",
    "#     extra_cave[row,-1] = [1,1,1]\n"
   ]
  },
  {
   "cell_type": "code",
   "execution_count": 10,
   "id": "3ed7bc6d",
   "metadata": {},
   "outputs": [],
   "source": [
    "new_cave = np.append(cave,extra_cave,axis = 0)"
   ]
  },
  {
   "cell_type": "code",
   "execution_count": 78,
   "id": "e14eaf0f",
   "metadata": {},
   "outputs": [],
   "source": [
    "for row in extra_cave:\n",
    "    cave = np.append(cave,row)"
   ]
  },
  {
   "cell_type": "code",
   "execution_count": 79,
   "id": "0dc06f93",
   "metadata": {},
   "outputs": [
    {
     "data": {
      "text/plain": [
       "array([1., 1., 1., 1., 1., 1., 1., 1., 1., 1., 1., 1., 1., 1., 1., 1., 1.,\n",
       "       1., 1., 1., 1., 1., 1., 1., 1., 1., 1., 1., 1., 1., 0., 0., 0., 0.,\n",
       "       0., 0., 0., 0., 0., 0., 0., 0., 0., 0., 0., 0., 0., 0., 0., 0., 0.,\n",
       "       1., 1., 1., 1., 1., 1., 0., 0., 0., 0., 0., 0., 0., 0., 0., 0., 0.,\n",
       "       0., 0., 0., 0., 0., 0., 0., 0., 0., 0., 1., 1., 1., 1., 1., 1., 0.,\n",
       "       0., 0., 0., 0., 0., 0., 0., 0., 0., 0., 0., 0., 0., 0., 0., 0., 0.,\n",
       "       0., 0., 0., 1., 1., 1., 1., 1., 1., 0., 0., 0., 0., 0., 0., 0., 0.,\n",
       "       0., 0., 0., 0., 0., 0., 0., 0., 0., 0., 0., 0., 0., 1., 1., 1., 1.,\n",
       "       1., 1., 0., 0., 0., 0., 0., 0., 0., 0., 0., 0., 0., 0., 0., 0., 0.,\n",
       "       0., 0., 0., 0., 0., 0., 1., 1., 1., 1., 1., 1., 0., 0., 0., 0., 0.,\n",
       "       0., 0., 0., 0., 0., 0., 0., 0., 0., 0., 0., 0., 0., 0., 0., 0., 1.,\n",
       "       1., 1., 1., 1., 1., 0., 0., 0., 0., 0., 0., 0., 0., 0., 0., 0., 0.,\n",
       "       0., 0., 0., 0., 0., 0., 0., 0., 0., 1., 1., 1., 1., 1., 1., 0., 0.,\n",
       "       0., 0., 0., 0., 0., 0., 0., 0., 0., 0., 0., 0., 0., 0., 0., 0., 0.,\n",
       "       0., 0., 1., 1., 1., 1., 1., 1., 0., 0., 0., 0., 0., 0., 0., 0., 0.,\n",
       "       0., 0., 0., 0., 0., 0., 0., 0., 0., 0., 0., 0., 1., 1., 1., 1., 1.,\n",
       "       1., 0., 0., 0., 0., 0., 0., 0., 0., 0., 0., 0., 0., 0., 0., 0., 0.,\n",
       "       0., 0., 0., 0., 0., 1., 1., 1., 1., 1., 1., 0., 0., 0., 0., 0., 0.,\n",
       "       0., 0., 0., 0., 0., 0., 0., 0., 0., 0., 0., 0., 0., 0., 0., 1., 1.,\n",
       "       1., 1., 1., 1., 0., 0., 0., 0., 0., 0., 0., 0., 0., 0., 0., 0., 0.,\n",
       "       0., 0., 0., 0., 0., 0., 0., 0., 1., 1., 1., 1., 1., 1., 0., 0., 0.,\n",
       "       0., 0., 0., 0., 0., 0., 0., 0., 0., 0., 0., 0., 0., 0., 0., 0., 0.,\n",
       "       0., 1., 1., 1., 1., 1., 1., 0., 0., 0., 0., 0., 0., 0., 0., 0., 0.,\n",
       "       0., 0., 0., 0., 0., 0., 0., 0., 0., 0., 0., 1., 1., 1., 1., 1., 1.,\n",
       "       0., 0., 0., 0., 0., 0., 0., 0., 0., 0., 0., 0., 0., 0., 0., 0., 0.,\n",
       "       0., 0., 0., 0., 1., 1., 1., 1., 1., 1., 0., 0., 0., 0., 0., 0., 0.,\n",
       "       0., 0., 0., 0., 0., 0., 0., 0., 0., 0., 0., 0., 0., 0., 1., 1., 1.,\n",
       "       1., 1., 1., 0., 0., 0., 0., 0., 0., 0., 0., 0., 0., 0., 0., 0., 0.,\n",
       "       0., 0., 0., 0., 0., 0., 0., 1., 1., 1., 1., 1., 1., 0., 0., 0., 0.,\n",
       "       0., 0., 0., 0., 0., 0., 0., 0., 0., 0., 0., 0., 0., 0., 0., 0., 0.,\n",
       "       1., 1., 1., 1., 1., 1., 0., 0., 0., 0., 0., 0., 0., 0., 0., 0., 0.,\n",
       "       0., 0., 0., 0., 0., 0., 0., 0., 0., 0., 1., 1., 1., 1., 1., 1., 0.,\n",
       "       0., 0., 0., 0., 0., 0., 0., 0., 0., 0., 0., 0., 0., 0., 0., 0., 0.,\n",
       "       0., 0., 0., 1., 1., 1., 1., 1., 1., 0., 0., 0., 0., 0., 0., 0., 0.,\n",
       "       0., 0., 0., 0., 0., 0., 0., 0., 0., 0., 0., 0., 0., 1., 1., 1., 1.,\n",
       "       1., 1., 0., 0., 0., 0., 0., 0., 0., 0., 0., 0., 0., 0., 0., 0., 0.,\n",
       "       0., 0., 0., 0., 0., 0., 1., 1., 1., 1., 1., 1., 0., 0., 0., 0., 0.,\n",
       "       0., 0., 0., 0., 0., 0., 0., 0., 0., 0., 0., 0., 0., 0., 0., 0., 1.,\n",
       "       1., 1.])"
      ]
     },
     "execution_count": 79,
     "metadata": {},
     "output_type": "execute_result"
    }
   ],
   "source": [
    "cave"
   ]
  },
  {
   "cell_type": "code",
   "execution_count": 11,
   "id": "b556144b",
   "metadata": {},
   "outputs": [
    {
     "data": {
      "image/png": "[encoded data removed]",
      "text/plain": [
       "<Figure size 1080x720 with 1 Axes>"
      ]
     },
     "metadata": {
      "needs_background": "light"
     },
     "output_type": "display_data"
    }
   ],
   "source": [
    "fig, ax = plt.subplots(figsize=(15,10))\n",
    "plt.imshow(new_cave)\n",
    "plt.show()"
   ]
  },
  {
   "cell_type": "code",
   "execution_count": null,
   "id": "191105be",
   "metadata": {},
   "outputs": [],
   "source": []
  }
 ],
 "metadata": {
  "kernelspec": {
   "display_name": "Python 3 (ipykernel)",
   "language": "python",
   "name": "python3"
  },
  "language_info": {
   "codemirror_mode": {
    "name": "ipython",
    "version": 3
   },
   "file_extension": ".py",
   "mimetype": "text/x-python",
   "name": "python",
   "nbconvert_exporter": "python",
   "pygments_lexer": "ipython3",
   "version": "3.9.7"
  }
 },
 "nbformat": 4,
 "nbformat_minor": 5
}

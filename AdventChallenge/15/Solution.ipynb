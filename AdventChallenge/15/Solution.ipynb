{
 "cells": [
  {
   "cell_type": "code",
   "execution_count": 1,
   "id": "6d9e5dc5",
   "metadata": {},
   "outputs": [],
   "source": [
    "%matplotlib inline\n",
    "import matplotlib.pyplot as plt\n",
    "from IPython.display import display, clear_output\n",
    "import pandas as pd\n",
    "import numpy as np\n",
    "import ast\n",
    "import time\n",
    "import regex as re\n",
    "from itertools import chain"
   ]
  },
  {
   "cell_type": "markdown",
   "id": "a8bb7bbe",
   "metadata": {},
   "source": [
    "# Final edit"
   ]
  },
  {
   "cell_type": "code",
   "execution_count": 113,
   "id": "4fbe56b1",
   "metadata": {},
   "outputs": [
    {
     "name": "stdout",
     "output_type": "stream",
     "text": [
      "7730280\n"
     ]
    }
   ],
   "source": [
    "# First I create a beacon class (not a good name)\n",
    "class Beacon():\n",
    "    def __init__(self, s_coord,b_coord):\n",
    "        self.x_b = b_coord[0]\n",
    "        self.y_b = b_coord[1]\n",
    "        self.x_s = s_coord[0]\n",
    "        self.y_s = s_coord[1]\n",
    "        self.m_dist = abs(self.x_s-self.x_b)+abs(self.y_s-self.y_b)\n",
    "        self.x_range = range(self.x_s-self.m_dist,self.x_s+self.m_dist)\n",
    "        self.y_range = range(self.y_s-self.m_dist,self.y_s+self.m_dist)\n",
    "    \n",
    "    def get_values(self, meta_data=False):\n",
    "        \"\"\"\n",
    "        Function for printing the values of a set of sender-beacon\n",
    "        \"\"\"\n",
    "        if meta_data == True:\n",
    "            return {\"Sender\":(self.x_s,self.y_s),\n",
    "                   \"Beacon\": (self.x_b,self.y_b),\n",
    "                   \"m_dist\": self.m_dist}\n",
    "        else:\n",
    "            return [(self.x_s,self.y_s),(self.x_b,self.y_b)]\n",
    "\n",
    "    def in_range(self,x,y):\n",
    "        dist = abs(self.x_s-x)+abs(self.y_s-y)\n",
    "        if dist <= self.m_dist:\n",
    "            return True\n",
    "        else:\n",
    "            return False\n",
    "    \n",
    "    def in_layer(self,layer):\n",
    "        \"\"\"\n",
    "        This function test the sets of the senders and test whether adding or subtracting the m_dist\n",
    "        will change the < or > sign to the opposite, this will mean that it will scan values on the layer\n",
    "        line. It returns true or false.\n",
    "        \"\"\"\n",
    "        if self.y_s < layer:\n",
    "            if self.y_s+self.m_dist > layer:\n",
    "                return True\n",
    "        \n",
    "        elif self.y_s > layer:\n",
    "            if self.y_s-self.m_dist < layer:\n",
    "                return True\n",
    "                \n",
    "        elif self.y_s == layer:\n",
    "            return True\n",
    "\n",
    "        else: \n",
    "            return False\n",
    "\n",
    "# data = \"\"\"Sensor at x=2, y=18: closest beacon is at x=-2, y=15\n",
    "# Sensor at x=9, y=16: closest beacon is at x=10, y=16\n",
    "# Sensor at x=13, y=2: closest beacon is at x=15, y=3\n",
    "# Sensor at x=12, y=14: closest beacon is at x=10, y=16\n",
    "# Sensor at x=10, y=20: closest beacon is at x=10, y=16\n",
    "# Sensor at x=14, y=17: closest beacon is at x=10, y=16\n",
    "# Sensor at x=8, y=7: closest beacon is at x=2, y=10\n",
    "# Sensor at x=2, y=0: closest beacon is at x=2, y=10\n",
    "# Sensor at x=0, y=11: closest beacon is at x=2, y=10\n",
    "# Sensor at x=20, y=14: closest beacon is at x=25, y=17\n",
    "# Sensor at x=17, y=20: closest beacon is at x=21, y=22\n",
    "# Sensor at x=16, y=7: closest beacon is at x=15, y=3\n",
    "# Sensor at x=14, y=3: closest beacon is at x=15, y=3\n",
    "# Sensor at x=20, y=1: closest beacon is at x=15, y=3\"\"\"\n",
    "# data = data.split(\"\\n\")        \n",
    "        \n",
    "\n",
    "with open(\"input.txt\") as f:\n",
    "    data = f.read()\n",
    "\n",
    "data = data.split(\"\\n\")[:-1]       \n",
    "\n",
    "# All the data is imported. Each sender and beacons (x,y) coordinates are saved in a list\n",
    "coord_list = []\n",
    "for signal in data:\n",
    "    x_s,y_s,x_b,y_b = re.findall(\"-?\\d+\",signal)\n",
    "    coord = [(int(x_s),int(y_s)),(int(x_b),int(y_b))]\n",
    "    coord_list.append(coord)\n",
    "\n",
    "beacon_list = []\n",
    "for signal in coord_list:\n",
    "    beacon = Beacon(signal[0],signal[1])\n",
    "    beacon_list.append(beacon)\n",
    "\n",
    "# I test whether the senders in the sender-beacon sets, will scan fields in the layer\n",
    "# layer = 2000000\n",
    "layer = 10\n",
    "beacon_layer = [beacon for beacon in beacon_list if beacon.in_layer(layer)]\n",
    "\n",
    "# I don't count the fields, where there is a sender or beacon, so these are saved separatly\n",
    "not_scanned = []\n",
    "for item in beacon_layer:\n",
    "    if item.y_b==layer:\n",
    "        not_scanned.append((item.x_b,item.y_b))\n",
    "        \n",
    "for item in beacon_layer:\n",
    "    if item.y_s==layer:\n",
    "        not_scanned.append((item.x_s,item.y_s))\n",
    "not_scanned = set(not_scanned)\n",
    "\n",
    "scanned_pixels = []\n",
    "for item in beacon_layer:\n",
    "    # First the y-position of the sender is saved as y_pos. The difference between this and the layer is subtracted\n",
    "    # the difference between the m-distance and this difference is the range that the sender can scan on the x-axis\n",
    "    # in the chosen layer.\n",
    "    y_pos = item.y_s\n",
    "    m_dist = item.m_dist\n",
    "    if y_pos > layer:\n",
    "        x_range = m_dist - (y_pos - layer) # sender position - layer\n",
    "        \n",
    "    if y_pos < layer:\n",
    "        x_range = m_dist - (layer - y_pos) # layer - sender position\n",
    "    \n",
    "    if x_range == 0:\n",
    "        scanned_pixels.append([item.x_s]) # if the x range is 0, there is only one value reach by the sender\n",
    "    \n",
    "    else:\n",
    "        x_range = range(item.x_s-x_range,item.x_s+x_range+1)\n",
    "        scanned_pixels.append(x_range)\n",
    "\n",
    "# I create a list of expanded ranges, and then remove duplicated values\n",
    "x_values = []\n",
    "for range_x in scanned_pixels:\n",
    "    temp_list = [*range_x]\n",
    "    x_values.extend(temp_list)\n",
    "\n",
    "# Finally the values are counted minus the fields that are also occupied by sender or beacons\n",
    "print(len(set(x_values))-len(not_scanned))"
   ]
  },
  {
   "cell_type": "markdown",
   "id": "edd2fee4",
   "metadata": {},
   "source": [
    "## Part 2"
   ]
  },
  {
   "cell_type": "code",
   "execution_count": 105,
   "id": "69661cca",
   "metadata": {},
   "outputs": [],
   "source": [
    "def line_ABC(x1,y1,x2,y2):\n",
    "    A = y2 - y1\n",
    "    B = x1 - x2\n",
    "    C = A*x1+B*y1\n",
    "    return {\"A\":A,\"B\":B,\"C\":C}\n",
    "\n",
    "def get_points(x_s,y_s,m_dist):\n",
    "    top = np.array([x_s,y_s+m_dist])\n",
    "    bottom = np.array([x_s,y_s-m_dist])\n",
    "    right = np.array([x_s+m_dist,y_s])\n",
    "    left = np.array([x_s-m_dist,y_s])\n",
    "    return {\"top\":top,\"bottom\":bottom,\"right\":right,\"left\":left}\n",
    "\n",
    "def get_intersection(A1,B1,C1,A2,B2,C2):\n",
    "    det = A1*B2-A2*B1\n",
    "    if det==0:\n",
    "        return \"parallel\"\n",
    "    else:\n",
    "        x = (B2 * C1 - B1 * C2)/det\n",
    "        y = (A1 * C2 - A2 * C1)/det\n",
    "        return (x,y)\n",
    "\n",
    "def coord_around_square(s,x_mid,y_mid):\n",
    "    \"\"\"\n",
    "    This function takes a sender as input, defines the x, y and m_dist of it and calculates all points,\n",
    "    that exist on the outside edge of one side. The side is determined by the senders position in the space of senders.\n",
    "    \"\"\"\n",
    "    x_s = s.x_s\n",
    "    y_s = s.y_s\n",
    "    m_dist = s.m_dist+1\n",
    "    \n",
    "    range_order = [*range(m_dist+1)]\n",
    "    range_reverse = list(reversed(range_order))\n",
    "    \n",
    "    \n",
    "    if x_s < x_mid:\n",
    "        if y_s < y_mid:\n",
    "            for x,y in zip(range_order,range_reverse):\n",
    "                x_bound = x_s+x\n",
    "                y_bound = y_s+y\n",
    "                yield x_bound,y_bound\n",
    "        \n",
    "        if y_s > y_mid:\n",
    "            for x, y in zip(range_order,range_reverse):\n",
    "                x_bound = x_s+x\n",
    "                y_bound = y_s-y\n",
    "                yield x_bound, y_bound\n",
    "    \n",
    "    if x_s > x_mid:\n",
    "        if y_s < y_mid:\n",
    "            for x, y in zip(range_order,range_reverse):\n",
    "                x_bound = x_s-x\n",
    "                y_bound = y_s+y\n",
    "                yield x_bound, y_bound\n",
    "            \n",
    "        if y_s > y_mid:\n",
    "            for x, y in zip(range_order,range_reverse):\n",
    "                x_bound = x_s-x\n",
    "                y_bound = y_s-y\n",
    "                yield x_bound,y_bound"
   ]
  },
  {
   "cell_type": "markdown",
   "id": "61dfd79a",
   "metadata": {},
   "source": [
    "New strategy, get every point on the edge of the square, and test whether it can be reached by any of the other sensors. Limit the search, so that each quadrant defines which side to test. This is not definitive, but is the best guess and the search can be expanded afterwards."
   ]
  },
  {
   "cell_type": "code",
   "execution_count": 106,
   "id": "5495dfcf",
   "metadata": {},
   "outputs": [],
   "source": [
    "senders = [(beacon.x_s, beacon.y_s,beacon.m_dist) for beacon in beacon_list]\n",
    "\n",
    "senders = sorted(senders,key=lambda x: x[1])\n",
    "y_mid = (senders[-1][1] - senders[0][1])//2\n",
    "\n",
    "senders = sorted(senders,key=lambda x: x[0])\n",
    "x_mid = (senders[-1][0] - senders[0][0])//2"
   ]
  },
  {
   "cell_type": "code",
   "execution_count": 107,
   "id": "076ea717",
   "metadata": {},
   "outputs": [
    {
     "data": {
      "text/plain": [
       "[(0, 7), (1, 8), (2, 9), (3, 10), (4, 11)]"
      ]
     },
     "execution_count": 107,
     "metadata": {},
     "output_type": "execute_result"
    }
   ],
   "source": [
    "s = b_sorted[0]\n",
    "[*coord_around_square(s,x_mid,y_mid)]"
   ]
  },
  {
   "cell_type": "code",
   "execution_count": 108,
   "id": "8b72ac02",
   "metadata": {},
   "outputs": [
    {
     "data": {
      "text/plain": [
       "False"
      ]
     },
     "execution_count": 108,
     "metadata": {},
     "output_type": "execute_result"
    }
   ],
   "source": [
    "s.in_range(1,1)"
   ]
  },
  {
   "cell_type": "code",
   "execution_count": 114,
   "id": "975f2100",
   "metadata": {},
   "outputs": [],
   "source": [
    "b_sorted = sorted(beacon_list, key = lambda x: x.x_s)"
   ]
  },
  {
   "cell_type": "code",
   "execution_count": 120,
   "id": "0f3fa681",
   "metadata": {},
   "outputs": [
    {
     "name": "stdout",
     "output_type": "stream",
     "text": [
      "10382630753392\n"
     ]
    }
   ],
   "source": [
    "senders = [(beacon.x_s, beacon.y_s,beacon.m_dist) for beacon in beacon_list]\n",
    "\n",
    "senders = sorted(senders,key=lambda x: x[1])\n",
    "y_mid = (senders[-1][1] - senders[0][1])//2\n",
    "\n",
    "senders = sorted(senders,key=lambda x: x[0])\n",
    "x_mid = (senders[-1][0] - senders[0][0])//2\n",
    "\n",
    "b_sorted = sorted(beacon_list, key = lambda x: x.x_s)\n",
    "# For every sender, get origo and mdist\n",
    "for i, sender_a in enumerate(b_sorted):\n",
    "    # For every point in one side, test whether all the coordinates + 1 is in the range of any other senders range\n",
    "    for x,y in coord_around_square(sender_a,x_mid,y_mid):\n",
    "        \n",
    "        if (x>0)&(x<4000000)&(y>0)&(y<4000000):\n",
    "            coord_inrange = False\n",
    "            for j, sender_b in enumerate(b_sorted):\n",
    "                if j != i:\n",
    "                    # If it is check the next point\n",
    "                    if sender_b.in_range(x,y):\n",
    "                        coord_inrange = True\n",
    "                        break\n",
    "        if coord_inrange == False:\n",
    "            x_distress, y_distress = x, y\n",
    "            break\n",
    "    if coord_inrange == False:\n",
    "        break\n",
    "print(x_distress*4000000+y_distress)"
   ]
  },
  {
   "cell_type": "markdown",
   "id": "28588974",
   "metadata": {},
   "source": [
    "To isolate the distress beacon's signal, you need to determine its tuning frequency, which can be found by multiplying its x coordinate by 4000000 and then adding its y coordinate.\n",
    "\n",
    "In the example above, the search space is smaller: instead, the x and y coordinates can each be at most 20. With this reduced search area, there is only a single position that could have a beacon: x=14, y=11. The tuning frequency for this distress beacon is 56000011."
   ]
  },
  {
   "cell_type": "code",
   "execution_count": 118,
   "id": "778b9544",
   "metadata": {},
   "outputs": [
    {
     "data": {
      "text/plain": [
       "10382630753392"
      ]
     },
     "execution_count": 118,
     "metadata": {},
     "output_type": "execute_result"
    }
   ],
   "source": [
    "x = 2595657\n",
    "y = 2753392\n",
    "x*4000000+y"
   ]
  },
  {
   "cell_type": "code",
   "execution_count": null,
   "id": "aebcba85",
   "metadata": {},
   "outputs": [],
   "source": [
    "56000011"
   ]
  },
  {
   "cell_type": "code",
   "execution_count": 89,
   "id": "4b742eaf",
   "metadata": {},
   "outputs": [
    {
     "name": "stdout",
     "output_type": "stream",
     "text": [
      "12 14 4 range(8, 16) range(10, 18)\n"
     ]
    }
   ],
   "source": [
    "s = b_sorted[6]\n",
    "print(s.x_s,s.y_s,s.m_dist,s.x_range,s.y_range)"
   ]
  },
  {
   "cell_type": "code",
   "execution_count": 249,
   "id": "15f8c021",
   "metadata": {},
   "outputs": [],
   "source": [
    "squares = []\n",
    "for beacon in beacon_list:\n",
    "    square = {}\n",
    "    points = get_points(beacon.x_s,beacon.y_s,beacon.m_dist)\n",
    "    for pos in [\"top\",\"bottom\"]:\n",
    "        x1 = points[pos][0]\n",
    "        y1 = points[pos][1]\n",
    "        x2 = points[\"right\"][0]\n",
    "        y2 = points[\"right\"][1]\n",
    "        line1 = line_ABC(x1,y1,x2,y2)\n",
    "        square[pos+\"right\"] = line1\n",
    "        \n",
    "        \n",
    "        x1 = points[pos][0]\n",
    "        y1 = points[pos][1]\n",
    "        x2 = points[\"left\"][0]\n",
    "        y2 = points[\"left\"][1]\n",
    "        line2 = line_ABC(x1,y1,x2,y2)\n",
    "        square[pos+\"left\"] = line2\n",
    "    squares.append(square)\n",
    "        \n",
    "        "
   ]
  },
  {
   "cell_type": "code",
   "execution_count": null,
   "id": "560dce18",
   "metadata": {},
   "outputs": [],
   "source": []
  },
  {
   "cell_type": "code",
   "execution_count": 253,
   "id": "eb2dc288",
   "metadata": {},
   "outputs": [],
   "source": [
    "squares_sort = {\"topright\":[],\"topleft\":[],\"bottomright\":[],\"bottomleft\":[]}\n",
    "for line in squares_sort:\n",
    "    for square in squares:\n",
    "        squares_sort[line].append(square[line])"
   ]
  },
  {
   "cell_type": "code",
   "execution_count": 262,
   "id": "5c449c21",
   "metadata": {},
   "outputs": [],
   "source": [
    "intersections = []\n",
    "for ABC in squares_sort[\"topleft\"]:\n",
    "    A1,B1,C1 = ABC[\"A\"],ABC[\"B\"],ABC[\"C\"]\n",
    "    for ABC2 in squares_sort[\"bottomleft\"]:\n",
    "        A2,B2,C2 = ABC2[\"A\"],ABC2[\"B\"],ABC2[\"C\"]\n",
    "        intersection = get_intersection(A1,B1,C1,A2,B2,C2)\n",
    "        intersections.append(intersection)\n",
    "    for ABC2 in squares_sort[\"topright\"]:\n",
    "        A2,B2,C2 = ABC2[\"A\"],ABC2[\"B\"],ABC2[\"C\"]\n",
    "        intersection = get_intersection(A1,B1,C1,A2,B2,C2)\n",
    "        intersections.append(intersection)\n",
    "\n",
    "for ABC in squares_sort[\"bottomright\"]:\n",
    "    A1,B1,C1 = ABC[\"A\"],ABC[\"B\"],ABC[\"C\"]\n",
    "    for ABC2 in squares_sort[\"bottomleft\"]:\n",
    "        A2,B2,C2 = ABC2[\"A\"],ABC2[\"B\"],ABC2[\"C\"]\n",
    "        intersection = get_intersection(A1,B1,C1,A2,B2,C2)\n",
    "        intersections.append(intersection)\n",
    "    for ABC2 in squares_sort[\"topright\"]:\n",
    "        A2,B2,C2 = ABC2[\"A\"],ABC2[\"B\"],ABC2[\"C\"]\n",
    "        intersection = get_intersection(A1,B1,C1,A2,B2,C2)\n",
    "        intersections.append(intersection)"
   ]
  },
  {
   "cell_type": "code",
   "execution_count": 300,
   "id": "0958c1f7",
   "metadata": {},
   "outputs": [],
   "source": [
    "df = pd.DataFrame(intersections)\n",
    "df = df[((df[0]>0)&(df[0]<20))&((df[1]>0)&(df[1]<20))].sort_values([0,1]).drop_duplicates().reset_index(drop=True)\n"
   ]
  },
  {
   "cell_type": "code",
   "execution_count": 301,
   "id": "46ff5012",
   "metadata": {},
   "outputs": [],
   "source": [
    "RunningSum = [0]\n",
    "for i in range(1,len(df)):\n",
    "    current_value = df[1][i]\n",
    "    previous_value = df[1][i-1]\n",
    "    rs = current_value-previous_value\n",
    "    RunningSum.append(rs)"
   ]
  },
  {
   "cell_type": "code",
   "execution_count": 302,
   "id": "5b821020",
   "metadata": {},
   "outputs": [],
   "source": [
    "df[\"rs\"] = RunningSum"
   ]
  },
  {
   "cell_type": "code",
   "execution_count": 319,
   "id": "a76cc826",
   "metadata": {},
   "outputs": [
    {
     "name": "stdout",
     "output_type": "stream",
     "text": [
      "      0     1   rs\n",
      "11  3.0  11.0  2.0\n",
      "10  3.0   9.0  4.0\n",
      "      0     1   rs\n",
      "16  4.0  12.0  2.0\n",
      "15  4.0  10.0  8.0\n",
      "      0    1    rs\n",
      "21  5.0  3.0   2.0\n",
      "20  5.0  1.0 -12.5\n",
      "      0     1   rs\n",
      "24  5.0  13.0  2.0\n",
      "23  5.0  11.0  4.0\n",
      "      0     1   rs\n",
      "43  8.0  16.0  2.0\n",
      "42  8.0  14.0  4.0\n",
      "      0    1    rs\n",
      "48  9.0  7.0   2.0\n",
      "47  9.0  5.0 -12.5\n",
      "      0     1   rs\n",
      "50  9.0  17.0  2.0\n",
      "49  9.0  15.0  8.0\n",
      "       0    1   rs\n",
      "57  10.0  8.0  2.0\n",
      "56  10.0  6.0  4.0\n",
      "       0     1   rs\n",
      "60  10.0  18.0  2.0\n",
      "59  10.0  16.0  4.0\n",
      "       0    1    rs\n",
      "66  11.0  3.0   2.0\n",
      "65  11.0  1.0 -18.5\n",
      "       0     1   rs\n",
      "70  11.0  19.0  2.0\n",
      "69  11.0  17.0  4.0\n",
      "       0    1    rs\n",
      "74  12.0  4.0   2.0\n",
      "73  12.0  2.0 -17.5\n",
      "       0    1    rs\n",
      "83  13.0  3.0   2.0\n",
      "82  13.0  1.0 -17.5\n",
      "       0    1   rs\n",
      "84  13.0  5.0  2.0\n",
      "83  13.0  3.0  2.0\n",
      "       0     1   rs\n",
      "86  13.0  11.0  2.0\n",
      "85  13.0   9.0  4.0\n",
      "       0    1   rs\n",
      "90  14.0  4.0  2.0\n",
      "89  14.0  2.0 -8.5\n",
      "       0     1   rs\n",
      "92  14.0  12.0  2.0\n",
      "91  14.0  10.0  6.0\n",
      "       0    1    rs\n",
      "98  15.0  3.0   2.0\n",
      "97  15.0  1.0 -15.5\n",
      "        0    1   rs\n",
      "107  16.0  8.0  2.0\n",
      "106  16.0  6.0  4.0\n",
      "        0     1   rs\n",
      "109  16.0  14.0  2.0\n",
      "108  16.0  12.0  4.0\n",
      "        0    1   rs\n",
      "114  17.0  7.0  2.0\n",
      "113  17.0  5.0 -9.5\n",
      "        0    1   rs\n",
      "115  17.0  9.0  2.0\n",
      "114  17.0  7.0  2.0\n",
      "        0    1   rs\n",
      "122  18.0  6.0  2.0\n",
      "121  18.0  4.0 -9.5\n",
      "        0    1   rs\n",
      "123  18.0  8.0  2.0\n",
      "122  18.0  6.0  2.0\n",
      "        0     1   rs\n",
      "124  18.0  10.0  2.0\n",
      "123  18.0   8.0  2.0\n",
      "        0    1    rs\n",
      "129  19.0  7.0   2.0\n",
      "128  19.0  5.0 -10.5\n",
      "        0    1   rs\n",
      "130  19.0  9.0  2.0\n",
      "129  19.0  7.0  2.0\n",
      "        0     1   rs\n",
      "131  19.0  11.0  2.0\n",
      "130  19.0   9.0  2.0\n",
      "        0     1   rs\n",
      "133  19.0  17.0  2.0\n",
      "132  19.0  15.0  4.0\n"
     ]
    }
   ],
   "source": [
    "for pair in [[x,x-1] for x in df[df[\"rs\"]==2].index]:\n",
    "    print(df.loc[pair])"
   ]
  },
  {
   "cell_type": "code",
   "execution_count": null,
   "id": "c05f20f7",
   "metadata": {},
   "outputs": [],
   "source": []
  },
  {
   "cell_type": "code",
   "execution_count": null,
   "id": "7f11dcf2",
   "metadata": {},
   "outputs": [],
   "source": []
  },
  {
   "cell_type": "code",
   "execution_count": null,
   "id": "b6ad6ccc",
   "metadata": {},
   "outputs": [],
   "source": []
  },
  {
   "cell_type": "code",
   "execution_count": null,
   "id": "9eaa0aa2",
   "metadata": {},
   "outputs": [],
   "source": []
  },
  {
   "cell_type": "code",
   "execution_count": 254,
   "id": "9d980bdb",
   "metadata": {},
   "outputs": [
    {
     "data": {
      "text/plain": [
       "{'topright': [{'A': -7, 'B': -7, 'C': -189},\n",
       "  {'A': -1, 'B': -1, 'C': -26},\n",
       "  {'A': -3, 'B': -3, 'C': -54},\n",
       "  {'A': -4, 'B': -4, 'C': -120},\n",
       "  {'A': -4, 'B': -4, 'C': -136},\n",
       "  {'A': -5, 'B': -5, 'C': -180},\n",
       "  {'A': -9, 'B': -9, 'C': -216},\n",
       "  {'A': -10, 'B': -10, 'C': -120},\n",
       "  {'A': -3, 'B': -3, 'C': -42},\n",
       "  {'A': -8, 'B': -8, 'C': -336},\n",
       "  {'A': -6, 'B': -6, 'C': -258},\n",
       "  {'A': -5, 'B': -5, 'C': -140},\n",
       "  {'A': -1, 'B': -1, 'C': -18},\n",
       "  {'A': -7, 'B': -7, 'C': -196}],\n",
       " 'topleft': [{'A': -7, 'B': 7, 'C': 161},\n",
       "  {'A': -1, 'B': 1, 'C': 8},\n",
       "  {'A': -3, 'B': 3, 'C': -24},\n",
       "  {'A': -4, 'B': 4, 'C': 24},\n",
       "  {'A': -4, 'B': 4, 'C': 56},\n",
       "  {'A': -5, 'B': 5, 'C': 40},\n",
       "  {'A': -9, 'B': 9, 'C': 72},\n",
       "  {'A': -10, 'B': 10, 'C': 80},\n",
       "  {'A': -3, 'B': 3, 'C': 42},\n",
       "  {'A': -8, 'B': 8, 'C': 16},\n",
       "  {'A': -6, 'B': 6, 'C': 54},\n",
       "  {'A': -5, 'B': 5, 'C': -20},\n",
       "  {'A': -1, 'B': 1, 'C': -10},\n",
       "  {'A': -7, 'B': 7, 'C': -84}],\n",
       " 'bottomright': [{'A': 7, 'B': -7, 'C': -63},\n",
       "  {'A': 1, 'B': -1, 'C': -6},\n",
       "  {'A': 3, 'B': -3, 'C': 42},\n",
       "  {'A': 4, 'B': -4, 'C': 8},\n",
       "  {'A': 4, 'B': -4, 'C': -24},\n",
       "  {'A': 5, 'B': -5, 'C': 10},\n",
       "  {'A': 9, 'B': -9, 'C': 90},\n",
       "  {'A': 10, 'B': -10, 'C': 120},\n",
       "  {'A': 3, 'B': -3, 'C': -24},\n",
       "  {'A': 8, 'B': -8, 'C': 112},\n",
       "  {'A': 6, 'B': -6, 'C': 18},\n",
       "  {'A': 5, 'B': -5, 'C': 70},\n",
       "  {'A': 1, 'B': -1, 'C': 12},\n",
       "  {'A': 7, 'B': -7, 'C': 182}],\n",
       " 'bottomleft': [{'A': 7, 'B': 7, 'C': 91},\n",
       "  {'A': 1, 'B': 1, 'C': 24},\n",
       "  {'A': 3, 'B': 3, 'C': 36},\n",
       "  {'A': 4, 'B': 4, 'C': 88},\n",
       "  {'A': 4, 'B': 4, 'C': 104},\n",
       "  {'A': 5, 'B': 5, 'C': 130},\n",
       "  {'A': 9, 'B': 9, 'C': 54},\n",
       "  {'A': 10, 'B': 10, 'C': -80},\n",
       "  {'A': 3, 'B': 3, 'C': 24},\n",
       "  {'A': 8, 'B': 8, 'C': 208},\n",
       "  {'A': 6, 'B': 6, 'C': 186},\n",
       "  {'A': 5, 'B': 5, 'C': 90},\n",
       "  {'A': 1, 'B': 1, 'C': 16},\n",
       "  {'A': 7, 'B': 7, 'C': 98}]}"
      ]
     },
     "execution_count": 254,
     "metadata": {},
     "output_type": "execute_result"
    }
   ],
   "source": [
    "squares_sort"
   ]
  },
  {
   "cell_type": "code",
   "execution_count": 132,
   "id": "2cf7e509",
   "metadata": {},
   "outputs": [],
   "source": [
    "def paint_square(x_s,y_s,m_dist):\n",
    "    range_order = [*range(m_dist+1)]\n",
    "    range_reverse = list(reversed(range_order))\n",
    "    bottom_right = [(x_s+x,y_s+y) for x, y in zip(range_order,range_reverse)]\n",
    "    top_left = [(x_s-x,y_s-y) for x, y in zip(range_order,range_reverse) ]\n",
    "    bottom_left = [(x_s-x,y_s+y) for x, y in zip(range_order,range_reverse)]\n",
    "    top_right = [(x_s+x,y_s-y) for x, y in zip(range_order,range_reverse)]\n",
    "    square = list(chain(bottom_left,bottom_right,top_left,top_right))\n",
    "    return square"
   ]
  },
  {
   "cell_type": "code",
   "execution_count": 171,
   "id": "3ed946ae",
   "metadata": {},
   "outputs": [],
   "source": [
    "def get_vectors(x_s,y_s,m_dist):\n",
    "    x_s = int(x_s)\n",
    "    y_s = int(y_s)\n",
    "    m_dist = int(m_dist)\n",
    "    top = np.array([x_s,y_s+m_dist])\n",
    "    bottom = np.array([x_s,y_s-m_dist])\n",
    "    right = np.array([x_s+m_dist,y_s])\n",
    "    left = np.array([x_s-m_dist,y_s])\n",
    "    right_top = np.array(top-right)\n",
    "    left_top = np.array(top-left)\n",
    "    right_bottom = np.array(bottom-right)\n",
    "    left_bottom = np.array(bottom-left)\n",
    "    return {1:right,2: top,3:bottom,4:left}"
   ]
  },
  {
   "cell_type": "code",
   "execution_count": 196,
   "id": "02dd240d",
   "metadata": {},
   "outputs": [],
   "source": [
    "def get_line_attributes(p1,p2):\n",
    "    a=(p2[1]-p1[1])/(p2[0]-p1[0])\n",
    "    b = p1[1]-p1[0]*a\n",
    "    return a, b"
   ]
  },
  {
   "cell_type": "code",
   "execution_count": 197,
   "id": "665a770c",
   "metadata": {},
   "outputs": [],
   "source": [
    "def get_lines(x_s,y_s,m_dist):\n",
    "    top = np.array([x_s,y_s+m_dist])\n",
    "    bottom = np.array([x_s,y_s-m_dist])\n",
    "    right = np.array([x_s+m_dist,y_s])\n",
    "    left = np.array([x_s-m_dist,y_s])\n",
    "    a1,b1 = get_line_attributes(right,top)\n",
    "    a2,b2 = get_line_attributes(left,top)\n",
    "    a3,b3 = get_line_attributes(right,bottom)\n",
    "    a4,b4 = get_line_attributes(left,bottom)\n",
    "    return {1:[a1,b1,top],2:[a2,b2,top],3:[a3,b3,bottom],4:[a4,b4,bottom] }"
   ]
  },
  {
   "cell_type": "code",
   "execution_count": 229,
   "id": "784e3a00",
   "metadata": {},
   "outputs": [
    {
     "data": {
      "text/plain": [
       "{1: array([ 9, 18]),\n",
       " 2: array([ 2, 25]),\n",
       " 3: array([ 2, 11]),\n",
       " 4: array([-5, 18])}"
      ]
     },
     "execution_count": 229,
     "metadata": {},
     "output_type": "execute_result"
    }
   ],
   "source": [
    "vectors[0]"
   ]
  },
  {
   "cell_type": "code",
   "execution_count": 244,
   "id": "dee588a1",
   "metadata": {},
   "outputs": [],
   "source": [
    "def line_ABC(x1,y1,x2,y2):\n",
    "    A = y2 - y1\n",
    "    B = x1 - x2\n",
    "    C = A*x1+B*y1\n",
    "    return {\"A\":A,\"B\":B,\"C\":C}"
   ]
  },
  {
   "cell_type": "code",
   "execution_count": 234,
   "id": "0f23798d",
   "metadata": {},
   "outputs": [],
   "source": [
    "# right to top\n",
    "A1 = vectors[0][2][1] - vectors[0][1][1]\n",
    "B1 = vectors[0][1][0] - vectors[0][2][1]\n",
    "C1= A1*vectors[0][1][1] + B1*vectors[0][1][0]"
   ]
  },
  {
   "cell_type": "code",
   "execution_count": 236,
   "id": "ca95dbb2",
   "metadata": {},
   "outputs": [],
   "source": [
    "# left to top\n",
    "A2 = vectors[0][2][1] - vectors[0][3][1]\n",
    "B2 = vectors[0][3][0] - vectors[0][2][1]\n",
    "C2 = A2*vectors[0][1][1] + B2*vectors[0][1][0]"
   ]
  },
  {
   "cell_type": "code",
   "execution_count": 237,
   "id": "1ba0e69e",
   "metadata": {},
   "outputs": [],
   "source": [
    "# left to bottom\n",
    "A3 = vectors[0][4][1] - vectors[0][3][1]\n",
    "B3 = vectors[0][3][0] - vectors[0][4][1]\n",
    "C3 = A3*vectors[0][1][1] + B3*vectors[0][1][0]"
   ]
  },
  {
   "cell_type": "code",
   "execution_count": 241,
   "id": "9ba81892",
   "metadata": {},
   "outputs": [],
   "source": [
    "det = A1*B2-A2*B1\n",
    "x = (B2 * C1 - B1 * C2)/det\n",
    "y = (A1 * C2 - A2 * C1)/det"
   ]
  },
  {
   "cell_type": "code",
   "execution_count": 242,
   "id": "52d1c4bf",
   "metadata": {},
   "outputs": [],
   "source": [
    "x = (B2 * C1 - B1 * C2)/det\n",
    "y = (A1 * C2 - A2 * C1)/det"
   ]
  },
  {
   "cell_type": "code",
   "execution_count": 243,
   "id": "9cb80d10",
   "metadata": {},
   "outputs": [
    {
     "name": "stdout",
     "output_type": "stream",
     "text": [
      "18.0 9.0\n"
     ]
    }
   ],
   "source": [
    "print(x,y)"
   ]
  },
  {
   "cell_type": "code",
   "execution_count": 172,
   "id": "0cfe5512",
   "metadata": {},
   "outputs": [],
   "source": [
    "# scannedSquares = [paint_square(beacon.x_s,beacon.y_s,beacon.m_dist) for beacon in beacon_list]"
   ]
  },
  {
   "cell_type": "code",
   "execution_count": 228,
   "id": "fef8c6e5",
   "metadata": {},
   "outputs": [],
   "source": [
    "vectors = [get_vectors(beacon.x_s,beacon.y_s,beacon.m_dist) for beacon in beacon_list]"
   ]
  },
  {
   "cell_type": "code",
   "execution_count": 198,
   "id": "23cecf2f",
   "metadata": {},
   "outputs": [],
   "source": [
    "lines = [get_lines(beacon.x_s,beacon.y_s,beacon.m_dist) for beacon in beacon_list]"
   ]
  },
  {
   "cell_type": "code",
   "execution_count": 200,
   "id": "6102a1e0",
   "metadata": {},
   "outputs": [
    {
     "data": {
      "text/plain": [
       "{1: [-1.0, 27.0, array([ 2, 25])],\n",
       " 2: [1.0, 23.0, array([ 2, 25])],\n",
       " 3: [1.0, 9.0, array([ 2, 11])],\n",
       " 4: [-1.0, 13.0, array([ 2, 11])]}"
      ]
     },
     "execution_count": 200,
     "metadata": {},
     "output_type": "execute_result"
    }
   ],
   "source": [
    "lines[0]"
   ]
  },
  {
   "cell_type": "code",
   "execution_count": 223,
   "id": "5bd14673",
   "metadata": {},
   "outputs": [],
   "source": [
    "line1 = lines[0][1]\n",
    "line2= lines[0][2]"
   ]
  },
  {
   "cell_type": "code",
   "execution_count": 224,
   "id": "0e083817",
   "metadata": {},
   "outputs": [
    {
     "data": {
      "text/plain": [
       "[-1.0, 27.0, array([ 2, 25])]"
      ]
     },
     "execution_count": 224,
     "metadata": {},
     "output_type": "execute_result"
    }
   ],
   "source": [
    "line1"
   ]
  },
  {
   "cell_type": "code",
   "execution_count": 225,
   "id": "15507b4b",
   "metadata": {},
   "outputs": [],
   "source": [
    "intersect = (line1[0]*line1[2][0] + line1[1])-(line2[0]*line2[2][0] + line2[1])"
   ]
  },
  {
   "cell_type": "code",
   "execution_count": 226,
   "id": "8bd9b344",
   "metadata": {},
   "outputs": [
    {
     "data": {
      "text/plain": [
       "0.0"
      ]
     },
     "execution_count": 226,
     "metadata": {},
     "output_type": "execute_result"
    }
   ],
   "source": [
    "intersect"
   ]
  },
  {
   "cell_type": "code",
   "execution_count": 227,
   "id": "2d2b6050",
   "metadata": {},
   "outputs": [],
   "source": [
    "p1 = np.array([0,1])\n",
    "p2 = np.array([1,0])"
   ]
  },
  {
   "cell_type": "code",
   "execution_count": 193,
   "id": "6c1090c0",
   "metadata": {},
   "outputs": [
    {
     "data": {
      "text/plain": [
       "-1.0"
      ]
     },
     "execution_count": 193,
     "metadata": {},
     "output_type": "execute_result"
    }
   ],
   "source": [
    "a=(p2[1]-p1[1])/(p2[0]-p1[0])\n",
    "a"
   ]
  },
  {
   "cell_type": "code",
   "execution_count": 195,
   "id": "780fc86f",
   "metadata": {},
   "outputs": [
    {
     "data": {
      "text/plain": [
       "1.0"
      ]
     },
     "execution_count": 195,
     "metadata": {},
     "output_type": "execute_result"
    }
   ],
   "source": [
    "b = p1[1]-p1[0]*a\n",
    "b"
   ]
  },
  {
   "cell_type": "code",
   "execution_count": 181,
   "id": "b0c0e22a",
   "metadata": {},
   "outputs": [
    {
     "data": {
      "text/plain": [
       "array([ 2, 25])"
      ]
     },
     "execution_count": 181,
     "metadata": {},
     "output_type": "execute_result"
    }
   ],
   "source": []
  },
  {
   "cell_type": "code",
   "execution_count": null,
   "id": "05958333",
   "metadata": {},
   "outputs": [],
   "source": []
  },
  {
   "cell_type": "code",
   "execution_count": 99,
   "id": "ff368cfc",
   "metadata": {},
   "outputs": [],
   "source": [
    "coord = np.array(all_coord)\n"
   ]
  },
  {
   "cell_type": "code",
   "execution_count": 119,
   "id": "dfc58c53",
   "metadata": {},
   "outputs": [],
   "source": [
    "df = pd.DataFrame(coord).drop_duplicates().sort_values([0,1])\n",
    "df = df[(df[1]>0)&(df[0]>0)]"
   ]
  },
  {
   "cell_type": "code",
   "execution_count": 121,
   "id": "fee1e694",
   "metadata": {},
   "outputs": [
    {
     "data": {
      "text/html": [
       "<div>\n",
       "<style scoped>\n",
       "    .dataframe tbody tr th:only-of-type {\n",
       "        vertical-align: middle;\n",
       "    }\n",
       "\n",
       "    .dataframe tbody tr th {\n",
       "        vertical-align: top;\n",
       "    }\n",
       "\n",
       "    .dataframe thead th {\n",
       "        text-align: right;\n",
       "    }\n",
       "</style>\n",
       "<table border=\"1\" class=\"dataframe\">\n",
       "  <thead>\n",
       "    <tr style=\"text-align: right;\">\n",
       "      <th></th>\n",
       "      <th>0</th>\n",
       "      <th>1</th>\n",
       "    </tr>\n",
       "  </thead>\n",
       "  <tbody>\n",
       "    <tr>\n",
       "      <th>91</th>\n",
       "      <td>1</td>\n",
       "      <td>5</td>\n",
       "    </tr>\n",
       "    <tr>\n",
       "      <th>71</th>\n",
       "      <td>1</td>\n",
       "      <td>9</td>\n",
       "    </tr>\n",
       "    <tr>\n",
       "      <th>147</th>\n",
       "      <td>1</td>\n",
       "      <td>13</td>\n",
       "    </tr>\n",
       "    <tr>\n",
       "      <th>90</th>\n",
       "      <td>2</td>\n",
       "      <td>4</td>\n",
       "    </tr>\n",
       "    <tr>\n",
       "      <th>70</th>\n",
       "      <td>2</td>\n",
       "      <td>10</td>\n",
       "    </tr>\n",
       "    <tr>\n",
       "      <th>148</th>\n",
       "      <td>2</td>\n",
       "      <td>12</td>\n",
       "    </tr>\n",
       "    <tr>\n",
       "      <th>89</th>\n",
       "      <td>3</td>\n",
       "      <td>3</td>\n",
       "    </tr>\n",
       "    <tr>\n",
       "      <th>115</th>\n",
       "      <td>3</td>\n",
       "      <td>9</td>\n",
       "    </tr>\n",
       "    <tr>\n",
       "      <th>69</th>\n",
       "      <td>3</td>\n",
       "      <td>11</td>\n",
       "    </tr>\n",
       "    <tr>\n",
       "      <th>88</th>\n",
       "      <td>4</td>\n",
       "      <td>2</td>\n",
       "    </tr>\n",
       "    <tr>\n",
       "      <th>116</th>\n",
       "      <td>4</td>\n",
       "      <td>8</td>\n",
       "    </tr>\n",
       "    <tr>\n",
       "      <th>68</th>\n",
       "      <td>4</td>\n",
       "      <td>12</td>\n",
       "    </tr>\n",
       "    <tr>\n",
       "      <th>87</th>\n",
       "      <td>5</td>\n",
       "      <td>1</td>\n",
       "    </tr>\n",
       "    <tr>\n",
       "      <th>117</th>\n",
       "      <td>5</td>\n",
       "      <td>7</td>\n",
       "    </tr>\n",
       "    <tr>\n",
       "      <th>67</th>\n",
       "      <td>5</td>\n",
       "      <td>13</td>\n",
       "    </tr>\n",
       "    <tr>\n",
       "      <th>118</th>\n",
       "      <td>6</td>\n",
       "      <td>6</td>\n",
       "    </tr>\n",
       "    <tr>\n",
       "      <th>66</th>\n",
       "      <td>6</td>\n",
       "      <td>14</td>\n",
       "    </tr>\n",
       "    <tr>\n",
       "      <th>119</th>\n",
       "      <td>7</td>\n",
       "      <td>5</td>\n",
       "    </tr>\n",
       "    <tr>\n",
       "      <th>65</th>\n",
       "      <td>7</td>\n",
       "      <td>15</td>\n",
       "    </tr>\n",
       "    <tr>\n",
       "      <th>120</th>\n",
       "      <td>8</td>\n",
       "      <td>4</td>\n",
       "    </tr>\n",
       "  </tbody>\n",
       "</table>\n",
       "</div>"
      ],
      "text/plain": [
       "     0   1\n",
       "91   1   5\n",
       "71   1   9\n",
       "147  1  13\n",
       "90   2   4\n",
       "70   2  10\n",
       "148  2  12\n",
       "89   3   3\n",
       "115  3   9\n",
       "69   3  11\n",
       "88   4   2\n",
       "116  4   8\n",
       "68   4  12\n",
       "87   5   1\n",
       "117  5   7\n",
       "67   5  13\n",
       "118  6   6\n",
       "66   6  14\n",
       "119  7   5\n",
       "65   7  15\n",
       "120  8   4"
      ]
     },
     "execution_count": 121,
     "metadata": {},
     "output_type": "execute_result"
    }
   ],
   "source": [
    "df.head(20)"
   ]
  },
  {
   "cell_type": "code",
   "execution_count": null,
   "id": "b5eebbd6",
   "metadata": {},
   "outputs": [],
   "source": []
  },
  {
   "cell_type": "code",
   "execution_count": null,
   "id": "66cd13d9",
   "metadata": {},
   "outputs": [],
   "source": []
  },
  {
   "cell_type": "code",
   "execution_count": null,
   "id": "1fe962be",
   "metadata": {},
   "outputs": [],
   "source": []
  },
  {
   "cell_type": "code",
   "execution_count": null,
   "id": "d73f87b4",
   "metadata": {},
   "outputs": [],
   "source": []
  },
  {
   "cell_type": "code",
   "execution_count": 2,
   "id": "71fda564",
   "metadata": {},
   "outputs": [],
   "source": [
    "# class Beacon_map():\n",
    "#     def __init__(self,x=10,y=10,dimensions = 3,padding=0):\n",
    "#         self.max_x = x\n",
    "#         self.max_y = y\n",
    "#         self.dict_of_senders = {}\n",
    "#         self.dict_of_beacons = {}\n",
    "#         self.m_distances = []\n",
    "#         self.dimensions = dimensions\n",
    "# #         self.current_map = np.zeros(self.max_y,self.max_x)\n",
    "    \n",
    "#     def get_values(self):\n",
    "#         return self.current_map\n",
    "    \n",
    "#     def add_sender(self,ListBeacon):\n",
    "#         for Beacon in ListBeacon:\n",
    "#             self.dict_of_senders[(Beacon.x_s,Beacon.y_s)] = (Beacon.x_b,Beacon.y_b)\n",
    "#             self.dict_of_beacons[(Beacon.x_b,Beacon.y_b)] = (Beacon.x_b,Beacon.y_b)\n",
    "#             self.m_distances.append(Beacon.m_dist)\n",
    "#             self.max_x = max(self.max_x, Beacon.x_s,Beacon.x_b)+1\n",
    "#             self.max_y = max(self.max_y,Beacon.y_s,Beacon.y_b)+1\n",
    "# #         self.current_map = np.zeros(self.max_y,self.max_x)\n",
    "\n",
    "#     def draw_map(self,layer_highlight = False, layer=0):\n",
    "#         fig, ax = plt.subplots(figsize=(15,10))\n",
    "        \n",
    "#         if layer_highlight == True:\n",
    "#             for i in range(self.max_x):\n",
    "#                 self.current_map[layer,i] = [0,0,1]\n",
    "        \n",
    "#         for k,v in self.dict_of_senders.items():\n",
    "#             self.current_map[k[1],k[0]] = [1,1,1]\n",
    "#             self.current_map[v[1],v[0]] = [0,1,1]\n",
    "    \n",
    "        \n",
    "#         plt.imshow(self.current_map)\n",
    "#         plt.show()\n",
    "\n",
    "        \n",
    "# class Beacon():\n",
    "#     def __init__(self, s_coord,b_coord):\n",
    "#         self.x_b = b_coord[0]\n",
    "#         self.y_b = b_coord[1]\n",
    "#         self.x_s = s_coord[0]\n",
    "#         self.y_s = s_coord[1]\n",
    "#         self.m_dist = abs(self.x_s-self.x_b)+abs(self.y_s-self.y_b)\n",
    "    \n",
    "#     def get_values(self, meta_data=False):\n",
    "#         if meta_data == True:\n",
    "#             return {\"Sender\":(self.x_s,self.y_s),\n",
    "#                    \"Beacon\": (self.x_b,self.y_b),\n",
    "#                    \"m_dist\": self.m_dist}\n",
    "        \n",
    "#         else:\n",
    "#             return [(self.x_s,self.y_s),(self.x_b,self.y_b)]\n",
    "\n",
    "    \n",
    "#     def in_layer(self,layer):\n",
    "#         if self.y_s < layer:\n",
    "#             if self.y_s+self.m_dist > layer:\n",
    "#                 return True\n",
    "        \n",
    "#         elif self.y_s > layer:\n",
    "#             if self.y_s-self.m_dist < layer:\n",
    "#                 return True\n",
    "                \n",
    "#         elif self.y_s == layer:\n",
    "#             return True\n",
    "\n",
    "#         else: \n",
    "#             return False\n",
    "    \n",
    "#     def transform(self,y_transform = 0,x_transform=0):\n",
    "#         self.x_b = self.x_b + x_transform\n",
    "#         self.y_b = self.y_b + y_transform\n",
    "#         self.x_s = self.x_s + x_transform\n",
    "#         self.y_s = self.y_s + y_transform\n",
    "#         self.m_dist = abs(x_s-x_b)+abs(y_s-y_b)\n",
    "        "
   ]
  },
  {
   "cell_type": "code",
   "execution_count": 3,
   "id": "56f4e853",
   "metadata": {},
   "outputs": [],
   "source": [
    "class Beacon():\n",
    "    def __init__(self, s_coord,b_coord):\n",
    "        self.x_b = b_coord[0]\n",
    "        self.y_b = b_coord[1]\n",
    "        self.x_s = s_coord[0]\n",
    "        self.y_s = s_coord[1]\n",
    "        self.m_dist = abs(self.x_s-self.x_b)+abs(self.y_s-self.y_b)\n",
    "    \n",
    "    def get_values(self, meta_data=False):\n",
    "        if meta_data == True:\n",
    "            return {\"Sender\":(self.x_s,self.y_s),\n",
    "                   \"Beacon\": (self.x_b,self.y_b),\n",
    "                   \"m_dist\": self.m_dist}\n",
    "        \n",
    "        else:\n",
    "            return [(self.x_s,self.y_s),(self.x_b,self.y_b)]\n",
    "\n",
    "    \n",
    "    def in_layer(self,layer):\n",
    "        if self.y_s < layer:\n",
    "            if self.y_s+self.m_dist > layer:\n",
    "                return True\n",
    "        \n",
    "        elif self.y_s > layer:\n",
    "            if self.y_s-self.m_dist < layer:\n",
    "                return True\n",
    "                \n",
    "        elif self.y_s == layer:\n",
    "            return True\n",
    "\n",
    "        else: \n",
    "            return False\n",
    "    \n",
    "    def transform(self,y_transform = 0,x_transform=0):\n",
    "        self.x_b = self.x_b + x_transform\n",
    "        self.y_b = self.y_b + y_transform\n",
    "        self.x_s = self.x_s + x_transform\n",
    "        self.y_s = self.y_s + y_transform\n",
    "        self.m_dist = abs(x_s-x_b)+abs(y_s-y_b)\n",
    "        "
   ]
  },
  {
   "cell_type": "code",
   "execution_count": 4,
   "id": "15f468a6",
   "metadata": {},
   "outputs": [],
   "source": [
    "with open(\"input.txt\") as f:\n",
    "    data = f.read()\n",
    "data = data.split(\"\\n\")[:-1]"
   ]
  },
  {
   "cell_type": "code",
   "execution_count": 5,
   "id": "9636d14f",
   "metadata": {},
   "outputs": [
    {
     "data": {
      "text/plain": [
       "['Sensor at x=2391367, y=3787759: closest beacon is at x=2345659, y=4354867',\n",
       " 'Sensor at x=1826659, y=2843839: closest beacon is at x=1654342, y=3193298',\n",
       " 'Sensor at x=980874, y=2369046: closest beacon is at x=31358, y=2000000',\n",
       " 'Sensor at x=2916267, y=2516612: closest beacon is at x=3064453, y=2107409',\n",
       " 'Sensor at x=3304786, y=844925: closest beacon is at x=3064453, y=2107409',\n",
       " 'Sensor at x=45969, y=76553: closest beacon is at x=31358, y=2000000',\n",
       " 'Sensor at x=2647492, y=1985479: closest beacon is at x=2483905, y=2123337',\n",
       " 'Sensor at x=15629, y=2015720: closest beacon is at x=31358, y=2000000',\n",
       " 'Sensor at x=3793239, y=3203486: closest beacon is at x=3528871, y=3361675',\n",
       " 'Sensor at x=3998240, y=15268: closest beacon is at x=4731853, y=1213406',\n",
       " 'Sensor at x=3475687, y=3738894: closest beacon is at x=3528871, y=3361675',\n",
       " 'Sensor at x=3993022, y=3910207: closest beacon is at x=3528871, y=3361675',\n",
       " 'Sensor at x=258318, y=2150378: closest beacon is at x=31358, y=2000000',\n",
       " 'Sensor at x=1615638, y=1108834: closest beacon is at x=2483905, y=2123337',\n",
       " 'Sensor at x=1183930, y=3997648: closest beacon is at x=1654342, y=3193298',\n",
       " 'Sensor at x=404933, y=3377916: closest beacon is at x=1654342, y=3193298',\n",
       " 'Sensor at x=3829801, y=2534117: closest beacon is at x=3528871, y=3361675',\n",
       " 'Sensor at x=2360813, y=2494240: closest beacon is at x=2483905, y=2123337',\n",
       " 'Sensor at x=2286195, y=3134541: closest beacon is at x=1654342, y=3193298',\n",
       " 'Sensor at x=15626, y=1984269: closest beacon is at x=31358, y=2000000',\n",
       " 'Sensor at x=3009341, y=3849969: closest beacon is at x=3528871, y=3361675',\n",
       " 'Sensor at x=1926292, y=193430: closest beacon is at x=1884716, y=-881769',\n",
       " 'Sensor at x=3028318, y=3091480: closest beacon is at x=3528871, y=3361675']"
      ]
     },
     "execution_count": 5,
     "metadata": {},
     "output_type": "execute_result"
    }
   ],
   "source": [
    "data"
   ]
  },
  {
   "cell_type": "code",
   "execution_count": null,
   "id": "d29144d1",
   "metadata": {},
   "outputs": [],
   "source": []
  },
  {
   "cell_type": "code",
   "execution_count": 6,
   "id": "b2e4f634",
   "metadata": {},
   "outputs": [],
   "source": [
    "# data = \"\"\"Sensor at x=2, y=18: closest beacon is at x=-2, y=15\n",
    "# Sensor at x=9, y=16: closest beacon is at x=10, y=16\n",
    "# Sensor at x=13, y=2: closest beacon is at x=15, y=3\n",
    "# Sensor at x=12, y=14: closest beacon is at x=10, y=16\n",
    "# Sensor at x=10, y=20: closest beacon is at x=10, y=16\n",
    "# Sensor at x=14, y=17: closest beacon is at x=10, y=16\n",
    "# Sensor at x=8, y=7: closest beacon is at x=2, y=10\n",
    "# Sensor at x=2, y=0: closest beacon is at x=2, y=10\n",
    "# Sensor at x=0, y=11: closest beacon is at x=2, y=10\n",
    "# Sensor at x=20, y=14: closest beacon is at x=25, y=17\n",
    "# Sensor at x=17, y=20: closest beacon is at x=21, y=22\n",
    "# Sensor at x=16, y=7: closest beacon is at x=15, y=3\n",
    "# Sensor at x=14, y=3: closest beacon is at x=15, y=3\n",
    "# Sensor at x=20, y=1: closest beacon is at x=15, y=3\"\"\"\n",
    "# data = data.split(\"\\n\")\n",
    "# data"
   ]
  },
  {
   "cell_type": "code",
   "execution_count": 7,
   "id": "3d89276e",
   "metadata": {},
   "outputs": [],
   "source": [
    "coord_list = []\n",
    "for signal in data:\n",
    "    x_s,y_s,x_b,y_b = re.findall(\"-?\\d+\",signal)\n",
    "    coord = [(int(x_s),int(y_s)),(int(x_b),int(y_b))]\n",
    "    coord_list.append(coord)"
   ]
  },
  {
   "cell_type": "code",
   "execution_count": 8,
   "id": "fbe564fb",
   "metadata": {},
   "outputs": [],
   "source": [
    "beacon_list = []\n",
    "for signal in coord_list:\n",
    "    beacon = Beacon(signal[0],signal[1])\n",
    "    beacon_list.append(beacon)"
   ]
  },
  {
   "cell_type": "code",
   "execution_count": 9,
   "id": "8fda7454",
   "metadata": {},
   "outputs": [],
   "source": [
    "# layer = 10\n",
    "layer = 2000000"
   ]
  },
  {
   "cell_type": "code",
   "execution_count": 10,
   "id": "ce51e138",
   "metadata": {},
   "outputs": [],
   "source": [
    "# beacon_layer = [beacon for beacon in beacon_list if beacon.in_layer(10)]\n",
    "beacon_layer = [beacon for beacon in beacon_list if beacon.in_layer(2000000)]"
   ]
  },
  {
   "cell_type": "code",
   "execution_count": 11,
   "id": "306f33b7",
   "metadata": {},
   "outputs": [],
   "source": [
    "# B_map = Beacon_map()\n",
    "# B_map.add_sender(beacon_layer)"
   ]
  },
  {
   "cell_type": "code",
   "execution_count": 12,
   "id": "951f32c6",
   "metadata": {},
   "outputs": [],
   "source": [
    "# beacon_layer[1].y_b"
   ]
  },
  {
   "cell_type": "code",
   "execution_count": 15,
   "id": "f7457ffa",
   "metadata": {},
   "outputs": [],
   "source": [
    "not_scanned = []\n",
    "for item in beacon_layer:\n",
    "    if item.y_b==layer:\n",
    "        not_scanned.append((item.x_b,item.y_b))\n",
    "        \n",
    "for item in beacon_layer:\n",
    "    if item.y_s==layer:\n",
    "        not_scanned.append((item.x_s,item.y_s))"
   ]
  },
  {
   "cell_type": "code",
   "execution_count": 16,
   "id": "c4d0c15e",
   "metadata": {},
   "outputs": [
    {
     "data": {
      "text/plain": [
       "[<__main__.Beacon at 0x1f9a7b234f0>,\n",
       " <__main__.Beacon at 0x1f9a7b23550>,\n",
       " <__main__.Beacon at 0x1f9a7b235e0>,\n",
       " <__main__.Beacon at 0x1f9a7b23370>,\n",
       " <__main__.Beacon at 0x1f9a7b23730>,\n",
       " <__main__.Beacon at 0x1f9a7b23d60>,\n",
       " <__main__.Beacon at 0x1f9a7b23b50>,\n",
       " <__main__.Beacon at 0x1f9a7b23be0>,\n",
       " <__main__.Beacon at 0x1f9a7b23a30>,\n",
       " <__main__.Beacon at 0x1f9a7b237c0>,\n",
       " <__main__.Beacon at 0x1f9a7b23940>]"
      ]
     },
     "execution_count": 16,
     "metadata": {},
     "output_type": "execute_result"
    }
   ],
   "source": [
    "beacon_layer"
   ]
  },
  {
   "cell_type": "code",
   "execution_count": 17,
   "id": "11bd2038",
   "metadata": {},
   "outputs": [],
   "source": [
    "not_scanned = set(not_scanned)"
   ]
  },
  {
   "cell_type": "code",
   "execution_count": 18,
   "id": "a15b3e65",
   "metadata": {},
   "outputs": [],
   "source": [
    "scanned_pixels = []\n",
    "for item in beacon_layer:\n",
    "    y_pos = item.y_s\n",
    "    m_dist = item.m_dist\n",
    "    if y_pos > layer:\n",
    "        x_range = m_dist - (y_pos - layer)\n",
    "        \n",
    "    if y_pos < layer:\n",
    "        x_range = m_dist - (layer-y_pos) \n",
    "    \n",
    "    \n",
    "    if x_range == 0:\n",
    "        scanned_pixels.append([item.x_s])\n",
    "    \n",
    "    else:\n",
    "        x_range = range(item.x_s-x_range,item.x_s+x_range+1)\n",
    "        scanned_pixels.append(x_range)"
   ]
  },
  {
   "cell_type": "code",
   "execution_count": 19,
   "id": "c7993863",
   "metadata": {},
   "outputs": [],
   "source": [
    "# scanned_pixels = []\n",
    "# for (sender,beacon), m_dist in zip(B_map.dict_of_senders.items(),B_map.m_distances):\n",
    "#     y_pos = sender[1]\n",
    "#     if y_pos > layer:\n",
    "#         x_range = m_dist - (y_pos - layer)\n",
    "        \n",
    "#     if y_pos < layer:\n",
    "#         x_range = m_dist - (layer-y_pos) \n",
    "    \n",
    "    \n",
    "#     if x_range == 0:\n",
    "#         scanned_pixels.append([sender[0]])\n",
    "    \n",
    "#     else:\n",
    "#         x_range = range(sender[0]-x_range,sender[0]+x_range+1)\n",
    "#         scanned_pixels.append(x_range)"
   ]
  },
  {
   "cell_type": "code",
   "execution_count": 20,
   "id": "d5a7fd59",
   "metadata": {},
   "outputs": [],
   "source": [
    "x_values = []\n",
    "for range_x in scanned_pixels:\n",
    "    temp_list = [*range_x]\n",
    "    x_values.extend(temp_list)"
   ]
  },
  {
   "cell_type": "code",
   "execution_count": 24,
   "id": "0c203f73",
   "metadata": {},
   "outputs": [],
   "source": [
    "# B_map.dict_of_senders.items()"
   ]
  },
  {
   "cell_type": "code",
   "execution_count": 22,
   "id": "32ba04ec",
   "metadata": {},
   "outputs": [
    {
     "data": {
      "text/plain": [
       "[range(31358, 1930391),\n",
       " range(2875490, 2957045),\n",
       " range(2957044, 3652529),\n",
       " range(31358, 60581),\n",
       " range(2360568, 2934417),\n",
       " range(-100, 31359),\n",
       " range(31358, 485279),\n",
       " range(624034, 2607243),\n",
       " range(348822, 461045),\n",
       " range(3235430, 4424173),\n",
       " range(-106, 31359)]"
      ]
     },
     "execution_count": 22,
     "metadata": {},
     "output_type": "execute_result"
    }
   ],
   "source": [
    "scanned_pixels"
   ]
  },
  {
   "cell_type": "code",
   "execution_count": 23,
   "id": "eca4843b",
   "metadata": {},
   "outputs": [
    {
     "data": {
      "text/plain": [
       "4424278"
      ]
     },
     "execution_count": 23,
     "metadata": {},
     "output_type": "execute_result"
    }
   ],
   "source": [
    "len(set(x_values))-len(not_scanned)"
   ]
  },
  {
   "cell_type": "code",
   "execution_count": 192,
   "id": "e4c0bc78",
   "metadata": {},
   "outputs": [
    {
     "data": {
      "text/plain": [
       "[(31358, 2000000)]"
      ]
     },
     "execution_count": 192,
     "metadata": {},
     "output_type": "execute_result"
    }
   ],
   "source": [
    "not_scanned"
   ]
  },
  {
   "cell_type": "code",
   "execution_count": 193,
   "id": "c56c418f",
   "metadata": {},
   "outputs": [
    {
     "data": {
      "text/plain": [
       "{0,\n",
       " 1,\n",
       " 2,\n",
       " 3,\n",
       " 4,\n",
       " 5,\n",
       " 6,\n",
       " 7,\n",
       " 8,\n",
       " 9,\n",
       " 10,\n",
       " 11,\n",
       " 12,\n",
       " 13,\n",
       " 14,\n",
       " 15,\n",
       " 16,\n",
       " 17,\n",
       " 18,\n",
       " 19,\n",
       " 20,\n",
       " 21,\n",
       " 22,\n",
       " 23,\n",
       " 24,\n",
       " 25,\n",
       " 26,\n",
       " 27,\n",
       " 28,\n",
       " 29,\n",
       " 30,\n",
       " 31,\n",
       " 32,\n",
       " 33,\n",
       " 34,\n",
       " 35,\n",
       " 36,\n",
       " 37,\n",
       " 38,\n",
       " 39,\n",
       " 40,\n",
       " 41,\n",
       " 42,\n",
       " 43,\n",
       " 44,\n",
       " 45,\n",
       " 46,\n",
       " 47,\n",
       " 48,\n",
       " 49,\n",
       " 50,\n",
       " 51,\n",
       " 52,\n",
       " 53,\n",
       " 54,\n",
       " 55,\n",
       " 56,\n",
       " 57,\n",
       " 58,\n",
       " 59,\n",
       " 60,\n",
       " 61,\n",
       " 62,\n",
       " 63,\n",
       " 64,\n",
       " 65,\n",
       " 66,\n",
       " 67,\n",
       " 68,\n",
       " 69,\n",
       " 70,\n",
       " 71,\n",
       " 72,\n",
       " 73,\n",
       " 74,\n",
       " 75,\n",
       " 76,\n",
       " 77,\n",
       " 78,\n",
       " 79,\n",
       " 80,\n",
       " 81,\n",
       " 82,\n",
       " 83,\n",
       " 84,\n",
       " 85,\n",
       " 86,\n",
       " 87,\n",
       " 88,\n",
       " 89,\n",
       " 90,\n",
       " 91,\n",
       " 92,\n",
       " 93,\n",
       " 94,\n",
       " 95,\n",
       " 96,\n",
       " 97,\n",
       " 98,\n",
       " 99,\n",
       " 100,\n",
       " 101,\n",
       " 102,\n",
       " 103,\n",
       " 104,\n",
       " 105,\n",
       " 106,\n",
       " 107,\n",
       " 108,\n",
       " 109,\n",
       " 110,\n",
       " 111,\n",
       " 112,\n",
       " 113,\n",
       " 114,\n",
       " 115,\n",
       " 116,\n",
       " 117,\n",
       " 118,\n",
       " 119,\n",
       " 120,\n",
       " 121,\n",
       " 122,\n",
       " 123,\n",
       " 124,\n",
       " 125,\n",
       " 126,\n",
       " 127,\n",
       " 128,\n",
       " 129,\n",
       " 130,\n",
       " 131,\n",
       " 132,\n",
       " 133,\n",
       " 134,\n",
       " 135,\n",
       " 136,\n",
       " 137,\n",
       " 138,\n",
       " 139,\n",
       " 140,\n",
       " 141,\n",
       " 142,\n",
       " 143,\n",
       " 144,\n",
       " 145,\n",
       " 146,\n",
       " 147,\n",
       " 148,\n",
       " 149,\n",
       " 150,\n",
       " 151,\n",
       " 152,\n",
       " 153,\n",
       " 154,\n",
       " 155,\n",
       " 156,\n",
       " 157,\n",
       " 158,\n",
       " 159,\n",
       " 160,\n",
       " 161,\n",
       " 162,\n",
       " 163,\n",
       " 164,\n",
       " 165,\n",
       " 166,\n",
       " 167,\n",
       " 168,\n",
       " 169,\n",
       " 170,\n",
       " 171,\n",
       " 172,\n",
       " 173,\n",
       " 174,\n",
       " 175,\n",
       " 176,\n",
       " 177,\n",
       " 178,\n",
       " 179,\n",
       " 180,\n",
       " 181,\n",
       " 182,\n",
       " 183,\n",
       " 184,\n",
       " 185,\n",
       " 186,\n",
       " 187,\n",
       " 188,\n",
       " 189,\n",
       " 190,\n",
       " 191,\n",
       " 192,\n",
       " 193,\n",
       " 194,\n",
       " 195,\n",
       " 196,\n",
       " 197,\n",
       " 198,\n",
       " 199,\n",
       " 200,\n",
       " 201,\n",
       " 202,\n",
       " 203,\n",
       " 204,\n",
       " 205,\n",
       " 206,\n",
       " 207,\n",
       " 208,\n",
       " 209,\n",
       " 210,\n",
       " 211,\n",
       " 212,\n",
       " 213,\n",
       " 214,\n",
       " 215,\n",
       " 216,\n",
       " 217,\n",
       " 218,\n",
       " 219,\n",
       " 220,\n",
       " 221,\n",
       " 222,\n",
       " 223,\n",
       " 224,\n",
       " 225,\n",
       " 226,\n",
       " 227,\n",
       " 228,\n",
       " 229,\n",
       " 230,\n",
       " 231,\n",
       " 232,\n",
       " 233,\n",
       " 234,\n",
       " 235,\n",
       " 236,\n",
       " 237,\n",
       " 238,\n",
       " 239,\n",
       " 240,\n",
       " 241,\n",
       " 242,\n",
       " 243,\n",
       " 244,\n",
       " 245,\n",
       " 246,\n",
       " 247,\n",
       " 248,\n",
       " 249,\n",
       " 250,\n",
       " 251,\n",
       " 252,\n",
       " 253,\n",
       " 254,\n",
       " 255,\n",
       " 256,\n",
       " 257,\n",
       " 258,\n",
       " 259,\n",
       " 260,\n",
       " 261,\n",
       " 262,\n",
       " 263,\n",
       " 264,\n",
       " 265,\n",
       " 266,\n",
       " 267,\n",
       " 268,\n",
       " 269,\n",
       " 270,\n",
       " 271,\n",
       " 272,\n",
       " 273,\n",
       " 274,\n",
       " 275,\n",
       " 276,\n",
       " 277,\n",
       " 278,\n",
       " 279,\n",
       " 280,\n",
       " 281,\n",
       " 282,\n",
       " 283,\n",
       " 284,\n",
       " 285,\n",
       " 286,\n",
       " 287,\n",
       " 288,\n",
       " 289,\n",
       " 290,\n",
       " 291,\n",
       " 292,\n",
       " 293,\n",
       " 294,\n",
       " 295,\n",
       " 296,\n",
       " 297,\n",
       " 298,\n",
       " 299,\n",
       " 300,\n",
       " 301,\n",
       " 302,\n",
       " 303,\n",
       " 304,\n",
       " 305,\n",
       " 306,\n",
       " 307,\n",
       " 308,\n",
       " 309,\n",
       " 310,\n",
       " 311,\n",
       " 312,\n",
       " 313,\n",
       " 314,\n",
       " 315,\n",
       " 316,\n",
       " 317,\n",
       " 318,\n",
       " 319,\n",
       " 320,\n",
       " 321,\n",
       " 322,\n",
       " 323,\n",
       " 324,\n",
       " 325,\n",
       " 326,\n",
       " 327,\n",
       " 328,\n",
       " 329,\n",
       " 330,\n",
       " 331,\n",
       " 332,\n",
       " 333,\n",
       " 334,\n",
       " 335,\n",
       " 336,\n",
       " 337,\n",
       " 338,\n",
       " 339,\n",
       " 340,\n",
       " 341,\n",
       " 342,\n",
       " 343,\n",
       " 344,\n",
       " 345,\n",
       " 346,\n",
       " 347,\n",
       " 348,\n",
       " 349,\n",
       " 350,\n",
       " 351,\n",
       " 352,\n",
       " 353,\n",
       " 354,\n",
       " 355,\n",
       " 356,\n",
       " 357,\n",
       " 358,\n",
       " 359,\n",
       " 360,\n",
       " 361,\n",
       " 362,\n",
       " 363,\n",
       " 364,\n",
       " 365,\n",
       " 366,\n",
       " 367,\n",
       " 368,\n",
       " 369,\n",
       " 370,\n",
       " 371,\n",
       " 372,\n",
       " 373,\n",
       " 374,\n",
       " 375,\n",
       " 376,\n",
       " 377,\n",
       " 378,\n",
       " 379,\n",
       " 380,\n",
       " 381,\n",
       " 382,\n",
       " 383,\n",
       " 384,\n",
       " 385,\n",
       " 386,\n",
       " 387,\n",
       " 388,\n",
       " 389,\n",
       " 390,\n",
       " 391,\n",
       " 392,\n",
       " 393,\n",
       " 394,\n",
       " 395,\n",
       " 396,\n",
       " 397,\n",
       " 398,\n",
       " 399,\n",
       " 400,\n",
       " 401,\n",
       " 402,\n",
       " 403,\n",
       " 404,\n",
       " 405,\n",
       " 406,\n",
       " 407,\n",
       " 408,\n",
       " 409,\n",
       " 410,\n",
       " 411,\n",
       " 412,\n",
       " 413,\n",
       " 414,\n",
       " 415,\n",
       " 416,\n",
       " 417,\n",
       " 418,\n",
       " 419,\n",
       " 420,\n",
       " 421,\n",
       " 422,\n",
       " 423,\n",
       " 424,\n",
       " 425,\n",
       " 426,\n",
       " 427,\n",
       " 428,\n",
       " 429,\n",
       " 430,\n",
       " 431,\n",
       " 432,\n",
       " 433,\n",
       " 434,\n",
       " 435,\n",
       " 436,\n",
       " 437,\n",
       " 438,\n",
       " 439,\n",
       " 440,\n",
       " 441,\n",
       " 442,\n",
       " 443,\n",
       " 444,\n",
       " 445,\n",
       " 446,\n",
       " 447,\n",
       " 448,\n",
       " 449,\n",
       " 450,\n",
       " 451,\n",
       " 452,\n",
       " 453,\n",
       " 454,\n",
       " 455,\n",
       " 456,\n",
       " 457,\n",
       " 458,\n",
       " 459,\n",
       " 460,\n",
       " 461,\n",
       " 462,\n",
       " 463,\n",
       " 464,\n",
       " 465,\n",
       " 466,\n",
       " 467,\n",
       " 468,\n",
       " 469,\n",
       " 470,\n",
       " 471,\n",
       " 472,\n",
       " 473,\n",
       " 474,\n",
       " 475,\n",
       " 476,\n",
       " 477,\n",
       " 478,\n",
       " 479,\n",
       " 480,\n",
       " 481,\n",
       " 482,\n",
       " 483,\n",
       " 484,\n",
       " 485,\n",
       " 486,\n",
       " 487,\n",
       " 488,\n",
       " 489,\n",
       " 490,\n",
       " 491,\n",
       " 492,\n",
       " 493,\n",
       " 494,\n",
       " 495,\n",
       " 496,\n",
       " 497,\n",
       " 498,\n",
       " 499,\n",
       " 500,\n",
       " 501,\n",
       " 502,\n",
       " 503,\n",
       " 504,\n",
       " 505,\n",
       " 506,\n",
       " 507,\n",
       " 508,\n",
       " 509,\n",
       " 510,\n",
       " 511,\n",
       " 512,\n",
       " 513,\n",
       " 514,\n",
       " 515,\n",
       " 516,\n",
       " 517,\n",
       " 518,\n",
       " 519,\n",
       " 520,\n",
       " 521,\n",
       " 522,\n",
       " 523,\n",
       " 524,\n",
       " 525,\n",
       " 526,\n",
       " 527,\n",
       " 528,\n",
       " 529,\n",
       " 530,\n",
       " 531,\n",
       " 532,\n",
       " 533,\n",
       " 534,\n",
       " 535,\n",
       " 536,\n",
       " 537,\n",
       " 538,\n",
       " 539,\n",
       " 540,\n",
       " 541,\n",
       " 542,\n",
       " 543,\n",
       " 544,\n",
       " 545,\n",
       " 546,\n",
       " 547,\n",
       " 548,\n",
       " 549,\n",
       " 550,\n",
       " 551,\n",
       " 552,\n",
       " 553,\n",
       " 554,\n",
       " 555,\n",
       " 556,\n",
       " 557,\n",
       " 558,\n",
       " 559,\n",
       " 560,\n",
       " 561,\n",
       " 562,\n",
       " 563,\n",
       " 564,\n",
       " 565,\n",
       " 566,\n",
       " 567,\n",
       " 568,\n",
       " 569,\n",
       " 570,\n",
       " 571,\n",
       " 572,\n",
       " 573,\n",
       " 574,\n",
       " 575,\n",
       " 576,\n",
       " 577,\n",
       " 578,\n",
       " 579,\n",
       " 580,\n",
       " 581,\n",
       " 582,\n",
       " 583,\n",
       " 584,\n",
       " 585,\n",
       " 586,\n",
       " 587,\n",
       " 588,\n",
       " 589,\n",
       " 590,\n",
       " 591,\n",
       " 592,\n",
       " 593,\n",
       " 594,\n",
       " 595,\n",
       " 596,\n",
       " 597,\n",
       " 598,\n",
       " 599,\n",
       " 600,\n",
       " 601,\n",
       " 602,\n",
       " 603,\n",
       " 604,\n",
       " 605,\n",
       " 606,\n",
       " 607,\n",
       " 608,\n",
       " 609,\n",
       " 610,\n",
       " 611,\n",
       " 612,\n",
       " 613,\n",
       " 614,\n",
       " 615,\n",
       " 616,\n",
       " 617,\n",
       " 618,\n",
       " 619,\n",
       " 620,\n",
       " 621,\n",
       " 622,\n",
       " 623,\n",
       " 624,\n",
       " 625,\n",
       " 626,\n",
       " 627,\n",
       " 628,\n",
       " 629,\n",
       " 630,\n",
       " 631,\n",
       " 632,\n",
       " 633,\n",
       " 634,\n",
       " 635,\n",
       " 636,\n",
       " 637,\n",
       " 638,\n",
       " 639,\n",
       " 640,\n",
       " 641,\n",
       " 642,\n",
       " 643,\n",
       " 644,\n",
       " 645,\n",
       " 646,\n",
       " 647,\n",
       " 648,\n",
       " 649,\n",
       " 650,\n",
       " 651,\n",
       " 652,\n",
       " 653,\n",
       " 654,\n",
       " 655,\n",
       " 656,\n",
       " 657,\n",
       " 658,\n",
       " 659,\n",
       " 660,\n",
       " 661,\n",
       " 662,\n",
       " 663,\n",
       " 664,\n",
       " 665,\n",
       " 666,\n",
       " 667,\n",
       " 668,\n",
       " 669,\n",
       " 670,\n",
       " 671,\n",
       " 672,\n",
       " 673,\n",
       " 674,\n",
       " 675,\n",
       " 676,\n",
       " 677,\n",
       " 678,\n",
       " 679,\n",
       " 680,\n",
       " 681,\n",
       " 682,\n",
       " 683,\n",
       " 684,\n",
       " 685,\n",
       " 686,\n",
       " 687,\n",
       " 688,\n",
       " 689,\n",
       " 690,\n",
       " 691,\n",
       " 692,\n",
       " 693,\n",
       " 694,\n",
       " 695,\n",
       " 696,\n",
       " 697,\n",
       " 698,\n",
       " 699,\n",
       " 700,\n",
       " 701,\n",
       " 702,\n",
       " 703,\n",
       " 704,\n",
       " 705,\n",
       " 706,\n",
       " 707,\n",
       " 708,\n",
       " 709,\n",
       " 710,\n",
       " 711,\n",
       " 712,\n",
       " 713,\n",
       " 714,\n",
       " 715,\n",
       " 716,\n",
       " 717,\n",
       " 718,\n",
       " 719,\n",
       " 720,\n",
       " 721,\n",
       " 722,\n",
       " 723,\n",
       " 724,\n",
       " 725,\n",
       " 726,\n",
       " 727,\n",
       " 728,\n",
       " 729,\n",
       " 730,\n",
       " 731,\n",
       " 732,\n",
       " 733,\n",
       " 734,\n",
       " 735,\n",
       " 736,\n",
       " 737,\n",
       " 738,\n",
       " 739,\n",
       " 740,\n",
       " 741,\n",
       " 742,\n",
       " 743,\n",
       " 744,\n",
       " 745,\n",
       " 746,\n",
       " 747,\n",
       " 748,\n",
       " 749,\n",
       " 750,\n",
       " 751,\n",
       " 752,\n",
       " 753,\n",
       " 754,\n",
       " 755,\n",
       " 756,\n",
       " 757,\n",
       " 758,\n",
       " 759,\n",
       " 760,\n",
       " 761,\n",
       " 762,\n",
       " 763,\n",
       " 764,\n",
       " 765,\n",
       " 766,\n",
       " 767,\n",
       " 768,\n",
       " 769,\n",
       " 770,\n",
       " 771,\n",
       " 772,\n",
       " 773,\n",
       " 774,\n",
       " 775,\n",
       " 776,\n",
       " 777,\n",
       " 778,\n",
       " 779,\n",
       " 780,\n",
       " 781,\n",
       " 782,\n",
       " 783,\n",
       " 784,\n",
       " 785,\n",
       " 786,\n",
       " 787,\n",
       " 788,\n",
       " 789,\n",
       " 790,\n",
       " 791,\n",
       " 792,\n",
       " 793,\n",
       " 794,\n",
       " 795,\n",
       " 796,\n",
       " 797,\n",
       " 798,\n",
       " 799,\n",
       " 800,\n",
       " 801,\n",
       " 802,\n",
       " 803,\n",
       " 804,\n",
       " 805,\n",
       " 806,\n",
       " 807,\n",
       " 808,\n",
       " 809,\n",
       " 810,\n",
       " 811,\n",
       " 812,\n",
       " 813,\n",
       " 814,\n",
       " 815,\n",
       " 816,\n",
       " 817,\n",
       " 818,\n",
       " 819,\n",
       " 820,\n",
       " 821,\n",
       " 822,\n",
       " 823,\n",
       " 824,\n",
       " 825,\n",
       " 826,\n",
       " 827,\n",
       " 828,\n",
       " 829,\n",
       " 830,\n",
       " 831,\n",
       " 832,\n",
       " 833,\n",
       " 834,\n",
       " 835,\n",
       " 836,\n",
       " 837,\n",
       " 838,\n",
       " 839,\n",
       " 840,\n",
       " 841,\n",
       " 842,\n",
       " 843,\n",
       " 844,\n",
       " 845,\n",
       " 846,\n",
       " 847,\n",
       " 848,\n",
       " 849,\n",
       " 850,\n",
       " 851,\n",
       " 852,\n",
       " 853,\n",
       " 854,\n",
       " 855,\n",
       " 856,\n",
       " 857,\n",
       " 858,\n",
       " 859,\n",
       " 860,\n",
       " 861,\n",
       " 862,\n",
       " 863,\n",
       " 864,\n",
       " 865,\n",
       " 866,\n",
       " 867,\n",
       " 868,\n",
       " 869,\n",
       " 870,\n",
       " 871,\n",
       " 872,\n",
       " 873,\n",
       " 874,\n",
       " 875,\n",
       " 876,\n",
       " 877,\n",
       " 878,\n",
       " 879,\n",
       " 880,\n",
       " 881,\n",
       " 882,\n",
       " 883,\n",
       " 884,\n",
       " 885,\n",
       " 886,\n",
       " 887,\n",
       " 888,\n",
       " 889,\n",
       " 890,\n",
       " 891,\n",
       " 892,\n",
       " 893,\n",
       " 894,\n",
       " 895,\n",
       " 896,\n",
       " 897,\n",
       " 898,\n",
       " 899,\n",
       " 900,\n",
       " 901,\n",
       " 902,\n",
       " 903,\n",
       " 904,\n",
       " 905,\n",
       " 906,\n",
       " 907,\n",
       " 908,\n",
       " 909,\n",
       " 910,\n",
       " 911,\n",
       " 912,\n",
       " 913,\n",
       " 914,\n",
       " 915,\n",
       " 916,\n",
       " 917,\n",
       " 918,\n",
       " 919,\n",
       " 920,\n",
       " 921,\n",
       " 922,\n",
       " 923,\n",
       " 924,\n",
       " 925,\n",
       " 926,\n",
       " 927,\n",
       " 928,\n",
       " 929,\n",
       " 930,\n",
       " 931,\n",
       " 932,\n",
       " 933,\n",
       " 934,\n",
       " 935,\n",
       " 936,\n",
       " 937,\n",
       " 938,\n",
       " 939,\n",
       " 940,\n",
       " 941,\n",
       " 942,\n",
       " 943,\n",
       " 944,\n",
       " 945,\n",
       " 946,\n",
       " 947,\n",
       " 948,\n",
       " 949,\n",
       " 950,\n",
       " 951,\n",
       " 952,\n",
       " 953,\n",
       " 954,\n",
       " 955,\n",
       " 956,\n",
       " 957,\n",
       " 958,\n",
       " 959,\n",
       " 960,\n",
       " 961,\n",
       " 962,\n",
       " 963,\n",
       " 964,\n",
       " 965,\n",
       " 966,\n",
       " 967,\n",
       " 968,\n",
       " 969,\n",
       " 970,\n",
       " 971,\n",
       " 972,\n",
       " 973,\n",
       " 974,\n",
       " 975,\n",
       " 976,\n",
       " 977,\n",
       " 978,\n",
       " 979,\n",
       " 980,\n",
       " 981,\n",
       " 982,\n",
       " 983,\n",
       " 984,\n",
       " 985,\n",
       " 986,\n",
       " 987,\n",
       " 988,\n",
       " 989,\n",
       " 990,\n",
       " 991,\n",
       " 992,\n",
       " 993,\n",
       " 994,\n",
       " 995,\n",
       " 996,\n",
       " 997,\n",
       " 998,\n",
       " 999,\n",
       " ...}"
      ]
     },
     "execution_count": 193,
     "metadata": {},
     "output_type": "execute_result"
    }
   ],
   "source": [
    "set(x_values)"
   ]
  },
  {
   "cell_type": "code",
   "execution_count": null,
   "id": "4fe05a9a",
   "metadata": {},
   "outputs": [],
   "source": []
  },
  {
   "cell_type": "code",
   "execution_count": 155,
   "id": "e1243871",
   "metadata": {},
   "outputs": [
    {
     "ename": "KeyboardInterrupt",
     "evalue": "",
     "output_type": "error",
     "traceback": [
      "\u001b[1;31m---------------------------------------------------------------------------\u001b[0m",
      "\u001b[1;31mKeyboardInterrupt\u001b[0m                         Traceback (most recent call last)",
      "\u001b[1;32m<ipython-input-155-2091cb7f3755>\u001b[0m in \u001b[0;36m<module>\u001b[1;34m\u001b[0m\n\u001b[0;32m     23\u001b[0m             \u001b[0mpixel\u001b[0m \u001b[1;33m=\u001b[0m \u001b[1;33m(\u001b[0m\u001b[0msender\u001b[0m\u001b[1;33m[\u001b[0m\u001b[1;36m0\u001b[0m\u001b[1;33m]\u001b[0m\u001b[1;33m-\u001b[0m\u001b[0mi\u001b[0m\u001b[1;33m,\u001b[0m\u001b[0mlayer\u001b[0m\u001b[1;33m)\u001b[0m\u001b[1;33m\u001b[0m\u001b[1;33m\u001b[0m\u001b[0m\n\u001b[0;32m     24\u001b[0m             \u001b[1;32mif\u001b[0m \u001b[1;33m(\u001b[0m\u001b[0mpixel\u001b[0m \u001b[1;32mnot\u001b[0m \u001b[1;32min\u001b[0m \u001b[0mscanned_pixels\u001b[0m\u001b[1;33m)\u001b[0m\u001b[1;33m:\u001b[0m\u001b[1;33m\u001b[0m\u001b[1;33m\u001b[0m\u001b[0m\n\u001b[1;32m---> 25\u001b[1;33m                 \u001b[0mscanned_pixels\u001b[0m\u001b[1;33m.\u001b[0m\u001b[0mappend\u001b[0m\u001b[1;33m(\u001b[0m\u001b[0mpixel\u001b[0m\u001b[1;33m)\u001b[0m\u001b[1;33m\u001b[0m\u001b[1;33m\u001b[0m\u001b[0m\n\u001b[0m\u001b[0;32m     26\u001b[0m \u001b[1;33m\u001b[0m\u001b[0m\n",
      "\u001b[1;31mKeyboardInterrupt\u001b[0m: "
     ]
    }
   ],
   "source": [
    "layer = 10\n",
    "scanned_pixels = []\n",
    "for (sender,beacon), m_dist in zip(B_map.dict_of_senders.items(),B_map.m_distances):\n",
    "    y_pos = sender[1]\n",
    "    if y_pos > layer:\n",
    "        x_range = m_dist - (y_pos - layer)\n",
    "        \n",
    "    if y_pos < layer:\n",
    "        x_range = m_dist - (layer-y_pos) \n",
    "    \n",
    "    \n",
    "    if x_range == 0:\n",
    "        pixel = (sender[0],layer)\n",
    "        if (pixel not in scanned_pixels):\n",
    "            scanned_pixels.append(pixel)\n",
    "    \n",
    "    else:\n",
    "        for i in range(x_range+1):\n",
    "            pixel = (i+sender[0],layer)\n",
    "            if (pixel not in scanned_pixels):\n",
    "                scanned_pixels.append(pixel)\n",
    "\n",
    "            pixel = (sender[0]-i,layer)\n",
    "            if (pixel not in scanned_pixels):\n",
    "                scanned_pixels.append(pixel)\n",
    "    \n"
   ]
  },
  {
   "cell_type": "code",
   "execution_count": 143,
   "id": "f032498f",
   "metadata": {},
   "outputs": [
    {
     "data": {
      "text/plain": [
       "26"
      ]
     },
     "execution_count": 143,
     "metadata": {},
     "output_type": "execute_result"
    }
   ],
   "source": [
    "len(scanned_pixels)-len(not_scanned)"
   ]
  },
  {
   "cell_type": "code",
   "execution_count": 142,
   "id": "f6bc9418",
   "metadata": {},
   "outputs": [
    {
     "data": {
      "text/plain": [
       "[(8, 10),\n",
       " (9, 10),\n",
       " (7, 10),\n",
       " (10, 10),\n",
       " (6, 10),\n",
       " (11, 10),\n",
       " (5, 10),\n",
       " (12, 10),\n",
       " (4, 10),\n",
       " (13, 10),\n",
       " (3, 10),\n",
       " (14, 10),\n",
       " (2, 10),\n",
       " (0, 10),\n",
       " (1, 10),\n",
       " (-1, 10),\n",
       " (-2, 10),\n",
       " (20, 10),\n",
       " (21, 10),\n",
       " (19, 10),\n",
       " (22, 10),\n",
       " (18, 10),\n",
       " (23, 10),\n",
       " (17, 10),\n",
       " (24, 10),\n",
       " (16, 10),\n",
       " (15, 10)]"
      ]
     },
     "execution_count": 142,
     "metadata": {},
     "output_type": "execute_result"
    }
   ],
   "source": [
    "scanned_pixels"
   ]
  },
  {
   "cell_type": "code",
   "execution_count": 279,
   "id": "86b40896",
   "metadata": {},
   "outputs": [
    {
     "name": "stdout",
     "output_type": "stream",
     "text": [
      "(12, 14) 4\n",
      "[(12, 10)]\n",
      "(8, 7) 9\n",
      "[(12, 10), (8, 10), (9, 10), (7, 10), (10, 10), (6, 10), (11, 10), (5, 10), (4, 10), (13, 10), (3, 10), (14, 10), (2, 10)]\n",
      "(0, 11) 3\n",
      "[(12, 10), (8, 10), (9, 10), (7, 10), (10, 10), (6, 10), (11, 10), (5, 10), (4, 10), (13, 10), (3, 10), (14, 10), (2, 10), (0, 10), (1, 10), (-1, 10), (-2, 10)]\n",
      "(20, 14) 8\n",
      "[(12, 10), (8, 10), (9, 10), (7, 10), (10, 10), (6, 10), (11, 10), (5, 10), (4, 10), (13, 10), (3, 10), (14, 10), (2, 10), (0, 10), (1, 10), (-1, 10), (-2, 10), (20, 10), (21, 10), (19, 10), (22, 10), (18, 10), (23, 10), (17, 10), (24, 10), (16, 10)]\n",
      "(16, 7) 5\n",
      "[(12, 10), (8, 10), (9, 10), (7, 10), (10, 10), (6, 10), (11, 10), (5, 10), (4, 10), (13, 10), (3, 10), (14, 10), (2, 10), (0, 10), (1, 10), (-1, 10), (-2, 10), (20, 10), (21, 10), (19, 10), (22, 10), (18, 10), (23, 10), (17, 10), (24, 10), (16, 10), (15, 10)]\n"
     ]
    }
   ],
   "source": [
    "layer = 10\n",
    "scanned_pixels = []\n",
    "for (sender,beacon), m_dist in zip(B_map10.dict_of_senders.items(),B_map10.m_distances):\n",
    "    y_pos = sender[1]\n",
    "    if y_pos > layer:\n",
    "        x_range = m_dist - (y_pos - layer)\n",
    "        \n",
    "    if y_pos < layer:\n",
    "        x_range = m_dist - (layer-y_pos) \n",
    "    \n",
    "    if x_range == 0:\n",
    "        pixel = (sender[0],layer)\n",
    "        scanned_pixels.append(pixel)\n",
    "    \n",
    "    else:\n",
    "        for i in range(x_range+1):\n",
    "            pixel = (i+sender[0],layer)\n",
    "            if (pixel not in scanned_pixels):\n",
    "                scanned_pixels.append(pixel)\n",
    "\n",
    "            pixel = (sender[0]-i,layer)\n",
    "            if (pixel not in scanned_pixels):\n",
    "                scanned_pixels.append(pixel)"
   ]
  },
  {
   "cell_type": "code",
   "execution_count": 281,
   "id": "abdbdfa0",
   "metadata": {},
   "outputs": [
    {
     "data": {
      "text/plain": [
       "27"
      ]
     },
     "execution_count": 281,
     "metadata": {},
     "output_type": "execute_result"
    }
   ],
   "source": [
    "len(scanned_pixels)"
   ]
  },
  {
   "cell_type": "code",
   "execution_count": 257,
   "id": "b85365dc",
   "metadata": {},
   "outputs": [
    {
     "data": {
      "image/png": "[encoded data removed]",
      "text/plain": [
       "<Figure size 1080x720 with 1 Axes>"
      ]
     },
     "metadata": {
      "needs_background": "light"
     },
     "output_type": "display_data"
    }
   ],
   "source": [
    "B_map10.draw_map(layer_highlight=True,layer=10)"
   ]
  },
  {
   "cell_type": "code",
   "execution_count": null,
   "id": "2abd582d",
   "metadata": {},
   "outputs": [],
   "source": []
  },
  {
   "cell_type": "code",
   "execution_count": null,
   "id": "bba5afba",
   "metadata": {},
   "outputs": [],
   "source": []
  },
  {
   "cell_type": "code",
   "execution_count": null,
   "id": "5d64f956",
   "metadata": {},
   "outputs": [],
   "source": []
  },
  {
   "cell_type": "code",
   "execution_count": 376,
   "id": "f4d980af",
   "metadata": {},
   "outputs": [],
   "source": [
    "sort_x = sorted(coord_list, key = lambda x: min(x[0][0],x[1][0]))\n",
    "(x_s,y_s),(x_b,y_b) = sort_x[0]\n",
    "x_min = abs(min(x_s,x_b))\n",
    "padding_x_low = abs(x_s-x_b)+abs(y_s-y_b)\n",
    "(x_s,y_s),(x_b,y_b) = sort_x[-1]\n",
    "x_max = max(x_s,x_b)\n",
    "padding_x_high = abs(x_s-x_b)+abs(y_s-y_b)\n",
    "\n",
    "sort_y = sorted(coord_list, key = lambda x: min(x[0][1],x[1][1]))\n",
    "(x_s,y_s),(x_b,y_b) = sort_y[0]\n",
    "y_min = abs(min(y_s,y_b))\n",
    "padding_y_low = abs(x_s-x_b)+abs(y_s-y_b)\n",
    "(x_s,y_s),(x_b,y_b) = sort_y[-1]\n",
    "y_max = max(y_s,y_b)\n",
    "padding_y_high = abs(x_s-x_b)+abs(y_s-y_b)\n",
    "padding = max(padding_x_high,padding_x_low,padding_y_high,padding_y_low)"
   ]
  },
  {
   "cell_type": "code",
   "execution_count": 377,
   "id": "32680f88",
   "metadata": {},
   "outputs": [
    {
     "name": "stdout",
     "output_type": "stream",
     "text": [
      "2 0\n",
      "25 22\n"
     ]
    }
   ],
   "source": [
    "print(x_min,y_min)\n",
    "print(x_max,y_max)"
   ]
  },
  {
   "cell_type": "code",
   "execution_count": 378,
   "id": "8fca881f",
   "metadata": {},
   "outputs": [],
   "source": [
    "beacon_mp = beacon_map(x_max+x_min,y_max+y_min,padding=padding)\n"
   ]
  },
  {
   "cell_type": "code",
   "execution_count": 379,
   "id": "05e3e19a",
   "metadata": {},
   "outputs": [],
   "source": [
    "\n",
    "for sensor, beacon in coord_list:\n",
    "    x_s, y_s = sensor\n",
    "    x_b, y_b = beacon\n",
    "    beacon_mp.get_values()[y_s+y_min+padding,x_s+x_min+padding] = [1,1,1]\n",
    "    beacon_mp.get_values()[y_b+y_min+padding,x_b+x_min+padding] = [0,1,1]\n",
    "    m_dist = abs(x_s-x_b)+abs(y_s-y_b)\n",
    "    for i in range(1,m_dist+1):\n",
    "        paint_square(beacon_mp,x_s+x_min+padding,y_s+y_min+padding,i)\n",
    "    beacon_mp.get_values()[y_s+y_min+padding,x_s+x_min+padding] = [1,1,1]\n",
    "    beacon_mp.get_values()[y_b+y_min+padding,x_b+x_min+padding] = [0,1,1]"
   ]
  },
  {
   "cell_type": "code",
   "execution_count": 380,
   "id": "33291010",
   "metadata": {},
   "outputs": [
    {
     "data": {
      "image/png": "[encoded data removed]",
      "text/plain": [
       "<Figure size 1080x720 with 1 Axes>"
      ]
     },
     "metadata": {
      "needs_background": "light"
     },
     "output_type": "display_data"
    }
   ],
   "source": [
    "beacon_mp.draw_map()"
   ]
  },
  {
   "cell_type": "code",
   "execution_count": 381,
   "id": "8106e963",
   "metadata": {},
   "outputs": [],
   "source": [
    "counter = 0\n",
    "for pixel in beacon_mp.get_values()[10+y_min+padding,:]:\n",
    "    if pixel.sum() == 1:\n",
    "        counter += 1"
   ]
  },
  {
   "cell_type": "code",
   "execution_count": 382,
   "id": "13784983",
   "metadata": {},
   "outputs": [
    {
     "data": {
      "text/plain": [
       "26"
      ]
     },
     "execution_count": 382,
     "metadata": {},
     "output_type": "execute_result"
    }
   ],
   "source": [
    "counter"
   ]
  },
  {
   "cell_type": "code",
   "execution_count": null,
   "id": "8b062319",
   "metadata": {},
   "outputs": [],
   "source": []
  },
  {
   "cell_type": "code",
   "execution_count": null,
   "id": "6700339e",
   "metadata": {},
   "outputs": [],
   "source": []
  },
  {
   "cell_type": "code",
   "execution_count": null,
   "id": "758a8676",
   "metadata": {},
   "outputs": [],
   "source": []
  },
  {
   "cell_type": "code",
   "execution_count": null,
   "id": "4b704b72",
   "metadata": {},
   "outputs": [],
   "source": []
  },
  {
   "cell_type": "code",
   "execution_count": null,
   "id": "b666b380",
   "metadata": {},
   "outputs": [],
   "source": []
  },
  {
   "cell_type": "code",
   "execution_count": null,
   "id": "1c2e03d8",
   "metadata": {},
   "outputs": [],
   "source": []
  },
  {
   "cell_type": "code",
   "execution_count": 252,
   "id": "afe9b250",
   "metadata": {},
   "outputs": [],
   "source": [
    "sensor = coord_list[0][0]\n",
    "beacon = coord_list[0][1]"
   ]
  },
  {
   "cell_type": "code",
   "execution_count": 253,
   "id": "9aed3fb0",
   "metadata": {},
   "outputs": [],
   "source": [
    "x_s, y_s = sensor"
   ]
  },
  {
   "cell_type": "code",
   "execution_count": 254,
   "id": "ebc8590c",
   "metadata": {},
   "outputs": [],
   "source": [
    "beacon_mp.get_values()[y_s,x_s] = [1,1,1]"
   ]
  },
  {
   "cell_type": "code",
   "execution_count": 255,
   "id": "cedf5c01",
   "metadata": {},
   "outputs": [],
   "source": [
    "x_b,y_b =beacon"
   ]
  },
  {
   "cell_type": "code",
   "execution_count": 256,
   "id": "1a584109",
   "metadata": {},
   "outputs": [],
   "source": [
    "beacon_mp.get_values()[y_b,x_b] = [0,1,1]"
   ]
  },
  {
   "cell_type": "code",
   "execution_count": 287,
   "id": "33658187",
   "metadata": {},
   "outputs": [
    {
     "data": {
      "image/png": "[encoded data removed]",
      "text/plain": [
       "<Figure size 1080x720 with 1 Axes>"
      ]
     },
     "metadata": {
      "needs_background": "light"
     },
     "output_type": "display_data"
    }
   ],
   "source": [
    "beacon_mp.draw_map()"
   ]
  },
  {
   "cell_type": "code",
   "execution_count": 258,
   "id": "fd4b6993",
   "metadata": {},
   "outputs": [
    {
     "name": "stdout",
     "output_type": "stream",
     "text": [
      "4 18\n"
     ]
    }
   ],
   "source": [
    "print(x_s,y_s)"
   ]
  },
  {
   "cell_type": "code",
   "execution_count": 259,
   "id": "cd3cbd3b",
   "metadata": {},
   "outputs": [
    {
     "name": "stdout",
     "output_type": "stream",
     "text": [
      "0 15\n"
     ]
    }
   ],
   "source": [
    "print(x_b,y_b)"
   ]
  },
  {
   "cell_type": "code",
   "execution_count": 274,
   "id": "340768e3",
   "metadata": {},
   "outputs": [],
   "source": [
    "def paint_square(array,x_s,y_s,m_dist):\n",
    "    range_order = [*range(m_dist+1)]\n",
    "    range_reverse = list(reversed(range_order))\n",
    "    bottom_right = [(x_s+x,y_s+y) for x, y in zip(range_order,range_reverse)]\n",
    "    top_left = [(x_s-x,y_s-y) for x, y in zip(range_order,range_reverse)]\n",
    "    bottom_left = [(x_s-x,y_s+y) for x, y in zip(range_order,range_reverse)]\n",
    "    top_right = [(x_s+x,y_s-y) for x, y in zip(range_order,range_reverse)]\n",
    "    square = list(chain(bottom_left,bottom_right,top_left,top_right))\n",
    "\n",
    "    "
   ]
  },
  {
   "cell_type": "code",
   "execution_count": 275,
   "id": "cb71398f",
   "metadata": {},
   "outputs": [],
   "source": [
    "m_dist = abs(x_s-x_b)+abs(y_s-y_b)\n",
    "# range_order = [*range(m_dist+1)]\n",
    "# range_reverse = list(reversed(range_order))\n",
    "# bottom_right = [(x_s+x,y_s+y) for x, y in zip(range_order,range_reverse)]\n",
    "# top_left = [(x_s-x,y_s-y) for x, y in zip(range_order,range_reverse)]\n",
    "# bottom_left = [(x_s-x,y_s+y) for x, y in zip(range_order,range_reverse)]\n",
    "# top_right = [(x_s+x,y_s-y) for x, y in zip(range_order,range_reverse)]"
   ]
  },
  {
   "cell_type": "code",
   "execution_count": 276,
   "id": "c1bae7d6",
   "metadata": {},
   "outputs": [],
   "source": [
    "# square = list(chain(bottom_left,bottom_right,top_left,top_right))"
   ]
  },
  {
   "cell_type": "code",
   "execution_count": 277,
   "id": "9cebb101",
   "metadata": {},
   "outputs": [],
   "source": [
    "# for (x,y) in square:\n",
    "#     if (y < beacon_mp.y)&(x<beacon_mp.x)&(y >= 0)&(x>=0):\n",
    "#         beacon_mp.get_values()[y,x] = [0,0,1]"
   ]
  },
  {
   "cell_type": "code",
   "execution_count": 278,
   "id": "af787d2f",
   "metadata": {},
   "outputs": [
    {
     "name": "stdout",
     "output_type": "stream",
     "text": [
      "1\n",
      "2\n",
      "3\n",
      "4\n",
      "5\n",
      "6\n",
      "7\n"
     ]
    }
   ],
   "source": [
    "for i in range(1,m_dist+1):\n",
    "    paint_square(beacon_mp,x_s,y_s,i)"
   ]
  },
  {
   "cell_type": "code",
   "execution_count": 279,
   "id": "b80f2e16",
   "metadata": {},
   "outputs": [
    {
     "data": {
      "image/png": "[encoded data removed]",
      "text/plain": [
       "<Figure size 1080x720 with 1 Axes>"
      ]
     },
     "metadata": {
      "needs_background": "light"
     },
     "output_type": "display_data"
    }
   ],
   "source": [
    "beacon_mp.draw_map()"
   ]
  },
  {
   "cell_type": "code",
   "execution_count": null,
   "id": "eec25701",
   "metadata": {},
   "outputs": [],
   "source": []
  }
 ],
 "metadata": {
  "kernelspec": {
   "display_name": "Python 3",
   "language": "python",
   "name": "python3"
  },
  "language_info": {
   "codemirror_mode": {
    "name": "ipython",
    "version": 3
   },
   "file_extension": ".py",
   "mimetype": "text/x-python",
   "name": "python",
   "nbconvert_exporter": "python",
   "pygments_lexer": "ipython3",
   "version": "3.8.8"
  }
 },
 "nbformat": 4,
 "nbformat_minor": 5
}

{
 "cells": [
  {
   "cell_type": "code",
   "execution_count": 158,
   "id": "0361de4b",
   "metadata": {},
   "outputs": [],
   "source": [
    "import numpy as np\n",
    "import pandas as pd\n",
    "import matplotlib.pyplot as plt\n",
    "from collections import Counter"
   ]
  },
  {
   "cell_type": "code",
   "execution_count": 69,
   "id": "e315a5db",
   "metadata": {},
   "outputs": [],
   "source": [
    "class square():\n",
    "    def __init__(self, n_rows, n_columns, dimensions = 3):\n",
    "        self.n_rows = n_rows\n",
    "        self.n_columns = n_columns\n",
    "        self.dimensions = dimensions\n",
    "        self.current_image = np.zeros((self.n_rows,self.n_columns,self.dimensions))\n",
    "        \n",
    "    def get_values(self):\n",
    "        print(\"Current shape: \", self.current_image.shape)\n",
    "        return self.current_image\n",
    "    \n",
    "    def draw_square(self, save = False):\n",
    "        fig, ax = plt.subplots(figsize=(15,10))\n",
    "        plt.imshow(self.current_image)\n",
    "        if save:\n",
    "            plt.savefig(\"cool_fig.jpg\")\n",
    "        plt.show()\n",
    "    \n",
    "    def change_cell(self, row, column, color = [1,1,1]):\n",
    "        self.current_image[row,column] = color\n",
    "    \n",
    "    def reshape_square(self, add_row = False, add_column = False,  to_end = True):\n",
    "        \n",
    "        if add_row:\n",
    "            def stack_func(x): \n",
    "                return np.vstack(x)\n",
    "            s_add = np.zeros((1,self.n_columns,self.dimensions))\n",
    "        if add_column:\n",
    "            def stack_func(x): \n",
    "                return np.hstack(x)\n",
    "            s_add = np.zeros((self.n_rows,1,self.dimensions))\n",
    "        \n",
    "        \n",
    "        list_of_squares = [s_add, self.current_image]\n",
    "        if to_end:\n",
    "            list_of_squares.reverse()\n",
    "        \n",
    "        self.current_image = stack_func(list_of_squares)\n",
    "        self.n_rows, self.n_columns, self.dimension = self.current_image.shape\n",
    "    \n",
    "    def add_frame(self):\n",
    "        self.reshape_square(add_row = True)\n",
    "        self.reshape_square(add_column = True)\n",
    "        self.reshape_square(add_row = True, to_end = False)\n",
    "        self.reshape_square(add_column = True, to_end = False)"
   ]
  },
  {
   "cell_type": "code",
   "execution_count": 222,
   "id": "24f56771",
   "metadata": {},
   "outputs": [],
   "source": [
    "def neighbours(elfs_pos, pos):\n",
    "    pos = np.array(pos)\n",
    "    nw = pos + np.array([-1,-1])\n",
    "    n = pos + np.array([-1,0])\n",
    "    ne = pos + np.array([-1,1])\n",
    "    e = pos + np.array([0,1])\n",
    "    se = pos + np.array([1,1])\n",
    "    s = pos + np.array([1,0])\n",
    "    sw = pos + np.array([1,-1])\n",
    "    w = pos + np.array([0,-1])\n",
    "    \n",
    "    suggest_direct = {\"n\":n,\"s\":s,\"w\":w,\"e\":e}\n",
    "    \n",
    "    for neigh in [nw, n, ne]:\n",
    "        if tuple(neigh) in elfs_pos:\n",
    "            del suggest_direct[\"n\"]\n",
    "            break\n",
    "            \n",
    "    for neigh in [sw,s,se]:\n",
    "        if tuple(neigh) in elfs_pos:\n",
    "            del suggest_direct[\"s\"]\n",
    "            break\n",
    "    \n",
    "    for neigh in [nw, w, sw]:\n",
    "        if tuple(neigh) in elfs_pos:\n",
    "            del suggest_direct[\"w\"]\n",
    "            break\n",
    "    \n",
    "    for neigh in [ne, e, se]:\n",
    "        if tuple(neigh) in elfs_pos:\n",
    "            del suggest_direct[\"e\"]\n",
    "            break\n",
    "    \n",
    "    dict_values = list(suggest_direct.values())\n",
    "    \n",
    "    if (len(dict_values) == 0) or (len(dict_values) == 4):\n",
    "        return tuple(pos)\n",
    "    \n",
    "    else:\n",
    "        return tuple(dict_values[0])"
   ]
  },
  {
   "cell_type": "code",
   "execution_count": 223,
   "id": "431b2e64",
   "metadata": {},
   "outputs": [],
   "source": [
    "input_ = \"\"\"....#..\n",
    "..###.#\n",
    "#...#.#\n",
    ".#...##\n",
    "#.###..\n",
    "##.#.##\n",
    ".#..#..\"\"\".split(\"\\n\")"
   ]
  },
  {
   "cell_type": "code",
   "execution_count": 241,
   "id": "d526f69a",
   "metadata": {},
   "outputs": [],
   "source": [
    "directions = [\"n\", \"s\", \"w\", \"e\"]\n",
    "elf_pos = []\n",
    "row_max = 0\n",
    "column_max = 0\n",
    "for i, row in enumerate(input_):\n",
    "    for j, column in enumerate(row):\n",
    "        if column == \"#\":\n",
    "            if i > row_max:\n",
    "                row_max = i\n",
    "            if j > column_max:\n",
    "                column_max = j\n",
    "            elf_pos.append((directions,i,j))\n",
    "elfs = {k:v for k, v in enumerate(elf_pos)}"
   ]
  },
  {
   "cell_type": "code",
   "execution_count": 243,
   "id": "f22fa753",
   "metadata": {},
   "outputs": [
    {
     "data": {
      "text/plain": [
       "{0: (['n', 's', 'w', 'e'], 0, 4),\n",
       " 1: (['n', 's', 'w', 'e'], 1, 2),\n",
       " 2: (['n', 's', 'w', 'e'], 1, 3),\n",
       " 3: (['n', 's', 'w', 'e'], 1, 4),\n",
       " 4: (['n', 's', 'w', 'e'], 1, 6),\n",
       " 5: (['n', 's', 'w', 'e'], 2, 0),\n",
       " 6: (['n', 's', 'w', 'e'], 2, 4),\n",
       " 7: (['n', 's', 'w', 'e'], 2, 6),\n",
       " 8: (['n', 's', 'w', 'e'], 3, 1),\n",
       " 9: (['n', 's', 'w', 'e'], 3, 5),\n",
       " 10: (['n', 's', 'w', 'e'], 3, 6),\n",
       " 11: (['n', 's', 'w', 'e'], 4, 0),\n",
       " 12: (['n', 's', 'w', 'e'], 4, 2),\n",
       " 13: (['n', 's', 'w', 'e'], 4, 3),\n",
       " 14: (['n', 's', 'w', 'e'], 4, 4),\n",
       " 15: (['n', 's', 'w', 'e'], 5, 0),\n",
       " 16: (['n', 's', 'w', 'e'], 5, 1),\n",
       " 17: (['n', 's', 'w', 'e'], 5, 3),\n",
       " 18: (['n', 's', 'w', 'e'], 5, 5),\n",
       " 19: (['n', 's', 'w', 'e'], 5, 6),\n",
       " 20: (['n', 's', 'w', 'e'], 6, 1),\n",
       " 21: (['n', 's', 'w', 'e'], 6, 4)}"
      ]
     },
     "execution_count": 243,
     "metadata": {},
     "output_type": "execute_result"
    }
   ],
   "source": [
    "elfs"
   ]
  },
  {
   "cell_type": "code",
   "execution_count": 235,
   "id": "58506182",
   "metadata": {},
   "outputs": [],
   "source": [
    "moves = {}\n",
    "for elf, elf_pos in elfs.items():\n",
    "    new_pos = neighbours(elfs.values(), elf_pos)\n",
    "    if new_pos != elf_pos:\n",
    "        moves[elf] = new_pos\n",
    "\n",
    "dub = [k for k, v in Counter(moves.values()).items() if v > 1]\n",
    "\n",
    "moves_copy = moves.copy()\n",
    "for elf, move in moves_copy.items():\n",
    "    if move in dub:\n",
    "        del moves[elf]\n",
    "\n",
    "for elf, new_pos in moves.items():\n",
    "    elfs[elf] = new_pos"
   ]
  },
  {
   "cell_type": "code",
   "execution_count": 236,
   "id": "b6ad763a",
   "metadata": {},
   "outputs": [],
   "source": [
    "row_min = 0\n",
    "col_min = 0\n",
    "row_max = 0\n",
    "col_max = 0\n",
    "\n",
    "for row, col in elfs.values():\n",
    "    row_min = min(row, row_min)\n",
    "    row_max = max(row, row_max)\n",
    "    col_min = min(col, col_min)\n",
    "    col_max = max(col, col_max)\n",
    "        \n",
    "    "
   ]
  },
  {
   "cell_type": "code",
   "execution_count": 237,
   "id": "5108e8fe",
   "metadata": {},
   "outputs": [],
   "source": [
    "s_test = square(20,20)"
   ]
  },
  {
   "cell_type": "code",
   "execution_count": 238,
   "id": "fa08750f",
   "metadata": {},
   "outputs": [],
   "source": [
    "for i, (row, column) in elfs.items():\n",
    "    s_test.change_cell(row + abs(row_min), column + abs(col_min))"
   ]
  },
  {
   "cell_type": "code",
   "execution_count": 239,
   "id": "b71da4dd",
   "metadata": {},
   "outputs": [
    {
     "data": {
      "image/png": "[encoded data removed]",
      "text/plain": [
       "<Figure size 1500x1000 with 1 Axes>"
      ]
     },
     "metadata": {},
     "output_type": "display_data"
    }
   ],
   "source": [
    "s_test.draw_square()"
   ]
  },
  {
   "cell_type": "code",
   "execution_count": null,
   "id": "c5844066",
   "metadata": {},
   "outputs": [],
   "source": []
  },
  {
   "cell_type": "code",
   "execution_count": null,
   "id": "348664df",
   "metadata": {},
   "outputs": [],
   "source": []
  },
  {
   "cell_type": "code",
   "execution_count": 174,
   "id": "5c2123da",
   "metadata": {},
   "outputs": [],
   "source": [
    "moves = {}\n",
    "for elf, elf_pos in elfs.items():\n",
    "    new_pos = neighbours(elfs.values(), elf_pos)\n",
    "    if new_pos != elf_pos:\n",
    "        moves[elf] = new_pos"
   ]
  },
  {
   "cell_type": "code",
   "execution_count": 175,
   "id": "726bb1ea",
   "metadata": {},
   "outputs": [],
   "source": [
    "dub = [k for k, v in Counter(moves.values()).items() if v > 1]\n",
    "\n",
    "moves_copy = moves.copy()\n",
    "for elf, move in moves_copy.items():\n",
    "    if move in dub:\n",
    "        del moves[elf]"
   ]
  },
  {
   "cell_type": "code",
   "execution_count": 177,
   "id": "ba1dceee",
   "metadata": {},
   "outputs": [],
   "source": [
    "for elf, new_pos in moves.items():\n",
    "    elfs[elf] = new_pos"
   ]
  },
  {
   "cell_type": "code",
   "execution_count": 178,
   "id": "e2c98fb7",
   "metadata": {},
   "outputs": [
    {
     "data": {
      "text/plain": [
       "{0: (-1, 4),\n",
       " 1: (0, 2),\n",
       " 2: (1, 3),\n",
       " 3: (1, 5),\n",
       " 4: (0, 6),\n",
       " 5: (1, 0),\n",
       " 6: (2, 4),\n",
       " 7: (2, 7),\n",
       " 8: (3, 1),\n",
       " 9: (3, 5),\n",
       " 10: (3, 6),\n",
       " 11: (4, -1),\n",
       " 12: (4, 2),\n",
       " 13: (3, 3),\n",
       " 14: (4, 4),\n",
       " 15: (5, -1),\n",
       " 16: (5, 1),\n",
       " 17: (5, 3),\n",
       " 18: (5, 5),\n",
       " 19: (5, 6),\n",
       " 20: (7, 1),\n",
       " 21: (7, 4)}"
      ]
     },
     "execution_count": 178,
     "metadata": {},
     "output_type": "execute_result"
    }
   ],
   "source": [
    "elfs"
   ]
  },
  {
   "cell_type": "code",
   "execution_count": null,
   "id": "31af9e06",
   "metadata": {},
   "outputs": [],
   "source": []
  },
  {
   "cell_type": "code",
   "execution_count": null,
   "id": "0b9eddb5",
   "metadata": {},
   "outputs": [],
   "source": []
  },
  {
   "cell_type": "code",
   "execution_count": 45,
   "id": "8ffcccb9",
   "metadata": {},
   "outputs": [
    {
     "name": "stdout",
     "output_type": "stream",
     "text": [
      "Current shape:  (3, 3, 3)\n"
     ]
    },
    {
     "data": {
      "text/plain": [
       "array([[[0., 0., 0.],\n",
       "        [0., 0., 0.],\n",
       "        [0., 0., 0.]],\n",
       "\n",
       "       [[0., 0., 0.],\n",
       "        [1., 1., 1.],\n",
       "        [0., 0., 0.]],\n",
       "\n",
       "       [[0., 0., 0.],\n",
       "        [0., 0., 0.],\n",
       "        [0., 0., 0.]]])"
      ]
     },
     "execution_count": 45,
     "metadata": {},
     "output_type": "execute_result"
    }
   ],
   "source": [
    "s0.get_values()"
   ]
  },
  {
   "cell_type": "code",
   "execution_count": 48,
   "id": "ca920870",
   "metadata": {},
   "outputs": [],
   "source": [
    "s0.reshape_square(add_row = True,add_column = False,  to_end = True)"
   ]
  },
  {
   "cell_type": "code",
   "execution_count": 49,
   "id": "91c99260",
   "metadata": {},
   "outputs": [
    {
     "data": {
      "image/png": "[encoded data removed]",
      "text/plain": [
       "<Figure size 1500x1000 with 1 Axes>"
      ]
     },
     "metadata": {},
     "output_type": "display_data"
    }
   ],
   "source": [
    "s0.draw_square()"
   ]
  },
  {
   "cell_type": "code",
   "execution_count": 50,
   "id": "7bbb5af5",
   "metadata": {},
   "outputs": [],
   "source": []
  },
  {
   "cell_type": "code",
   "execution_count": 51,
   "id": "46eb4255",
   "metadata": {},
   "outputs": [
    {
     "data": {
      "text/plain": [
       "['....#..', '..###.#', '#...#.#', '.#...##', '#.###..', '##.#.##', '.#..#..']"
      ]
     },
     "execution_count": 51,
     "metadata": {},
     "output_type": "execute_result"
    }
   ],
   "source": [
    "input_"
   ]
  },
  {
   "cell_type": "code",
   "execution_count": 54,
   "id": "75a85f85",
   "metadata": {},
   "outputs": [],
   "source": []
  },
  {
   "cell_type": "code",
   "execution_count": 57,
   "id": "04626385",
   "metadata": {},
   "outputs": [
    {
     "data": {
      "text/plain": [
       "(6, 6)"
      ]
     },
     "execution_count": 57,
     "metadata": {},
     "output_type": "execute_result"
    }
   ],
   "source": [
    "row_max, column_max"
   ]
  },
  {
   "cell_type": "code",
   "execution_count": 55,
   "id": "8179c3b0",
   "metadata": {},
   "outputs": [
    {
     "data": {
      "text/plain": [
       "[(0, 4),\n",
       " (1, 2),\n",
       " (1, 3),\n",
       " (1, 4),\n",
       " (1, 6),\n",
       " (2, 0),\n",
       " (2, 4),\n",
       " (2, 6),\n",
       " (3, 1),\n",
       " (3, 5),\n",
       " (3, 6),\n",
       " (4, 0),\n",
       " (4, 2),\n",
       " (4, 3),\n",
       " (4, 4),\n",
       " (5, 0),\n",
       " (5, 1),\n",
       " (5, 3),\n",
       " (5, 5),\n",
       " (5, 6),\n",
       " (6, 1),\n",
       " (6, 4)]"
      ]
     },
     "execution_count": 55,
     "metadata": {},
     "output_type": "execute_result"
    }
   ],
   "source": [
    "elf_pos"
   ]
  }
 ],
 "metadata": {
  "kernelspec": {
   "display_name": "Python 3 (ipykernel)",
   "language": "python",
   "name": "python3"
  },
  "language_info": {
   "codemirror_mode": {
    "name": "ipython",
    "version": 3
   },
   "file_extension": ".py",
   "mimetype": "text/x-python",
   "name": "python",
   "nbconvert_exporter": "python",
   "pygments_lexer": "ipython3",
   "version": "3.11.3"
  }
 },
 "nbformat": 4,
 "nbformat_minor": 5
}

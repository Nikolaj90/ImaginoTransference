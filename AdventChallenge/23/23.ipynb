{
 "cells": [
  {
   "cell_type": "code",
   "execution_count": 1,
   "id": "0361de4b",
   "metadata": {},
   "outputs": [],
   "source": [
    "import numpy as np\n",
    "import pandas as pd\n",
    "import matplotlib.pyplot as plt\n",
    "from collections import Counter"
   ]
  },
  {
   "cell_type": "code",
   "execution_count": 3,
   "id": "e315a5db",
   "metadata": {},
   "outputs": [],
   "source": [
    "class square():\n",
    "    def __init__(self, n_rows, n_columns, dimensions = 3):\n",
    "        self.n_rows = n_rows\n",
    "        self.n_columns = n_columns\n",
    "        self.dimensions = dimensions\n",
    "        self.current_image = np.zeros((self.n_rows,self.n_columns,self.dimensions))\n",
    "        \n",
    "    def get_values(self):\n",
    "        print(\"Current shape: \", self.current_image.shape)\n",
    "        return self.current_image\n",
    "    \n",
    "    def draw_square(self, save = False):\n",
    "        fig, ax = plt.subplots(figsize=(15,10))\n",
    "        plt.imshow(self.current_image)\n",
    "        if save:\n",
    "            plt.savefig(\"cool_fig.jpg\")\n",
    "        plt.show()\n",
    "    \n",
    "    def change_cell(self, row, column, color = [1,1,1]):\n",
    "        self.current_image[row,column] = color\n",
    "    \n",
    "    def reshape_square(self, add_row = False, add_column = False,  to_end = True):\n",
    "        \n",
    "        if add_row:\n",
    "            def stack_func(x): \n",
    "                return np.vstack(x)\n",
    "            s_add = np.zeros((1,self.n_columns,self.dimensions))\n",
    "        if add_column:\n",
    "            def stack_func(x): \n",
    "                return np.hstack(x)\n",
    "            s_add = np.zeros((self.n_rows,1,self.dimensions))\n",
    "        \n",
    "        \n",
    "        list_of_squares = [s_add, self.current_image]\n",
    "        if to_end:\n",
    "            list_of_squares.reverse()\n",
    "        \n",
    "        self.current_image = stack_func(list_of_squares)\n",
    "        self.n_rows, self.n_columns, self.dimension = self.current_image.shape\n",
    "    \n",
    "    def add_frame(self):\n",
    "        self.reshape_square(add_row = True)\n",
    "        self.reshape_square(add_column = True)\n",
    "        self.reshape_square(add_row = True, to_end = False)\n",
    "        self.reshape_square(add_column = True, to_end = False)"
   ]
  },
  {
   "cell_type": "code",
   "execution_count": 2,
   "id": "24f56771",
   "metadata": {},
   "outputs": [],
   "source": [
    "def neighbours(elfs_pos, pos, elf_directions):\n",
    "    pos = np.array(pos)\n",
    "    nw = pos + np.array([-1,-1])\n",
    "    n = pos + np.array([-1,0])\n",
    "    ne = pos + np.array([-1,1])\n",
    "    e = pos + np.array([0,1])\n",
    "    se = pos + np.array([1,1])\n",
    "    s = pos + np.array([1,0])\n",
    "    sw = pos + np.array([1,-1])\n",
    "    w = pos + np.array([0,-1])\n",
    "    \n",
    "    \n",
    "    directions_ = {\"n\":n,\"s\":s,\"w\":w,\"e\":e}\n",
    "    directions_ = {dir_: directions_[dir_] for dir_ in elf_directions}\n",
    "        \n",
    "    for neigh in [nw, n, ne]:\n",
    "        if tuple(neigh) in elfs_pos:\n",
    "            del directions_[\"n\"]\n",
    "            break\n",
    "            \n",
    "    for neigh in [sw,s,se]:\n",
    "        if tuple(neigh) in elfs_pos:\n",
    "            del directions_[\"s\"]\n",
    "            break\n",
    "    \n",
    "    for neigh in [nw, w, sw]:\n",
    "        if tuple(neigh) in elfs_pos:\n",
    "            del directions_[\"w\"]\n",
    "            break\n",
    "    \n",
    "    for neigh in [ne, e, se]:\n",
    "        if tuple(neigh) in elfs_pos:\n",
    "            del directions_[\"e\"]\n",
    "            break\n",
    "    \n",
    "    directions_values = list(directions_.values())\n",
    "    \n",
    "    if (len(directions_values) == 0) or (len(directions_values) == 4):\n",
    "        return tuple(pos)\n",
    "    \n",
    "    else:\n",
    "        return tuple(directions_values[0])"
   ]
  },
  {
   "cell_type": "code",
   "execution_count": 7,
   "id": "431b2e64",
   "metadata": {},
   "outputs": [],
   "source": [
    "input_ = \"\"\"....#..\n",
    "..###.#\n",
    "#...#.#\n",
    ".#...##\n",
    "#.###..\n",
    "##.#.##\n",
    ".#..#..\"\"\".split(\"\\n\")"
   ]
  },
  {
   "cell_type": "code",
   "execution_count": 15,
   "id": "a6b31737",
   "metadata": {},
   "outputs": [],
   "source": [
    "with open(\"input.txt\", \"r\") as f:\n",
    "    input_ = f.read().split(\"\\n\")[:-1]"
   ]
  },
  {
   "cell_type": "code",
   "execution_count": 16,
   "id": "d526f69a",
   "metadata": {},
   "outputs": [],
   "source": [
    "elf_pos = []\n",
    "row_max = 0\n",
    "column_max = 0\n",
    "for i, row in enumerate(input_):\n",
    "    for j, column in enumerate(row):\n",
    "        if column == \"#\":\n",
    "            if i > row_max:\n",
    "                row_max = i\n",
    "            if j > column_max:\n",
    "                column_max = j\n",
    "            elf_pos.append((i,j))\n"
   ]
  },
  {
   "cell_type": "code",
   "execution_count": 18,
   "id": "5fa3f81c",
   "metadata": {},
   "outputs": [],
   "source": [
    "elfs = {k: v for k, v in enumerate(elf_pos)}"
   ]
  },
  {
   "cell_type": "code",
   "execution_count": 20,
   "id": "d7921a9c",
   "metadata": {},
   "outputs": [],
   "source": [
    "elf_directions = [\"n\", \"s\", \"w\", \"e\"]\n",
    "for i in range(10):\n",
    "    moves = {}\n",
    "    elfs_pos = list(elfs.values())\n",
    "\n",
    "    for elf in elfs.keys():\n",
    "        pos = elfs[elf]\n",
    "        new_pos = neighbours(elfs_pos = elfs_pos, pos = pos, elf_directions = elf_directions)\n",
    "        if new_pos != pos:\n",
    "            moves[elf] = new_pos\n",
    "\n",
    "    dub = [k for k, v in Counter(moves.values()).items() if v > 1]\n",
    "\n",
    "    moves_copy = moves.copy()\n",
    "    for elf, move in moves_copy.items():\n",
    "        if move in dub:\n",
    "            del moves[elf]\n",
    "    \n",
    "    for elf, new_pos in moves.items():\n",
    "        elfs[elf] = new_pos\n",
    "\n",
    "    dir_ = elf_directions.pop(0)\n",
    "    elf_directions.append(dir_)"
   ]
  },
  {
   "cell_type": "code",
   "execution_count": 21,
   "id": "b6ad763a",
   "metadata": {},
   "outputs": [],
   "source": [
    "elfs_pos = list(elfs.values())\n",
    "row_min = 0\n",
    "col_min = 0\n",
    "row_max = 0\n",
    "col_max = 0\n",
    "\n",
    "for row, col in elfs_pos:\n",
    "    row_min = min(row, row_min)\n",
    "    row_max = max(row, row_max)\n",
    "    col_min = min(col, col_min)\n",
    "    col_max = max(col, col_max)\n",
    "        \n",
    "    "
   ]
  },
  {
   "cell_type": "code",
   "execution_count": 22,
   "id": "ebb4eb0a",
   "metadata": {},
   "outputs": [
    {
     "data": {
      "text/plain": [
       "3923"
      ]
     },
     "execution_count": 22,
     "metadata": {},
     "output_type": "execute_result"
    }
   ],
   "source": [
    "((row_max - row_min)+1)*((col_max-col_min)+1)-len(elfs)"
   ]
  }
 ],
 "metadata": {
  "kernelspec": {
   "display_name": "Python 3 (ipykernel)",
   "language": "python",
   "name": "python3"
  },
  "language_info": {
   "codemirror_mode": {
    "name": "ipython",
    "version": 3
   },
   "file_extension": ".py",
   "mimetype": "text/x-python",
   "name": "python",
   "nbconvert_exporter": "python",
   "pygments_lexer": "ipython3",
   "version": "3.11.3"
  }
 },
 "nbformat": 4,
 "nbformat_minor": 5
}

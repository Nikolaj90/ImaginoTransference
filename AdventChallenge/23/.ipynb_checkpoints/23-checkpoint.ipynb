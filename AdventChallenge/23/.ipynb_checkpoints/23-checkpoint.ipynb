{
 "cells": [
  {
   "cell_type": "code",
   "execution_count": 1,
   "id": "0361de4b",
   "metadata": {},
   "outputs": [],
   "source": [
    "import numpy as np\n",
    "import pandas as pd\n",
    "import matplotlib.pyplot as plt\n",
    "from collections import Counter"
   ]
  },
  {
   "cell_type": "code",
   "execution_count": 3,
   "id": "e315a5db",
   "metadata": {},
   "outputs": [],
   "source": [
    "class square():\n",
    "    def __init__(self, n_rows, n_columns, dimensions = 3):\n",
    "        self.n_rows = n_rows\n",
    "        self.n_columns = n_columns\n",
    "        self.dimensions = dimensions\n",
    "        self.current_image = np.zeros((self.n_rows,self.n_columns,self.dimensions))\n",
    "        \n",
    "    def get_values(self):\n",
    "        print(\"Current shape: \", self.current_image.shape)\n",
    "        return self.current_image\n",
    "    \n",
    "    def draw_square(self, save = False):\n",
    "        fig, ax = plt.subplots(figsize=(15,10))\n",
    "        plt.imshow(self.current_image)\n",
    "        if save:\n",
    "            plt.savefig(\"cool_fig.jpg\")\n",
    "        plt.show()\n",
    "    \n",
    "    def change_cell(self, row, column, color = [1,1,1]):\n",
    "        self.current_image[row,column] = color\n",
    "    \n",
    "    def reshape_square(self, add_row = False, add_column = False,  to_end = True):\n",
    "        \n",
    "        if add_row:\n",
    "            def stack_func(x): \n",
    "                return np.vstack(x)\n",
    "            s_add = np.zeros((1,self.n_columns,self.dimensions))\n",
    "        if add_column:\n",
    "            def stack_func(x): \n",
    "                return np.hstack(x)\n",
    "            s_add = np.zeros((self.n_rows,1,self.dimensions))\n",
    "        \n",
    "        \n",
    "        list_of_squares = [s_add, self.current_image]\n",
    "        if to_end:\n",
    "            list_of_squares.reverse()\n",
    "        \n",
    "        self.current_image = stack_func(list_of_squares)\n",
    "        self.n_rows, self.n_columns, self.dimension = self.current_image.shape\n",
    "    \n",
    "    def add_frame(self):\n",
    "        self.reshape_square(add_row = True)\n",
    "        self.reshape_square(add_column = True)\n",
    "        self.reshape_square(add_row = True, to_end = False)\n",
    "        self.reshape_square(add_column = True, to_end = False)"
   ]
  },
  {
   "cell_type": "code",
   "execution_count": 285,
   "id": "24f56771",
   "metadata": {},
   "outputs": [],
   "source": [
    "def neighbours(elfs_pos, pos, elf_directions):\n",
    "    pos = np.array(pos)\n",
    "    nw = pos + np.array([-1,-1])\n",
    "    n = pos + np.array([-1,0])\n",
    "    ne = pos + np.array([-1,1])\n",
    "    e = pos + np.array([0,1])\n",
    "    se = pos + np.array([1,1])\n",
    "    s = pos + np.array([1,0])\n",
    "    sw = pos + np.array([1,-1])\n",
    "    w = pos + np.array([0,-1])\n",
    "    \n",
    "    \n",
    "    directions_ = {\"n\":n,\"s\":s,\"w\":w,\"e\":e}\n",
    "    directions_ = {dir_: directions_[dir_] for dir_ in elf_directions}\n",
    "        \n",
    "    for neigh in [nw, n, ne]:\n",
    "        if tuple(neigh) in elfs_pos:\n",
    "            del directions_[\"n\"]\n",
    "            break\n",
    "            \n",
    "    for neigh in [sw,s,se]:\n",
    "        if tuple(neigh) in elfs_pos:\n",
    "            del directions_[\"s\"]\n",
    "            break\n",
    "    \n",
    "    for neigh in [nw, w, sw]:\n",
    "        if tuple(neigh) in elfs_pos:\n",
    "            del directions_[\"w\"]\n",
    "            break\n",
    "    \n",
    "    for neigh in [ne, e, se]:\n",
    "        if tuple(neigh) in elfs_pos:\n",
    "            del directions_[\"e\"]\n",
    "            break\n",
    "    \n",
    "    directions_values = list(directions_.values())\n",
    "    \n",
    "    if (len(directions_values) == 0) or (len(directions_values) == 4):\n",
    "        return tuple(pos)\n",
    "    \n",
    "    else:\n",
    "        return tuple(directions_values[0])"
   ]
  },
  {
   "cell_type": "code",
   "execution_count": null,
   "id": "aa54a3bf",
   "metadata": {},
   "outputs": [],
   "source": []
  },
  {
   "cell_type": "code",
   "execution_count": 286,
   "id": "431b2e64",
   "metadata": {},
   "outputs": [],
   "source": [
    "input_ = \"\"\"....#..\n",
    "..###.#\n",
    "#...#.#\n",
    ".#...##\n",
    "#.###..\n",
    "##.#.##\n",
    ".#..#..\"\"\".split(\"\\n\")"
   ]
  },
  {
   "cell_type": "code",
   "execution_count": 269,
   "id": "a6b31737",
   "metadata": {},
   "outputs": [],
   "source": [
    "with open(\"input.txt\", \"r\") as f:\n",
    "    input_ = f.read().split(\"\\n\")[:-1]"
   ]
  },
  {
   "cell_type": "code",
   "execution_count": 287,
   "id": "d526f69a",
   "metadata": {},
   "outputs": [],
   "source": [
    "elf_pos = []\n",
    "row_max = 0\n",
    "column_max = 0\n",
    "for i, row in enumerate(input_):\n",
    "    for j, column in enumerate(row):\n",
    "        if column == \"#\":\n",
    "            if i > row_max:\n",
    "                row_max = i\n",
    "            if j > column_max:\n",
    "                column_max = j\n",
    "            elf_pos.append((i,j))\n"
   ]
  },
  {
   "cell_type": "code",
   "execution_count": 289,
   "id": "d7921a9c",
   "metadata": {},
   "outputs": [],
   "source": [
    "elf_directions = [\"n\", \"s\", \"w\", \"e\"]\n",
    "for i in range(10):\n",
    "    moves = {}\n",
    "    elfs_pos = list(elfs.values())\n",
    "\n",
    "    for elf in elfs.keys():\n",
    "        pos = elfs[elf]\n",
    "        new_pos = neighbours(elfs_pos = elfs_pos, pos = pos, elf_directions = elf_directions)\n",
    "        if new_pos != pos:\n",
    "            moves[elf] = new_pos\n",
    "\n",
    "    dub = [k for k, v in Counter(moves.values()).items() if v > 1]\n",
    "\n",
    "    moves_copy = moves.copy()\n",
    "    for elf, move in moves_copy.items():\n",
    "        if move in dub:\n",
    "            del moves[elf]\n",
    "    \n",
    "    for elf, new_pos in moves.items():\n",
    "        elfs[elf] = new_pos\n",
    "\n",
    "    dir_ = elf_directions.pop(0)\n",
    "    elf_directions.append(dir_)"
   ]
  },
  {
   "cell_type": "code",
   "execution_count": 264,
   "id": "a4ec52bc",
   "metadata": {},
   "outputs": [],
   "source": [
    "elf_directions = [\"n\", \"s\", \"w\", \"e\"]"
   ]
  },
  {
   "cell_type": "code",
   "execution_count": 265,
   "id": "5ededd03",
   "metadata": {},
   "outputs": [],
   "source": [
    "# elfs = {k:{\"pos\": v, \"directions\": directions} for k, v in enumerate(elf_pos)}"
   ]
  },
  {
   "cell_type": "code",
   "execution_count": 266,
   "id": "20e783a2",
   "metadata": {},
   "outputs": [],
   "source": [
    "elfs = {k: v for k, v in enumerate(elf_pos)}"
   ]
  },
  {
   "cell_type": "code",
   "execution_count": 267,
   "id": "d01aeaba",
   "metadata": {},
   "outputs": [
    {
     "ename": "KeyboardInterrupt",
     "evalue": "",
     "output_type": "error",
     "traceback": [
      "\u001b[1;31m---------------------------------------------------------------------------\u001b[0m",
      "\u001b[1;31mKeyboardInterrupt\u001b[0m                         Traceback (most recent call last)",
      "Cell \u001b[1;32mIn[267], line 10\u001b[0m\n\u001b[0;32m      8\u001b[0m \u001b[38;5;28;01mfor\u001b[39;00m elf \u001b[38;5;129;01min\u001b[39;00m elfs\u001b[38;5;241m.\u001b[39mkeys():\n\u001b[0;32m      9\u001b[0m     pos \u001b[38;5;241m=\u001b[39m elfs[elf]\n\u001b[1;32m---> 10\u001b[0m     new_pos \u001b[38;5;241m=\u001b[39m \u001b[43mneighbours\u001b[49m\u001b[43m(\u001b[49m\u001b[43melfs_pos\u001b[49m\u001b[43m \u001b[49m\u001b[38;5;241;43m=\u001b[39;49m\u001b[43m \u001b[49m\u001b[43melfs_pos\u001b[49m\u001b[43m,\u001b[49m\u001b[43m \u001b[49m\u001b[43mpos\u001b[49m\u001b[43m \u001b[49m\u001b[38;5;241;43m=\u001b[39;49m\u001b[43m \u001b[49m\u001b[43mpos\u001b[49m\u001b[43m,\u001b[49m\u001b[43m \u001b[49m\u001b[43mstart_dir\u001b[49m\u001b[43m \u001b[49m\u001b[38;5;241;43m=\u001b[39;49m\u001b[43m \u001b[49m\u001b[43mstart_dir\u001b[49m\u001b[43m)\u001b[49m\n\u001b[0;32m     11\u001b[0m     \u001b[38;5;28;01mif\u001b[39;00m new_pos \u001b[38;5;241m!=\u001b[39m pos:\n\u001b[0;32m     12\u001b[0m         moves[elf] \u001b[38;5;241m=\u001b[39m new_pos\n",
      "Cell \u001b[1;32mIn[255], line 26\u001b[0m, in \u001b[0;36mneighbours\u001b[1;34m(elfs_pos, pos, start_dir)\u001b[0m\n\u001b[0;32m     23\u001b[0m         \u001b[38;5;28;01mbreak\u001b[39;00m\n\u001b[0;32m     25\u001b[0m \u001b[38;5;28;01mfor\u001b[39;00m neigh \u001b[38;5;129;01min\u001b[39;00m [nw, w, sw]:\n\u001b[1;32m---> 26\u001b[0m     \u001b[38;5;28;01mif\u001b[39;00m \u001b[38;5;28mtuple\u001b[39m(neigh) \u001b[38;5;129;01min\u001b[39;00m elfs_pos:\n\u001b[0;32m     27\u001b[0m         \u001b[38;5;28;01mdel\u001b[39;00m directions_[\u001b[38;5;241m2\u001b[39m]\n\u001b[0;32m     28\u001b[0m         \u001b[38;5;28;01mbreak\u001b[39;00m\n",
      "\u001b[1;31mKeyboardInterrupt\u001b[0m: "
     ]
    }
   ],
   "source": [
    "stop = False\n",
    "i = 0\n",
    "while stop == False:\n",
    "    start_dir = i % 4\n",
    "    moves = {}\n",
    "    elfs_pos = list(elfs.values())\n",
    "\n",
    "    for elf in elfs.keys():\n",
    "        pos = elfs[elf]\n",
    "        new_pos = neighbours(elfs_pos = elfs_pos, pos = pos, start_dir = start_dir)\n",
    "        if new_pos != pos:\n",
    "            moves[elf] = new_pos\n",
    "\n",
    "    dub = [k for k, v in Counter(moves.values()).items() if v > 1]\n",
    "\n",
    "    moves_copy = moves.copy()\n",
    "    for elf, move in moves_copy.items():\n",
    "        if move in dub:\n",
    "            del moves[elf]\n",
    "    \n",
    "    for elf, new_pos in moves.items():\n",
    "        elfs[elf] = new_pos\n",
    "#     dir_ = elf_directions.pop(0)\n",
    "#     elf_directions.append(dir_)\n",
    "    \n",
    "    if len(moves) == 0:\n",
    "        stop = True\n",
    "    i += 1\n",
    "print(i)"
   ]
  },
  {
   "cell_type": "code",
   "execution_count": 220,
   "id": "58506182",
   "metadata": {},
   "outputs": [
    {
     "ename": "TypeError",
     "evalue": "tuple indices must be integers or slices, not str",
     "output_type": "error",
     "traceback": [
      "\u001b[1;31m---------------------------------------------------------------------------\u001b[0m",
      "\u001b[1;31mTypeError\u001b[0m                                 Traceback (most recent call last)",
      "Cell \u001b[1;32mIn[220], line 7\u001b[0m\n\u001b[0;32m      5\u001b[0m i \u001b[38;5;241m+\u001b[39m\u001b[38;5;241m=\u001b[39m \u001b[38;5;241m1\u001b[39m\n\u001b[0;32m      6\u001b[0m moves \u001b[38;5;241m=\u001b[39m {}\n\u001b[1;32m----> 7\u001b[0m elfs_pos \u001b[38;5;241m=\u001b[39m \u001b[43m[\u001b[49m\u001b[43melf\u001b[49m\u001b[43m[\u001b[49m\u001b[38;5;124;43m\"\u001b[39;49m\u001b[38;5;124;43mpos\u001b[39;49m\u001b[38;5;124;43m\"\u001b[39;49m\u001b[43m]\u001b[49m\u001b[43m \u001b[49m\u001b[38;5;28;43;01mfor\u001b[39;49;00m\u001b[43m \u001b[49m\u001b[43melf\u001b[49m\u001b[43m \u001b[49m\u001b[38;5;129;43;01min\u001b[39;49;00m\u001b[43m \u001b[49m\u001b[43melfs\u001b[49m\u001b[38;5;241;43m.\u001b[39;49m\u001b[43mvalues\u001b[49m\u001b[43m(\u001b[49m\u001b[43m)\u001b[49m\u001b[43m]\u001b[49m\n\u001b[0;32m      9\u001b[0m \u001b[38;5;28;01mfor\u001b[39;00m elf \u001b[38;5;129;01min\u001b[39;00m elfs\u001b[38;5;241m.\u001b[39mkeys():\n\u001b[0;32m     10\u001b[0m     pos \u001b[38;5;241m=\u001b[39m elfs[elf][\u001b[38;5;124m\"\u001b[39m\u001b[38;5;124mpos\u001b[39m\u001b[38;5;124m\"\u001b[39m]\n",
      "Cell \u001b[1;32mIn[220], line 7\u001b[0m, in \u001b[0;36m<listcomp>\u001b[1;34m(.0)\u001b[0m\n\u001b[0;32m      5\u001b[0m i \u001b[38;5;241m+\u001b[39m\u001b[38;5;241m=\u001b[39m \u001b[38;5;241m1\u001b[39m\n\u001b[0;32m      6\u001b[0m moves \u001b[38;5;241m=\u001b[39m {}\n\u001b[1;32m----> 7\u001b[0m elfs_pos \u001b[38;5;241m=\u001b[39m [\u001b[43melf\u001b[49m\u001b[43m[\u001b[49m\u001b[38;5;124;43m\"\u001b[39;49m\u001b[38;5;124;43mpos\u001b[39;49m\u001b[38;5;124;43m\"\u001b[39;49m\u001b[43m]\u001b[49m \u001b[38;5;28;01mfor\u001b[39;00m elf \u001b[38;5;129;01min\u001b[39;00m elfs\u001b[38;5;241m.\u001b[39mvalues()]\n\u001b[0;32m      9\u001b[0m \u001b[38;5;28;01mfor\u001b[39;00m elf \u001b[38;5;129;01min\u001b[39;00m elfs\u001b[38;5;241m.\u001b[39mkeys():\n\u001b[0;32m     10\u001b[0m     pos \u001b[38;5;241m=\u001b[39m elfs[elf][\u001b[38;5;124m\"\u001b[39m\u001b[38;5;124mpos\u001b[39m\u001b[38;5;124m\"\u001b[39m]\n",
      "\u001b[1;31mTypeError\u001b[0m: tuple indices must be integers or slices, not str"
     ]
    }
   ],
   "source": [
    "\n",
    "for i in range(10):\n",
    "    moves = {}\n",
    "    elfs_pos = [elf[\"pos\"] for elf in elfs.values()]\n",
    "\n",
    "    for elf in elfs.keys():\n",
    "        pos = elfs[elf][\"pos\"]\n",
    "        move_dir, new_pos = neighbours(elfs_pos = elfs_pos, pos = pos, elf_directions = elf_directions)\n",
    "        if new_pos != pos:\n",
    "            moves[elf] = new_pos\n",
    "\n",
    "    dub = [k for k, v in Counter(moves.values()).items() if v > 1]\n",
    "\n",
    "    moves_copy = moves.copy()\n",
    "    for elf, move in moves_copy.items():\n",
    "        if move in dub:\n",
    "            del moves[elf]\n",
    "    \n",
    "    for elf, new_pos in moves.items():\n",
    "        elfs[elf][\"pos\"] = new_pos\n",
    "\n",
    "    dir_ = elf_directions.pop(0)\n",
    "    elf_directions.append(dir_)\n"
   ]
  },
  {
   "cell_type": "code",
   "execution_count": 211,
   "id": "1edf932c",
   "metadata": {},
   "outputs": [
    {
     "data": {
      "text/plain": [
       "20"
      ]
     },
     "execution_count": 211,
     "metadata": {},
     "output_type": "execute_result"
    }
   ],
   "source": [
    "i"
   ]
  },
  {
   "cell_type": "code",
   "execution_count": 290,
   "id": "b6ad763a",
   "metadata": {},
   "outputs": [],
   "source": [
    "elfs_pos = list(elfs.values())\n",
    "row_min = 0\n",
    "col_min = 0\n",
    "row_max = 0\n",
    "col_max = 0\n",
    "\n",
    "for row, col in elfs_pos:\n",
    "    row_min = min(row, row_min)\n",
    "    row_max = max(row, row_max)\n",
    "    col_min = min(col, col_min)\n",
    "    col_max = max(col, col_max)\n",
    "        \n",
    "    "
   ]
  },
  {
   "cell_type": "code",
   "execution_count": 291,
   "id": "ebb4eb0a",
   "metadata": {},
   "outputs": [
    {
     "data": {
      "text/plain": [
       "7581"
      ]
     },
     "execution_count": 291,
     "metadata": {},
     "output_type": "execute_result"
    }
   ],
   "source": [
    "((row_max - row_min)+1)*((col_max-col_min)+1)-len(elfs)"
   ]
  },
  {
   "cell_type": "code",
   "execution_count": 292,
   "id": "5108e8fe",
   "metadata": {},
   "outputs": [],
   "source": [
    "s_test = square(20,20)"
   ]
  },
  {
   "cell_type": "code",
   "execution_count": 293,
   "id": "fa08750f",
   "metadata": {},
   "outputs": [
    {
     "ename": "IndexError",
     "evalue": "index 23 is out of bounds for axis 1 with size 20",
     "output_type": "error",
     "traceback": [
      "\u001b[1;31m---------------------------------------------------------------------------\u001b[0m",
      "\u001b[1;31mIndexError\u001b[0m                                Traceback (most recent call last)",
      "Cell \u001b[1;32mIn[293], line 4\u001b[0m\n\u001b[0;32m      1\u001b[0m log \u001b[38;5;241m=\u001b[39m []\n\u001b[0;32m      3\u001b[0m \u001b[38;5;28;01mfor\u001b[39;00m i, (row, column) \u001b[38;5;129;01min\u001b[39;00m \u001b[38;5;28menumerate\u001b[39m(elfs_pos):\n\u001b[1;32m----> 4\u001b[0m     \u001b[43ms_test\u001b[49m\u001b[38;5;241;43m.\u001b[39;49m\u001b[43mchange_cell\u001b[49m\u001b[43m(\u001b[49m\u001b[43mrow\u001b[49m\u001b[43m \u001b[49m\u001b[38;5;241;43m+\u001b[39;49m\u001b[43m \u001b[49m\u001b[38;5;28;43mabs\u001b[39;49m\u001b[43m(\u001b[49m\u001b[43mrow_min\u001b[49m\u001b[43m)\u001b[49m\u001b[43m,\u001b[49m\u001b[43m \u001b[49m\u001b[43mcolumn\u001b[49m\u001b[43m \u001b[49m\u001b[38;5;241;43m+\u001b[39;49m\u001b[43m \u001b[49m\u001b[38;5;28;43mabs\u001b[39;49m\u001b[43m(\u001b[49m\u001b[43mcol_min\u001b[49m\u001b[43m)\u001b[49m\u001b[43m)\u001b[49m\n\u001b[0;32m      5\u001b[0m     log\u001b[38;5;241m.\u001b[39mappend((row \u001b[38;5;241m+\u001b[39m \u001b[38;5;28mabs\u001b[39m(row_min),column \u001b[38;5;241m+\u001b[39m \u001b[38;5;28mabs\u001b[39m(col_min)))\n",
      "Cell \u001b[1;32mIn[3], line 20\u001b[0m, in \u001b[0;36msquare.change_cell\u001b[1;34m(self, row, column, color)\u001b[0m\n\u001b[0;32m     19\u001b[0m \u001b[38;5;28;01mdef\u001b[39;00m \u001b[38;5;21mchange_cell\u001b[39m(\u001b[38;5;28mself\u001b[39m, row, column, color \u001b[38;5;241m=\u001b[39m [\u001b[38;5;241m1\u001b[39m,\u001b[38;5;241m1\u001b[39m,\u001b[38;5;241m1\u001b[39m]):\n\u001b[1;32m---> 20\u001b[0m     \u001b[38;5;28;43mself\u001b[39;49m\u001b[38;5;241;43m.\u001b[39;49m\u001b[43mcurrent_image\u001b[49m\u001b[43m[\u001b[49m\u001b[43mrow\u001b[49m\u001b[43m,\u001b[49m\u001b[43mcolumn\u001b[49m\u001b[43m]\u001b[49m \u001b[38;5;241m=\u001b[39m color\n",
      "\u001b[1;31mIndexError\u001b[0m: index 23 is out of bounds for axis 1 with size 20"
     ]
    }
   ],
   "source": [
    "log = []\n",
    "\n",
    "for i, (row, column) in enumerate(elfs_pos):\n",
    "    s_test.change_cell(row + abs(row_min), column + abs(col_min))\n",
    "    log.append((row + abs(row_min),column + abs(col_min)))"
   ]
  },
  {
   "cell_type": "code",
   "execution_count": 294,
   "id": "b71da4dd",
   "metadata": {},
   "outputs": [
    {
     "data": {
      "image/png": "[encoded data removed]",
      "text/plain": [
       "<Figure size 1500x1000 with 1 Axes>"
      ]
     },
     "metadata": {},
     "output_type": "display_data"
    }
   ],
   "source": [
    "s_test.draw_square()"
   ]
  },
  {
   "cell_type": "code",
   "execution_count": null,
   "id": "c5844066",
   "metadata": {},
   "outputs": [],
   "source": []
  },
  {
   "cell_type": "code",
   "execution_count": null,
   "id": "348664df",
   "metadata": {},
   "outputs": [],
   "source": []
  },
  {
   "cell_type": "code",
   "execution_count": 174,
   "id": "5c2123da",
   "metadata": {},
   "outputs": [],
   "source": [
    "moves = {}\n",
    "for elf, elf_pos in elfs.items():\n",
    "    new_pos = neighbours(elfs.values(), elf_pos)\n",
    "    if new_pos != elf_pos:\n",
    "        moves[elf] = new_pos"
   ]
  },
  {
   "cell_type": "code",
   "execution_count": 175,
   "id": "726bb1ea",
   "metadata": {},
   "outputs": [],
   "source": [
    "dub = [k for k, v in Counter(moves.values()).items() if v > 1]\n",
    "\n",
    "moves_copy = moves.copy()\n",
    "for elf, move in moves_copy.items():\n",
    "    if move in dub:\n",
    "        del moves[elf]"
   ]
  },
  {
   "cell_type": "code",
   "execution_count": 177,
   "id": "ba1dceee",
   "metadata": {},
   "outputs": [],
   "source": [
    "for elf, new_pos in moves.items():\n",
    "    elfs[elf] = new_pos"
   ]
  },
  {
   "cell_type": "code",
   "execution_count": 178,
   "id": "e2c98fb7",
   "metadata": {},
   "outputs": [
    {
     "data": {
      "text/plain": [
       "{0: (-1, 4),\n",
       " 1: (0, 2),\n",
       " 2: (1, 3),\n",
       " 3: (1, 5),\n",
       " 4: (0, 6),\n",
       " 5: (1, 0),\n",
       " 6: (2, 4),\n",
       " 7: (2, 7),\n",
       " 8: (3, 1),\n",
       " 9: (3, 5),\n",
       " 10: (3, 6),\n",
       " 11: (4, -1),\n",
       " 12: (4, 2),\n",
       " 13: (3, 3),\n",
       " 14: (4, 4),\n",
       " 15: (5, -1),\n",
       " 16: (5, 1),\n",
       " 17: (5, 3),\n",
       " 18: (5, 5),\n",
       " 19: (5, 6),\n",
       " 20: (7, 1),\n",
       " 21: (7, 4)}"
      ]
     },
     "execution_count": 178,
     "metadata": {},
     "output_type": "execute_result"
    }
   ],
   "source": [
    "elfs"
   ]
  },
  {
   "cell_type": "code",
   "execution_count": null,
   "id": "31af9e06",
   "metadata": {},
   "outputs": [],
   "source": []
  },
  {
   "cell_type": "code",
   "execution_count": null,
   "id": "0b9eddb5",
   "metadata": {},
   "outputs": [],
   "source": []
  },
  {
   "cell_type": "code",
   "execution_count": 45,
   "id": "8ffcccb9",
   "metadata": {},
   "outputs": [
    {
     "name": "stdout",
     "output_type": "stream",
     "text": [
      "Current shape:  (3, 3, 3)\n"
     ]
    },
    {
     "data": {
      "text/plain": [
       "array([[[0., 0., 0.],\n",
       "        [0., 0., 0.],\n",
       "        [0., 0., 0.]],\n",
       "\n",
       "       [[0., 0., 0.],\n",
       "        [1., 1., 1.],\n",
       "        [0., 0., 0.]],\n",
       "\n",
       "       [[0., 0., 0.],\n",
       "        [0., 0., 0.],\n",
       "        [0., 0., 0.]]])"
      ]
     },
     "execution_count": 45,
     "metadata": {},
     "output_type": "execute_result"
    }
   ],
   "source": [
    "s0.get_values()"
   ]
  },
  {
   "cell_type": "code",
   "execution_count": 48,
   "id": "ca920870",
   "metadata": {},
   "outputs": [],
   "source": [
    "s0.reshape_square(add_row = True,add_column = False,  to_end = True)"
   ]
  },
  {
   "cell_type": "code",
   "execution_count": 49,
   "id": "91c99260",
   "metadata": {},
   "outputs": [
    {
     "data": {
      "image/png": "[encoded data removed]",
      "text/plain": [
       "<Figure size 1500x1000 with 1 Axes>"
      ]
     },
     "metadata": {},
     "output_type": "display_data"
    }
   ],
   "source": [
    "s0.draw_square()"
   ]
  },
  {
   "cell_type": "code",
   "execution_count": 50,
   "id": "7bbb5af5",
   "metadata": {},
   "outputs": [],
   "source": []
  },
  {
   "cell_type": "code",
   "execution_count": 51,
   "id": "46eb4255",
   "metadata": {},
   "outputs": [
    {
     "data": {
      "text/plain": [
       "['....#..', '..###.#', '#...#.#', '.#...##', '#.###..', '##.#.##', '.#..#..']"
      ]
     },
     "execution_count": 51,
     "metadata": {},
     "output_type": "execute_result"
    }
   ],
   "source": [
    "input_"
   ]
  },
  {
   "cell_type": "code",
   "execution_count": 54,
   "id": "75a85f85",
   "metadata": {},
   "outputs": [],
   "source": []
  },
  {
   "cell_type": "code",
   "execution_count": 57,
   "id": "04626385",
   "metadata": {},
   "outputs": [
    {
     "data": {
      "text/plain": [
       "(6, 6)"
      ]
     },
     "execution_count": 57,
     "metadata": {},
     "output_type": "execute_result"
    }
   ],
   "source": [
    "row_max, column_max"
   ]
  },
  {
   "cell_type": "code",
   "execution_count": 55,
   "id": "8179c3b0",
   "metadata": {},
   "outputs": [
    {
     "data": {
      "text/plain": [
       "[(0, 4),\n",
       " (1, 2),\n",
       " (1, 3),\n",
       " (1, 4),\n",
       " (1, 6),\n",
       " (2, 0),\n",
       " (2, 4),\n",
       " (2, 6),\n",
       " (3, 1),\n",
       " (3, 5),\n",
       " (3, 6),\n",
       " (4, 0),\n",
       " (4, 2),\n",
       " (4, 3),\n",
       " (4, 4),\n",
       " (5, 0),\n",
       " (5, 1),\n",
       " (5, 3),\n",
       " (5, 5),\n",
       " (5, 6),\n",
       " (6, 1),\n",
       " (6, 4)]"
      ]
     },
     "execution_count": 55,
     "metadata": {},
     "output_type": "execute_result"
    }
   ],
   "source": [
    "elf_pos"
   ]
  }
 ],
 "metadata": {
  "kernelspec": {
   "display_name": "Python 3 (ipykernel)",
   "language": "python",
   "name": "python3"
  },
  "language_info": {
   "codemirror_mode": {
    "name": "ipython",
    "version": 3
   },
   "file_extension": ".py",
   "mimetype": "text/x-python",
   "name": "python",
   "nbconvert_exporter": "python",
   "pygments_lexer": "ipython3",
   "version": "3.11.3"
  }
 },
 "nbformat": 4,
 "nbformat_minor": 5
}

{
 "cells": [
  {
   "cell_type": "markdown",
   "id": "95e122aa",
   "metadata": {},
   "source": [
    "I want to maximize the flow of valves. Each valve can be represented in a network as a node, I can perform a search, but there are several elements to account for. I will spend time opening a valve, thus it can be more efficient to skip opening one and moving on. The search algorithm will have the oportunity to visit the same nodes as many times as possible, but will only be able to open a valve once. The flow is dependent on time, so the maximizing of flow is not only dependent on visiting the nodes with the highest value, but also visiting them as soon as possible."
   ]
  },
  {
   "cell_type": "code",
   "execution_count": 7,
   "id": "b2561ad1",
   "metadata": {},
   "outputs": [],
   "source": [
    "import networkx as nx\n",
    "import regex as re"
   ]
  },
  {
   "cell_type": "code",
   "execution_count": 61,
   "id": "8905d48c",
   "metadata": {},
   "outputs": [],
   "source": [
    "data = \"\"\"Valve AA has flow rate=0; tunnels lead to valves DD, II, BB\n",
    "Valve BB has flow rate=13; tunnels lead to valves CC, AA\n",
    "Valve CC has flow rate=2; tunnels lead to valves DD, BB\n",
    "Valve DD has flow rate=20; tunnels lead to valves CC, AA, EE\n",
    "Valve EE has flow rate=3; tunnels lead to valves FF, DD\n",
    "Valve FF has flow rate=0; tunnels lead to valves EE, GG\n",
    "Valve GG has flow rate=0; tunnels lead to valves FF, HH\n",
    "Valve HH has flow rate=22; tunnel leads to valve GG\n",
    "Valve II has flow rate=0; tunnels lead to valves AA, JJ\n",
    "Valve JJ has flow rate=21; tunnel leads to valve II\"\"\".split(\"\\n\")"
   ]
  },
  {
   "cell_type": "code",
   "execution_count": 62,
   "id": "714414cc",
   "metadata": {},
   "outputs": [
    {
     "data": {
      "text/plain": [
       "['Valve AA has flow rate=0; tunnels lead to valves DD, II, BB',\n",
       " 'Valve BB has flow rate=13; tunnels lead to valves CC, AA',\n",
       " 'Valve CC has flow rate=2; tunnels lead to valves DD, BB',\n",
       " 'Valve DD has flow rate=20; tunnels lead to valves CC, AA, EE',\n",
       " 'Valve EE has flow rate=3; tunnels lead to valves FF, DD',\n",
       " 'Valve FF has flow rate=0; tunnels lead to valves EE, GG',\n",
       " 'Valve GG has flow rate=0; tunnels lead to valves FF, HH',\n",
       " 'Valve HH has flow rate=22; tunnel leads to valve GG',\n",
       " 'Valve II has flow rate=0; tunnels lead to valves AA, JJ',\n",
       " 'Valve JJ has flow rate=21; tunnel leads to valve II']"
      ]
     },
     "execution_count": 62,
     "metadata": {},
     "output_type": "execute_result"
    }
   ],
   "source": [
    "data"
   ]
  },
  {
   "cell_type": "code",
   "execution_count": 63,
   "id": "a73ab3a3",
   "metadata": {},
   "outputs": [],
   "source": [
    "def valve_node_from_input(data):\n",
    "    valve_flow = re.findall(\"(?:Valve\\s)(\\w+)(?:.+=)(\\d+)\",data)\n",
    "    return valve_flow[0]\n",
    "\n",
    "def edge_from_input(data):\n",
    "    nodes = re.findall(\"[A-Z]{2}\",data)\n",
    "    edges = []\n",
    "    for node in nodes[1:]:\n",
    "        edge = (nodes[0],node)\n",
    "        edges.append(edge)\n",
    "    return edges"
   ]
  },
  {
   "cell_type": "code",
   "execution_count": 64,
   "id": "cd30db0e",
   "metadata": {},
   "outputs": [],
   "source": [
    "valve_node = [valve_node_from_input(node) for node in data]"
   ]
  },
  {
   "cell_type": "code",
   "execution_count": 78,
   "id": "8eedb98b",
   "metadata": {},
   "outputs": [],
   "source": [
    "nodes = {}\n",
    "for node, flow in valve_node:\n",
    "    nodes[node] = {\"flow\": int(flow), \"visited\":False}"
   ]
  },
  {
   "cell_type": "code",
   "execution_count": 79,
   "id": "02a6adfa",
   "metadata": {},
   "outputs": [],
   "source": [
    "G = nx.Graph()\n",
    "for node in nodes:\n",
    "    G.add_node(node)"
   ]
  },
  {
   "cell_type": "code",
   "execution_count": 65,
   "id": "a86c662c",
   "metadata": {},
   "outputs": [],
   "source": [
    "edge_list = []\n",
    "for valve_input in data:\n",
    "    edges = edge_from_input(valve_input)\n",
    "    edge_list.extend(edges)"
   ]
  },
  {
   "cell_type": "code",
   "execution_count": 66,
   "id": "8e385437",
   "metadata": {},
   "outputs": [
    {
     "data": {
      "text/plain": [
       "[('AA', 'DD'),\n",
       " ('AA', 'II'),\n",
       " ('AA', 'BB'),\n",
       " ('BB', 'CC'),\n",
       " ('BB', 'AA'),\n",
       " ('CC', 'DD'),\n",
       " ('CC', 'BB'),\n",
       " ('DD', 'CC'),\n",
       " ('DD', 'AA'),\n",
       " ('DD', 'EE'),\n",
       " ('EE', 'FF'),\n",
       " ('EE', 'DD'),\n",
       " ('FF', 'EE'),\n",
       " ('FF', 'GG'),\n",
       " ('GG', 'FF'),\n",
       " ('GG', 'HH'),\n",
       " ('HH', 'GG'),\n",
       " ('II', 'AA'),\n",
       " ('II', 'JJ'),\n",
       " ('JJ', 'II')]"
      ]
     },
     "execution_count": 66,
     "metadata": {},
     "output_type": "execute_result"
    }
   ],
   "source": [
    "edge_list"
   ]
  },
  {
   "cell_type": "code",
   "execution_count": 81,
   "id": "7a2c7470",
   "metadata": {},
   "outputs": [],
   "source": [
    "for edge in edge_list:\n",
    "    G.add_edge(edge[0],edge[1])"
   ]
  },
  {
   "cell_type": "code",
   "execution_count": 82,
   "id": "57835097",
   "metadata": {},
   "outputs": [
    {
     "data": {
      "text/plain": [
       "['DD', 'II', 'BB']"
      ]
     },
     "execution_count": 82,
     "metadata": {},
     "output_type": "execute_result"
    }
   ],
   "source": [
    "[*G.neighbors(\"AA\")]"
   ]
  },
  {
   "cell_type": "code",
   "execution_count": 83,
   "id": "1aa63f3c",
   "metadata": {},
   "outputs": [],
   "source": [
    "simple_paths = []\n",
    "for node in G.nodes():\n",
    "    if len([*G.neighbors(node)])==1:\n",
    "        paths = [*nx.all_simple_paths(G, source= \"AA\",target = node)]\n",
    "        simple_paths.extend(paths)"
   ]
  },
  {
   "cell_type": "code",
   "execution_count": 84,
   "id": "0076f7f9",
   "metadata": {},
   "outputs": [
    {
     "data": {
      "text/plain": [
       "[['AA', 'DD', 'EE', 'FF', 'GG', 'HH'],\n",
       " ['AA', 'BB', 'CC', 'DD', 'EE', 'FF', 'GG', 'HH'],\n",
       " ['AA', 'II', 'JJ']]"
      ]
     },
     "execution_count": 84,
     "metadata": {},
     "output_type": "execute_result"
    }
   ],
   "source": [
    "simple_paths"
   ]
  },
  {
   "cell_type": "code",
   "execution_count": 113,
   "id": "760e547c",
   "metadata": {},
   "outputs": [],
   "source": [
    "G_tree = nx.bfs_tree(G, \"AA\")"
   ]
  },
  {
   "cell_type": "code",
   "execution_count": 114,
   "id": "563ecaff",
   "metadata": {},
   "outputs": [],
   "source": [
    "leaf = [x for x in G_tree.nodes() if G_tree.out_degree(x)==0 and G_tree.in_degree(x)==1]"
   ]
  },
  {
   "cell_type": "code",
   "execution_count": 115,
   "id": "d27a15ac",
   "metadata": {},
   "outputs": [],
   "source": [
    "simple_paths = []\n",
    "for node in leaf:\n",
    "    paths = [*nx.all_simple_paths(G_tree, source= \"AA\",target = node)]\n",
    "    simple_paths.extend(paths)"
   ]
  },
  {
   "cell_type": "code",
   "execution_count": 116,
   "id": "db46baa1",
   "metadata": {},
   "outputs": [
    {
     "data": {
      "text/plain": [
       "[['AA', 'BB'],\n",
       " ['AA', 'DD', 'CC'],\n",
       " ['AA', 'II', 'JJ'],\n",
       " ['AA', 'DD', 'EE', 'FF', 'GG', 'HH']]"
      ]
     },
     "execution_count": 116,
     "metadata": {},
     "output_type": "execute_result"
    }
   ],
   "source": [
    "simple_paths"
   ]
  },
  {
   "cell_type": "code",
   "execution_count": 117,
   "id": "2e5826f5",
   "metadata": {},
   "outputs": [
    {
     "data": {
      "text/plain": [
       "0"
      ]
     },
     "execution_count": 117,
     "metadata": {},
     "output_type": "execute_result"
    }
   ],
   "source": [
    "nodes[\"AA\"][\"flow\"]"
   ]
  },
  {
   "cell_type": "code",
   "execution_count": 144,
   "id": "46f7da8e",
   "metadata": {},
   "outputs": [],
   "source": [
    "visited_nodes = []\n",
    "minutes = 30\n",
    "current_node = \"AA\"\n",
    "paths_sort_generated = []\n",
    "\n",
    "\n",
    "for i in range(10):\n",
    "    # First i generate a bfs-tree from the current node\n",
    "    G_tree = nx.bfs_tree(G, current_node)\n",
    "    \n",
    "    # Then i generate simple paths to all leaf nodes\n",
    "    leaf = [x for x in G_tree.nodes() if G_tree.out_degree(x)==0 and G_tree.in_degree(x)==1]\n",
    "    simple_paths = []\n",
    "    for node in leaf:\n",
    "        paths = [*nx.all_simple_paths(G_tree, source= current_node,target = node)]\n",
    "        simple_paths.extend(paths)\n",
    "    \n",
    "    # I calculate the flow if every node is visited and opened\n",
    "    paths = {}\n",
    "    for s_path in simple_paths:\n",
    "        flow = 0\n",
    "        for node in reversed(s_path[1:]):\n",
    "            if node in visited_nodes:\n",
    "                flow -= 2\n",
    "                continue\n",
    "            minutes_path = minutes - len(s_path[1:])\n",
    "            flow += minutes_path-1 * nodes[node][\"flow\"]\n",
    "        paths[flow/len(s_path[1:])] = s_path[1:]\n",
    "    \n",
    "    # I sort the paths and pick the first node of the path that has the highest value\n",
    "    paths_sort = sorted(paths.items(),reverse=True)\n",
    "    current_node = paths_sort[0][1][0]\n",
    "    visited_nodes.append(current_node)\n",
    "    paths_sort_generated.append(paths_sort)\n",
    "    "
   ]
  },
  {
   "cell_type": "code",
   "execution_count": 145,
   "id": "75722331",
   "metadata": {},
   "outputs": [
    {
     "data": {
      "text/plain": [
       "['II', 'AA', 'DD', 'CC', 'DD', 'EE', 'FF', 'GG', 'HH', 'GG']"
      ]
     },
     "execution_count": 145,
     "metadata": {},
     "output_type": "execute_result"
    }
   ],
   "source": [
    "visited_nodes"
   ]
  },
  {
   "cell_type": "code",
   "execution_count": 146,
   "id": "2902d70b",
   "metadata": {},
   "outputs": [
    {
     "data": {
      "text/plain": [
       "[[(17.5, ['II', 'JJ']),\n",
       "  (17.0, ['DD', 'CC']),\n",
       "  (16.0, ['DD', 'EE', 'FF', 'GG', 'HH'])],\n",
       " [(21.5, ['AA', 'BB']),\n",
       "  (19.666666666666668, ['AA', 'DD', 'CC']),\n",
       "  (16.5, ['AA', 'DD', 'EE', 'FF', 'GG', 'HH']),\n",
       "  (8.0, ['JJ'])],\n",
       " [(17.0, ['DD', 'CC']),\n",
       "  (16.0, ['DD', 'EE', 'FF', 'GG', 'HH']),\n",
       "  (2.5, ['II', 'JJ'])],\n",
       " [(27.0, ['CC']),\n",
       "  (19.75, ['EE', 'FF', 'GG', 'HH']),\n",
       "  (6.5, ['AA', 'BB']),\n",
       "  (0.6666666666666666, ['AA', 'II', 'JJ'])],\n",
       " [(14.6, ['DD', 'EE', 'FF', 'GG', 'HH']), (3.5, ['BB', 'AA', 'II', 'JJ'])],\n",
       " [(19.75, ['EE', 'FF', 'GG', 'HH']),\n",
       "  (6.5, ['AA', 'BB']),\n",
       "  (0.6666666666666666, ['AA', 'II', 'JJ']),\n",
       "  (-2.0, ['CC'])],\n",
       " [(19.666666666666668, ['FF', 'GG', 'HH']),\n",
       "  (3.3333333333333335, ['DD', 'AA', 'BB']),\n",
       "  (-0.25, ['DD', 'AA', 'II', 'JJ']),\n",
       "  (-2.0, ['DD', 'CC'])],\n",
       " [(17.0, ['GG', 'HH']),\n",
       "  (1.75, ['EE', 'DD', 'AA', 'BB']),\n",
       "  (-0.8, ['EE', 'DD', 'AA', 'II', 'JJ']),\n",
       "  (-2.0, ['EE', 'DD', 'CC'])],\n",
       " [(7.0, ['HH']),\n",
       "  (0.8, ['FF', 'EE', 'DD', 'AA', 'BB']),\n",
       "  (-1.1666666666666667, ['FF', 'EE', 'DD', 'AA', 'II', 'JJ']),\n",
       "  (-2.0, ['FF', 'EE', 'DD', 'CC'])],\n",
       " [(0.16666666666666666, ['GG', 'FF', 'EE', 'DD', 'AA', 'BB']),\n",
       "  (-1.4285714285714286, ['GG', 'FF', 'EE', 'DD', 'AA', 'II', 'JJ']),\n",
       "  (-2.0, ['GG', 'FF', 'EE', 'DD', 'CC'])]]"
      ]
     },
     "execution_count": 146,
     "metadata": {},
     "output_type": "execute_result"
    }
   ],
   "source": [
    "paths_sort_generated"
   ]
  },
  {
   "cell_type": "code",
   "execution_count": null,
   "id": "37050194",
   "metadata": {},
   "outputs": [],
   "source": []
  }
 ],
 "metadata": {
  "kernelspec": {
   "display_name": "Python 3",
   "language": "python",
   "name": "python3"
  },
  "language_info": {
   "codemirror_mode": {
    "name": "ipython",
    "version": 3
   },
   "file_extension": ".py",
   "mimetype": "text/x-python",
   "name": "python",
   "nbconvert_exporter": "python",
   "pygments_lexer": "ipython3",
   "version": "3.8.8"
  }
 },
 "nbformat": 4,
 "nbformat_minor": 5
}

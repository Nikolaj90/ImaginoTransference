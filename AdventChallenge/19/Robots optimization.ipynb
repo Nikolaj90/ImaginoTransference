{
 "cells": [
  {
   "cell_type": "markdown",
   "id": "b0dfc5b9",
   "metadata": {},
   "source": [
    "you notice a collection of geodes around the pond. Perhaps you could use the obsidian to create some geode-cracking robots and break them open?\n",
    "\n",
    "To collect the obsidian from the bottom of the pond, you'll need waterproof obsidian-collecting robots. Fortunately, there is an abundant amount of clay nearby that you can use to make them waterproof.\n",
    "\n",
    "In order to harvest the clay, you'll need special-purpose clay-collecting robots. To make any type of robot, you'll need ore, which is also plentiful but in the opposite direction from the clay.\n",
    "\n",
    "Collecting ore requires ore-collecting robots with big drills. Fortunately, you have exactly one ore-collecting robot in your pack that you can use to kickstart the whole operation.\n",
    "\n",
    "Each robot can collect 1 of its resource type per minute. It also takes one minute for the robot factory (also conveniently from your pack) to construct any type of robot, although it consumes the necessary resources available when construction begins.\n",
    "\n",
    "The robot factory has many blueprints (your puzzle input) you can choose from, but once you've configured it with a blueprint, you can't change it. You'll need to work out which blueprint is best.\n",
    "\n",
    "You need to figure out which blueprint would maximize the number of opened geodes after 24 minutes by figuring out which robots to build and when to build them.\n",
    "\n",
    "Blueprint 1:<br>\n",
    "  Each ore robot costs 4 ore.<br>\n",
    "  Each clay robot costs 2 ore.<br>\n",
    "  Each obsidian robot costs 3 ore and 14 clay.<br>\n",
    "  Each geode robot costs 2 ore and 7 obsidian.\n",
    "\n",
    "Blueprint 2:<br>\n",
    "  Each ore robot costs 2 ore.<br>\n",
    "  Each clay robot costs 3 ore.<br>\n",
    "  Each obsidian robot costs 3 ore and 8 clay.<br>\n",
    "  Each geode robot costs 3 ore and 12 obsidian."
   ]
  },
  {
   "cell_type": "markdown",
   "id": "cdef3d7d",
   "metadata": {},
   "source": [
    "I wanna try creating a treelike hierachy, where each node represents a minute and what robots are available, what ressources and whether or not to build one robot or another. At each minute a decision is to be made, whether there are ressources enough to build a robot and which robot to build, but also to not build a robot and instead wait to gather more ressources to build another robot.\n",
    "\n",
    "It only takes a minute to build a robot, so in the steps adding the robot material production will just have to be added in the end, then I wont have to do any queuing.\n",
    "\n",
    "- Pop first entry of list\n",
    "- Determine whether it is minute 24\n",
    "- Collect materials, if minute 24 save the path\n",
    "- Check what robots can be build\n",
    "- Append a new entry for each possible decision, where the path is the robots build and update the material production\n",
    "- Pop next entry\n",
    "\n",
    "I am going to do a breadth-first search of the network to build the network, this way it will build one layer at a time, and because each layer is one minute, it stops before starting the 25th minute.\n",
    "\n",
    "Each node needs to have an id, the path, the minutes, the robots producing material and the current material."
   ]
  },
  {
   "cell_type": "code",
   "execution_count": 401,
   "id": "daa9c5ff",
   "metadata": {},
   "outputs": [],
   "source": [
    "import copy\n",
    "import re"
   ]
  },
  {
   "cell_type": "code",
   "execution_count": 373,
   "id": "4c599e61",
   "metadata": {},
   "outputs": [],
   "source": [
    "class RobotNode():\n",
    "    def __init__(self):\n",
    "        self.path = []\n",
    "        self.min = 0\n",
    "        self.robots_factory = []\n",
    "        self.material_production = {\"ore\":0,\n",
    "                                    \"clay\":0,\n",
    "                                    \"obsidian\":0,\n",
    "                                    \"geode\":0\n",
    "                                   }\n",
    "        self.material = {\"ore\":0,\n",
    "                         \"clay\":0,\n",
    "                         \"obsidian\":0,\n",
    "                         \"geode\":0\n",
    "                         }\n",
    "        \n",
    "    def update_production(self,robot):\n",
    "        self.material_production[robot] += 1\n",
    "        return\n",
    "    \n",
    "    def update_material(self):\n",
    "        for rock, production in self.material_production.items():\n",
    "            self.material[rock] += production\n",
    "        return\n",
    "    \n",
    "    def get_blueprints(self, blueprints):\n",
    "        self.blueprints = blueprints\n",
    "    \n",
    "    def new_node(self, robot):\n",
    "        new_node = copy.deepcopy(self)\n",
    "        new_node.path.extend([robot])\n",
    "        new_node.min += 1\n",
    "        new_node.update_material()\n",
    "        if robot:\n",
    "            for rock, value in self.blueprints[robot].items():\n",
    "                new_node.material[rock] -= value\n",
    "            new_node.update_production(robot)\n",
    "        return new_node\n",
    "        \n",
    "    def build_robots(self):\n",
    "        # Create new list of robots to extend the queue\n",
    "        update_queue = []\n",
    "        # Check which, if any, of the robots is possible to build\n",
    "        for i, robot in enumerate([\"geode\",\"obsidian\",\"clay\", None,\"ore\"]):\n",
    "            if robot:\n",
    "                build = True\n",
    "                # From the blueprints the material stock is checked, to see if there is enough material for a new robot\n",
    "                for rock, value in self.blueprints[robot].items():\n",
    "                    if value > self.material[rock]:\n",
    "                        build = False\n",
    "                        break\n",
    "\n",
    "                if build == True:\n",
    "                    new_robotnode = self.new_node(robot)\n",
    "                    update_queue.append(new_robotnode)\n",
    "\n",
    "\n",
    "            else:\n",
    "                new_robotnode = self.new_node(robot)\n",
    "                update_queue.append(new_robotnode)\n",
    "        return update_queue"
   ]
  },
  {
   "cell_type": "code",
   "execution_count": null,
   "id": "5209b523",
   "metadata": {},
   "outputs": [],
   "source": [
    "ore_amount = blueprints[0][\"obsidian\"][\"ore\"]\n",
    "ore_cost = blueprints[0][\"ore\"][\"ore\"]\n",
    "\n",
    "clay_amount = blueprints[0][\"obsidian\"][\"clay\"]\n",
    "clay_cost = blueprints[0][\"clay\"][\"ore\"] * ore_cost\n",
    "\n",
    "ideal_ratio = (ore_amount*ore_cost)/(clay_amount*clay_cost)\n",
    "ideal_ratio"
   ]
  },
  {
   "cell_type": "code",
   "execution_count": 490,
   "id": "4a73ced5",
   "metadata": {},
   "outputs": [],
   "source": [
    "with open(\"day_19_input.txt\", \"r\") as file:\n",
    "    text = file.read()"
   ]
  },
  {
   "cell_type": "code",
   "execution_count": 491,
   "id": "25fb3e82",
   "metadata": {},
   "outputs": [
    {
     "data": {
      "text/plain": [
       "['Blueprint 1: Each ore robot costs 4 ore. Each clay robot costs 4 ore. Each obsidian robot costs 4 ore and 14 clay. Each geode robot costs 2 ore and 16 obsidian.',\n",
       " 'Blueprint 2: Each ore robot costs 2 ore. Each clay robot costs 2 ore. Each obsidian robot costs 2 ore and 15 clay. Each geode robot costs 2 ore and 7 obsidian.',\n",
       " 'Blueprint 3: Each ore robot costs 4 ore. Each clay robot costs 3 ore. Each obsidian robot costs 2 ore and 14 clay. Each geode robot costs 2 ore and 7 obsidian.',\n",
       " 'Blueprint 4: Each ore robot costs 4 ore. Each clay robot costs 3 ore. Each obsidian robot costs 2 ore and 17 clay. Each geode robot costs 3 ore and 16 obsidian.']"
      ]
     },
     "execution_count": 491,
     "metadata": {},
     "output_type": "execute_result"
    }
   ],
   "source": [
    "text_split = text.split(\"\\n\")\n",
    "text_split[:4]"
   ]
  },
  {
   "cell_type": "code",
   "execution_count": 492,
   "id": "b71e387e",
   "metadata": {},
   "outputs": [],
   "source": [
    "blueprints = []\n",
    "for i, blueprint in enumerate(text_split):\n",
    "    materials = re.findall(\"(ore|clay|obsidian|geode)(?:\\srobot)(?:\\D*)(\\d*)(?:\\s)(\\w*)(?:\\sand\\s)?(\\d*)?(?:\\s)?(\\w*)?\",blueprint)\n",
    "    blueprint = {}\n",
    "    for material in materials:\n",
    "        robot = material[0]\n",
    "        build_materials = [x for x in material[1:] if re.match(\"\\D\", x)]\n",
    "        build_quantity = [int(x) for x in material[1:] if re.match(\"\\d\", x)]\n",
    "        blueprint[robot] = dict(zip(build_materials,build_quantity))\n",
    "    blueprints.append(blueprint)"
   ]
  },
  {
   "cell_type": "code",
   "execution_count": 464,
   "id": "7dd5e1f7",
   "metadata": {},
   "outputs": [
    {
     "name": "stdout",
     "output_type": "stream",
     "text": [
      "0 / 31\n",
      "1 / 31\n"
     ]
    },
    {
     "ename": "KeyboardInterrupt",
     "evalue": "",
     "output_type": "error",
     "traceback": [
      "\u001b[1;31m---------------------------------------------------------------------------\u001b[0m",
      "\u001b[1;31mKeyboardInterrupt\u001b[0m                         Traceback (most recent call last)",
      "Cell \u001b[1;32mIn[464], line 40\u001b[0m\n\u001b[0;32m     38\u001b[0m     production_result \u001b[38;5;241m=\u001b[39m current_node\u001b[38;5;241m.\u001b[39mmaterial\n\u001b[0;32m     39\u001b[0m     results\u001b[38;5;241m.\u001b[39mappend((path,production_result))\n\u001b[1;32m---> 40\u001b[0m extend_queue \u001b[38;5;241m=\u001b[39m \u001b[43mcurrent_node\u001b[49m\u001b[38;5;241;43m.\u001b[39;49m\u001b[43mbuild_robots\u001b[49m\u001b[43m(\u001b[49m\u001b[43m)\u001b[49m\n\u001b[0;32m     41\u001b[0m \u001b[38;5;28;01mif\u001b[39;00m extend_queue \u001b[38;5;241m==\u001b[39m []:\n\u001b[0;32m     42\u001b[0m     \u001b[38;5;28;01mcontinue\u001b[39;00m\n",
      "Cell \u001b[1;32mIn[373], line 40\u001b[0m, in \u001b[0;36mRobotNode.build_robots\u001b[1;34m(self)\u001b[0m\n\u001b[0;32m     37\u001b[0m         new_node\u001b[38;5;241m.\u001b[39mupdate_production(robot)\n\u001b[0;32m     38\u001b[0m     \u001b[38;5;28;01mreturn\u001b[39;00m new_node\n\u001b[1;32m---> 40\u001b[0m \u001b[38;5;28;01mdef\u001b[39;00m \u001b[38;5;21mbuild_robots\u001b[39m(\u001b[38;5;28mself\u001b[39m):\n\u001b[0;32m     41\u001b[0m     \u001b[38;5;66;03m# Create new list of robots to extend the queue\u001b[39;00m\n\u001b[0;32m     42\u001b[0m     update_queue \u001b[38;5;241m=\u001b[39m []\n\u001b[0;32m     43\u001b[0m     \u001b[38;5;66;03m# Check which, if any, of the robots is possible to build\u001b[39;00m\n",
      "\u001b[1;31mKeyboardInterrupt\u001b[0m: "
     ]
    }
   ],
   "source": [
    "geode_scores_max = []\n",
    "for i, blueprint in enumerate(blueprints):\n",
    "    print(i, \"/\", len(blueprints))\n",
    "    results = []\n",
    "\n",
    "    # Defining inital state\n",
    "    robot_test = RobotNode()\n",
    "    robot_test.update_production(\"ore\")\n",
    "    robot_test.get_blueprints(blueprint)\n",
    "\n",
    "    queue = [robot_test]\n",
    "    minute = 0\n",
    "\n",
    "    test_minutes = 24\n",
    "    best_scores = {\"obsidian\":{\"minute\":0, \"score\":0},\"geode\":{\"minute\":0, \"score\":0}}\n",
    "\n",
    "    while minute < test_minutes:\n",
    "        current_node = queue.pop(0)\n",
    "\n",
    "        minute = current_node.min\n",
    "        obsidian_score = current_node.material_production[\"obsidian\"]\n",
    "        geode_score = current_node.material_production[\"geode\"]\n",
    "\n",
    "\n",
    "        if geode_score <= best_scores[\"geode\"][\"score\"]:\n",
    "            # Determine if the obsidian-score is higher or the same - if it is the same, we will look at whether the minutes\n",
    "            # are lower - did it achieve the same score quicker.\n",
    "            if obsidian_score >= best_scores[\"obsidian\"][\"score\"]:\n",
    "                best_scores[\"obsidian\"][\"score\"] = obsidian_score\n",
    "                if (minute < best_scores[\"obsidian\"][\"minute\"])|(obsidian_score > best_scores[\"obsidian\"][\"score\"]):\n",
    "                    best_scores[\"obsidian\"][\"minute\"] = minute\n",
    "            elif minute > best_scores[\"obsidian\"][\"minute\"]:\n",
    "                continue\n",
    "\n",
    "        if minute == test_minutes - 1:\n",
    "            current_node.update_material()\n",
    "            path = current_node.path\n",
    "            production_result = current_node.material\n",
    "            results.append((path,production_result))\n",
    "        extend_queue = current_node.build_robots()\n",
    "        if extend_queue == []:\n",
    "            continue\n",
    "        queue.extend(extend_queue)\n",
    "    geode_max = max([node[1][\"geode\"] for node in results])\n",
    "    geode_scores_max.append(geode_max)"
   ]
  },
  {
   "cell_type": "code",
   "execution_count": 465,
   "id": "3f48669c",
   "metadata": {},
   "outputs": [
    {
     "data": {
      "text/plain": [
       "{'ore': {'ore': 2},\n",
       " 'clay': {'ore': 2},\n",
       " 'obsidian': {'ore': 2, 'clay': 15},\n",
       " 'geode': {'ore': 2, 'obsidian': 7}}"
      ]
     },
     "execution_count": 465,
     "metadata": {},
     "output_type": "execute_result"
    }
   ],
   "source": [
    "blueprints[1]"
   ]
  },
  {
   "cell_type": "code",
   "execution_count": 472,
   "id": "914c64a8",
   "metadata": {},
   "outputs": [],
   "source": [
    "results = []\n",
    "\n",
    "# Defining inital state\n",
    "robot_test = RobotNode()\n",
    "robot_test.update_production(\"ore\")\n",
    "blueprints = {\"ore\":{\"ore\":4}, \n",
    "              \"clay\":{\"ore\":2},\n",
    "              \"obsidian\":{\"ore\":3,\"clay\":14},\n",
    "              \"geode\":{\"ore\":2,\"obsidian\":7}\n",
    "             }\n",
    "robot_test.get_blueprints(blueprints)\n",
    "\n",
    "queue = [robot_test]\n",
    "minute = 0\n",
    "\n",
    "test_minutes = 24\n",
    "best_scores = {\"obsidian\":{\"minute\":0, \"score\":0},\"geode\":{\"minute\":0, \"score\":0}}\n",
    "\n",
    "while minute < test_minutes:\n",
    "    current_node = queue.pop(0)\n",
    "    \n",
    "    minute = current_node.min\n",
    "    obsidian_score = current_node.material_production[\"obsidian\"]\n",
    "    geode_score = current_node.material_production[\"geode\"]\n",
    "    \n",
    "    \n",
    "    if geode_score <= best_scores[\"geode\"][\"score\"]:\n",
    "        # Determine if the obsidian-score is higher or the same - if it is the same, we will look at whether the minutes\n",
    "        # are lower - did it achieve the same score quicker.\n",
    "        if obsidian_score >= best_scores[\"obsidian\"][\"score\"]:\n",
    "            best_scores[\"obsidian\"][\"score\"] = obsidian_score\n",
    "            if (minute < best_scores[\"obsidian\"][\"minute\"])|(obsidian_score > best_scores[\"obsidian\"][\"score\"]):\n",
    "                best_scores[\"obsidian\"][\"minute\"] = minute\n",
    "        elif minute > best_scores[\"obsidian\"][\"minute\"]:\n",
    "            continue\n",
    "\n",
    "    \n",
    "    if minute == test_minutes - 1:\n",
    "        current_node.update_material()\n",
    "        path = current_node.path\n",
    "        production_result = current_node.material\n",
    "        results.append((path,production_result))\n",
    "    extend_queue = current_node.build_robots()\n",
    "    if extend_queue == []:\n",
    "        continue\n",
    "    queue.extend(extend_queue)\n"
   ]
  },
  {
   "cell_type": "code",
   "execution_count": null,
   "id": "4d7c60e1",
   "metadata": {},
   "outputs": [],
   "source": [
    "blueprints = {\"ore\":{\"ore\":4}, \n",
    "              \"clay\":{\"ore\":2},\n",
    "              \"obsidian\":{\"ore\":3,\"clay\":14},\n",
    "              \"geode\":{\"ore\":2,\"obsidian\":7}\n",
    "             }"
   ]
  },
  {
   "cell_type": "code",
   "execution_count": 486,
   "id": "df08e5ee",
   "metadata": {
    "scrolled": true
   },
   "outputs": [
    {
     "data": {
      "text/plain": [
       "[{'ore': 3, 'clay': 27, 'obsidian': 10, 'geode': 9},\n",
       " {'ore': 3, 'clay': 26, 'obsidian': 10, 'geode': 9},\n",
       " {'ore': 3, 'clay': 26, 'obsidian': 10, 'geode': 9},\n",
       " {'ore': 3, 'clay': 26, 'obsidian': 10, 'geode': 9},\n",
       " {'ore': 3, 'clay': 26, 'obsidian': 10, 'geode': 9}]"
      ]
     },
     "execution_count": 486,
     "metadata": {},
     "output_type": "execute_result"
    }
   ],
   "source": [
    "[node[1] for node in results if (node[1][\"geode\"] == 9)&(node[1][\"obsidian\"] == 10)]"
   ]
  },
  {
   "cell_type": "code",
   "execution_count": 478,
   "id": "fc2a05ea",
   "metadata": {},
   "outputs": [
    {
     "data": {
      "text/plain": [
       "(0.1111111111111111, 0.11538461538461539)"
      ]
     },
     "execution_count": 478,
     "metadata": {},
     "output_type": "execute_result"
    }
   ],
   "source": [
    "3/27, 3/26"
   ]
  },
  {
   "cell_type": "code",
   "execution_count": 488,
   "id": "3e1b3f73",
   "metadata": {},
   "outputs": [
    {
     "data": {
      "text/plain": [
       "0.10714285714285714"
      ]
     },
     "execution_count": 488,
     "metadata": {},
     "output_type": "execute_result"
    }
   ],
   "source": [
    "(4*3)/(14*2*4)"
   ]
  },
  {
   "cell_type": "code",
   "execution_count": 493,
   "id": "509ce210",
   "metadata": {},
   "outputs": [
    {
     "data": {
      "text/plain": [
       "{'ore': {'ore': 4},\n",
       " 'clay': {'ore': 4},\n",
       " 'obsidian': {'ore': 4, 'clay': 14},\n",
       " 'geode': {'ore': 2, 'obsidian': 16}}"
      ]
     },
     "execution_count": 493,
     "metadata": {},
     "output_type": "execute_result"
    }
   ],
   "source": [
    "blueprints[0]"
   ]
  },
  {
   "cell_type": "code",
   "execution_count": 494,
   "id": "7b8bf6b9",
   "metadata": {},
   "outputs": [
    {
     "data": {
      "text/plain": [
       "0.07142857142857142"
      ]
     },
     "execution_count": 494,
     "metadata": {},
     "output_type": "execute_result"
    }
   ],
   "source": [
    "ore_amount = blueprints[0][\"obsidian\"][\"ore\"]\n",
    "ore_cost = blueprints[0][\"ore\"][\"ore\"]\n",
    "\n",
    "clay_amount = blueprints[0][\"obsidian\"][\"clay\"]\n",
    "clay_cost = blueprints[0][\"clay\"][\"ore\"] * ore_cost\n",
    "\n",
    "ideal_ratio = (ore_amount*ore_cost)/(clay_amount*clay_cost)\n",
    "ideal_ratio"
   ]
  }
 ],
 "metadata": {
  "kernelspec": {
   "display_name": "Python 3 (ipykernel)",
   "language": "python",
   "name": "python3"
  },
  "language_info": {
   "codemirror_mode": {
    "name": "ipython",
    "version": 3
   },
   "file_extension": ".py",
   "mimetype": "text/x-python",
   "name": "python",
   "nbconvert_exporter": "python",
   "pygments_lexer": "ipython3",
   "version": "3.11.3"
  }
 },
 "nbformat": 4,
 "nbformat_minor": 5
}

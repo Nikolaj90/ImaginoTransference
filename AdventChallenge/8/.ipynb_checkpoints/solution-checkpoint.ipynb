{
 "cells": [
  {
   "cell_type": "code",
   "execution_count": 129,
   "id": "8d384c4f",
   "metadata": {},
   "outputs": [],
   "source": [
    "import numpy as np\n",
    "import pandas as pd"
   ]
  },
  {
   "cell_type": "code",
   "execution_count": 225,
   "id": "59b5851d",
   "metadata": {},
   "outputs": [
    {
     "data": {
      "text/plain": [
       "matrix([[3, 0, 3, 7, 3],\n",
       "        [2, 5, 5, 1, 2],\n",
       "        [6, 5, 3, 3, 2],\n",
       "        [3, 3, 5, 4, 9],\n",
       "        [3, 5, 3, 9, 0]])"
      ]
     },
     "execution_count": 225,
     "metadata": {},
     "output_type": "execute_result"
    }
   ],
   "source": [
    "ex_text = \"\"\"30373\n",
    "25512\n",
    "65332\n",
    "33549\n",
    "35390\"\"\"\n",
    "\n",
    "data = ex_text.split(\"\\n\")\n",
    "data = [list(map(int, list(row))) for row in data]\n",
    "matrix = np.matrix(data)\n",
    "matrix"
   ]
  },
  {
   "cell_type": "code",
   "execution_count": 220,
   "id": "c349e96d",
   "metadata": {},
   "outputs": [
    {
     "data": {
      "text/plain": [
       "(99, 99)"
      ]
     },
     "execution_count": 220,
     "metadata": {},
     "output_type": "execute_result"
    }
   ],
   "source": [
    "with open(\"input.txt\") as f:\n",
    "    data = f.read().split(\"\\n\")\n",
    "data = [list(map(int, list(row))) for row in data]\n",
    "\n",
    "matrix = np.matrix(data[:-1])\n",
    "matrix.shape"
   ]
  },
  {
   "cell_type": "code",
   "execution_count": 227,
   "id": "f26964a5",
   "metadata": {},
   "outputs": [],
   "source": [
    "row = 1\n",
    "column = 1\n",
    "tree_height = matrix[row,column]\n",
    "scenic_score = 0\n",
    "\n",
    "\n",
    "right = matrix[row,column+1:]\n",
    "left = matrix[row,:column]\n",
    "down = matrix[row+1:,column]\n",
    "up = matrix[:row,column]\n",
    "\n",
    "# for direction in [right,left,down,up]:\n",
    "    "
   ]
  },
  {
   "cell_type": "code",
   "execution_count": 209,
   "id": "d28bc5ff",
   "metadata": {},
   "outputs": [
    {
     "data": {
      "text/plain": [
       "1"
      ]
     },
     "execution_count": 209,
     "metadata": {},
     "output_type": "execute_result"
    }
   ],
   "source": [
    "visible_trees"
   ]
  },
  {
   "cell_type": "code",
   "execution_count": 221,
   "id": "5dc061b4",
   "metadata": {},
   "outputs": [],
   "source": [
    "row_shape, column_shape = matrix.shape\n",
    "n_trees_outer = row_shape*2 + column_shape*2 -4\n",
    "\n",
    "visible_trees = 0\n",
    "\n",
    "check = []\n",
    "\n",
    "for row in range(1,row_shape-1):\n",
    "    for column in range(1,column_shape-1):\n",
    "        tree_height = matrix[row,column]\n",
    "        \n",
    "        right = (tree_height <= matrix[row,column+1:]).sum()\n",
    "        left = (tree_height <= matrix[row,:column]).sum()\n",
    "        down = (tree_height <= matrix[row+1:,column]).sum()\n",
    "        up = (tree_height <= matrix[:row,column]).sum()\n",
    "\n",
    "        for direction in [right,left,down,up]:\n",
    "            if direction == 0:\n",
    "                visible_trees += 1\n",
    "                check.append((row,column,tree_height))\n",
    "                break\n",
    "        \n",
    "        \n",
    "#         visible = (tree_height > matrix[row]).sum() * (tree_height > matrix[:,column]).sum()\n",
    "#         if visible == 0:\n",
    "#             visible_trees += 1\n",
    "#             check.append((row,column,tree_height))\n",
    "\n"
   ]
  },
  {
   "cell_type": "code",
   "execution_count": 222,
   "id": "0bc87a06",
   "metadata": {},
   "outputs": [
    {
     "data": {
      "text/plain": [
       "1849"
      ]
     },
     "execution_count": 222,
     "metadata": {},
     "output_type": "execute_result"
    }
   ],
   "source": [
    "visible_trees + n_trees_outer"
   ]
  },
  {
   "cell_type": "code",
   "execution_count": 218,
   "id": "e4f44210",
   "metadata": {},
   "outputs": [
    {
     "data": {
      "text/plain": [
       "matrix([[3, 0, 3, 7, 3],\n",
       "        [2, 5, 5, 1, 2],\n",
       "        [6, 5, 3, 3, 2],\n",
       "        [3, 3, 5, 4, 9],\n",
       "        [3, 5, 3, 9, 0]])"
      ]
     },
     "execution_count": 218,
     "metadata": {},
     "output_type": "execute_result"
    }
   ],
   "source": [
    "matrix"
   ]
  },
  {
   "cell_type": "code",
   "execution_count": 219,
   "id": "be6d2dd3",
   "metadata": {},
   "outputs": [
    {
     "data": {
      "text/plain": [
       "[(1, 1, 5), (1, 2, 5), (2, 1, 5), (2, 3, 3), (3, 2, 5)]"
      ]
     },
     "execution_count": 219,
     "metadata": {},
     "output_type": "execute_result"
    }
   ],
   "source": [
    "check"
   ]
  }
 ],
 "metadata": {
  "kernelspec": {
   "display_name": "Python 3 (ipykernel)",
   "language": "python",
   "name": "python3"
  },
  "language_info": {
   "codemirror_mode": {
    "name": "ipython",
    "version": 3
   },
   "file_extension": ".py",
   "mimetype": "text/x-python",
   "name": "python",
   "nbconvert_exporter": "python",
   "pygments_lexer": "ipython3",
   "version": "3.9.7"
  }
 },
 "nbformat": 4,
 "nbformat_minor": 5
}

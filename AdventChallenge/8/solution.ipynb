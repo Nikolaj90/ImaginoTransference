{
 "cells": [
  {
   "cell_type": "code",
   "execution_count": 1,
   "id": "8d384c4f",
   "metadata": {},
   "outputs": [],
   "source": [
    "import numpy as np"
   ]
  },
  {
   "cell_type": "code",
   "execution_count": 3,
   "id": "59b5851d",
   "metadata": {},
   "outputs": [
    {
     "data": {
      "text/plain": [
       "matrix([[3, 0, 3, 7, 3],\n",
       "        [2, 5, 5, 1, 2],\n",
       "        [6, 5, 3, 3, 2],\n",
       "        [3, 3, 5, 4, 9],\n",
       "        [3, 5, 3, 9, 0]])"
      ]
     },
     "execution_count": 3,
     "metadata": {},
     "output_type": "execute_result"
    }
   ],
   "source": [
    "ex_text = \"\"\"30373\n",
    "25512\n",
    "65332\n",
    "33549\n",
    "35390\"\"\"\n",
    "\n",
    "data = ex_text.split(\"\\n\")\n",
    "data = [list(map(int, list(row))) for row in data]\n",
    "matrix = np.matrix(data)\n",
    "matrix"
   ]
  },
  {
   "cell_type": "code",
   "execution_count": 58,
   "id": "c349e96d",
   "metadata": {},
   "outputs": [
    {
     "data": {
      "text/plain": [
       "(99, 99)"
      ]
     },
     "execution_count": 58,
     "metadata": {},
     "output_type": "execute_result"
    }
   ],
   "source": [
    "with open(\"input.txt\") as f:\n",
    "    data = f.read().split(\"\\n\")\n",
    "data = [list(map(int, list(row))) for row in data]\n",
    "\n",
    "matrix = np.matrix(data[:-1])\n",
    "matrix.shape"
   ]
  },
  {
   "cell_type": "code",
   "execution_count": 59,
   "id": "f26964a5",
   "metadata": {},
   "outputs": [
    {
     "data": {
      "text/plain": [
       "201600"
      ]
     },
     "execution_count": 59,
     "metadata": {},
     "output_type": "execute_result"
    }
   ],
   "source": [
    "def reverse_list(list):\n",
    "    list.reverse()\n",
    "    return list\n",
    "\n",
    "\n",
    "row_shape, column_shape = matrix.shape\n",
    "# row = 3\n",
    "# column = 2\n",
    "# tree_height = matrix[row,column]\n",
    "scenic_score = []\n",
    "scenic_score_all = []\n",
    "\n",
    "\n",
    "for row in range(1,row_shape-1):\n",
    "    for column in range(1,column_shape-1):\n",
    "        tree_height = matrix[row,column]\n",
    "\n",
    "        right = matrix[row,column+1:].tolist()[0]\n",
    "        left = matrix[row,:column].tolist()[0]\n",
    "        down = [x[0] for x in matrix[row+1:,column].tolist()]\n",
    "        up = [x[0] for x in matrix[:row,column].tolist()]\n",
    "\n",
    "        r_score = 0\n",
    "        for tree in right:\n",
    "            if tree < tree_height:\n",
    "                r_score += 1\n",
    "            else:\n",
    "                r_score += 1\n",
    "                break\n",
    "        scenic_score.append(r_score)\n",
    "\n",
    "        d_score = 0\n",
    "        for tree in down:\n",
    "            if tree < tree_height:\n",
    "                d_score += 1\n",
    "            else:\n",
    "                d_score += 1\n",
    "                break\n",
    "        scenic_score.append(d_score)\n",
    "\n",
    "        l_score = 0\n",
    "        for tree in reverse_list(left):\n",
    "            if tree < tree_height:\n",
    "                l_score += 1\n",
    "            else:\n",
    "                l_score += 1\n",
    "                break\n",
    "        scenic_score.append(l_score)\n",
    "\n",
    "        u_score = 0\n",
    "        for tree in reverse_list(up):\n",
    "            if tree < tree_height:\n",
    "                u_score += 1\n",
    "            else:\n",
    "                u_score += 1\n",
    "                break\n",
    "        scenic_score.append(u_score)\n",
    "\n",
    "        scenic_score_total = scenic_score[0]*scenic_score[1]*scenic_score[2]*scenic_score[3]\n",
    "        scenic_score_all.append(scenic_score_total)\n",
    "        scenic_score = []\n",
    "        \n",
    "max(scenic_score_all)"
   ]
  },
  {
   "cell_type": "code",
   "execution_count": 57,
   "id": "03a63b84",
   "metadata": {},
   "outputs": [
    {
     "data": {
      "text/plain": [
       "[1, 4, 1, 6, 1, 2, 1, 8, 3]"
      ]
     },
     "execution_count": 57,
     "metadata": {},
     "output_type": "execute_result"
    }
   ],
   "source": [
    "scenic_score_all"
   ]
  },
  {
   "cell_type": "code",
   "execution_count": 41,
   "id": "bd0300cb",
   "metadata": {},
   "outputs": [
    {
     "data": {
      "text/plain": [
       "[3]"
      ]
     },
     "execution_count": 41,
     "metadata": {},
     "output_type": "execute_result"
    }
   ],
   "source": [
    "[x[0] for x in matrix[:row,column].tolist()]"
   ]
  },
  {
   "cell_type": "code",
   "execution_count": 23,
   "id": "d28bc5ff",
   "metadata": {},
   "outputs": [
    {
     "data": {
      "text/plain": [
       "[2, 1, 5]"
      ]
     },
     "execution_count": 23,
     "metadata": {},
     "output_type": "execute_result"
    }
   ],
   "source": [
    "\n",
    "def reverse_list(list):\n",
    "    list.reverse()\n",
    "    return list\n",
    "reverse_list(right)"
   ]
  },
  {
   "cell_type": "code",
   "execution_count": 14,
   "id": "f752b4a2",
   "metadata": {},
   "outputs": [
    {
     "data": {
      "text/plain": [
       "matrix([[5, 1, 2]])"
      ]
     },
     "execution_count": 14,
     "metadata": {},
     "output_type": "execute_result"
    }
   ],
   "source": [
    "right"
   ]
  },
  {
   "cell_type": "code",
   "execution_count": 221,
   "id": "5dc061b4",
   "metadata": {},
   "outputs": [],
   "source": [
    "row_shape, column_shape = matrix.shape\n",
    "n_trees_outer = row_shape*2 + column_shape*2 -4\n",
    "\n",
    "visible_trees = 0\n",
    "\n",
    "check = []\n",
    "\n",
    "for row in range(1,row_shape-1):\n",
    "    for column in range(1,column_shape-1):\n",
    "        tree_height = matrix[row,column]\n",
    "        \n",
    "        right = (tree_height <= matrix[row,column+1:]).sum()\n",
    "        left = (tree_height <= matrix[row,:column]).sum()\n",
    "        down = (tree_height <= matrix[row+1:,column]).sum()\n",
    "        up = (tree_height <= matrix[:row,column]).sum()\n",
    "\n",
    "        for direction in [right,left,down,up]:\n",
    "            if direction == 0:\n",
    "                visible_trees += 1\n",
    "                check.append((row,column,tree_height))\n",
    "                break\n",
    "print(visible_trees + n_trees_outer)        \n",
    "        \n",
    "#         visible = (tree_height > matrix[row]).sum() * (tree_height > matrix[:,column]).sum()\n",
    "#         if visible == 0:\n",
    "#             visible_trees += 1\n",
    "#             check.append((row,column,tree_height))\n",
    "\n"
   ]
  },
  {
   "cell_type": "code",
   "execution_count": 222,
   "id": "0bc87a06",
   "metadata": {},
   "outputs": [
    {
     "data": {
      "text/plain": [
       "1849"
      ]
     },
     "execution_count": 222,
     "metadata": {},
     "output_type": "execute_result"
    }
   ],
   "source": [
    "visible_trees + n_trees_outer"
   ]
  },
  {
   "cell_type": "code",
   "execution_count": 218,
   "id": "e4f44210",
   "metadata": {},
   "outputs": [
    {
     "data": {
      "text/plain": [
       "matrix([[3, 0, 3, 7, 3],\n",
       "        [2, 5, 5, 1, 2],\n",
       "        [6, 5, 3, 3, 2],\n",
       "        [3, 3, 5, 4, 9],\n",
       "        [3, 5, 3, 9, 0]])"
      ]
     },
     "execution_count": 218,
     "metadata": {},
     "output_type": "execute_result"
    }
   ],
   "source": [
    "matrix"
   ]
  },
  {
   "cell_type": "code",
   "execution_count": 219,
   "id": "be6d2dd3",
   "metadata": {},
   "outputs": [
    {
     "data": {
      "text/plain": [
       "[(1, 1, 5), (1, 2, 5), (2, 1, 5), (2, 3, 3), (3, 2, 5)]"
      ]
     },
     "execution_count": 219,
     "metadata": {},
     "output_type": "execute_result"
    }
   ],
   "source": [
    "check"
   ]
  }
 ],
 "metadata": {
  "kernelspec": {
   "display_name": "Python 3",
   "language": "python",
   "name": "python3"
  },
  "language_info": {
   "codemirror_mode": {
    "name": "ipython",
    "version": 3
   },
   "file_extension": ".py",
   "mimetype": "text/x-python",
   "name": "python",
   "nbconvert_exporter": "python",
   "pygments_lexer": "ipython3",
   "version": "3.8.8"
  }
 },
 "nbformat": 4,
 "nbformat_minor": 5
}

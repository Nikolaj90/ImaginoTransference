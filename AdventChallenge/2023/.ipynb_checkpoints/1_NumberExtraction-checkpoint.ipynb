{
 "cells": [
  {
   "cell_type": "code",
   "execution_count": 3,
   "id": "45302106",
   "metadata": {},
   "outputs": [],
   "source": [
    "import re\n",
    "import os\n",
    "import pandas as pd\n",
    "from collections import Counter"
   ]
  },
  {
   "cell_type": "code",
   "execution_count": 22,
   "id": "02dafe21",
   "metadata": {},
   "outputs": [],
   "source": [
    "with open(\"data/input1.txt\", \"r\") as f:\n",
    "    text = f.read()"
   ]
  },
  {
   "cell_type": "code",
   "execution_count": 25,
   "id": "864283e9",
   "metadata": {},
   "outputs": [
    {
     "name": "stdout",
     "output_type": "stream",
     "text": [
      "54697\n"
     ]
    }
   ],
   "source": [
    "# Part 1\n",
    "total = 0\n",
    "for x in text.split():\n",
    "    digits = re.findall(\"\\d\", x)\n",
    "    digit = int(digits[0] + digits[-1])\n",
    "    total = total + digit\n",
    "print(total)"
   ]
  },
  {
   "cell_type": "code",
   "execution_count": 26,
   "id": "165aa5af",
   "metadata": {},
   "outputs": [
    {
     "name": "stdout",
     "output_type": "stream",
     "text": [
      "54885\n"
     ]
    }
   ],
   "source": [
    "# Part 2\n",
    "def find_int(x):\n",
    "    stop = None\n",
    "    i = 0\n",
    "    re_number = []\n",
    "    str2int = {\"one\" : \"1\",\n",
    "              \"two\" : \"2\",\n",
    "               \"three\" : \"3\",\n",
    "               \"four\" : \"4\",\n",
    "               \"five\" : \"5\",\n",
    "               \"six\" : \"6\",\n",
    "               \"seven\" : \"7\",\n",
    "               \"eight\" : \"8\",\n",
    "               \"nine\" : \"9\"\n",
    "              }    \n",
    "\n",
    "    while stop == None:\n",
    "        result = re.search(\"one|two|three|four|five|six|seven|eight|nine|[1-9]\", x[i:])\n",
    "\n",
    "        if result:\n",
    "            pos = result.span()\n",
    "            number = x[pos[0]+i:pos[1]+i]\n",
    "            if number.isdigit():\n",
    "                re_number.append(number)\n",
    "            else:\n",
    "                number = str2int[number]\n",
    "                re_number.append(number)\n",
    "\n",
    "            i = i+pos[0]+1\n",
    "        else:\n",
    "            stop = True\n",
    "    return re_number\n",
    "\n",
    "total = 0\n",
    "for x in text.split():\n",
    "    digits = find_int(x)\n",
    "    digit = int(digits[0] + digits[-1])\n",
    "    total = total + digit\n",
    "print(total)"
   ]
  }
 ],
 "metadata": {
  "kernelspec": {
   "display_name": "Python 3",
   "language": "python",
   "name": "python3"
  },
  "language_info": {
   "codemirror_mode": {
    "name": "ipython",
    "version": 3
   },
   "file_extension": ".py",
   "mimetype": "text/x-python",
   "name": "python",
   "nbconvert_exporter": "python",
   "pygments_lexer": "ipython3",
   "version": "3.8.8"
  }
 },
 "nbformat": 4,
 "nbformat_minor": 5
}

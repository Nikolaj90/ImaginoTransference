{
 "cells": [
  {
   "cell_type": "code",
   "execution_count": 1,
   "id": "5bbe8e91",
   "metadata": {},
   "outputs": [
    {
     "ename": "OSError",
     "evalue": "input not found.",
     "output_type": "error",
     "traceback": [
      "\u001b[1;31m---------------------------------------------------------------------------\u001b[0m",
      "\u001b[1;31mOSError\u001b[0m                                   Traceback (most recent call last)",
      "\u001b[1;32m~\\AppData\\Local\\Temp/ipykernel_8796/1824863390.py\u001b[0m in \u001b[0;36m<module>\u001b[1;34m\u001b[0m\n\u001b[0;32m      6\u001b[0m \u001b[0msubsets\u001b[0m \u001b[1;33m=\u001b[0m \u001b[1;36m0\u001b[0m\u001b[1;33m\u001b[0m\u001b[1;33m\u001b[0m\u001b[0m\n\u001b[0;32m      7\u001b[0m \u001b[1;33m\u001b[0m\u001b[0m\n\u001b[1;32m----> 8\u001b[1;33m \u001b[0mds\u001b[0m \u001b[1;33m=\u001b[0m \u001b[0mnp\u001b[0m\u001b[1;33m.\u001b[0m\u001b[0mloadtxt\u001b[0m\u001b[1;33m(\u001b[0m\u001b[1;34m\"input\"\u001b[0m\u001b[1;33m,\u001b[0m\u001b[0mdtype\u001b[0m \u001b[1;33m=\u001b[0m \u001b[0mstr\u001b[0m \u001b[1;33m,\u001b[0m \u001b[0mdelimiter\u001b[0m\u001b[1;33m=\u001b[0m\u001b[1;34m\" \"\u001b[0m\u001b[1;33m)\u001b[0m\u001b[1;33m\u001b[0m\u001b[1;33m\u001b[0m\u001b[0m\n\u001b[0m\u001b[0;32m      9\u001b[0m \u001b[0mlistSections1\u001b[0m \u001b[1;33m=\u001b[0m \u001b[1;33m[\u001b[0m\u001b[0mstring\u001b[0m\u001b[1;33m.\u001b[0m\u001b[0msplit\u001b[0m\u001b[1;33m(\u001b[0m\u001b[1;34m','\u001b[0m\u001b[1;33m,\u001b[0m\u001b[1;36m1\u001b[0m\u001b[1;33m)\u001b[0m\u001b[1;33m[\u001b[0m\u001b[1;36m0\u001b[0m\u001b[1;33m]\u001b[0m \u001b[1;32mfor\u001b[0m \u001b[0mstring\u001b[0m \u001b[1;32min\u001b[0m \u001b[0mds\u001b[0m\u001b[1;33m]\u001b[0m\u001b[1;33m\u001b[0m\u001b[1;33m\u001b[0m\u001b[0m\n\u001b[0;32m     10\u001b[0m \u001b[0mlistSections2\u001b[0m \u001b[1;33m=\u001b[0m \u001b[1;33m[\u001b[0m\u001b[0mstring\u001b[0m\u001b[1;33m.\u001b[0m\u001b[0msplit\u001b[0m\u001b[1;33m(\u001b[0m\u001b[1;34m','\u001b[0m\u001b[1;33m,\u001b[0m\u001b[1;36m1\u001b[0m\u001b[1;33m)\u001b[0m\u001b[1;33m[\u001b[0m\u001b[1;36m1\u001b[0m\u001b[1;33m]\u001b[0m \u001b[1;32mfor\u001b[0m \u001b[0mstring\u001b[0m \u001b[1;32min\u001b[0m \u001b[0mds\u001b[0m\u001b[1;33m]\u001b[0m\u001b[1;33m\u001b[0m\u001b[1;33m\u001b[0m\u001b[0m\n",
      "\u001b[1;32m~\\anaconda3\\lib\\site-packages\\numpy\\lib\\npyio.py\u001b[0m in \u001b[0;36mloadtxt\u001b[1;34m(fname, dtype, comments, delimiter, converters, skiprows, usecols, unpack, ndmin, encoding, max_rows, like)\u001b[0m\n\u001b[0;32m   1063\u001b[0m             \u001b[0mfname\u001b[0m \u001b[1;33m=\u001b[0m \u001b[0mos_fspath\u001b[0m\u001b[1;33m(\u001b[0m\u001b[0mfname\u001b[0m\u001b[1;33m)\u001b[0m\u001b[1;33m\u001b[0m\u001b[1;33m\u001b[0m\u001b[0m\n\u001b[0;32m   1064\u001b[0m         \u001b[1;32mif\u001b[0m \u001b[0m_is_string_like\u001b[0m\u001b[1;33m(\u001b[0m\u001b[0mfname\u001b[0m\u001b[1;33m)\u001b[0m\u001b[1;33m:\u001b[0m\u001b[1;33m\u001b[0m\u001b[1;33m\u001b[0m\u001b[0m\n\u001b[1;32m-> 1065\u001b[1;33m             \u001b[0mfh\u001b[0m \u001b[1;33m=\u001b[0m \u001b[0mnp\u001b[0m\u001b[1;33m.\u001b[0m\u001b[0mlib\u001b[0m\u001b[1;33m.\u001b[0m\u001b[0m_datasource\u001b[0m\u001b[1;33m.\u001b[0m\u001b[0mopen\u001b[0m\u001b[1;33m(\u001b[0m\u001b[0mfname\u001b[0m\u001b[1;33m,\u001b[0m \u001b[1;34m'rt'\u001b[0m\u001b[1;33m,\u001b[0m \u001b[0mencoding\u001b[0m\u001b[1;33m=\u001b[0m\u001b[0mencoding\u001b[0m\u001b[1;33m)\u001b[0m\u001b[1;33m\u001b[0m\u001b[1;33m\u001b[0m\u001b[0m\n\u001b[0m\u001b[0;32m   1066\u001b[0m             \u001b[0mfencoding\u001b[0m \u001b[1;33m=\u001b[0m \u001b[0mgetattr\u001b[0m\u001b[1;33m(\u001b[0m\u001b[0mfh\u001b[0m\u001b[1;33m,\u001b[0m \u001b[1;34m'encoding'\u001b[0m\u001b[1;33m,\u001b[0m \u001b[1;34m'latin1'\u001b[0m\u001b[1;33m)\u001b[0m\u001b[1;33m\u001b[0m\u001b[1;33m\u001b[0m\u001b[0m\n\u001b[0;32m   1067\u001b[0m             \u001b[0mfh\u001b[0m \u001b[1;33m=\u001b[0m \u001b[0miter\u001b[0m\u001b[1;33m(\u001b[0m\u001b[0mfh\u001b[0m\u001b[1;33m)\u001b[0m\u001b[1;33m\u001b[0m\u001b[1;33m\u001b[0m\u001b[0m\n",
      "\u001b[1;32m~\\anaconda3\\lib\\site-packages\\numpy\\lib\\_datasource.py\u001b[0m in \u001b[0;36mopen\u001b[1;34m(path, mode, destpath, encoding, newline)\u001b[0m\n\u001b[0;32m    192\u001b[0m \u001b[1;33m\u001b[0m\u001b[0m\n\u001b[0;32m    193\u001b[0m     \u001b[0mds\u001b[0m \u001b[1;33m=\u001b[0m \u001b[0mDataSource\u001b[0m\u001b[1;33m(\u001b[0m\u001b[0mdestpath\u001b[0m\u001b[1;33m)\u001b[0m\u001b[1;33m\u001b[0m\u001b[1;33m\u001b[0m\u001b[0m\n\u001b[1;32m--> 194\u001b[1;33m     \u001b[1;32mreturn\u001b[0m \u001b[0mds\u001b[0m\u001b[1;33m.\u001b[0m\u001b[0mopen\u001b[0m\u001b[1;33m(\u001b[0m\u001b[0mpath\u001b[0m\u001b[1;33m,\u001b[0m \u001b[0mmode\u001b[0m\u001b[1;33m,\u001b[0m \u001b[0mencoding\u001b[0m\u001b[1;33m=\u001b[0m\u001b[0mencoding\u001b[0m\u001b[1;33m,\u001b[0m \u001b[0mnewline\u001b[0m\u001b[1;33m=\u001b[0m\u001b[0mnewline\u001b[0m\u001b[1;33m)\u001b[0m\u001b[1;33m\u001b[0m\u001b[1;33m\u001b[0m\u001b[0m\n\u001b[0m\u001b[0;32m    195\u001b[0m \u001b[1;33m\u001b[0m\u001b[0m\n\u001b[0;32m    196\u001b[0m \u001b[1;33m\u001b[0m\u001b[0m\n",
      "\u001b[1;32m~\\anaconda3\\lib\\site-packages\\numpy\\lib\\_datasource.py\u001b[0m in \u001b[0;36mopen\u001b[1;34m(self, path, mode, encoding, newline)\u001b[0m\n\u001b[0;32m    529\u001b[0m                                       encoding=encoding, newline=newline)\n\u001b[0;32m    530\u001b[0m         \u001b[1;32melse\u001b[0m\u001b[1;33m:\u001b[0m\u001b[1;33m\u001b[0m\u001b[1;33m\u001b[0m\u001b[0m\n\u001b[1;32m--> 531\u001b[1;33m             \u001b[1;32mraise\u001b[0m \u001b[0mIOError\u001b[0m\u001b[1;33m(\u001b[0m\u001b[1;34m\"%s not found.\"\u001b[0m \u001b[1;33m%\u001b[0m \u001b[0mpath\u001b[0m\u001b[1;33m)\u001b[0m\u001b[1;33m\u001b[0m\u001b[1;33m\u001b[0m\u001b[0m\n\u001b[0m\u001b[0;32m    532\u001b[0m \u001b[1;33m\u001b[0m\u001b[0m\n\u001b[0;32m    533\u001b[0m \u001b[1;33m\u001b[0m\u001b[0m\n",
      "\u001b[1;31mOSError\u001b[0m: input not found."
     ]
    }
   ],
   "source": [
    "import numpy as np\n",
    "\n",
    "\n",
    "allSections = []\n",
    "\n",
    "subsets = 0\n",
    "\n",
    "ds = np.loadtxt(\"input\",dtype = str , delimiter=\" \")\n",
    "listSections1 = [string.split(',',1)[0] for string in ds]\n",
    "listSections2 = [string.split(',',1)[1] for string in ds]\n",
    "listSections = listSections1 + listSections2\n",
    "firstSection = [start.split('-',1)[0] for start in listSections]\n",
    "lastSection = [end.split('-',1)[1] for end in listSections]\n",
    "\n",
    "\n",
    "\n",
    "for i in range(0,len(firstSection)):\n",
    "    sections = []\n",
    "    start = int(firstSection[i])\n",
    "    end = int(lastSection[i])\n",
    "    for section in range(start,end+1):\n",
    "        sections.append(section)\n",
    "    allSections.append(sections)\n",
    "    \n",
    "#\n",
    "def IsSubset(elfSections, data):\n",
    "    subBool = False\n",
    "    for i in enumerate(data):\n",
    "        elfSections = set(elfSections)\n",
    "        elfSet = set(i[1])\n",
    "        subBool = elfSections.issubset(elfSet)\n",
    "        if subBool:\n",
    "            break\n",
    "    return subBool\n",
    "\n",
    "\n",
    "\n",
    "\n",
    "for i in range(0, len(allSections)):\n",
    "    isSubset = IsSubset(allSections[i], allSections[i+1:])\n",
    "    if isSubset:\n",
    "        subsets = subsets +1"
   ]
  },
  {
   "cell_type": "code",
   "execution_count": 4,
   "id": "6661c61d",
   "metadata": {},
   "outputs": [],
   "source": [
    "import numpy as np\n",
    "\n",
    "\n",
    "allSections = []\n",
    "\n",
    "subsets = 0\n",
    "\n",
    "ds = np.loadtxt(\"input.txt\",dtype = str , delimiter=\" \") # Tilføjet .txt"
   ]
  },
  {
   "cell_type": "code",
   "execution_count": 17,
   "id": "5c25c38c",
   "metadata": {},
   "outputs": [
    {
     "name": "stdout",
     "output_type": "stream",
     "text": [
      "1000\n"
     ]
    },
    {
     "data": {
      "text/plain": [
       "array(['5-90,4-90', '52-52,3-51', '46-81,45-80', '15-48,49-75',\n",
       "       '14-81,14-81'], dtype='<U11')"
      ]
     },
     "execution_count": 17,
     "metadata": {},
     "output_type": "execute_result"
    }
   ],
   "source": [
    "print(len(ds))\n",
    "ds[:5]"
   ]
  },
  {
   "cell_type": "code",
   "execution_count": 5,
   "id": "a40e57a7",
   "metadata": {},
   "outputs": [],
   "source": [
    "\"\"\"\n",
    "Opgaven er, at sammenligne to nisser og hvorvidt den enes sektioner er et subset af den andens. \n",
    "Nedenfor starter du med at lave en liste for alle de første nisser og derefter en liste for alle deres 'makkernisser'. \n",
    "\n",
    "Så hvis du havde et input, der hed:\n",
    "['5-90,4-90', '52-52,3-51']\n",
    "Så får du lavet:\n",
    "listSections1 = [\"5-90\",\"52-52\"]\n",
    "listSection2 = [\"4-90\", \"3-51\"]\n",
    "\n",
    "Når du så klistre dem sammen, så bliver de to sektioner, der skal sammenlignes flyttet fra hinanden og det kommer til at give\n",
    "problemer for resten af din kode.\n",
    "\n",
    "Men jeg tror, at du har misforstået opgaven, for du prøver at sammenligne med alle andre sektioner og dette er ikke opgaven.\n",
    "\n",
    "Du skal have et output, der for mit ovenstående eksempel siger par nr 1: '5-90,4-90' der er 5-90 et subset af 4-90, men for par \n",
    "nr 2 er 52 ikke et subset af 3-51. Så svaret for de to ville være 1, for der er et subset. \n",
    "\"\"\"\n",
    "\n",
    "\n",
    "listSections1 = [string.split(',',1)[0] for string in ds]\n",
    "listSections2 = [string.split(',',1)[1] for string in ds]\n",
    "listSections = listSections1 + listSections2 \n",
    "\n",
    "\n",
    "\n",
    "firstSection = [start.split('-',1)[0] for start in listSections]\n",
    "lastSection = [end.split('-',1)[1] for end in listSections]"
   ]
  },
  {
   "cell_type": "code",
   "execution_count": 10,
   "id": "77e99f6b",
   "metadata": {},
   "outputs": [
    {
     "name": "stdout",
     "output_type": "stream",
     "text": [
      "5-90 4-90 5-90 5 90\n"
     ]
    }
   ],
   "source": [
    "print(listSections1[0],\n",
    "      listSections2[0],\n",
    "      listSections[0],\n",
    "      firstSection[0],\n",
    "      lastSection[0]\n",
    ")"
   ]
  },
  {
   "cell_type": "code",
   "execution_count": 11,
   "id": "24b68f28",
   "metadata": {},
   "outputs": [],
   "source": [
    "for i in range(0,len(firstSection)):\n",
    "    sections = []\n",
    "    start = int(firstSection[i])\n",
    "    end = int(lastSection[i])\n",
    "    for section in range(start,end+1):\n",
    "        sections.append(section)\n",
    "    allSections.append(sections)"
   ]
  },
  {
   "cell_type": "code",
   "execution_count": 16,
   "id": "3ea39e0a",
   "metadata": {},
   "outputs": [
    {
     "name": "stdout",
     "output_type": "stream",
     "text": [
      "2000 [[5, 6, 7, 8, 9, 10, 11, 12, 13, 14, 15, 16, 17, 18, 19, 20, 21, 22, 23, 24, 25, 26, 27, 28, 29, 30, 31, 32, 33, 34, 35, 36, 37, 38, 39, 40, 41, 42, 43, 44, 45, 46, 47, 48, 49, 50, 51, 52, 53, 54, 55, 56, 57, 58, 59, 60, 61, 62, 63, 64, 65, 66, 67, 68, 69, 70, 71, 72, 73, 74, 75, 76, 77, 78, 79, 80, 81, 82, 83, 84, 85, 86, 87, 88, 89, 90], [52], [46, 47, 48, 49, 50, 51, 52, 53, 54, 55, 56, 57, 58, 59, 60, 61, 62, 63, 64, 65, 66, 67, 68, 69, 70, 71, 72, 73, 74, 75, 76, 77, 78, 79, 80, 81], [15, 16, 17, 18, 19, 20, 21, 22, 23, 24, 25, 26, 27, 28, 29, 30, 31, 32, 33, 34, 35, 36, 37, 38, 39, 40, 41, 42, 43, 44, 45, 46, 47, 48], [14, 15, 16, 17, 18, 19, 20, 21, 22, 23, 24, 25, 26, 27, 28, 29, 30, 31, 32, 33, 34, 35, 36, 37, 38, 39, 40, 41, 42, 43, 44, 45, 46, 47, 48, 49, 50, 51, 52, 53, 54, 55, 56, 57, 58, 59, 60, 61, 62, 63, 64, 65, 66, 67, 68, 69, 70, 71, 72, 73, 74, 75, 76, 77, 78, 79, 80, 81]]\n"
     ]
    }
   ],
   "source": [
    "print(len(allSections), allSections[:5])"
   ]
  },
  {
   "cell_type": "code",
   "execution_count": 14,
   "id": "558aa2cb",
   "metadata": {},
   "outputs": [],
   "source": [
    "def IsSubset(elfSections, data):\n",
    "    subBool = False\n",
    "    # Enumerate har to output, 'indeks'værdien eller tælleren og det tilhørende objekt i det, \n",
    "    # der itereres over, der skal derfor også inkluderes to elementer i loopet. tilføjet x.\n",
    "    for i, x in enumerate(data):\n",
    "        elfSections = set(elfSections)\n",
    "        elfSet = set(i[1])\n",
    "        subBool = elfSections.issubset(elfSet)\n",
    "        if subBool:\n",
    "            break\n",
    "    return subBool"
   ]
  },
  {
   "cell_type": "code",
   "execution_count": null,
   "id": "3637b9af",
   "metadata": {},
   "outputs": [],
   "source": [
    "for i in range(0, len(allSections)): \n",
    "    isSubset = IsSubset(allSections[i], allSections[i+1:]) \n",
    "    if isSubset:\n",
    "        subsets = subsets +1\n"
   ]
  }
 ],
 "metadata": {
  "kernelspec": {
   "display_name": "Python 3 (ipykernel)",
   "language": "python",
   "name": "python3"
  },
  "language_info": {
   "codemirror_mode": {
    "name": "ipython",
    "version": 3
   },
   "file_extension": ".py",
   "mimetype": "text/x-python",
   "name": "python",
   "nbconvert_exporter": "python",
   "pygments_lexer": "ipython3",
   "version": "3.9.7"
  }
 },
 "nbformat": 4,
 "nbformat_minor": 5
}

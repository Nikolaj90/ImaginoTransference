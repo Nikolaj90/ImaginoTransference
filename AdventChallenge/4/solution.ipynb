{
 "cells": [
  {
   "cell_type": "code",
   "execution_count": 2,
   "id": "6490237e",
   "metadata": {},
   "outputs": [],
   "source": [
    "with open(\"input.txt\") as f:\n",
    "    text = f.readlines()\n",
    "    \n",
    "text = [x[:len(x)-1] for x in text]"
   ]
  },
  {
   "cell_type": "code",
   "execution_count": 14,
   "id": "43c02468",
   "metadata": {},
   "outputs": [],
   "source": [
    "# Create list of pairs assigned to a list, each pair of sections is converted to a set\n",
    "# Test whether each pair includes a subset and count these"
   ]
  },
  {
   "cell_type": "code",
   "execution_count": 35,
   "id": "1c170456",
   "metadata": {},
   "outputs": [
    {
     "name": "stdout",
     "output_type": "stream",
     "text": [
      "536\n"
     ]
    }
   ],
   "source": [
    "subsets = 0\n",
    "for team in text:\n",
    "    sections = team.split(\",\")\n",
    "    sect1 = {*range(int(sections[0].split(\"-\")[0]), int(sections[0].split(\"-\")[1])+1)}\n",
    "    sect2 = {*range(int(sections[1].split(\"-\")[0]), int(sections[1].split(\"-\")[1])+1)}\n",
    "    if sect1.issubset(sect2) or sect2.issubset(sect1):\n",
    "        subsets += 1\n",
    "print(subsets)"
   ]
  },
  {
   "cell_type": "code",
   "execution_count": 36,
   "id": "0234937d",
   "metadata": {},
   "outputs": [
    {
     "name": "stdout",
     "output_type": "stream",
     "text": [
      "845\n"
     ]
    }
   ],
   "source": [
    "overlap = 0\n",
    "for team in text:\n",
    "    sections = team.split(\",\")\n",
    "    sect1 = {*range(int(sections[0].split(\"-\")[0]), int(sections[0].split(\"-\")[1])+1)}\n",
    "    sect2 = {*range(int(sections[1].split(\"-\")[0]), int(sections[1].split(\"-\")[1])+1)}\n",
    "    if len(sect1.intersection(sect2)) > 0:\n",
    "        overlap += 1\n",
    "print(overlap)"
   ]
  }
 ],
 "metadata": {
  "kernelspec": {
   "display_name": "Python 3",
   "language": "python",
   "name": "python3"
  },
  "language_info": {
   "codemirror_mode": {
    "name": "ipython",
    "version": 3
   },
   "file_extension": ".py",
   "mimetype": "text/x-python",
   "name": "python",
   "nbconvert_exporter": "python",
   "pygments_lexer": "ipython3",
   "version": "3.8.8"
  }
 },
 "nbformat": 4,
 "nbformat_minor": 5
}

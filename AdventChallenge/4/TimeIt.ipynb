{
 "cells": [
  {
   "cell_type": "code",
   "execution_count": 3,
   "id": "bdec3e06",
   "metadata": {},
   "outputs": [
    {
     "name": "stdout",
     "output_type": "stream",
     "text": [
      "11.4 ms ± 736 µs per loop (mean ± std. dev. of 7 runs, 100 loops each)\n"
     ]
    }
   ],
   "source": [
    "%%timeit\n",
    "\n",
    "with open(\"input.txt\") as f:\n",
    "    text = f.readlines()\n",
    "    \n",
    "text = [x[:len(x)-1] for x in text]\n",
    "\n",
    "# Part 1\n",
    "subsets = 0\n",
    "for team in text:\n",
    "    sections = team.split(\",\")\n",
    "    sect1 = {*range(int(sections[0].split(\"-\")[0]), int(sections[0].split(\"-\")[1])+1)}\n",
    "    sect2 = {*range(int(sections[1].split(\"-\")[0]), int(sections[1].split(\"-\")[1])+1)}\n",
    "    if sect1.issubset(sect2) or sect2.issubset(sect1):\n",
    "        subsets += 1\n",
    "# print(subsets)\n",
    "\n",
    "# Part 2\n",
    "overlap = 0\n",
    "for team in text:\n",
    "    sections = team.split(\",\")\n",
    "    sect1 = {*range(int(sections[0].split(\"-\")[0]), int(sections[0].split(\"-\")[1])+1)}\n",
    "    sect2 = {*range(int(sections[1].split(\"-\")[0]), int(sections[1].split(\"-\")[1])+1)}\n",
    "    if len(sect1.intersection(sect2)) > 0:\n",
    "        overlap += 1\n",
    "# print(overlap)"
   ]
  },
  {
   "cell_type": "code",
   "execution_count": 7,
   "id": "f22ae788",
   "metadata": {},
   "outputs": [
    {
     "name": "stdout",
     "output_type": "stream",
     "text": [
      "19.6 ms ± 550 µs per loop (mean ± std. dev. of 7 runs, 100 loops each)\n"
     ]
    }
   ],
   "source": [
    "%%timeit\n",
    "allSections1 = []\n",
    "allSections2 = []\n",
    "\n",
    "subsets = 0\n",
    "\n",
    "ds = np.loadtxt(\"input.txt\",dtype = str , delimiter=\" \")\n",
    "listSections1 = [string.split(',',1)[0] for string in ds]\n",
    "listSections2 = [string.split(',',1)[1] for string in ds]\n",
    "#listSections = listSections1 + listSections2\n",
    "firstSection1 = [start.split('-',1)[0] for start in listSections1]\n",
    "lastSection1 = [end.split('-',1)[1] for end in listSections1]\n",
    "firstSection2 = [start.split('-',1)[0] for start in listSections2]\n",
    "lastSection2 = [end.split('-',1)[1] for end in listSections2]\n",
    "\n",
    "\n",
    "for i in range(0,len(firstSection1)):\n",
    "    sections = []\n",
    "    start = int(firstSection1[i])\n",
    "    end = int(lastSection1[i])\n",
    "    for section in range(start,end+1):\n",
    "        sections.append(section)\n",
    "    allSections1.append(sections)\n",
    "\n",
    "for i in range(0,len(firstSection2)):\n",
    "    sections = []\n",
    "    start = int(firstSection2[i])\n",
    "    end = int(lastSection2[i])\n",
    "    for section in range(start,end+1):\n",
    "        sections.append(section)\n",
    "    allSections2.append(sections)\n",
    "\n",
    "\n",
    "for i,x in enumerate(allSections1):\n",
    "    elf1 = set(x)\n",
    "    elf2 = set(allSections2[i])\n",
    "    if elf1.issubset(elf2) or elf2.issubset(elf1):\n",
    "        subsets = subsets +1\n",
    "#%% part 02\n",
    "intersections = 0\n",
    "\n",
    "for i,x in enumerate(allSections1):\n",
    "    elf1 = set(x)\n",
    "    elf2 = set(allSections2[i])\n",
    "    elfIntersect = elf1.intersection(elf2)\n",
    "    if len(elfIntersect)>0:\n",
    "        intersections = intersections +1\n",
    "        \n"
   ]
  }
 ],
 "metadata": {
  "kernelspec": {
   "display_name": "Python 3 (ipykernel)",
   "language": "python",
   "name": "python3"
  },
  "language_info": {
   "codemirror_mode": {
    "name": "ipython",
    "version": 3
   },
   "file_extension": ".py",
   "mimetype": "text/x-python",
   "name": "python",
   "nbconvert_exporter": "python",
   "pygments_lexer": "ipython3",
   "version": "3.9.7"
  }
 },
 "nbformat": 4,
 "nbformat_minor": 5
}

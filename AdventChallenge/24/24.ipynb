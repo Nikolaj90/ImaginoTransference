{
 "cells": [
  {
   "cell_type": "code",
   "execution_count": 1,
   "id": "9f5dc9da",
   "metadata": {},
   "outputs": [],
   "source": [
    "import numpy as np\n",
    "import pandas as pd\n",
    "import matplotlib.pyplot as plt\n",
    "from collections import Counter"
   ]
  },
  {
   "cell_type": "code",
   "execution_count": 19,
   "id": "a36a680f",
   "metadata": {},
   "outputs": [],
   "source": [
    "input_ = \"\"\"#E######\n",
    "#>>.<^<#\n",
    "#.<..<<#\n",
    "#>v.><>#\n",
    "#<^v^^>#\n",
    "######.#\"\"\".split(\"\\n\")"
   ]
  },
  {
   "cell_type": "code",
   "execution_count": 28,
   "id": "eabc0ee3",
   "metadata": {},
   "outputs": [],
   "source": [
    "with open(\"input.txt\", \"r\") as f:\n",
    "    input_ = f.read().split(\"\\n\")[:-1]"
   ]
  },
  {
   "cell_type": "code",
   "execution_count": 29,
   "id": "08ad3f1f",
   "metadata": {},
   "outputs": [
    {
     "data": {
      "text/plain": [
       "(35, 100)"
      ]
     },
     "execution_count": 29,
     "metadata": {},
     "output_type": "execute_result"
    }
   ],
   "source": [
    "# Dimensions of the cave\n",
    "row_n = len(input_)-2\n",
    "column_n = len(input_[0])-2\n",
    "row_n, column_n"
   ]
  },
  {
   "cell_type": "code",
   "execution_count": 30,
   "id": "998c4eff",
   "metadata": {},
   "outputs": [],
   "source": [
    "# First I create all the nodes\n",
    "nodes = []\n",
    "for row in range(row_n):\n",
    "    for column in range(column_n):\n",
    "        node = (row, column)\n",
    "        nodes.append(node)"
   ]
  },
  {
   "cell_type": "code",
   "execution_count": 31,
   "id": "ae5b9728",
   "metadata": {},
   "outputs": [],
   "source": [
    "# Then I get the wind directions and inital placement\n",
    "wind_dict = {\"<\":[],\">\":[], \"^\":[],\"v\":[]}\n",
    "for i, row in enumerate(input_[1:-1]):\n",
    "    for j, column in enumerate(row[1:-1]):\n",
    "        if column != \".\":\n",
    "             wind_dict[column].append((i,j)) "
   ]
  },
  {
   "cell_type": "code",
   "execution_count": 32,
   "id": "11c99945",
   "metadata": {},
   "outputs": [
    {
     "data": {
      "text/plain": [
       "700"
      ]
     },
     "execution_count": 32,
     "metadata": {},
     "output_type": "execute_result"
    }
   ],
   "source": [
    "20*35"
   ]
  },
  {
   "cell_type": "code",
   "execution_count": 34,
   "id": "4396b308",
   "metadata": {},
   "outputs": [],
   "source": [
    "# Because of math, I know that the wind will be back at the inital state after 12 min for the test case \n",
    "# (6 and 4 both divides 12) (for actual input this is 700)\n",
    "# I will therefor calculate the placement of winds after 1 min to and including 11 min. Then I will be able to find\n",
    "# the currently unoccupied nodes for each minute and start calculating a path with a Breadth first approach to find the fastest \n",
    "# way\n",
    "wind_rounds = {}\n",
    "for minute in range(700):\n",
    "    set_minute = set()\n",
    "    for wind_dir, positions in wind_dict.items():\n",
    "        if (wind_dir == \"<\") or (wind_dir == \">\"):\n",
    "            move = np.array([0,1]) * minute\n",
    "        else:\n",
    "            move = np.array([1,0]) * minute\n",
    "\n",
    "        if (wind_dir == \"<\") or (wind_dir == \"^\"):\n",
    "            move = -1 * move\n",
    "\n",
    "        for pos in positions:\n",
    "            pos = np.array(pos)\n",
    "            new_row, new_column = pos + move\n",
    "            new_pos = (new_row % row_n, new_column % column_n)\n",
    "\n",
    "            set_minute.add(new_pos)\n",
    "    wind_rounds[minute] = set_minute\n"
   ]
  },
  {
   "cell_type": "code",
   "execution_count": 35,
   "id": "02429e96",
   "metadata": {},
   "outputs": [],
   "source": [
    "# For each round I want to find all unoccupied nodes, lets do some set operations!\n",
    "nodes_set = set(nodes)"
   ]
  },
  {
   "cell_type": "code",
   "execution_count": 36,
   "id": "d0ecd7da",
   "metadata": {},
   "outputs": [],
   "source": [
    "free_nodes = {}\n",
    "for minute, wind_set in wind_rounds.items():\n",
    "    free_nodes[minute] = nodes_set.difference(wind_set)"
   ]
  },
  {
   "cell_type": "code",
   "execution_count": 37,
   "id": "ec673f9d",
   "metadata": {},
   "outputs": [],
   "source": [
    "def find_neighbours(node, row_limit, col_limit):\n",
    "    row, col = node\n",
    "    n = []\n",
    "    if row + 1 < row_limit:\n",
    "        n1 = (row + 1, col)\n",
    "        n.append(n1)\n",
    "    if row - 1 >= 0:\n",
    "        n2 = (row - 1, col)\n",
    "        n.append(n2)\n",
    "    if col + 1 < col_limit:\n",
    "        n3 = (row, col + 1)\n",
    "        n.append(n3)\n",
    "    if col - 1 >= 0:\n",
    "        n4 = (row, col - 1)\n",
    "        n.append(n4)\n",
    "    return set(n)"
   ]
  },
  {
   "cell_type": "code",
   "execution_count": 38,
   "id": "b6f06f74",
   "metadata": {},
   "outputs": [
    {
     "ename": "KeyboardInterrupt",
     "evalue": "",
     "output_type": "error",
     "traceback": [
      "\u001b[1;31m---------------------------------------------------------------------------\u001b[0m",
      "\u001b[1;31mKeyboardInterrupt\u001b[0m                         Traceback (most recent call last)",
      "Cell \u001b[1;32mIn[38], line 24\u001b[0m\n\u001b[0;32m     22\u001b[0m cur_set \u001b[38;5;241m=\u001b[39m free_nodes[set_minute]\n\u001b[0;32m     23\u001b[0m cur_pos \u001b[38;5;241m=\u001b[39m cur_path[\u001b[38;5;241m-\u001b[39m\u001b[38;5;241m1\u001b[39m]\n\u001b[1;32m---> 24\u001b[0m cur_neighbours \u001b[38;5;241m=\u001b[39m \u001b[43mfind_neighbours\u001b[49m\u001b[43m(\u001b[49m\u001b[43mcur_pos\u001b[49m\u001b[43m,\u001b[49m\u001b[43m \u001b[49m\u001b[43mrow_limit\u001b[49m\u001b[43m \u001b[49m\u001b[38;5;241;43m=\u001b[39;49m\u001b[43m \u001b[49m\u001b[43mrow_n\u001b[49m\u001b[43m,\u001b[49m\u001b[43m \u001b[49m\u001b[43mcol_limit\u001b[49m\u001b[43m \u001b[49m\u001b[38;5;241;43m=\u001b[39;49m\u001b[43m \u001b[49m\u001b[43mcolumn_n\u001b[49m\u001b[43m)\u001b[49m\n\u001b[0;32m     25\u001b[0m pos_moves \u001b[38;5;241m=\u001b[39m cur_neighbours\u001b[38;5;241m.\u001b[39mintersection(cur_set)\n\u001b[0;32m     26\u001b[0m log\u001b[38;5;241m.\u001b[39mappend((minute,cur_path, cur_pos, pos_moves))\n",
      "Cell \u001b[1;32mIn[37], line 1\u001b[0m, in \u001b[0;36mfind_neighbours\u001b[1;34m(node, row_limit, col_limit)\u001b[0m\n\u001b[1;32m----> 1\u001b[0m \u001b[38;5;28;01mdef\u001b[39;00m \u001b[38;5;21mfind_neighbours\u001b[39m(node, row_limit, col_limit):\n\u001b[0;32m      2\u001b[0m     row, col \u001b[38;5;241m=\u001b[39m node\n\u001b[0;32m      3\u001b[0m     n \u001b[38;5;241m=\u001b[39m []\n",
      "\u001b[1;31mKeyboardInterrupt\u001b[0m: "
     ]
    }
   ],
   "source": [
    "\n",
    "minute = 0\n",
    "paths = [(minute, None)]\n",
    "stop = False\n",
    "log = []\n",
    "while stop == False:\n",
    "    minute, cur_path = paths.pop(0)\n",
    "    if cur_path == None:\n",
    "        set_minute = minute % 700\n",
    "        cur_set = free_nodes[set_minute]\n",
    "        \n",
    "        if (0,0) in cur_set:\n",
    "            minute = minute + 1\n",
    "            new_path = [minute, [(0,0)]]\n",
    "            paths.append(new_path)\n",
    "        else:\n",
    "            minute = minute + 1\n",
    "            new_path = [minute, None]\n",
    "            paths.append(new_path)\n",
    "            continue\n",
    "    else:\n",
    "        set_minute = minute % 700\n",
    "        cur_set = free_nodes[set_minute]\n",
    "        cur_pos = cur_path[-1]\n",
    "        cur_neighbours = find_neighbours(cur_pos, row_limit = row_n, col_limit = column_n)\n",
    "        pos_moves = cur_neighbours.intersection(cur_set)\n",
    "        log.append((minute,cur_path, cur_pos, pos_moves))\n",
    "        if len(pos_moves) != 0:\n",
    "            for new_pos in pos_moves:\n",
    "                new_path = cur_path.copy()\n",
    "                cur_minute = minute + 1\n",
    "                new_path.append(new_pos)\n",
    "                new_path = (cur_minute, new_path)\n",
    "                paths.append(new_path)\n",
    "                if new_pos == (row_n-1,column_n-1):\n",
    "                    stop = True\n",
    "                    print(cur_minute, new_path)\n",
    "        if len(pos_moves) == 0:\n",
    "            if cur_pos not in cur_set:\n",
    "                continue\n",
    "            cur_minute = minute + 1\n",
    "            new_path = cur_path.copy()\n",
    "            new_path.append(cur_pos)\n",
    "            new_path = (cur_minute, new_path)\n",
    "            paths.append(new_path)"
   ]
  }
 ],
 "metadata": {
  "kernelspec": {
   "display_name": "Python 3 (ipykernel)",
   "language": "python",
   "name": "python3"
  },
  "language_info": {
   "codemirror_mode": {
    "name": "ipython",
    "version": 3
   },
   "file_extension": ".py",
   "mimetype": "text/x-python",
   "name": "python",
   "nbconvert_exporter": "python",
   "pygments_lexer": "ipython3",
   "version": "3.11.3"
  }
 },
 "nbformat": 4,
 "nbformat_minor": 5
}

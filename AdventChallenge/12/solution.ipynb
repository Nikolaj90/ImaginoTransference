{
 "cells": [
  {
   "cell_type": "code",
   "execution_count": 1,
   "id": "99fb8639",
   "metadata": {},
   "outputs": [],
   "source": [
    "import networkx as nx\n",
    "import pandas as pd\n",
    "import numpy as np\n",
    "import string"
   ]
  },
  {
   "cell_type": "code",
   "execution_count": 2,
   "id": "0d54575b",
   "metadata": {},
   "outputs": [],
   "source": [
    "lower = list(string.ascii_lowercase)"
   ]
  },
  {
   "cell_type": "code",
   "execution_count": 3,
   "id": "a0d6e905",
   "metadata": {},
   "outputs": [],
   "source": [
    "letterDict = {}\n",
    "for i, x in enumerate(lower):\n",
    "    letterDict[x] = i"
   ]
  },
  {
   "cell_type": "markdown",
   "id": "5d565d7f",
   "metadata": {},
   "source": [
    "# TEST! Proof of concept!"
   ]
  },
  {
   "cell_type": "markdown",
   "id": "919e9105",
   "metadata": {},
   "source": [
    "[b,a,b,c]<br>\n",
    "[b,v,e,d]<br>\n",
    "[S,d,E,e]"
   ]
  },
  {
   "cell_type": "code",
   "execution_count": 185,
   "id": "11f6f246",
   "metadata": {},
   "outputs": [],
   "source": [
    "rows_letter = [[\"b\",\"a\",\"b\",\"c\"],[\"b\",\"v\",\"e\",\"d\"],[\"S\",\"d\",\"E\",\"e\"]]\n",
    "rows_number = []\n",
    "for row in rows_letter:\n",
    "    new_row = [0 if x == \"S\" else letterDict[\"e\"] if x == \"E\" else letterDict[x] for x in row]\n",
    "    rows_number.append(new_row)"
   ]
  },
  {
   "cell_type": "code",
   "execution_count": 186,
   "id": "744aea7c",
   "metadata": {},
   "outputs": [
    {
     "data": {
      "text/plain": [
       "[[1, 0, 1, 2], [1, 21, 4, 3], [0, 3, 4, 4]]"
      ]
     },
     "execution_count": 186,
     "metadata": {},
     "output_type": "execute_result"
    }
   ],
   "source": [
    "rows_number"
   ]
  },
  {
   "cell_type": "code",
   "execution_count": 187,
   "id": "317c3596",
   "metadata": {},
   "outputs": [
    {
     "data": {
      "text/plain": [
       "matrix([[ 1,  0,  1,  2],\n",
       "        [ 1, 21,  4,  3],\n",
       "        [ 0,  3,  4,  4]])"
      ]
     },
     "execution_count": 187,
     "metadata": {},
     "output_type": "execute_result"
    }
   ],
   "source": [
    "grid = np.matrix(rows_number)\n",
    "grid"
   ]
  },
  {
   "cell_type": "code",
   "execution_count": 188,
   "id": "7dd0cb73",
   "metadata": {},
   "outputs": [
    {
     "data": {
      "text/plain": [
       "(3, 4)"
      ]
     },
     "execution_count": 188,
     "metadata": {},
     "output_type": "execute_result"
    }
   ],
   "source": [
    "grid.shape"
   ]
  },
  {
   "cell_type": "code",
   "execution_count": 189,
   "id": "2b9b63a9",
   "metadata": {},
   "outputs": [],
   "source": [
    "matrix = []\n",
    "for row in range(grid.shape[0]):\n",
    "    row2matrix = []\n",
    "    for column in range(grid.shape[1]):\n",
    "        field = f\"{row},{column}\"\n",
    "        row2matrix.append(field)\n",
    "    matrix.append(row2matrix)    \n",
    "    "
   ]
  },
  {
   "cell_type": "code",
   "execution_count": 190,
   "id": "aae3c7ba",
   "metadata": {},
   "outputs": [
    {
     "data": {
      "text/plain": [
       "[['0,0', '0,1', '0,2', '0,3'],\n",
       " ['1,0', '1,1', '1,2', '1,3'],\n",
       " ['2,0', '2,1', '2,2', '2,3']]"
      ]
     },
     "execution_count": 190,
     "metadata": {},
     "output_type": "execute_result"
    }
   ],
   "source": [
    "matrix"
   ]
  },
  {
   "cell_type": "code",
   "execution_count": 191,
   "id": "99239fd9",
   "metadata": {},
   "outputs": [
    {
     "data": {
      "text/plain": [
       "3"
      ]
     },
     "execution_count": 191,
     "metadata": {},
     "output_type": "execute_result"
    }
   ],
   "source": [
    "grid.shape[1]-1"
   ]
  },
  {
   "cell_type": "code",
   "execution_count": 197,
   "id": "a3961445",
   "metadata": {},
   "outputs": [],
   "source": [
    "G = nx.DiGraph()"
   ]
  },
  {
   "cell_type": "code",
   "execution_count": 198,
   "id": "37502222",
   "metadata": {},
   "outputs": [],
   "source": [
    "for row in range(grid.shape[0]):\n",
    "    for column in range(grid.shape[1]):\n",
    "        current_field = matrix[row][column]\n",
    "        current_value = grid[row,column]\n",
    "        \n",
    "        if row != 0:\n",
    "            up_field = matrix[row-1][column]\n",
    "            up_value = grid[row-1,column]\n",
    "            \n",
    "            if up_value - current_value <= 1:\n",
    "                G.add_edge(current_field,up_field)\n",
    "        \n",
    "        if column != 0:\n",
    "            left_field = matrix[row][column-1]\n",
    "            left_value = grid[row,column-1]\n",
    "            \n",
    "            if left_value - current_value <= 1:\n",
    "                G.add_edge(current_field,left_field)\n",
    "        \n",
    "        if column != grid.shape[1]-1:\n",
    "            right_field = matrix[row][column+1]\n",
    "            right_value = grid[row,column+1]\n",
    "            \n",
    "            if right_value - current_value <= 1:\n",
    "                G.add_edge(current_field,right_field)\n",
    "                \n",
    "        if row != grid.shape[0]-1:\n",
    "            under_field = matrix[row+1][column]\n",
    "            under_value = grid[row+1,column]\n",
    "\n",
    "            if under_value - current_value <= 1:\n",
    "                G.add_edge(current_field,under_field)"
   ]
  },
  {
   "cell_type": "code",
   "execution_count": 199,
   "id": "9beacf4b",
   "metadata": {},
   "outputs": [
    {
     "data": {
      "image/png": "[encoded data removed]",
      "text/plain": [
       "<Figure size 432x288 with 1 Axes>"
      ]
     },
     "metadata": {},
     "output_type": "display_data"
    }
   ],
   "source": [
    "nx.draw(G)"
   ]
  },
  {
   "cell_type": "code",
   "execution_count": 200,
   "id": "bc1b4525",
   "metadata": {},
   "outputs": [
    {
     "data": {
      "text/plain": [
       "NodeView(('0,0', '0,1', '1,0', '0,2', '0,3', '1,3', '2,0', '1,1', '1,2', '2,1', '2,2', '2,3'))"
      ]
     },
     "execution_count": 200,
     "metadata": {},
     "output_type": "execute_result"
    }
   ],
   "source": [
    "G.nodes"
   ]
  },
  {
   "cell_type": "code",
   "execution_count": 201,
   "id": "6cad9ff7",
   "metadata": {},
   "outputs": [
    {
     "data": {
      "text/plain": [
       "['2,0', '1,0', '0,0', '0,1', '0,2', '0,3', '1,3', '1,2', '2,2']"
      ]
     },
     "execution_count": 201,
     "metadata": {},
     "output_type": "execute_result"
    }
   ],
   "source": [
    "nx.shortest_path(G, source=\"2,0\", target=\"2,2\")"
   ]
  },
  {
   "cell_type": "markdown",
   "id": "6e0cd924",
   "metadata": {},
   "source": [
    "# Part 1 "
   ]
  },
  {
   "cell_type": "code",
   "execution_count": 220,
   "id": "606e13bf",
   "metadata": {},
   "outputs": [],
   "source": [
    "with open(\"input.txt\") as f:\n",
    "    file = f.readlines()"
   ]
  },
  {
   "cell_type": "code",
   "execution_count": 221,
   "id": "677eba30",
   "metadata": {},
   "outputs": [],
   "source": [
    "rows_letter = [list(row[:-1]) for row in file]"
   ]
  },
  {
   "cell_type": "code",
   "execution_count": 222,
   "id": "ce509f85",
   "metadata": {},
   "outputs": [
    {
     "name": "stdout",
     "output_type": "stream",
     "text": [
      "20 0\n",
      "20 88\n"
     ]
    }
   ],
   "source": [
    "for i, row in enumerate(rows_letter):\n",
    "    if \"S\" in row:\n",
    "        print(i, row.index(\"S\"))\n",
    "\n",
    "for i, row in enumerate(rows_letter):\n",
    "    if \"E\" in row:\n",
    "        print(i, row.index(\"E\"))"
   ]
  },
  {
   "cell_type": "code",
   "execution_count": 223,
   "id": "46fe58b5",
   "metadata": {},
   "outputs": [],
   "source": [
    "rows_number = []\n",
    "for row in rows_letter:\n",
    "    new_row = [0 if x == \"S\" else letterDict[\"z\"] if x == \"E\" else letterDict[x] for x in row]\n",
    "    rows_number.append(new_row)"
   ]
  },
  {
   "cell_type": "code",
   "execution_count": 224,
   "id": "3a3df8b0",
   "metadata": {},
   "outputs": [
    {
     "data": {
      "text/plain": [
       "matrix([[0, 1, 2, ..., 0, 0, 0],\n",
       "        [0, 1, 2, ..., 0, 0, 0],\n",
       "        [0, 1, 2, ..., 0, 0, 0],\n",
       "        ...,\n",
       "        [0, 1, 2, ..., 0, 0, 0],\n",
       "        [0, 1, 2, ..., 0, 0, 0],\n",
       "        [0, 1, 2, ..., 0, 0, 0]])"
      ]
     },
     "execution_count": 224,
     "metadata": {},
     "output_type": "execute_result"
    }
   ],
   "source": [
    "grid = np.matrix(rows_number)\n",
    "grid"
   ]
  },
  {
   "cell_type": "code",
   "execution_count": 225,
   "id": "820a8e9e",
   "metadata": {},
   "outputs": [
    {
     "data": {
      "text/plain": [
       "0"
      ]
     },
     "execution_count": 225,
     "metadata": {},
     "output_type": "execute_result"
    }
   ],
   "source": [
    "grid[20,0]"
   ]
  },
  {
   "cell_type": "code",
   "execution_count": 226,
   "id": "48c6761c",
   "metadata": {},
   "outputs": [
    {
     "data": {
      "text/plain": [
       "25"
      ]
     },
     "execution_count": 226,
     "metadata": {},
     "output_type": "execute_result"
    }
   ],
   "source": [
    "grid[20,88]"
   ]
  },
  {
   "cell_type": "code",
   "execution_count": 227,
   "id": "0bbea541",
   "metadata": {
    "scrolled": true
   },
   "outputs": [
    {
     "data": {
      "text/plain": [
       "(41, 113)"
      ]
     },
     "execution_count": 227,
     "metadata": {},
     "output_type": "execute_result"
    }
   ],
   "source": [
    "grid.shape"
   ]
  },
  {
   "cell_type": "code",
   "execution_count": 228,
   "id": "51f1ccad",
   "metadata": {},
   "outputs": [],
   "source": [
    "matrix = []\n",
    "for row in range(grid.shape[0]):\n",
    "    row2matrix = []\n",
    "    for column in range(grid.shape[1]):\n",
    "        field = f\"{row},{column}\"\n",
    "        row2matrix.append(field)\n",
    "    matrix.append(row2matrix)"
   ]
  },
  {
   "cell_type": "code",
   "execution_count": 229,
   "id": "de4015a9",
   "metadata": {},
   "outputs": [],
   "source": [
    "G = nx.DiGraph()"
   ]
  },
  {
   "cell_type": "code",
   "execution_count": 230,
   "id": "fb5d3e83",
   "metadata": {},
   "outputs": [],
   "source": [
    "for row in range(grid.shape[0]):\n",
    "    for column in range(grid.shape[1]):\n",
    "        current_field = matrix[row][column]\n",
    "        current_value = grid[row,column]\n",
    "        \n",
    "        if row != 0:\n",
    "            up_field = matrix[row-1][column]\n",
    "            up_value = grid[row-1,column]\n",
    "            \n",
    "            if up_value - current_value <= 1:\n",
    "                G.add_edge(current_field,up_field)\n",
    "        \n",
    "        if column != 0:\n",
    "            left_field = matrix[row][column-1]\n",
    "            left_value = grid[row,column-1]\n",
    "            \n",
    "            if left_value - current_value <= 1:\n",
    "                G.add_edge(current_field,left_field)\n",
    "        \n",
    "        if column != grid.shape[1]-1:\n",
    "            right_field = matrix[row][column+1]\n",
    "            right_value = grid[row,column+1]\n",
    "            \n",
    "            if right_value - current_value <= 1:\n",
    "                G.add_edge(current_field,right_field)\n",
    "                \n",
    "        if row != grid.shape[0]-1:\n",
    "            under_field = matrix[row+1][column]\n",
    "            under_value = grid[row+1,column]\n",
    "\n",
    "            if under_value - current_value <= 1:\n",
    "                G.add_edge(current_field,under_field)"
   ]
  },
  {
   "cell_type": "code",
   "execution_count": 231,
   "id": "8fe14f05",
   "metadata": {
    "scrolled": true
   },
   "outputs": [
    {
     "data": {
      "text/plain": [
       "380"
      ]
     },
     "execution_count": 231,
     "metadata": {},
     "output_type": "execute_result"
    }
   ],
   "source": [
    "nx.shortest_path_length(G, source=\"20,0\", target=\"20,88\")"
   ]
  },
  {
   "cell_type": "markdown",
   "id": "e73b027b",
   "metadata": {},
   "source": [
    "# Part 2"
   ]
  },
  {
   "cell_type": "code",
   "execution_count": 232,
   "id": "4f0020ce",
   "metadata": {},
   "outputs": [],
   "source": [
    "# Find all source nodes, with value 0"
   ]
  },
  {
   "cell_type": "code",
   "execution_count": 238,
   "id": "7ffba18e",
   "metadata": {},
   "outputs": [],
   "source": [
    "source_nodes = []\n",
    "for row in range(grid.shape[0]):\n",
    "    for column in range(grid.shape[1]):\n",
    "        if grid[row,column] == 0:\n",
    "            source = matrix[row][column]\n",
    "            source_nodes.append(source)\n",
    "\n",
    "shortest_path = 999\n",
    "\n",
    "for source in source_nodes:\n",
    "    try:\n",
    "        path = nx.shortest_path_length(G, source=source, target=\"20,88\")\n",
    "        \n",
    "        shortest_path = min(shortest_path,path)\n",
    "        \n",
    "    except:\n",
    "        continue\n",
    "print(shortest_path)"
   ]
  }
 ],
 "metadata": {
  "kernelspec": {
   "display_name": "Python 3",
   "language": "python",
   "name": "python3"
  },
  "language_info": {
   "codemirror_mode": {
    "name": "ipython",
    "version": 3
   },
   "file_extension": ".py",
   "mimetype": "text/x-python",
   "name": "python",
   "nbconvert_exporter": "python",
   "pygments_lexer": "ipython3",
   "version": "3.8.8"
  }
 },
 "nbformat": 4,
 "nbformat_minor": 5
}

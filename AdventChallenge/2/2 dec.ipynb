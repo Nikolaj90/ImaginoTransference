{
 "cells": [
  {
   "cell_type": "code",
   "execution_count": 30,
   "id": "8239627c",
   "metadata": {},
   "outputs": [],
   "source": [
    "import pandas as pd"
   ]
  },
  {
   "cell_type": "code",
   "execution_count": 31,
   "id": "41cd43a1",
   "metadata": {},
   "outputs": [],
   "source": [
    "df_main = pd.read_csv(\"input.csv\", delimiter = \" \", header = None)"
   ]
  },
  {
   "cell_type": "markdown",
   "id": "1ca553a6",
   "metadata": {},
   "source": [
    "Sanity check: \n",
    "<ol>\n",
    "    <li>A X: Rock 1 point</li>\n",
    "    <li>B Y: Paper 2 points</li>\n",
    "    <li>C Z: Scissor 3 point</li>\n",
    "</ol>"
   ]
  },
  {
   "cell_type": "code",
   "execution_count": 32,
   "id": "f6d9f894",
   "metadata": {},
   "outputs": [],
   "source": [
    "df1 = df_main.copy()"
   ]
  },
  {
   "cell_type": "code",
   "execution_count": 33,
   "id": "84bc57b1",
   "metadata": {},
   "outputs": [],
   "source": [
    "# Crating a dict of dicts, input is my choice, then the elfs and the output should be D for draw, W for won or L for lost\n",
    "result = {\"X\": {\"A\":\"D\", \"B\": \"L\", \"C\":\"W\"},\n",
    "         \"Y\": {\"A\":\"W\", \"B\": \"D\", \"C\":\"L\"},\n",
    "         \"Z\": {\"A\":\"L\", \"B\": \"W\", \"C\":\"D\"}}"
   ]
  },
  {
   "cell_type": "code",
   "execution_count": 34,
   "id": "becc6858",
   "metadata": {},
   "outputs": [],
   "source": [
    "df1[\"result\"] = [result[row[1]][row[0]] for i, row in df1.iterrows()]"
   ]
  },
  {
   "cell_type": "code",
   "execution_count": 35,
   "id": "1b848ea6",
   "metadata": {},
   "outputs": [],
   "source": [
    "# Points for result\n",
    "point_result = {\"W\": 6, \"D\": 3, \"L\":0}\n",
    "# Points for shape\n",
    "point_shape = {\"X\":1, \"Y\":2, \"Z\":3}"
   ]
  },
  {
   "cell_type": "code",
   "execution_count": 36,
   "id": "d37007aa",
   "metadata": {},
   "outputs": [],
   "source": [
    "df1[\"Point_result\"] = [point_result[result] for result in df1[\"result\"]]\n",
    "df1[\"Point_shape\"] = [point_shape[shape] for shape in df1[1]]"
   ]
  },
  {
   "cell_type": "code",
   "execution_count": 37,
   "id": "9415f135",
   "metadata": {},
   "outputs": [
    {
     "data": {
      "text/plain": [
       "11666"
      ]
     },
     "execution_count": 37,
     "metadata": {},
     "output_type": "execute_result"
    }
   ],
   "source": [
    "# What is the total score!\n",
    "df1[\"Point_result\"].sum() + df1[\"Point_shape\"].sum()"
   ]
  },
  {
   "cell_type": "markdown",
   "id": "d1bfc915",
   "metadata": {},
   "source": [
    "### Part 2 "
   ]
  },
  {
   "cell_type": "markdown",
   "id": "d5bf1269",
   "metadata": {},
   "source": [
    "\n",
    "New conditions:<ul>\n",
    "    <li>X: Win</li>\n",
    "    <li>Y: Draw</li>\n",
    "    <li>Z: lose</li>\n",
    "</ul>"
   ]
  },
  {
   "cell_type": "code",
   "execution_count": 39,
   "id": "95cc60e0",
   "metadata": {},
   "outputs": [],
   "source": [
    "df2 = df_main.copy()"
   ]
  },
  {
   "cell_type": "code",
   "execution_count": 45,
   "id": "0ac94da5",
   "metadata": {},
   "outputs": [
    {
     "data": {
      "text/plain": [
       "12767"
      ]
     },
     "execution_count": 45,
     "metadata": {},
     "output_type": "execute_result"
    }
   ],
   "source": [
    "# Determine what the result should be\n",
    "result2 = {\"X\": \"L\", \"Y\" : \"D\", \"Z\" : \"W\"}\n",
    "df2[\"result\"] = [result2[result] for result in df2[1]]\n",
    "\n",
    "# What is the opponents move\n",
    "# What is the countermove to achieve the result\n",
    "myShape = {\"L\": {\"A\":\"Z\", \"B\": \"X\", \"C\":\"Y\"}, # lose\n",
    "         \"D\": {\"A\":\"X\", \"B\": \"Y\", \"C\":\"Z\"}, # draw\n",
    "         \"W\": {\"A\":\"Y\", \"B\": \"Z\", \"C\":\"X\"}} # win\n",
    "df2[\"shape\"] = [myShape[row[\"result\"]][row[0]] for i, row in df2.iterrows()]\n",
    "\n",
    "# Calculate points\n",
    "df2[\"Point_result\"] = [point_result[result] for result in df2[\"result\"]]\n",
    "df2[\"Point_shape\"] = [point_shape[shape] for shape in df2[\"shape\"]]\n",
    "\n",
    "# Total score\n",
    "df2[\"Point_result\"].sum() + df2[\"Point_shape\"].sum()"
   ]
  }
 ],
 "metadata": {
  "kernelspec": {
   "display_name": "Python 3 (ipykernel)",
   "language": "python",
   "name": "python3"
  },
  "language_info": {
   "codemirror_mode": {
    "name": "ipython",
    "version": 3
   },
   "file_extension": ".py",
   "mimetype": "text/x-python",
   "name": "python",
   "nbconvert_exporter": "python",
   "pygments_lexer": "ipython3",
   "version": "3.9.7"
  }
 },
 "nbformat": 4,
 "nbformat_minor": 5
}

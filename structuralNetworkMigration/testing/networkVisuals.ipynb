{
 "cells": [
  {
   "cell_type": "code",
   "execution_count": 1,
   "metadata": {},
   "outputs": [],
   "source": [
    "import pandas as pd\n",
    "import matplotlib.pyplot as plt\n",
    "import networkx as nx\n",
    "import seaborn as sns\n",
    "import numpy as np\n",
    "import urllib, json\n",
    "import matplotlib as mpl"
   ]
  },
  {
   "cell_type": "code",
   "execution_count": 2,
   "metadata": {},
   "outputs": [],
   "source": [
    "import plotly.graph_objects as go"
   ]
  },
  {
   "cell_type": "markdown",
   "metadata": {},
   "source": [
    "## Sankey diagrahm"
   ]
  },
  {
   "cell_type": "code",
   "execution_count": 3,
   "metadata": {},
   "outputs": [],
   "source": [
    "df_emb = pd.read_excel(\"../data/embeddings/all_nw500_1000_wl80_vs75_pca3.xlsx\")[[\"Node\",\"Embedding\"]]"
   ]
  },
  {
   "cell_type": "code",
   "execution_count": 4,
   "metadata": {},
   "outputs": [],
   "source": [
    "node2emb = {node:embedding for node, embedding in df_emb.values}"
   ]
  },
  {
   "cell_type": "code",
   "execution_count": 5,
   "metadata": {},
   "outputs": [],
   "source": [
    "df_edgelist = pd.read_excel(\"../data/edgelist/UN_full.xlsx\")[[\"origin\",\"destination\",\"weight_scaled\"]]"
   ]
  },
  {
   "cell_type": "code",
   "execution_count": 6,
   "metadata": {},
   "outputs": [],
   "source": [
    "df_edgelist[\"origin_class\"] = [node2emb[node_] for node_ in df_edgelist[\"origin\"]]\n",
    "df_edgelist[\"destination_class\"] = [node2emb[node_] for node_ in df_edgelist[\"destination\"]]"
   ]
  },
  {
   "cell_type": "code",
   "execution_count": 7,
   "metadata": {},
   "outputs": [],
   "source": [
    "cmap = mpl.colormaps[\"Set2\"]"
   ]
  },
  {
   "cell_type": "code",
   "execution_count": 8,
   "metadata": {},
   "outputs": [],
   "source": [
    "df_edgelist[\"origin_color\"] = [cmap(x) for x in df_edgelist[\"origin_class\"]]\n",
    "df_edgelist[\"destination_color\"] = [cmap(x) for x in df_edgelist[\"destination_class\"]]"
   ]
  },
  {
   "cell_type": "code",
   "execution_count": 9,
   "metadata": {},
   "outputs": [],
   "source": [
    "sankey_data = df_edgelist.groupby([\"origin_class\",\"destination_class\"])[\"weight_scaled\"].sum().reset_index()"
   ]
  },
  {
   "cell_type": "code",
   "execution_count": 20,
   "metadata": {},
   "outputs": [],
   "source": [
    "sankey_data[\"sankey_dest\"] = [3+class_ for class_ in sankey_data[\"destination_class\"]]"
   ]
  },
  {
   "cell_type": "code",
   "execution_count": 59,
   "metadata": {},
   "outputs": [],
   "source": [
    "sankey_data[\"origin_color\"] = [\"rgba\" + str(cmap(x)) for x in sankey_data[\"origin_class\"]]\n",
    "sankey_data[\"destination_color\"] = [\"rgba\" + str(cmap(x, alpha=0.6)) for x in sankey_data[\"destination_class\"]]"
   ]
  },
  {
   "cell_type": "code",
   "execution_count": 61,
   "metadata": {},
   "outputs": [
    {
     "data": {
      "text/html": [
       "<div>\n",
       "<style scoped>\n",
       "    .dataframe tbody tr th:only-of-type {\n",
       "        vertical-align: middle;\n",
       "    }\n",
       "\n",
       "    .dataframe tbody tr th {\n",
       "        vertical-align: top;\n",
       "    }\n",
       "\n",
       "    .dataframe thead th {\n",
       "        text-align: right;\n",
       "    }\n",
       "</style>\n",
       "<table border=\"1\" class=\"dataframe\">\n",
       "  <thead>\n",
       "    <tr style=\"text-align: right;\">\n",
       "      <th></th>\n",
       "      <th>origin_class</th>\n",
       "      <th>destination_class</th>\n",
       "      <th>weight_scaled</th>\n",
       "      <th>origin_color</th>\n",
       "      <th>destination_color</th>\n",
       "      <th>sankey_dest</th>\n",
       "    </tr>\n",
       "  </thead>\n",
       "  <tbody>\n",
       "    <tr>\n",
       "      <th>0</th>\n",
       "      <td>0</td>\n",
       "      <td>0</td>\n",
       "      <td>5433.342297</td>\n",
       "      <td>rgba(0.4, 0.7607843137254902, 0.64705882352941...</td>\n",
       "      <td>rgba(0.4, 0.7607843137254902, 0.64705882352941...</td>\n",
       "      <td>3</td>\n",
       "    </tr>\n",
       "    <tr>\n",
       "      <th>1</th>\n",
       "      <td>0</td>\n",
       "      <td>1</td>\n",
       "      <td>7.293687</td>\n",
       "      <td>rgba(0.4, 0.7607843137254902, 0.64705882352941...</td>\n",
       "      <td>rgba(0.9882352941176471, 0.5529411764705883, 0...</td>\n",
       "      <td>4</td>\n",
       "    </tr>\n",
       "    <tr>\n",
       "      <th>2</th>\n",
       "      <td>0</td>\n",
       "      <td>2</td>\n",
       "      <td>90.588868</td>\n",
       "      <td>rgba(0.4, 0.7607843137254902, 0.64705882352941...</td>\n",
       "      <td>rgba(0.5529411764705883, 0.6274509803921569, 0...</td>\n",
       "      <td>5</td>\n",
       "    </tr>\n",
       "    <tr>\n",
       "      <th>3</th>\n",
       "      <td>1</td>\n",
       "      <td>0</td>\n",
       "      <td>16202.953510</td>\n",
       "      <td>rgba(0.9882352941176471, 0.5529411764705883, 0...</td>\n",
       "      <td>rgba(0.4, 0.7607843137254902, 0.64705882352941...</td>\n",
       "      <td>3</td>\n",
       "    </tr>\n",
       "    <tr>\n",
       "      <th>4</th>\n",
       "      <td>1</td>\n",
       "      <td>1</td>\n",
       "      <td>1067.199721</td>\n",
       "      <td>rgba(0.9882352941176471, 0.5529411764705883, 0...</td>\n",
       "      <td>rgba(0.9882352941176471, 0.5529411764705883, 0...</td>\n",
       "      <td>4</td>\n",
       "    </tr>\n",
       "  </tbody>\n",
       "</table>\n",
       "</div>"
      ],
      "text/plain": [
       "   origin_class  destination_class  weight_scaled  \\\n",
       "0             0                  0    5433.342297   \n",
       "1             0                  1       7.293687   \n",
       "2             0                  2      90.588868   \n",
       "3             1                  0   16202.953510   \n",
       "4             1                  1    1067.199721   \n",
       "\n",
       "                                        origin_color  \\\n",
       "0  rgba(0.4, 0.7607843137254902, 0.64705882352941...   \n",
       "1  rgba(0.4, 0.7607843137254902, 0.64705882352941...   \n",
       "2  rgba(0.4, 0.7607843137254902, 0.64705882352941...   \n",
       "3  rgba(0.9882352941176471, 0.5529411764705883, 0...   \n",
       "4  rgba(0.9882352941176471, 0.5529411764705883, 0...   \n",
       "\n",
       "                                   destination_color  sankey_dest  \n",
       "0  rgba(0.4, 0.7607843137254902, 0.64705882352941...            3  \n",
       "1  rgba(0.9882352941176471, 0.5529411764705883, 0...            4  \n",
       "2  rgba(0.5529411764705883, 0.6274509803921569, 0...            5  \n",
       "3  rgba(0.4, 0.7607843137254902, 0.64705882352941...            3  \n",
       "4  rgba(0.9882352941176471, 0.5529411764705883, 0...            4  "
      ]
     },
     "execution_count": 61,
     "metadata": {},
     "output_type": "execute_result"
    }
   ],
   "source": [
    "sankey_data.head()"
   ]
  },
  {
   "cell_type": "code",
   "execution_count": null,
   "metadata": {},
   "outputs": [
    {
     "data": {
      "text/html": [
       "<div>\n",
       "<style scoped>\n",
       "    .dataframe tbody tr th:only-of-type {\n",
       "        vertical-align: middle;\n",
       "    }\n",
       "\n",
       "    .dataframe tbody tr th {\n",
       "        vertical-align: top;\n",
       "    }\n",
       "\n",
       "    .dataframe thead th {\n",
       "        text-align: right;\n",
       "    }\n",
       "</style>\n",
       "<table border=\"1\" class=\"dataframe\">\n",
       "  <thead>\n",
       "    <tr style=\"text-align: right;\">\n",
       "      <th></th>\n",
       "      <th>origin</th>\n",
       "      <th>destination</th>\n",
       "      <th>weight_scaled</th>\n",
       "      <th>origin_class</th>\n",
       "      <th>destination_class</th>\n",
       "      <th>origin_color</th>\n",
       "      <th>destination_color</th>\n",
       "    </tr>\n",
       "  </thead>\n",
       "  <tbody>\n",
       "    <tr>\n",
       "      <th>0</th>\n",
       "      <td>AFG</td>\n",
       "      <td>AUS</td>\n",
       "      <td>3.036130</td>\n",
       "      <td>0</td>\n",
       "      <td>0</td>\n",
       "      <td>(0.4, 0.7607843137254902, 0.6470588235294118, ...</td>\n",
       "      <td>(0.4, 0.7607843137254902, 0.6470588235294118, ...</td>\n",
       "    </tr>\n",
       "    <tr>\n",
       "      <th>1</th>\n",
       "      <td>AFG</td>\n",
       "      <td>AUT</td>\n",
       "      <td>3.537707</td>\n",
       "      <td>0</td>\n",
       "      <td>0</td>\n",
       "      <td>(0.4, 0.7607843137254902, 0.6470588235294118, ...</td>\n",
       "      <td>(0.4, 0.7607843137254902, 0.6470588235294118, ...</td>\n",
       "    </tr>\n",
       "  </tbody>\n",
       "</table>\n",
       "</div>"
      ],
      "text/plain": [
       "  origin destination  weight_scaled  origin_class  destination_class  \\\n",
       "0    AFG         AUS       3.036130             0                  0   \n",
       "1    AFG         AUT       3.537707             0                  0   \n",
       "\n",
       "                                        origin_color  \\\n",
       "0  (0.4, 0.7607843137254902, 0.6470588235294118, ...   \n",
       "1  (0.4, 0.7607843137254902, 0.6470588235294118, ...   \n",
       "\n",
       "                                   destination_color  \n",
       "0  (0.4, 0.7607843137254902, 0.6470588235294118, ...  \n",
       "1  (0.4, 0.7607843137254902, 0.6470588235294118, ...  "
      ]
     },
     "execution_count": 67,
     "metadata": {},
     "output_type": "execute_result"
    }
   ],
   "source": []
  },
  {
   "cell_type": "code",
   "execution_count": 72,
   "metadata": {},
   "outputs": [
    {
     "data": {
      "application/vnd.plotly.v1+json": {
       "config": {
        "plotlyServerURL": "https://plot.ly"
       },
       "data": [
        {
         "link": {
          "arrowlen": 15,
          "color": [
           "rgba(0.4, 0.7607843137254902, 0.6470588235294118, 0.6)",
           "rgba(0.9882352941176471, 0.5529411764705883, 0.3843137254901961, 0.6)",
           "rgba(0.5529411764705883, 0.6274509803921569, 0.796078431372549, 0.6)",
           "rgba(0.4, 0.7607843137254902, 0.6470588235294118, 0.6)",
           "rgba(0.9882352941176471, 0.5529411764705883, 0.3843137254901961, 0.6)",
           "rgba(0.5529411764705883, 0.6274509803921569, 0.796078431372549, 0.6)",
           "rgba(0.4, 0.7607843137254902, 0.6470588235294118, 0.6)",
           "rgba(0.9882352941176471, 0.5529411764705883, 0.3843137254901961, 0.6)",
           "rgba(0.5529411764705883, 0.6274509803921569, 0.796078431372549, 0.6)"
          ],
          "source": [
           0,
           0,
           0,
           1,
           1,
           1,
           2,
           2,
           2
          ],
          "target": [
           3,
           4,
           5,
           3,
           4,
           5,
           3,
           4,
           5
          ],
          "value": [
           5433.342296887068,
           7.293687138376614,
           90.58886821759576,
           16202.953509926363,
           1067.199721321229,
           2676.9207171485778,
           6220.228678777053,
           94.15493899741196,
           1021.1301309996558
          ]
         },
         "node": {
          "color": [
           "rgba(0.4, 0.7607843137254902, 0.6470588235294118, 1.0)",
           "rgba(0.9882352941176471, 0.5529411764705883, 0.3843137254901961, 1.0)",
           "rgba(0.5529411764705883, 0.6274509803921569, 0.796078431372549, 1.0)",
           "rgba(0.4, 0.7607843137254902, 0.6470588235294118, 1.0)",
           "rgba(0.9882352941176471, 0.5529411764705883, 0.3843137254901961, 1.0)",
           "rgba(0.5529411764705883, 0.6274509803921569, 0.796078431372549, 1.0)"
          ],
          "label": [
           "Class 0 origin",
           "Class 1 origin",
           "Class 2 origin",
           "Class 0 destination",
           "Class 1 destination",
           "Class 2 destination"
          ],
          "line": {
           "color": "black",
           "width": 0.5
          },
          "pad": 15,
          "thickness": 20
         },
         "type": "sankey"
        }
       ],
       "layout": {
        "font": {
         "size": 15
        },
        "template": {
         "data": {
          "bar": [
           {
            "error_x": {
             "color": "#2a3f5f"
            },
            "error_y": {
             "color": "#2a3f5f"
            },
            "marker": {
             "line": {
              "color": "#E5ECF6",
              "width": 0.5
             },
             "pattern": {
              "fillmode": "overlay",
              "size": 10,
              "solidity": 0.2
             }
            },
            "type": "bar"
           }
          ],
          "barpolar": [
           {
            "marker": {
             "line": {
              "color": "#E5ECF6",
              "width": 0.5
             },
             "pattern": {
              "fillmode": "overlay",
              "size": 10,
              "solidity": 0.2
             }
            },
            "type": "barpolar"
           }
          ],
          "carpet": [
           {
            "aaxis": {
             "endlinecolor": "#2a3f5f",
             "gridcolor": "white",
             "linecolor": "white",
             "minorgridcolor": "white",
             "startlinecolor": "#2a3f5f"
            },
            "baxis": {
             "endlinecolor": "#2a3f5f",
             "gridcolor": "white",
             "linecolor": "white",
             "minorgridcolor": "white",
             "startlinecolor": "#2a3f5f"
            },
            "type": "carpet"
           }
          ],
          "choropleth": [
           {
            "colorbar": {
             "outlinewidth": 0,
             "ticks": ""
            },
            "type": "choropleth"
           }
          ],
          "contour": [
           {
            "colorbar": {
             "outlinewidth": 0,
             "ticks": ""
            },
            "colorscale": [
             [
              0,
              "#0d0887"
             ],
             [
              0.1111111111111111,
              "#46039f"
             ],
             [
              0.2222222222222222,
              "#7201a8"
             ],
             [
              0.3333333333333333,
              "#9c179e"
             ],
             [
              0.4444444444444444,
              "#bd3786"
             ],
             [
              0.5555555555555556,
              "#d8576b"
             ],
             [
              0.6666666666666666,
              "#ed7953"
             ],
             [
              0.7777777777777778,
              "#fb9f3a"
             ],
             [
              0.8888888888888888,
              "#fdca26"
             ],
             [
              1,
              "#f0f921"
             ]
            ],
            "type": "contour"
           }
          ],
          "contourcarpet": [
           {
            "colorbar": {
             "outlinewidth": 0,
             "ticks": ""
            },
            "type": "contourcarpet"
           }
          ],
          "heatmap": [
           {
            "colorbar": {
             "outlinewidth": 0,
             "ticks": ""
            },
            "colorscale": [
             [
              0,
              "#0d0887"
             ],
             [
              0.1111111111111111,
              "#46039f"
             ],
             [
              0.2222222222222222,
              "#7201a8"
             ],
             [
              0.3333333333333333,
              "#9c179e"
             ],
             [
              0.4444444444444444,
              "#bd3786"
             ],
             [
              0.5555555555555556,
              "#d8576b"
             ],
             [
              0.6666666666666666,
              "#ed7953"
             ],
             [
              0.7777777777777778,
              "#fb9f3a"
             ],
             [
              0.8888888888888888,
              "#fdca26"
             ],
             [
              1,
              "#f0f921"
             ]
            ],
            "type": "heatmap"
           }
          ],
          "heatmapgl": [
           {
            "colorbar": {
             "outlinewidth": 0,
             "ticks": ""
            },
            "colorscale": [
             [
              0,
              "#0d0887"
             ],
             [
              0.1111111111111111,
              "#46039f"
             ],
             [
              0.2222222222222222,
              "#7201a8"
             ],
             [
              0.3333333333333333,
              "#9c179e"
             ],
             [
              0.4444444444444444,
              "#bd3786"
             ],
             [
              0.5555555555555556,
              "#d8576b"
             ],
             [
              0.6666666666666666,
              "#ed7953"
             ],
             [
              0.7777777777777778,
              "#fb9f3a"
             ],
             [
              0.8888888888888888,
              "#fdca26"
             ],
             [
              1,
              "#f0f921"
             ]
            ],
            "type": "heatmapgl"
           }
          ],
          "histogram": [
           {
            "marker": {
             "pattern": {
              "fillmode": "overlay",
              "size": 10,
              "solidity": 0.2
             }
            },
            "type": "histogram"
           }
          ],
          "histogram2d": [
           {
            "colorbar": {
             "outlinewidth": 0,
             "ticks": ""
            },
            "colorscale": [
             [
              0,
              "#0d0887"
             ],
             [
              0.1111111111111111,
              "#46039f"
             ],
             [
              0.2222222222222222,
              "#7201a8"
             ],
             [
              0.3333333333333333,
              "#9c179e"
             ],
             [
              0.4444444444444444,
              "#bd3786"
             ],
             [
              0.5555555555555556,
              "#d8576b"
             ],
             [
              0.6666666666666666,
              "#ed7953"
             ],
             [
              0.7777777777777778,
              "#fb9f3a"
             ],
             [
              0.8888888888888888,
              "#fdca26"
             ],
             [
              1,
              "#f0f921"
             ]
            ],
            "type": "histogram2d"
           }
          ],
          "histogram2dcontour": [
           {
            "colorbar": {
             "outlinewidth": 0,
             "ticks": ""
            },
            "colorscale": [
             [
              0,
              "#0d0887"
             ],
             [
              0.1111111111111111,
              "#46039f"
             ],
             [
              0.2222222222222222,
              "#7201a8"
             ],
             [
              0.3333333333333333,
              "#9c179e"
             ],
             [
              0.4444444444444444,
              "#bd3786"
             ],
             [
              0.5555555555555556,
              "#d8576b"
             ],
             [
              0.6666666666666666,
              "#ed7953"
             ],
             [
              0.7777777777777778,
              "#fb9f3a"
             ],
             [
              0.8888888888888888,
              "#fdca26"
             ],
             [
              1,
              "#f0f921"
             ]
            ],
            "type": "histogram2dcontour"
           }
          ],
          "mesh3d": [
           {
            "colorbar": {
             "outlinewidth": 0,
             "ticks": ""
            },
            "type": "mesh3d"
           }
          ],
          "parcoords": [
           {
            "line": {
             "colorbar": {
              "outlinewidth": 0,
              "ticks": ""
             }
            },
            "type": "parcoords"
           }
          ],
          "pie": [
           {
            "automargin": true,
            "type": "pie"
           }
          ],
          "scatter": [
           {
            "fillpattern": {
             "fillmode": "overlay",
             "size": 10,
             "solidity": 0.2
            },
            "type": "scatter"
           }
          ],
          "scatter3d": [
           {
            "line": {
             "colorbar": {
              "outlinewidth": 0,
              "ticks": ""
             }
            },
            "marker": {
             "colorbar": {
              "outlinewidth": 0,
              "ticks": ""
             }
            },
            "type": "scatter3d"
           }
          ],
          "scattercarpet": [
           {
            "marker": {
             "colorbar": {
              "outlinewidth": 0,
              "ticks": ""
             }
            },
            "type": "scattercarpet"
           }
          ],
          "scattergeo": [
           {
            "marker": {
             "colorbar": {
              "outlinewidth": 0,
              "ticks": ""
             }
            },
            "type": "scattergeo"
           }
          ],
          "scattergl": [
           {
            "marker": {
             "colorbar": {
              "outlinewidth": 0,
              "ticks": ""
             }
            },
            "type": "scattergl"
           }
          ],
          "scattermapbox": [
           {
            "marker": {
             "colorbar": {
              "outlinewidth": 0,
              "ticks": ""
             }
            },
            "type": "scattermapbox"
           }
          ],
          "scatterpolar": [
           {
            "marker": {
             "colorbar": {
              "outlinewidth": 0,
              "ticks": ""
             }
            },
            "type": "scatterpolar"
           }
          ],
          "scatterpolargl": [
           {
            "marker": {
             "colorbar": {
              "outlinewidth": 0,
              "ticks": ""
             }
            },
            "type": "scatterpolargl"
           }
          ],
          "scatterternary": [
           {
            "marker": {
             "colorbar": {
              "outlinewidth": 0,
              "ticks": ""
             }
            },
            "type": "scatterternary"
           }
          ],
          "surface": [
           {
            "colorbar": {
             "outlinewidth": 0,
             "ticks": ""
            },
            "colorscale": [
             [
              0,
              "#0d0887"
             ],
             [
              0.1111111111111111,
              "#46039f"
             ],
             [
              0.2222222222222222,
              "#7201a8"
             ],
             [
              0.3333333333333333,
              "#9c179e"
             ],
             [
              0.4444444444444444,
              "#bd3786"
             ],
             [
              0.5555555555555556,
              "#d8576b"
             ],
             [
              0.6666666666666666,
              "#ed7953"
             ],
             [
              0.7777777777777778,
              "#fb9f3a"
             ],
             [
              0.8888888888888888,
              "#fdca26"
             ],
             [
              1,
              "#f0f921"
             ]
            ],
            "type": "surface"
           }
          ],
          "table": [
           {
            "cells": {
             "fill": {
              "color": "#EBF0F8"
             },
             "line": {
              "color": "white"
             }
            },
            "header": {
             "fill": {
              "color": "#C8D4E3"
             },
             "line": {
              "color": "white"
             }
            },
            "type": "table"
           }
          ]
         },
         "layout": {
          "annotationdefaults": {
           "arrowcolor": "#2a3f5f",
           "arrowhead": 0,
           "arrowwidth": 1
          },
          "autotypenumbers": "strict",
          "coloraxis": {
           "colorbar": {
            "outlinewidth": 0,
            "ticks": ""
           }
          },
          "colorscale": {
           "diverging": [
            [
             0,
             "#8e0152"
            ],
            [
             0.1,
             "#c51b7d"
            ],
            [
             0.2,
             "#de77ae"
            ],
            [
             0.3,
             "#f1b6da"
            ],
            [
             0.4,
             "#fde0ef"
            ],
            [
             0.5,
             "#f7f7f7"
            ],
            [
             0.6,
             "#e6f5d0"
            ],
            [
             0.7,
             "#b8e186"
            ],
            [
             0.8,
             "#7fbc41"
            ],
            [
             0.9,
             "#4d9221"
            ],
            [
             1,
             "#276419"
            ]
           ],
           "sequential": [
            [
             0,
             "#0d0887"
            ],
            [
             0.1111111111111111,
             "#46039f"
            ],
            [
             0.2222222222222222,
             "#7201a8"
            ],
            [
             0.3333333333333333,
             "#9c179e"
            ],
            [
             0.4444444444444444,
             "#bd3786"
            ],
            [
             0.5555555555555556,
             "#d8576b"
            ],
            [
             0.6666666666666666,
             "#ed7953"
            ],
            [
             0.7777777777777778,
             "#fb9f3a"
            ],
            [
             0.8888888888888888,
             "#fdca26"
            ],
            [
             1,
             "#f0f921"
            ]
           ],
           "sequentialminus": [
            [
             0,
             "#0d0887"
            ],
            [
             0.1111111111111111,
             "#46039f"
            ],
            [
             0.2222222222222222,
             "#7201a8"
            ],
            [
             0.3333333333333333,
             "#9c179e"
            ],
            [
             0.4444444444444444,
             "#bd3786"
            ],
            [
             0.5555555555555556,
             "#d8576b"
            ],
            [
             0.6666666666666666,
             "#ed7953"
            ],
            [
             0.7777777777777778,
             "#fb9f3a"
            ],
            [
             0.8888888888888888,
             "#fdca26"
            ],
            [
             1,
             "#f0f921"
            ]
           ]
          },
          "colorway": [
           "#636efa",
           "#EF553B",
           "#00cc96",
           "#ab63fa",
           "#FFA15A",
           "#19d3f3",
           "#FF6692",
           "#B6E880",
           "#FF97FF",
           "#FECB52"
          ],
          "font": {
           "color": "#2a3f5f"
          },
          "geo": {
           "bgcolor": "white",
           "lakecolor": "white",
           "landcolor": "#E5ECF6",
           "showlakes": true,
           "showland": true,
           "subunitcolor": "white"
          },
          "hoverlabel": {
           "align": "left"
          },
          "hovermode": "closest",
          "mapbox": {
           "style": "light"
          },
          "paper_bgcolor": "white",
          "plot_bgcolor": "#E5ECF6",
          "polar": {
           "angularaxis": {
            "gridcolor": "white",
            "linecolor": "white",
            "ticks": ""
           },
           "bgcolor": "#E5ECF6",
           "radialaxis": {
            "gridcolor": "white",
            "linecolor": "white",
            "ticks": ""
           }
          },
          "scene": {
           "xaxis": {
            "backgroundcolor": "#E5ECF6",
            "gridcolor": "white",
            "gridwidth": 2,
            "linecolor": "white",
            "showbackground": true,
            "ticks": "",
            "zerolinecolor": "white"
           },
           "yaxis": {
            "backgroundcolor": "#E5ECF6",
            "gridcolor": "white",
            "gridwidth": 2,
            "linecolor": "white",
            "showbackground": true,
            "ticks": "",
            "zerolinecolor": "white"
           },
           "zaxis": {
            "backgroundcolor": "#E5ECF6",
            "gridcolor": "white",
            "gridwidth": 2,
            "linecolor": "white",
            "showbackground": true,
            "ticks": "",
            "zerolinecolor": "white"
           }
          },
          "shapedefaults": {
           "line": {
            "color": "#2a3f5f"
           }
          },
          "ternary": {
           "aaxis": {
            "gridcolor": "white",
            "linecolor": "white",
            "ticks": ""
           },
           "baxis": {
            "gridcolor": "white",
            "linecolor": "white",
            "ticks": ""
           },
           "bgcolor": "#E5ECF6",
           "caxis": {
            "gridcolor": "white",
            "linecolor": "white",
            "ticks": ""
           }
          },
          "title": {
           "x": 0.05
          },
          "xaxis": {
           "automargin": true,
           "gridcolor": "white",
           "linecolor": "white",
           "ticks": "",
           "title": {
            "standoff": 15
           },
           "zerolinecolor": "white",
           "zerolinewidth": 2
          },
          "yaxis": {
           "automargin": true,
           "gridcolor": "white",
           "linecolor": "white",
           "ticks": "",
           "title": {
            "standoff": 15
           },
           "zerolinecolor": "white",
           "zerolinewidth": 2
          }
         }
        },
        "title": {
         "text": "Migration by structural classification",
         "x": 0.5,
         "xanchor": "center",
         "y": 0.9
        }
       }
      }
     },
     "metadata": {},
     "output_type": "display_data"
    }
   ],
   "source": [
    "fig = go.Figure(\n",
    "    data = [go.Sankey(\n",
    "                node=dict(\n",
    "                    pad = 15,\n",
    "                    thickness = 20,\n",
    "                    line = dict(color = \"black\", width = 0.5),\n",
    "                    label = [\"Class 0 origin\",\"Class 1 origin\",\"Class 2 origin\", \"Class 0 destination\",\"Class 1 destination\",\"Class 2 destination\"],\n",
    "                    color = [\"rgba\" + str(cmap(x)) for x in range(3)]*2\n",
    "                    \n",
    "                    ),\n",
    "                link=dict(\n",
    "                    source=sankey_data[\"origin_class\"].values,\n",
    "                    target=sankey_data[\"sankey_dest\"].values,\n",
    "                    value=sankey_data[\"weight_scaled\"].values,\n",
    "                    arrowlen=15,\n",
    "                    color= sankey_data[\"destination_color\"].values\n",
    "\n",
    "                ),\n",
    "                \n",
    "            )]\n",
    ")\n",
    "fig.update_layout(title_text=\"Migration by structural classification\", font_size=15, title={\"xanchor\":\"center\",\"y\":0.9,\"x\":0.5})\n",
    "fig.write_image(\"../visuals/sankey_plot.jpeg\")\n",
    "fig.show()"
   ]
  },
  {
   "cell_type": "code",
   "execution_count": 68,
   "metadata": {},
   "outputs": [
    {
     "data": {
      "text/html": [
       "<div>\n",
       "<style scoped>\n",
       "    .dataframe tbody tr th:only-of-type {\n",
       "        vertical-align: middle;\n",
       "    }\n",
       "\n",
       "    .dataframe tbody tr th {\n",
       "        vertical-align: top;\n",
       "    }\n",
       "\n",
       "    .dataframe thead th {\n",
       "        text-align: right;\n",
       "    }\n",
       "</style>\n",
       "<table border=\"1\" class=\"dataframe\">\n",
       "  <thead>\n",
       "    <tr style=\"text-align: right;\">\n",
       "      <th></th>\n",
       "      <th>origin</th>\n",
       "      <th>destination</th>\n",
       "      <th>weight_scaled</th>\n",
       "      <th>origin_class</th>\n",
       "      <th>destination_class</th>\n",
       "      <th>origin_color</th>\n",
       "      <th>destination_color</th>\n",
       "      <th>sankey_dest</th>\n",
       "    </tr>\n",
       "  </thead>\n",
       "  <tbody>\n",
       "    <tr>\n",
       "      <th>0</th>\n",
       "      <td>AFG</td>\n",
       "      <td>AUS</td>\n",
       "      <td>3.036130</td>\n",
       "      <td>0</td>\n",
       "      <td>0</td>\n",
       "      <td>(0.4, 0.7607843137254902, 0.6470588235294118, ...</td>\n",
       "      <td>rgba(0.4, 0.7607843137254902, 0.64705882352941...</td>\n",
       "      <td>3</td>\n",
       "    </tr>\n",
       "    <tr>\n",
       "      <th>1</th>\n",
       "      <td>AFG</td>\n",
       "      <td>AUT</td>\n",
       "      <td>3.537707</td>\n",
       "      <td>0</td>\n",
       "      <td>0</td>\n",
       "      <td>(0.4, 0.7607843137254902, 0.6470588235294118, ...</td>\n",
       "      <td>rgba(0.4, 0.7607843137254902, 0.64705882352941...</td>\n",
       "      <td>3</td>\n",
       "    </tr>\n",
       "  </tbody>\n",
       "</table>\n",
       "</div>"
      ],
      "text/plain": [
       "  origin destination  weight_scaled  origin_class  destination_class  \\\n",
       "0    AFG         AUS       3.036130             0                  0   \n",
       "1    AFG         AUT       3.537707             0                  0   \n",
       "\n",
       "                                        origin_color  \\\n",
       "0  (0.4, 0.7607843137254902, 0.6470588235294118, ...   \n",
       "1  (0.4, 0.7607843137254902, 0.6470588235294118, ...   \n",
       "\n",
       "                                   destination_color  sankey_dest  \n",
       "0  rgba(0.4, 0.7607843137254902, 0.64705882352941...            3  \n",
       "1  rgba(0.4, 0.7607843137254902, 0.64705882352941...            3  "
      ]
     },
     "execution_count": 68,
     "metadata": {},
     "output_type": "execute_result"
    }
   ],
   "source": [
    "df_edgelist[\"sankey_dest\"] = [3+class_ for class_ in df_edgelist[\"destination_class\"]]\n",
    "df_edgelist[\"destination_color\"] = [\"rgba\" + str(cmap(x, alpha=0.6)) for x in df_edgelist[\"destination_class\"]]\n",
    "df_edgelist.head(2)"
   ]
  },
  {
   "cell_type": "code",
   "execution_count": 74,
   "metadata": {},
   "outputs": [],
   "source": [
    "# fig = go.Figure(\n",
    "#     data = [go.Sankey(\n",
    "#                 node=dict(\n",
    "#                     pad = 15,\n",
    "#                     thickness = 20,\n",
    "#                     line = dict(color = \"black\", width = 0.5),\n",
    "#                     label = [\"Class 0 origin\",\"Class 1 origin\",\"Class 2 origin\", \"Class 0 destination\",\"Class 1 destination\",\"Class 2 destination\"],\n",
    "#                     color = [\"rgba\" + str(cmap(x)) for x in range(3)]*2\n",
    "                    \n",
    "#                     ),\n",
    "#                 link=dict(\n",
    "#                     source=df_edgelist[\"origin_class\"].values,\n",
    "#                     target=df_edgelist[\"sankey_dest\"].values,\n",
    "#                     value=df_edgelist[\"weight_scaled\"].values,\n",
    "#                     color= df_edgelist[\"destination_color\"].values\n",
    "\n",
    "#                 ),\n",
    "                \n",
    "#             )]\n",
    "# )\n",
    "# fig.update_layout(title_text=\"Migration by structural classification\", font_size=15, title={\"xanchor\":\"center\",\"y\":0.9,\"x\":0.5})\n",
    "# # fig.write_image(\"../visuals/sankey_plot.jpeg\")\n",
    "# # fig.show()"
   ]
  },
  {
   "cell_type": "markdown",
   "metadata": {},
   "source": [
    "### For reference"
   ]
  },
  {
   "cell_type": "code",
   "execution_count": 13,
   "metadata": {},
   "outputs": [
    {
     "data": {
      "text/plain": [
       "{'pad': 15,\n",
       " 'thickness': 20,\n",
       " 'line': {'color': 'black', 'width': 0.5},\n",
       " 'label': ['A1', 'A2', 'B1', 'B2', 'C1', 'C2'],\n",
       " 'color': 'blue'}"
      ]
     },
     "execution_count": 13,
     "metadata": {},
     "output_type": "execute_result"
    }
   ],
   "source": [
    "dict(\n",
    "      pad = 15,\n",
    "      thickness = 20,\n",
    "      line = dict(color = \"black\", width = 0.5),\n",
    "      label = [\"A1\", \"A2\", \"B1\", \"B2\", \"C1\", \"C2\"],\n",
    "      color = \"blue\"\n",
    ")"
   ]
  },
  {
   "cell_type": "code",
   "execution_count": 14,
   "metadata": {},
   "outputs": [
    {
     "data": {
      "application/vnd.plotly.v1+json": {
       "config": {
        "plotlyServerURL": "https://plot.ly"
       },
       "data": [
        {
         "link": {
          "source": [
           0,
           1,
           0,
           2,
           3,
           3
          ],
          "target": [
           2,
           3,
           3,
           4,
           4,
           5
          ],
          "value": [
           8,
           4,
           2,
           8,
           4,
           2
          ]
         },
         "node": {
          "color": "blue",
          "label": [
           "A1",
           "A2",
           "B1",
           "B2",
           "C1",
           "C2"
          ],
          "line": {
           "color": "black",
           "width": 0.5
          },
          "pad": 15,
          "thickness": 20
         },
         "type": "sankey"
        }
       ],
       "layout": {
        "font": {
         "size": 10
        },
        "template": {
         "data": {
          "bar": [
           {
            "error_x": {
             "color": "#2a3f5f"
            },
            "error_y": {
             "color": "#2a3f5f"
            },
            "marker": {
             "line": {
              "color": "#E5ECF6",
              "width": 0.5
             },
             "pattern": {
              "fillmode": "overlay",
              "size": 10,
              "solidity": 0.2
             }
            },
            "type": "bar"
           }
          ],
          "barpolar": [
           {
            "marker": {
             "line": {
              "color": "#E5ECF6",
              "width": 0.5
             },
             "pattern": {
              "fillmode": "overlay",
              "size": 10,
              "solidity": 0.2
             }
            },
            "type": "barpolar"
           }
          ],
          "carpet": [
           {
            "aaxis": {
             "endlinecolor": "#2a3f5f",
             "gridcolor": "white",
             "linecolor": "white",
             "minorgridcolor": "white",
             "startlinecolor": "#2a3f5f"
            },
            "baxis": {
             "endlinecolor": "#2a3f5f",
             "gridcolor": "white",
             "linecolor": "white",
             "minorgridcolor": "white",
             "startlinecolor": "#2a3f5f"
            },
            "type": "carpet"
           }
          ],
          "choropleth": [
           {
            "colorbar": {
             "outlinewidth": 0,
             "ticks": ""
            },
            "type": "choropleth"
           }
          ],
          "contour": [
           {
            "colorbar": {
             "outlinewidth": 0,
             "ticks": ""
            },
            "colorscale": [
             [
              0,
              "#0d0887"
             ],
             [
              0.1111111111111111,
              "#46039f"
             ],
             [
              0.2222222222222222,
              "#7201a8"
             ],
             [
              0.3333333333333333,
              "#9c179e"
             ],
             [
              0.4444444444444444,
              "#bd3786"
             ],
             [
              0.5555555555555556,
              "#d8576b"
             ],
             [
              0.6666666666666666,
              "#ed7953"
             ],
             [
              0.7777777777777778,
              "#fb9f3a"
             ],
             [
              0.8888888888888888,
              "#fdca26"
             ],
             [
              1,
              "#f0f921"
             ]
            ],
            "type": "contour"
           }
          ],
          "contourcarpet": [
           {
            "colorbar": {
             "outlinewidth": 0,
             "ticks": ""
            },
            "type": "contourcarpet"
           }
          ],
          "heatmap": [
           {
            "colorbar": {
             "outlinewidth": 0,
             "ticks": ""
            },
            "colorscale": [
             [
              0,
              "#0d0887"
             ],
             [
              0.1111111111111111,
              "#46039f"
             ],
             [
              0.2222222222222222,
              "#7201a8"
             ],
             [
              0.3333333333333333,
              "#9c179e"
             ],
             [
              0.4444444444444444,
              "#bd3786"
             ],
             [
              0.5555555555555556,
              "#d8576b"
             ],
             [
              0.6666666666666666,
              "#ed7953"
             ],
             [
              0.7777777777777778,
              "#fb9f3a"
             ],
             [
              0.8888888888888888,
              "#fdca26"
             ],
             [
              1,
              "#f0f921"
             ]
            ],
            "type": "heatmap"
           }
          ],
          "heatmapgl": [
           {
            "colorbar": {
             "outlinewidth": 0,
             "ticks": ""
            },
            "colorscale": [
             [
              0,
              "#0d0887"
             ],
             [
              0.1111111111111111,
              "#46039f"
             ],
             [
              0.2222222222222222,
              "#7201a8"
             ],
             [
              0.3333333333333333,
              "#9c179e"
             ],
             [
              0.4444444444444444,
              "#bd3786"
             ],
             [
              0.5555555555555556,
              "#d8576b"
             ],
             [
              0.6666666666666666,
              "#ed7953"
             ],
             [
              0.7777777777777778,
              "#fb9f3a"
             ],
             [
              0.8888888888888888,
              "#fdca26"
             ],
             [
              1,
              "#f0f921"
             ]
            ],
            "type": "heatmapgl"
           }
          ],
          "histogram": [
           {
            "marker": {
             "pattern": {
              "fillmode": "overlay",
              "size": 10,
              "solidity": 0.2
             }
            },
            "type": "histogram"
           }
          ],
          "histogram2d": [
           {
            "colorbar": {
             "outlinewidth": 0,
             "ticks": ""
            },
            "colorscale": [
             [
              0,
              "#0d0887"
             ],
             [
              0.1111111111111111,
              "#46039f"
             ],
             [
              0.2222222222222222,
              "#7201a8"
             ],
             [
              0.3333333333333333,
              "#9c179e"
             ],
             [
              0.4444444444444444,
              "#bd3786"
             ],
             [
              0.5555555555555556,
              "#d8576b"
             ],
             [
              0.6666666666666666,
              "#ed7953"
             ],
             [
              0.7777777777777778,
              "#fb9f3a"
             ],
             [
              0.8888888888888888,
              "#fdca26"
             ],
             [
              1,
              "#f0f921"
             ]
            ],
            "type": "histogram2d"
           }
          ],
          "histogram2dcontour": [
           {
            "colorbar": {
             "outlinewidth": 0,
             "ticks": ""
            },
            "colorscale": [
             [
              0,
              "#0d0887"
             ],
             [
              0.1111111111111111,
              "#46039f"
             ],
             [
              0.2222222222222222,
              "#7201a8"
             ],
             [
              0.3333333333333333,
              "#9c179e"
             ],
             [
              0.4444444444444444,
              "#bd3786"
             ],
             [
              0.5555555555555556,
              "#d8576b"
             ],
             [
              0.6666666666666666,
              "#ed7953"
             ],
             [
              0.7777777777777778,
              "#fb9f3a"
             ],
             [
              0.8888888888888888,
              "#fdca26"
             ],
             [
              1,
              "#f0f921"
             ]
            ],
            "type": "histogram2dcontour"
           }
          ],
          "mesh3d": [
           {
            "colorbar": {
             "outlinewidth": 0,
             "ticks": ""
            },
            "type": "mesh3d"
           }
          ],
          "parcoords": [
           {
            "line": {
             "colorbar": {
              "outlinewidth": 0,
              "ticks": ""
             }
            },
            "type": "parcoords"
           }
          ],
          "pie": [
           {
            "automargin": true,
            "type": "pie"
           }
          ],
          "scatter": [
           {
            "fillpattern": {
             "fillmode": "overlay",
             "size": 10,
             "solidity": 0.2
            },
            "type": "scatter"
           }
          ],
          "scatter3d": [
           {
            "line": {
             "colorbar": {
              "outlinewidth": 0,
              "ticks": ""
             }
            },
            "marker": {
             "colorbar": {
              "outlinewidth": 0,
              "ticks": ""
             }
            },
            "type": "scatter3d"
           }
          ],
          "scattercarpet": [
           {
            "marker": {
             "colorbar": {
              "outlinewidth": 0,
              "ticks": ""
             }
            },
            "type": "scattercarpet"
           }
          ],
          "scattergeo": [
           {
            "marker": {
             "colorbar": {
              "outlinewidth": 0,
              "ticks": ""
             }
            },
            "type": "scattergeo"
           }
          ],
          "scattergl": [
           {
            "marker": {
             "colorbar": {
              "outlinewidth": 0,
              "ticks": ""
             }
            },
            "type": "scattergl"
           }
          ],
          "scattermapbox": [
           {
            "marker": {
             "colorbar": {
              "outlinewidth": 0,
              "ticks": ""
             }
            },
            "type": "scattermapbox"
           }
          ],
          "scatterpolar": [
           {
            "marker": {
             "colorbar": {
              "outlinewidth": 0,
              "ticks": ""
             }
            },
            "type": "scatterpolar"
           }
          ],
          "scatterpolargl": [
           {
            "marker": {
             "colorbar": {
              "outlinewidth": 0,
              "ticks": ""
             }
            },
            "type": "scatterpolargl"
           }
          ],
          "scatterternary": [
           {
            "marker": {
             "colorbar": {
              "outlinewidth": 0,
              "ticks": ""
             }
            },
            "type": "scatterternary"
           }
          ],
          "surface": [
           {
            "colorbar": {
             "outlinewidth": 0,
             "ticks": ""
            },
            "colorscale": [
             [
              0,
              "#0d0887"
             ],
             [
              0.1111111111111111,
              "#46039f"
             ],
             [
              0.2222222222222222,
              "#7201a8"
             ],
             [
              0.3333333333333333,
              "#9c179e"
             ],
             [
              0.4444444444444444,
              "#bd3786"
             ],
             [
              0.5555555555555556,
              "#d8576b"
             ],
             [
              0.6666666666666666,
              "#ed7953"
             ],
             [
              0.7777777777777778,
              "#fb9f3a"
             ],
             [
              0.8888888888888888,
              "#fdca26"
             ],
             [
              1,
              "#f0f921"
             ]
            ],
            "type": "surface"
           }
          ],
          "table": [
           {
            "cells": {
             "fill": {
              "color": "#EBF0F8"
             },
             "line": {
              "color": "white"
             }
            },
            "header": {
             "fill": {
              "color": "#C8D4E3"
             },
             "line": {
              "color": "white"
             }
            },
            "type": "table"
           }
          ]
         },
         "layout": {
          "annotationdefaults": {
           "arrowcolor": "#2a3f5f",
           "arrowhead": 0,
           "arrowwidth": 1
          },
          "autotypenumbers": "strict",
          "coloraxis": {
           "colorbar": {
            "outlinewidth": 0,
            "ticks": ""
           }
          },
          "colorscale": {
           "diverging": [
            [
             0,
             "#8e0152"
            ],
            [
             0.1,
             "#c51b7d"
            ],
            [
             0.2,
             "#de77ae"
            ],
            [
             0.3,
             "#f1b6da"
            ],
            [
             0.4,
             "#fde0ef"
            ],
            [
             0.5,
             "#f7f7f7"
            ],
            [
             0.6,
             "#e6f5d0"
            ],
            [
             0.7,
             "#b8e186"
            ],
            [
             0.8,
             "#7fbc41"
            ],
            [
             0.9,
             "#4d9221"
            ],
            [
             1,
             "#276419"
            ]
           ],
           "sequential": [
            [
             0,
             "#0d0887"
            ],
            [
             0.1111111111111111,
             "#46039f"
            ],
            [
             0.2222222222222222,
             "#7201a8"
            ],
            [
             0.3333333333333333,
             "#9c179e"
            ],
            [
             0.4444444444444444,
             "#bd3786"
            ],
            [
             0.5555555555555556,
             "#d8576b"
            ],
            [
             0.6666666666666666,
             "#ed7953"
            ],
            [
             0.7777777777777778,
             "#fb9f3a"
            ],
            [
             0.8888888888888888,
             "#fdca26"
            ],
            [
             1,
             "#f0f921"
            ]
           ],
           "sequentialminus": [
            [
             0,
             "#0d0887"
            ],
            [
             0.1111111111111111,
             "#46039f"
            ],
            [
             0.2222222222222222,
             "#7201a8"
            ],
            [
             0.3333333333333333,
             "#9c179e"
            ],
            [
             0.4444444444444444,
             "#bd3786"
            ],
            [
             0.5555555555555556,
             "#d8576b"
            ],
            [
             0.6666666666666666,
             "#ed7953"
            ],
            [
             0.7777777777777778,
             "#fb9f3a"
            ],
            [
             0.8888888888888888,
             "#fdca26"
            ],
            [
             1,
             "#f0f921"
            ]
           ]
          },
          "colorway": [
           "#636efa",
           "#EF553B",
           "#00cc96",
           "#ab63fa",
           "#FFA15A",
           "#19d3f3",
           "#FF6692",
           "#B6E880",
           "#FF97FF",
           "#FECB52"
          ],
          "font": {
           "color": "#2a3f5f"
          },
          "geo": {
           "bgcolor": "white",
           "lakecolor": "white",
           "landcolor": "#E5ECF6",
           "showlakes": true,
           "showland": true,
           "subunitcolor": "white"
          },
          "hoverlabel": {
           "align": "left"
          },
          "hovermode": "closest",
          "mapbox": {
           "style": "light"
          },
          "paper_bgcolor": "white",
          "plot_bgcolor": "#E5ECF6",
          "polar": {
           "angularaxis": {
            "gridcolor": "white",
            "linecolor": "white",
            "ticks": ""
           },
           "bgcolor": "#E5ECF6",
           "radialaxis": {
            "gridcolor": "white",
            "linecolor": "white",
            "ticks": ""
           }
          },
          "scene": {
           "xaxis": {
            "backgroundcolor": "#E5ECF6",
            "gridcolor": "white",
            "gridwidth": 2,
            "linecolor": "white",
            "showbackground": true,
            "ticks": "",
            "zerolinecolor": "white"
           },
           "yaxis": {
            "backgroundcolor": "#E5ECF6",
            "gridcolor": "white",
            "gridwidth": 2,
            "linecolor": "white",
            "showbackground": true,
            "ticks": "",
            "zerolinecolor": "white"
           },
           "zaxis": {
            "backgroundcolor": "#E5ECF6",
            "gridcolor": "white",
            "gridwidth": 2,
            "linecolor": "white",
            "showbackground": true,
            "ticks": "",
            "zerolinecolor": "white"
           }
          },
          "shapedefaults": {
           "line": {
            "color": "#2a3f5f"
           }
          },
          "ternary": {
           "aaxis": {
            "gridcolor": "white",
            "linecolor": "white",
            "ticks": ""
           },
           "baxis": {
            "gridcolor": "white",
            "linecolor": "white",
            "ticks": ""
           },
           "bgcolor": "#E5ECF6",
           "caxis": {
            "gridcolor": "white",
            "linecolor": "white",
            "ticks": ""
           }
          },
          "title": {
           "x": 0.05
          },
          "xaxis": {
           "automargin": true,
           "gridcolor": "white",
           "linecolor": "white",
           "ticks": "",
           "title": {
            "standoff": 15
           },
           "zerolinecolor": "white",
           "zerolinewidth": 2
          },
          "yaxis": {
           "automargin": true,
           "gridcolor": "white",
           "linecolor": "white",
           "ticks": "",
           "title": {
            "standoff": 15
           },
           "zerolinecolor": "white",
           "zerolinewidth": 2
          }
         }
        },
        "title": {
         "text": "Basic Sankey Diagram"
        }
       }
      }
     },
     "metadata": {},
     "output_type": "display_data"
    }
   ],
   "source": [
    "fig = go.Figure(data=[go.Sankey(\n",
    "    node = dict(\n",
    "      pad = 15,\n",
    "      thickness = 20,\n",
    "      line = dict(color = \"black\", width = 0.5),\n",
    "      label = [\"A1\", \"A2\", \"B1\", \"B2\", \"C1\", \"C2\"],\n",
    "      color = \"blue\"\n",
    "    ),\n",
    "    link = dict(\n",
    "      source = [0, 1, 0, 2, 3, 3], # indices correspond to labels, eg A1, A2, A1, B1, ...\n",
    "      target = [2, 3, 3, 4, 4, 5],\n",
    "      value = [8, 4, 2, 8, 4, 2]\n",
    "  ))])\n",
    "\n",
    "fig.update_layout(title_text=\"Basic Sankey Diagram\", font_size=10)\n",
    "fig.show()"
   ]
  },
  {
   "cell_type": "code",
   "execution_count": 15,
   "metadata": {},
   "outputs": [
    {
     "data": {
      "text/html": [
       "<div>\n",
       "<style scoped>\n",
       "    .dataframe tbody tr th:only-of-type {\n",
       "        vertical-align: middle;\n",
       "    }\n",
       "\n",
       "    .dataframe tbody tr th {\n",
       "        vertical-align: top;\n",
       "    }\n",
       "\n",
       "    .dataframe thead th {\n",
       "        text-align: right;\n",
       "    }\n",
       "</style>\n",
       "<table border=\"1\" class=\"dataframe\">\n",
       "  <thead>\n",
       "    <tr style=\"text-align: right;\">\n",
       "      <th></th>\n",
       "      <th>origin_class</th>\n",
       "      <th>destination_class</th>\n",
       "      <th>weight_scaled</th>\n",
       "      <th>origin_color</th>\n",
       "      <th>destination_color</th>\n",
       "    </tr>\n",
       "  </thead>\n",
       "  <tbody>\n",
       "    <tr>\n",
       "      <th>0</th>\n",
       "      <td>0</td>\n",
       "      <td>0</td>\n",
       "      <td>5433.342297</td>\n",
       "      <td>(0.4, 0.7607843137254902, 0.6470588235294118, ...</td>\n",
       "      <td>(0.4, 0.7607843137254902, 0.6470588235294118, ...</td>\n",
       "    </tr>\n",
       "    <tr>\n",
       "      <th>1</th>\n",
       "      <td>0</td>\n",
       "      <td>1</td>\n",
       "      <td>7.293687</td>\n",
       "      <td>(0.4, 0.7607843137254902, 0.6470588235294118, ...</td>\n",
       "      <td>(0.9882352941176471, 0.5529411764705883, 0.384...</td>\n",
       "    </tr>\n",
       "    <tr>\n",
       "      <th>2</th>\n",
       "      <td>0</td>\n",
       "      <td>2</td>\n",
       "      <td>90.588868</td>\n",
       "      <td>(0.4, 0.7607843137254902, 0.6470588235294118, ...</td>\n",
       "      <td>(0.5529411764705883, 0.6274509803921569, 0.796...</td>\n",
       "    </tr>\n",
       "    <tr>\n",
       "      <th>3</th>\n",
       "      <td>1</td>\n",
       "      <td>0</td>\n",
       "      <td>16202.953510</td>\n",
       "      <td>(0.9882352941176471, 0.5529411764705883, 0.384...</td>\n",
       "      <td>(0.4, 0.7607843137254902, 0.6470588235294118, ...</td>\n",
       "    </tr>\n",
       "    <tr>\n",
       "      <th>4</th>\n",
       "      <td>1</td>\n",
       "      <td>1</td>\n",
       "      <td>1067.199721</td>\n",
       "      <td>(0.9882352941176471, 0.5529411764705883, 0.384...</td>\n",
       "      <td>(0.9882352941176471, 0.5529411764705883, 0.384...</td>\n",
       "    </tr>\n",
       "  </tbody>\n",
       "</table>\n",
       "</div>"
      ],
      "text/plain": [
       "   origin_class  destination_class  weight_scaled  \\\n",
       "0             0                  0    5433.342297   \n",
       "1             0                  1       7.293687   \n",
       "2             0                  2      90.588868   \n",
       "3             1                  0   16202.953510   \n",
       "4             1                  1    1067.199721   \n",
       "\n",
       "                                        origin_color  \\\n",
       "0  (0.4, 0.7607843137254902, 0.6470588235294118, ...   \n",
       "1  (0.4, 0.7607843137254902, 0.6470588235294118, ...   \n",
       "2  (0.4, 0.7607843137254902, 0.6470588235294118, ...   \n",
       "3  (0.9882352941176471, 0.5529411764705883, 0.384...   \n",
       "4  (0.9882352941176471, 0.5529411764705883, 0.384...   \n",
       "\n",
       "                                   destination_color  \n",
       "0  (0.4, 0.7607843137254902, 0.6470588235294118, ...  \n",
       "1  (0.9882352941176471, 0.5529411764705883, 0.384...  \n",
       "2  (0.5529411764705883, 0.6274509803921569, 0.796...  \n",
       "3  (0.4, 0.7607843137254902, 0.6470588235294118, ...  \n",
       "4  (0.9882352941176471, 0.5529411764705883, 0.384...  "
      ]
     },
     "execution_count": 15,
     "metadata": {},
     "output_type": "execute_result"
    }
   ],
   "source": [
    "sankey_data.head()"
   ]
  },
  {
   "cell_type": "code",
   "execution_count": null,
   "metadata": {},
   "outputs": [],
   "source": []
  },
  {
   "cell_type": "code",
   "execution_count": 16,
   "metadata": {},
   "outputs": [
    {
     "data": {
      "text/plain": [
       "array([(0.4, 0.7607843137254902, 0.6470588235294118, 1.0),\n",
       "       (0.9882352941176471, 0.5529411764705883, 0.3843137254901961, 1.0),\n",
       "       (0.5529411764705883, 0.6274509803921569, 0.796078431372549, 1.0),\n",
       "       (0.4, 0.7607843137254902, 0.6470588235294118, 1.0),\n",
       "       (0.9882352941176471, 0.5529411764705883, 0.3843137254901961, 1.0),\n",
       "       (0.5529411764705883, 0.6274509803921569, 0.796078431372549, 1.0),\n",
       "       (0.4, 0.7607843137254902, 0.6470588235294118, 1.0),\n",
       "       (0.9882352941176471, 0.5529411764705883, 0.3843137254901961, 1.0),\n",
       "       (0.5529411764705883, 0.6274509803921569, 0.796078431372549, 1.0)],\n",
       "      dtype=object)"
      ]
     },
     "execution_count": 16,
     "metadata": {},
     "output_type": "execute_result"
    }
   ],
   "source": [
    "sankey_data[\"destination_color\"].values"
   ]
  },
  {
   "cell_type": "code",
   "execution_count": 17,
   "metadata": {},
   "outputs": [
    {
     "data": {
      "application/vnd.plotly.v1+json": {
       "config": {
        "plotlyServerURL": "https://plot.ly"
       },
       "data": [
        {
         "link": {
          "color": [
           "rgba(31, 119, 180, 0.4)",
           "rgba(255, 127, 14, 0.4)",
           "rgba(255, 127, 14, 0.4)",
           "rgba(255, 127, 14, 0.4)",
           "rgba(255, 127, 14, 0.4)",
           "rgba(227, 119, 194, 0.4)",
           "rgba(127, 127, 127, 0.4)",
           "rgba(188, 189, 34, 0.4)",
           "rgba(31, 119, 180, 0.4)",
           "rgba(23, 190, 207, 0.4)",
           "rgba(255, 127, 14, 0.4)",
           "rgba(255, 127, 14, 0.4)",
           "rgba(255, 127, 14, 0.4)",
           "rgba(140, 86, 75, 0.4)",
           "rgba(140, 86, 75, 0.4)",
           "rgba(140, 86, 75, 0.4)",
           "rgba(140, 86, 75, 0.4)",
           "rgba(140, 86, 75, 0.4)",
           "rgba(140, 86, 75, 0.4)",
           "rgba(140, 86, 75, 0.4)",
           "rgba(140, 86, 75, 0.4)",
           "rgba(140, 86, 75, 0.4)",
           "rgba(140, 86, 75, 0.4)",
           "rgba(140, 86, 75, 0.4)",
           "rgba(214, 39, 40, 0.4)",
           "rgba(140, 86, 75, 0.4)",
           "rgba(140, 86, 75, 0.4)",
           "rgba(140, 86, 75, 0.4)",
           "rgba(140, 86, 75, 0.4)",
           "rgba(140, 86, 75, 0.4)",
           "rgba(140, 86, 75, 0.4)",
           "rgba(127, 127, 127, 0.4)",
           "rgba(127, 127, 127, 0.4)",
           "rgba(127, 127, 127, 0.4)",
           "rgba(188, 189, 34, 0.4)",
           "rgba(23, 190, 207, 0.4)",
           "rgba(44, 160, 44, 0.4)",
           "rgba(44, 160, 44, 0.4)",
           "rgba(44, 160, 44, 0.4)",
           "rgba(44, 160, 44, 0.4)",
           "rgba(44, 160, 44, 0.4)",
           "rgba(44, 160, 44, 0.4)",
           "rgba(44, 160, 44, 0.4)",
           "rgba(44, 160, 44, 0.4)",
           "rgba(148, 103, 189, 0.4)",
           "rgba(148, 103, 189, 0.4)",
           "rgba(255,0,255, 0.4)",
           "rgba(255,0,255, 0.4)",
           "rgba(227, 119, 194, 0.4)",
           "rgba(188, 189, 34, 0.4)",
           "rgba(127, 127, 127, 0.4)",
           "rgba(23, 190, 207, 0.4)",
           "rgba(23, 190, 207, 0.4)",
           "rgba(31, 119, 180, 0.4)",
           "rgba(31, 119, 180, 0.4)",
           "rgba(255, 127, 14, 0.4)",
           "rgba(44, 160, 44, 0.4)",
           "rgba(214, 39, 40, 0.4)",
           "rgba(214, 39, 40, 0.4)",
           "rgba(148, 103, 189, 0.4)",
           "rgba(148, 103, 189, 0.4)",
           "rgba(148, 103, 189, 0.4)",
           "rgba(227, 119, 194, 0.4)",
           "rgba(227, 119, 194, 0.4)",
           "rgba(227, 119, 194, 0.4)",
           "rgba(148, 103, 189, 0.4)",
           "rgba(140, 86, 75, 0.4)",
           "rgba(227, 119, 194, 0.4)",
           "rgba(127, 127, 127, 0.4)",
           "rgba(255,0,255, 0.4)",
           "rgba(255,0,255, 0.4)"
          ],
          "label": [
           "stream 1",
           "",
           "",
           "",
           "stream 1",
           "",
           "",
           "",
           "",
           "",
           "",
           "",
           "",
           "",
           "",
           "",
           "",
           "",
           "",
           "",
           "",
           "",
           "",
           "",
           "",
           "",
           "",
           "",
           "",
           "",
           "stream 1",
           "",
           "",
           "",
           "",
           "",
           "",
           "",
           "",
           "",
           "",
           "",
           "",
           "",
           "",
           "",
           "Old generation plant (made-up)",
           "New generation plant (made-up)",
           "",
           "",
           "",
           "",
           "",
           "",
           "",
           "",
           "",
           "",
           "",
           "",
           "",
           "",
           "",
           "",
           "",
           "",
           "",
           "",
           "",
           "",
           ""
          ],
          "source": [
           0,
           1,
           1,
           1,
           1,
           6,
           7,
           8,
           10,
           9,
           11,
           11,
           11,
           15,
           15,
           15,
           15,
           15,
           15,
           15,
           15,
           15,
           15,
           15,
           23,
           25,
           5,
           5,
           5,
           5,
           5,
           27,
           17,
           17,
           28,
           29,
           2,
           2,
           2,
           2,
           2,
           2,
           2,
           2,
           34,
           24,
           35,
           35,
           36,
           38,
           37,
           39,
           39,
           40,
           40,
           41,
           42,
           43,
           43,
           4,
           4,
           4,
           26,
           26,
           26,
           44,
           45,
           46,
           47,
           35,
           35
          ],
          "target": [
           1,
           2,
           3,
           4,
           5,
           2,
           4,
           9,
           9,
           4,
           12,
           13,
           14,
           16,
           14,
           17,
           12,
           18,
           19,
           13,
           3,
           20,
           21,
           22,
           24,
           24,
           13,
           3,
           26,
           19,
           12,
           15,
           28,
           3,
           18,
           15,
           12,
           30,
           18,
           31,
           32,
           19,
           33,
           20,
           1,
           5,
           26,
           26,
           37,
           37,
           2,
           4,
           1,
           14,
           13,
           15,
           14,
           42,
           41,
           19,
           26,
           12,
           15,
           3,
           11,
           15,
           1,
           15,
           15,
           26,
           26
          ],
          "value": [
           124.729,
           0.597,
           26.862,
           280.322,
           81.144,
           35,
           35,
           11.606,
           63.965,
           75.571,
           10.639,
           22.505,
           46.184,
           104.453,
           113.726,
           27.14,
           342.165,
           37.797,
           4.412,
           40.858,
           56.691,
           7.863,
           90.008,
           93.494,
           40.719,
           82.233,
           0.129,
           1.401,
           151.891,
           2.096,
           48.58,
           7.013,
           20.897,
           6.242,
           20.897,
           6.995,
           121.066,
           128.69,
           135.835,
           14.458,
           206.267,
           3.64,
           33.218,
           4.413,
           14.375,
           122.952,
           500,
           139.978,
           504.287,
           107.703,
           611.99,
           56.587,
           77.81,
           193.026,
           70.672,
           59.901,
           19.263,
           19.263,
           59.901,
           0.882,
           400.12,
           46.477,
           525.531,
           787.129,
           79.329,
           9.452,
           182.01,
           19.013,
           289.366,
           100,
           100
          ]
         },
         "node": {
          "color": [
           "rgba(31, 119, 180, 0.8)",
           "rgba(255, 127, 14, 0.8)",
           "rgba(44, 160, 44, 0.8)",
           "rgba(214, 39, 40, 0.8)",
           "rgba(148, 103, 189, 0.8)",
           "rgba(140, 86, 75, 0.8)",
           "rgba(227, 119, 194, 0.8)",
           "rgba(127, 127, 127, 0.8)",
           "rgba(188, 189, 34, 0.8)",
           "rgba(23, 190, 207, 0.8)",
           "rgba(31, 119, 180, 0.8)",
           "rgba(255, 127, 14, 0.8)",
           "rgba(44, 160, 44, 0.8)",
           "rgba(214, 39, 40, 0.8)",
           "rgba(148, 103, 189, 0.8)",
           "rgba(140, 86, 75, 0.8)",
           "rgba(227, 119, 194, 0.8)",
           "rgba(127, 127, 127, 0.8)",
           "rgba(188, 189, 34, 0.8)",
           "rgba(23, 190, 207, 0.8)",
           "rgba(31, 119, 180, 0.8)",
           "rgba(255, 127, 14, 0.8)",
           "rgba(44, 160, 44, 0.8)",
           "rgba(214, 39, 40, 0.8)",
           "rgba(148, 103, 189, 0.8)",
           "rgba(140, 86, 75, 0.8)",
           "rgba(227, 119, 194, 0.8)",
           "rgba(127, 127, 127, 0.8)",
           "rgba(188, 189, 34, 0.8)",
           "rgba(23, 190, 207, 0.8)",
           "rgba(31, 119, 180, 0.8)",
           "rgba(255, 127, 14, 0.8)",
           "rgba(44, 160, 44, 0.8)",
           "rgba(214, 39, 40, 0.8)",
           "rgba(148, 103, 189, 0.8)",
           "rgba(255,0,255, 0.8)",
           "rgba(227, 119, 194, 0.8)",
           "rgba(127, 127, 127, 0.8)",
           "rgba(188, 189, 34, 0.8)",
           "rgba(23, 190, 207, 0.8)",
           "rgba(31, 119, 180, 0.8)",
           "rgba(255, 127, 14, 0.8)",
           "rgba(44, 160, 44, 0.8)",
           "rgba(214, 39, 40, 0.8)",
           "rgba(148, 103, 189, 0.8)",
           "rgba(140, 86, 75, 0.8)",
           "rgba(227, 119, 194, 0.8)",
           "rgba(127, 127, 127, 0.8)"
          ],
          "label": [
           "Agricultural 'waste'",
           "Bio-conversion",
           "Liquid",
           "Losses",
           "Solid",
           "Gas",
           "Biofuel imports",
           "Biomass imports",
           "Coal imports",
           "Coal",
           "Coal reserves",
           "District heating",
           "Industry",
           "Heating and cooling - commercial",
           "Heating and cooling - homes",
           "Electricity grid",
           "Over generation / exports",
           "H2 conversion",
           "Road transport",
           "Agriculture",
           "Rail transport",
           "Lighting & appliances - commercial",
           "Lighting & appliances - homes",
           "Gas imports",
           "Ngas",
           "Gas reserves",
           "Thermal generation",
           "Geothermal",
           "H2",
           "Hydro",
           "International shipping",
           "Domestic aviation",
           "International aviation",
           "National navigation",
           "Marine algae",
           "Nuclear",
           "Oil imports",
           "Oil",
           "Oil reserves",
           "Other waste",
           "Pumped heat",
           "Solar PV",
           "Solar Thermal",
           "Solar",
           "Tidal",
           "UK land based bioenergy",
           "Wave",
           "Wind"
          ],
          "line": {
           "color": "black",
           "width": 0.5
          },
          "pad": 15,
          "thickness": 15
         },
         "type": "sankey",
         "valueformat": ".0f",
         "valuesuffix": "TWh"
        }
       ],
       "layout": {
        "font": {
         "size": 10
        },
        "template": {
         "data": {
          "bar": [
           {
            "error_x": {
             "color": "#2a3f5f"
            },
            "error_y": {
             "color": "#2a3f5f"
            },
            "marker": {
             "line": {
              "color": "#E5ECF6",
              "width": 0.5
             },
             "pattern": {
              "fillmode": "overlay",
              "size": 10,
              "solidity": 0.2
             }
            },
            "type": "bar"
           }
          ],
          "barpolar": [
           {
            "marker": {
             "line": {
              "color": "#E5ECF6",
              "width": 0.5
             },
             "pattern": {
              "fillmode": "overlay",
              "size": 10,
              "solidity": 0.2
             }
            },
            "type": "barpolar"
           }
          ],
          "carpet": [
           {
            "aaxis": {
             "endlinecolor": "#2a3f5f",
             "gridcolor": "white",
             "linecolor": "white",
             "minorgridcolor": "white",
             "startlinecolor": "#2a3f5f"
            },
            "baxis": {
             "endlinecolor": "#2a3f5f",
             "gridcolor": "white",
             "linecolor": "white",
             "minorgridcolor": "white",
             "startlinecolor": "#2a3f5f"
            },
            "type": "carpet"
           }
          ],
          "choropleth": [
           {
            "colorbar": {
             "outlinewidth": 0,
             "ticks": ""
            },
            "type": "choropleth"
           }
          ],
          "contour": [
           {
            "colorbar": {
             "outlinewidth": 0,
             "ticks": ""
            },
            "colorscale": [
             [
              0,
              "#0d0887"
             ],
             [
              0.1111111111111111,
              "#46039f"
             ],
             [
              0.2222222222222222,
              "#7201a8"
             ],
             [
              0.3333333333333333,
              "#9c179e"
             ],
             [
              0.4444444444444444,
              "#bd3786"
             ],
             [
              0.5555555555555556,
              "#d8576b"
             ],
             [
              0.6666666666666666,
              "#ed7953"
             ],
             [
              0.7777777777777778,
              "#fb9f3a"
             ],
             [
              0.8888888888888888,
              "#fdca26"
             ],
             [
              1,
              "#f0f921"
             ]
            ],
            "type": "contour"
           }
          ],
          "contourcarpet": [
           {
            "colorbar": {
             "outlinewidth": 0,
             "ticks": ""
            },
            "type": "contourcarpet"
           }
          ],
          "heatmap": [
           {
            "colorbar": {
             "outlinewidth": 0,
             "ticks": ""
            },
            "colorscale": [
             [
              0,
              "#0d0887"
             ],
             [
              0.1111111111111111,
              "#46039f"
             ],
             [
              0.2222222222222222,
              "#7201a8"
             ],
             [
              0.3333333333333333,
              "#9c179e"
             ],
             [
              0.4444444444444444,
              "#bd3786"
             ],
             [
              0.5555555555555556,
              "#d8576b"
             ],
             [
              0.6666666666666666,
              "#ed7953"
             ],
             [
              0.7777777777777778,
              "#fb9f3a"
             ],
             [
              0.8888888888888888,
              "#fdca26"
             ],
             [
              1,
              "#f0f921"
             ]
            ],
            "type": "heatmap"
           }
          ],
          "heatmapgl": [
           {
            "colorbar": {
             "outlinewidth": 0,
             "ticks": ""
            },
            "colorscale": [
             [
              0,
              "#0d0887"
             ],
             [
              0.1111111111111111,
              "#46039f"
             ],
             [
              0.2222222222222222,
              "#7201a8"
             ],
             [
              0.3333333333333333,
              "#9c179e"
             ],
             [
              0.4444444444444444,
              "#bd3786"
             ],
             [
              0.5555555555555556,
              "#d8576b"
             ],
             [
              0.6666666666666666,
              "#ed7953"
             ],
             [
              0.7777777777777778,
              "#fb9f3a"
             ],
             [
              0.8888888888888888,
              "#fdca26"
             ],
             [
              1,
              "#f0f921"
             ]
            ],
            "type": "heatmapgl"
           }
          ],
          "histogram": [
           {
            "marker": {
             "pattern": {
              "fillmode": "overlay",
              "size": 10,
              "solidity": 0.2
             }
            },
            "type": "histogram"
           }
          ],
          "histogram2d": [
           {
            "colorbar": {
             "outlinewidth": 0,
             "ticks": ""
            },
            "colorscale": [
             [
              0,
              "#0d0887"
             ],
             [
              0.1111111111111111,
              "#46039f"
             ],
             [
              0.2222222222222222,
              "#7201a8"
             ],
             [
              0.3333333333333333,
              "#9c179e"
             ],
             [
              0.4444444444444444,
              "#bd3786"
             ],
             [
              0.5555555555555556,
              "#d8576b"
             ],
             [
              0.6666666666666666,
              "#ed7953"
             ],
             [
              0.7777777777777778,
              "#fb9f3a"
             ],
             [
              0.8888888888888888,
              "#fdca26"
             ],
             [
              1,
              "#f0f921"
             ]
            ],
            "type": "histogram2d"
           }
          ],
          "histogram2dcontour": [
           {
            "colorbar": {
             "outlinewidth": 0,
             "ticks": ""
            },
            "colorscale": [
             [
              0,
              "#0d0887"
             ],
             [
              0.1111111111111111,
              "#46039f"
             ],
             [
              0.2222222222222222,
              "#7201a8"
             ],
             [
              0.3333333333333333,
              "#9c179e"
             ],
             [
              0.4444444444444444,
              "#bd3786"
             ],
             [
              0.5555555555555556,
              "#d8576b"
             ],
             [
              0.6666666666666666,
              "#ed7953"
             ],
             [
              0.7777777777777778,
              "#fb9f3a"
             ],
             [
              0.8888888888888888,
              "#fdca26"
             ],
             [
              1,
              "#f0f921"
             ]
            ],
            "type": "histogram2dcontour"
           }
          ],
          "mesh3d": [
           {
            "colorbar": {
             "outlinewidth": 0,
             "ticks": ""
            },
            "type": "mesh3d"
           }
          ],
          "parcoords": [
           {
            "line": {
             "colorbar": {
              "outlinewidth": 0,
              "ticks": ""
             }
            },
            "type": "parcoords"
           }
          ],
          "pie": [
           {
            "automargin": true,
            "type": "pie"
           }
          ],
          "scatter": [
           {
            "fillpattern": {
             "fillmode": "overlay",
             "size": 10,
             "solidity": 0.2
            },
            "type": "scatter"
           }
          ],
          "scatter3d": [
           {
            "line": {
             "colorbar": {
              "outlinewidth": 0,
              "ticks": ""
             }
            },
            "marker": {
             "colorbar": {
              "outlinewidth": 0,
              "ticks": ""
             }
            },
            "type": "scatter3d"
           }
          ],
          "scattercarpet": [
           {
            "marker": {
             "colorbar": {
              "outlinewidth": 0,
              "ticks": ""
             }
            },
            "type": "scattercarpet"
           }
          ],
          "scattergeo": [
           {
            "marker": {
             "colorbar": {
              "outlinewidth": 0,
              "ticks": ""
             }
            },
            "type": "scattergeo"
           }
          ],
          "scattergl": [
           {
            "marker": {
             "colorbar": {
              "outlinewidth": 0,
              "ticks": ""
             }
            },
            "type": "scattergl"
           }
          ],
          "scattermapbox": [
           {
            "marker": {
             "colorbar": {
              "outlinewidth": 0,
              "ticks": ""
             }
            },
            "type": "scattermapbox"
           }
          ],
          "scatterpolar": [
           {
            "marker": {
             "colorbar": {
              "outlinewidth": 0,
              "ticks": ""
             }
            },
            "type": "scatterpolar"
           }
          ],
          "scatterpolargl": [
           {
            "marker": {
             "colorbar": {
              "outlinewidth": 0,
              "ticks": ""
             }
            },
            "type": "scatterpolargl"
           }
          ],
          "scatterternary": [
           {
            "marker": {
             "colorbar": {
              "outlinewidth": 0,
              "ticks": ""
             }
            },
            "type": "scatterternary"
           }
          ],
          "surface": [
           {
            "colorbar": {
             "outlinewidth": 0,
             "ticks": ""
            },
            "colorscale": [
             [
              0,
              "#0d0887"
             ],
             [
              0.1111111111111111,
              "#46039f"
             ],
             [
              0.2222222222222222,
              "#7201a8"
             ],
             [
              0.3333333333333333,
              "#9c179e"
             ],
             [
              0.4444444444444444,
              "#bd3786"
             ],
             [
              0.5555555555555556,
              "#d8576b"
             ],
             [
              0.6666666666666666,
              "#ed7953"
             ],
             [
              0.7777777777777778,
              "#fb9f3a"
             ],
             [
              0.8888888888888888,
              "#fdca26"
             ],
             [
              1,
              "#f0f921"
             ]
            ],
            "type": "surface"
           }
          ],
          "table": [
           {
            "cells": {
             "fill": {
              "color": "#EBF0F8"
             },
             "line": {
              "color": "white"
             }
            },
            "header": {
             "fill": {
              "color": "#C8D4E3"
             },
             "line": {
              "color": "white"
             }
            },
            "type": "table"
           }
          ]
         },
         "layout": {
          "annotationdefaults": {
           "arrowcolor": "#2a3f5f",
           "arrowhead": 0,
           "arrowwidth": 1
          },
          "autotypenumbers": "strict",
          "coloraxis": {
           "colorbar": {
            "outlinewidth": 0,
            "ticks": ""
           }
          },
          "colorscale": {
           "diverging": [
            [
             0,
             "#8e0152"
            ],
            [
             0.1,
             "#c51b7d"
            ],
            [
             0.2,
             "#de77ae"
            ],
            [
             0.3,
             "#f1b6da"
            ],
            [
             0.4,
             "#fde0ef"
            ],
            [
             0.5,
             "#f7f7f7"
            ],
            [
             0.6,
             "#e6f5d0"
            ],
            [
             0.7,
             "#b8e186"
            ],
            [
             0.8,
             "#7fbc41"
            ],
            [
             0.9,
             "#4d9221"
            ],
            [
             1,
             "#276419"
            ]
           ],
           "sequential": [
            [
             0,
             "#0d0887"
            ],
            [
             0.1111111111111111,
             "#46039f"
            ],
            [
             0.2222222222222222,
             "#7201a8"
            ],
            [
             0.3333333333333333,
             "#9c179e"
            ],
            [
             0.4444444444444444,
             "#bd3786"
            ],
            [
             0.5555555555555556,
             "#d8576b"
            ],
            [
             0.6666666666666666,
             "#ed7953"
            ],
            [
             0.7777777777777778,
             "#fb9f3a"
            ],
            [
             0.8888888888888888,
             "#fdca26"
            ],
            [
             1,
             "#f0f921"
            ]
           ],
           "sequentialminus": [
            [
             0,
             "#0d0887"
            ],
            [
             0.1111111111111111,
             "#46039f"
            ],
            [
             0.2222222222222222,
             "#7201a8"
            ],
            [
             0.3333333333333333,
             "#9c179e"
            ],
            [
             0.4444444444444444,
             "#bd3786"
            ],
            [
             0.5555555555555556,
             "#d8576b"
            ],
            [
             0.6666666666666666,
             "#ed7953"
            ],
            [
             0.7777777777777778,
             "#fb9f3a"
            ],
            [
             0.8888888888888888,
             "#fdca26"
            ],
            [
             1,
             "#f0f921"
            ]
           ]
          },
          "colorway": [
           "#636efa",
           "#EF553B",
           "#00cc96",
           "#ab63fa",
           "#FFA15A",
           "#19d3f3",
           "#FF6692",
           "#B6E880",
           "#FF97FF",
           "#FECB52"
          ],
          "font": {
           "color": "#2a3f5f"
          },
          "geo": {
           "bgcolor": "white",
           "lakecolor": "white",
           "landcolor": "#E5ECF6",
           "showlakes": true,
           "showland": true,
           "subunitcolor": "white"
          },
          "hoverlabel": {
           "align": "left"
          },
          "hovermode": "closest",
          "mapbox": {
           "style": "light"
          },
          "paper_bgcolor": "white",
          "plot_bgcolor": "#E5ECF6",
          "polar": {
           "angularaxis": {
            "gridcolor": "white",
            "linecolor": "white",
            "ticks": ""
           },
           "bgcolor": "#E5ECF6",
           "radialaxis": {
            "gridcolor": "white",
            "linecolor": "white",
            "ticks": ""
           }
          },
          "scene": {
           "xaxis": {
            "backgroundcolor": "#E5ECF6",
            "gridcolor": "white",
            "gridwidth": 2,
            "linecolor": "white",
            "showbackground": true,
            "ticks": "",
            "zerolinecolor": "white"
           },
           "yaxis": {
            "backgroundcolor": "#E5ECF6",
            "gridcolor": "white",
            "gridwidth": 2,
            "linecolor": "white",
            "showbackground": true,
            "ticks": "",
            "zerolinecolor": "white"
           },
           "zaxis": {
            "backgroundcolor": "#E5ECF6",
            "gridcolor": "white",
            "gridwidth": 2,
            "linecolor": "white",
            "showbackground": true,
            "ticks": "",
            "zerolinecolor": "white"
           }
          },
          "shapedefaults": {
           "line": {
            "color": "#2a3f5f"
           }
          },
          "ternary": {
           "aaxis": {
            "gridcolor": "white",
            "linecolor": "white",
            "ticks": ""
           },
           "baxis": {
            "gridcolor": "white",
            "linecolor": "white",
            "ticks": ""
           },
           "bgcolor": "#E5ECF6",
           "caxis": {
            "gridcolor": "white",
            "linecolor": "white",
            "ticks": ""
           }
          },
          "title": {
           "x": 0.05
          },
          "xaxis": {
           "automargin": true,
           "gridcolor": "white",
           "linecolor": "white",
           "ticks": "",
           "title": {
            "standoff": 15
           },
           "zerolinecolor": "white",
           "zerolinewidth": 2
          },
          "yaxis": {
           "automargin": true,
           "gridcolor": "white",
           "linecolor": "white",
           "ticks": "",
           "title": {
            "standoff": 15
           },
           "zerolinecolor": "white",
           "zerolinewidth": 2
          }
         }
        },
        "title": {
         "text": "Energy forecast for 2050<br>Source: Department of Energy & Climate Change, Tom Counsell via <a href='https://bost.ocks.org/mike/sankey/'>Mike Bostock</a>"
        }
       }
      }
     },
     "metadata": {},
     "output_type": "display_data"
    }
   ],
   "source": [
    "url = 'https://raw.githubusercontent.com/plotly/plotly.js/master/test/image/mocks/sankey_energy.json'\n",
    "response = urllib.request.urlopen(url)\n",
    "data = json.loads(response.read())\n",
    "\n",
    "# override gray link colors with 'source' colors\n",
    "opacity = 0.4\n",
    "# change 'magenta' to its 'rgba' value to add opacity\n",
    "data['data'][0]['node']['color'] = ['rgba(255,0,255, 0.8)' if color == \"magenta\" else color for color in data['data'][0]['node']['color']]\n",
    "data['data'][0]['link']['color'] = [data['data'][0]['node']['color'][src].replace(\"0.8\", str(opacity))\n",
    "                                    for src in data['data'][0]['link']['source']]\n",
    "\n",
    "fig = go.Figure(data=[go.Sankey(\n",
    "    valueformat = \".0f\",\n",
    "    valuesuffix = \"TWh\",\n",
    "    # Define nodes\n",
    "    node = dict(\n",
    "      pad = 15,\n",
    "      thickness = 15,\n",
    "      line = dict(color = \"black\", width = 0.5),\n",
    "      label =  data['data'][0]['node']['label'],\n",
    "      color =  data['data'][0]['node']['color']\n",
    "    ),\n",
    "    # Add links\n",
    "    link = dict(\n",
    "      source =  data['data'][0]['link']['source'],\n",
    "      target =  data['data'][0]['link']['target'],\n",
    "      value =  data['data'][0]['link']['value'],\n",
    "      label =  data['data'][0]['link']['label'],\n",
    "      color =  data['data'][0]['link']['color']\n",
    "))])\n",
    "\n",
    "fig.update_layout(title_text=\"Energy forecast for 2050<br>Source: Department of Energy & Climate Change, Tom Counsell via <a href='https://bost.ocks.org/mike/sankey/'>Mike Bostock</a>\",\n",
    "                  font_size=10)\n",
    "fig.show()"
   ]
  },
  {
   "cell_type": "code",
   "execution_count": 26,
   "metadata": {},
   "outputs": [
    {
     "data": {
      "text/plain": [
       "['rgba(31, 119, 180, 0.4)',\n",
       " 'rgba(255, 127, 14, 0.4)',\n",
       " 'rgba(255, 127, 14, 0.4)',\n",
       " 'rgba(255, 127, 14, 0.4)',\n",
       " 'rgba(255, 127, 14, 0.4)',\n",
       " 'rgba(227, 119, 194, 0.4)',\n",
       " 'rgba(127, 127, 127, 0.4)',\n",
       " 'rgba(188, 189, 34, 0.4)',\n",
       " 'rgba(31, 119, 180, 0.4)',\n",
       " 'rgba(23, 190, 207, 0.4)',\n",
       " 'rgba(255, 127, 14, 0.4)',\n",
       " 'rgba(255, 127, 14, 0.4)',\n",
       " 'rgba(255, 127, 14, 0.4)',\n",
       " 'rgba(140, 86, 75, 0.4)',\n",
       " 'rgba(140, 86, 75, 0.4)',\n",
       " 'rgba(140, 86, 75, 0.4)',\n",
       " 'rgba(140, 86, 75, 0.4)',\n",
       " 'rgba(140, 86, 75, 0.4)',\n",
       " 'rgba(140, 86, 75, 0.4)',\n",
       " 'rgba(140, 86, 75, 0.4)',\n",
       " 'rgba(140, 86, 75, 0.4)',\n",
       " 'rgba(140, 86, 75, 0.4)',\n",
       " 'rgba(140, 86, 75, 0.4)',\n",
       " 'rgba(140, 86, 75, 0.4)',\n",
       " 'rgba(214, 39, 40, 0.4)',\n",
       " 'rgba(140, 86, 75, 0.4)',\n",
       " 'rgba(140, 86, 75, 0.4)',\n",
       " 'rgba(140, 86, 75, 0.4)',\n",
       " 'rgba(140, 86, 75, 0.4)',\n",
       " 'rgba(140, 86, 75, 0.4)',\n",
       " 'rgba(140, 86, 75, 0.4)',\n",
       " 'rgba(127, 127, 127, 0.4)',\n",
       " 'rgba(127, 127, 127, 0.4)',\n",
       " 'rgba(127, 127, 127, 0.4)',\n",
       " 'rgba(188, 189, 34, 0.4)',\n",
       " 'rgba(23, 190, 207, 0.4)',\n",
       " 'rgba(44, 160, 44, 0.4)',\n",
       " 'rgba(44, 160, 44, 0.4)',\n",
       " 'rgba(44, 160, 44, 0.4)',\n",
       " 'rgba(44, 160, 44, 0.4)',\n",
       " 'rgba(44, 160, 44, 0.4)',\n",
       " 'rgba(44, 160, 44, 0.4)',\n",
       " 'rgba(44, 160, 44, 0.4)',\n",
       " 'rgba(44, 160, 44, 0.4)',\n",
       " 'rgba(148, 103, 189, 0.4)',\n",
       " 'rgba(148, 103, 189, 0.4)',\n",
       " 'rgba(255,0,255, 0.4)',\n",
       " 'rgba(255,0,255, 0.4)',\n",
       " 'rgba(227, 119, 194, 0.4)',\n",
       " 'rgba(188, 189, 34, 0.4)',\n",
       " 'rgba(127, 127, 127, 0.4)',\n",
       " 'rgba(23, 190, 207, 0.4)',\n",
       " 'rgba(23, 190, 207, 0.4)',\n",
       " 'rgba(31, 119, 180, 0.4)',\n",
       " 'rgba(31, 119, 180, 0.4)',\n",
       " 'rgba(255, 127, 14, 0.4)',\n",
       " 'rgba(44, 160, 44, 0.4)',\n",
       " 'rgba(214, 39, 40, 0.4)',\n",
       " 'rgba(214, 39, 40, 0.4)',\n",
       " 'rgba(148, 103, 189, 0.4)',\n",
       " 'rgba(148, 103, 189, 0.4)',\n",
       " 'rgba(148, 103, 189, 0.4)',\n",
       " 'rgba(227, 119, 194, 0.4)',\n",
       " 'rgba(227, 119, 194, 0.4)',\n",
       " 'rgba(227, 119, 194, 0.4)',\n",
       " 'rgba(148, 103, 189, 0.4)',\n",
       " 'rgba(140, 86, 75, 0.4)',\n",
       " 'rgba(227, 119, 194, 0.4)',\n",
       " 'rgba(127, 127, 127, 0.4)',\n",
       " 'rgba(255,0,255, 0.4)',\n",
       " 'rgba(255,0,255, 0.4)']"
      ]
     },
     "execution_count": 26,
     "metadata": {},
     "output_type": "execute_result"
    }
   ],
   "source": [
    "data['data'][0]['link']['color']"
   ]
  }
 ],
 "metadata": {
  "kernelspec": {
   "display_name": "Python 3",
   "language": "python",
   "name": "python3"
  },
  "language_info": {
   "codemirror_mode": {
    "name": "ipython",
    "version": 3
   },
   "file_extension": ".py",
   "mimetype": "text/x-python",
   "name": "python",
   "nbconvert_exporter": "python",
   "pygments_lexer": "ipython3",
   "version": "3.12.2"
  }
 },
 "nbformat": 4,
 "nbformat_minor": 2
}

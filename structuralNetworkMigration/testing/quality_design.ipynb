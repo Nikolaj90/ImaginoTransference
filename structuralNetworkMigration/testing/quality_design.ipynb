{
 "cells": [
  {
   "cell_type": "markdown",
   "metadata": {},
   "source": [
    "# Quality testing design\n",
    "I will test the quality of an embedding both in terms of the structural properties of the nodes and in terms of the development variables."
   ]
  },
  {
   "cell_type": "code",
   "execution_count": 2,
   "metadata": {},
   "outputs": [],
   "source": [
    "import os\n",
    "os.chdir(\"../..\") # Change to parent directory\n",
    "from struc2vec.src.Helpers import *\n",
    "os.chdir(\"structuralNetworkMigration\")"
   ]
  },
  {
   "cell_type": "code",
   "execution_count": 3,
   "metadata": {},
   "outputs": [],
   "source": [
    "import statsmodels.api as sm\n",
    "import numpy as np\n",
    "import requests\n",
    "import json\n",
    "import pandas as pd\n",
    "import matplotlib.pyplot as plt\n",
    "import seaborn as sns\n",
    "from sklearn.decomposition import PCA, FactorAnalysis\n",
    "import re\n"
   ]
  },
  {
   "cell_type": "code",
   "execution_count": 5,
   "metadata": {},
   "outputs": [],
   "source": [
    "# df_emb_4 = pd.read_excel(\"data/embeddings/all_nw500_1000_wl80_vs75_pca4.xlsx\")[[\"Node\",\"Embedding\"]]\n",
    "# df_emb_3 = pd.read_excel(\"data/embeddings/all_nw500_1000_wl80_vs75_pca3.xlsx\")[[\"Node\",\"Embedding\"]]"
   ]
  },
  {
   "cell_type": "code",
   "execution_count": 6,
   "metadata": {},
   "outputs": [],
   "source": [
    "df_emb_3 = pd.read_csv(\"data/embeddings/v2all_nw500_1000_wl80_vs75_pca3.csv\")"
   ]
  },
  {
   "cell_type": "code",
   "execution_count": 8,
   "metadata": {},
   "outputs": [],
   "source": [
    "df_emb_3.columns = [\"Node\",\"Embedding\"]"
   ]
  },
  {
   "cell_type": "code",
   "execution_count": 7,
   "metadata": {},
   "outputs": [],
   "source": [
    "G = nx.read_gexf(\"data/Graphs/0_directed.gexf\")"
   ]
  },
  {
   "cell_type": "markdown",
   "metadata": {},
   "source": [
    "## Predicting structural properties\n",
    "To test the quality of the classification, I make a linear regression for dummy variables of the classifications as predictions of each structural property. This will give an estimate of the variance within each classification."
   ]
  },
  {
   "cell_type": "code",
   "execution_count": 9,
   "metadata": {},
   "outputs": [],
   "source": [
    "# df_meta_4, df_agg_4 = get_meta_data(G, df_emb_4[\"Node\"].values, df_emb_4[\"Embedding\"].values)\n",
    "df_meta_3, df_agg_3 = get_meta_data(G, df_emb_3[\"Node\"].values, df_emb_3[\"Embedding\"].values)"
   ]
  },
  {
   "cell_type": "code",
   "execution_count": 10,
   "metadata": {},
   "outputs": [],
   "source": [
    "# X_4 = pd.get_dummies(df_meta_4[\"Embedding\"], dtype=int, drop_first=True)\n",
    "X_3 = pd.get_dummies(df_meta_3[\"Embedding\"],  dtype=int, drop_first=True)"
   ]
  },
  {
   "cell_type": "code",
   "execution_count": 42,
   "metadata": {},
   "outputs": [],
   "source": [
    "struc_reg_4 = {}\n",
    "for struc_prop in list(df_meta_4.columns[2:]):\n",
    "    y = df_meta_4[struc_prop]\n",
    "    X_4 = sm.add_constant(X_4)\n",
    "    model = sm.OLS(y,X_4)\n",
    "    results = model.fit()\n",
    "    struc_reg_4[struc_prop] = results"
   ]
  },
  {
   "cell_type": "code",
   "execution_count": 11,
   "metadata": {},
   "outputs": [],
   "source": [
    "struc_reg_3 = {}\n",
    "for struc_prop in list(df_meta_3.columns[2:]):\n",
    "    y = df_meta_3[struc_prop]\n",
    "    X_3 = sm.add_constant(X_3)\n",
    "    model = sm.OLS(y,X_3)\n",
    "    results = model.fit()\n",
    "    struc_reg_3[struc_prop] = results"
   ]
  },
  {
   "cell_type": "code",
   "execution_count": 44,
   "metadata": {},
   "outputs": [],
   "source": [
    "list_of_df_4 = []\n",
    "\n",
    "for struc_prop, result in struc_reg_4.items():\n",
    "    params = result.params\n",
    "    pvalues = result.pvalues\n",
    "    index_col = pd.MultiIndex.from_tuples([(struc_prop,\"params\"), (struc_prop,\"pvalues\")])\n",
    "    df = pd.DataFrame(columns=index_col)\n",
    "    df[struc_prop,\"params\"] = params\n",
    "    df[struc_prop,\"pvalues\"] = pvalues\n",
    "\n",
    "    list_of_df_4.append(df)\n",
    "\n"
   ]
  },
  {
   "cell_type": "code",
   "execution_count": 12,
   "metadata": {},
   "outputs": [],
   "source": [
    "list_of_df_3 = []\n",
    "\n",
    "for struc_prop, result in struc_reg_3.items():\n",
    "    params = result.params\n",
    "    pvalues = result.pvalues\n",
    "    index_col = pd.MultiIndex.from_tuples([(struc_prop,\"params\"), (struc_prop,\"pvalues\")])\n",
    "    df = pd.DataFrame(columns=index_col)\n",
    "    df[struc_prop,\"params\"] = params\n",
    "    df[struc_prop,\"pvalues\"] = pvalues\n",
    "\n",
    "    list_of_df_3.append(df)"
   ]
  },
  {
   "cell_type": "code",
   "execution_count": 13,
   "metadata": {},
   "outputs": [
    {
     "data": {
      "text/html": [
       "<div>\n",
       "<style scoped>\n",
       "    .dataframe tbody tr th:only-of-type {\n",
       "        vertical-align: middle;\n",
       "    }\n",
       "\n",
       "    .dataframe tbody tr th {\n",
       "        vertical-align: top;\n",
       "    }\n",
       "\n",
       "    .dataframe thead tr th {\n",
       "        text-align: left;\n",
       "    }\n",
       "</style>\n",
       "<table border=\"1\" class=\"dataframe\">\n",
       "  <thead>\n",
       "    <tr>\n",
       "      <th></th>\n",
       "      <th colspan=\"2\" halign=\"left\">Clustering</th>\n",
       "      <th colspan=\"2\" halign=\"left\">Betweenness_centrality</th>\n",
       "      <th colspan=\"2\" halign=\"left\">Closeness_centrality</th>\n",
       "      <th colspan=\"2\" halign=\"left\">InDegree</th>\n",
       "      <th colspan=\"2\" halign=\"left\">OutDegree</th>\n",
       "      <th colspan=\"2\" halign=\"left\">Average_weight</th>\n",
       "    </tr>\n",
       "    <tr>\n",
       "      <th></th>\n",
       "      <th>params</th>\n",
       "      <th>pvalues</th>\n",
       "      <th>params</th>\n",
       "      <th>pvalues</th>\n",
       "      <th>params</th>\n",
       "      <th>pvalues</th>\n",
       "      <th>params</th>\n",
       "      <th>pvalues</th>\n",
       "      <th>params</th>\n",
       "      <th>pvalues</th>\n",
       "      <th>params</th>\n",
       "      <th>pvalues</th>\n",
       "    </tr>\n",
       "  </thead>\n",
       "  <tbody>\n",
       "    <tr>\n",
       "      <th>const</th>\n",
       "      <td>0.484</td>\n",
       "      <td>0.0</td>\n",
       "      <td>0.009</td>\n",
       "      <td>0.0</td>\n",
       "      <td>0.623</td>\n",
       "      <td>0.0</td>\n",
       "      <td>84.173</td>\n",
       "      <td>0.0</td>\n",
       "      <td>52.704</td>\n",
       "      <td>0.0</td>\n",
       "      <td>4.055</td>\n",
       "      <td>0.426</td>\n",
       "    </tr>\n",
       "    <tr>\n",
       "      <th>1</th>\n",
       "      <td>0.232</td>\n",
       "      <td>0.0</td>\n",
       "      <td>-0.009</td>\n",
       "      <td>0.0</td>\n",
       "      <td>-0.392</td>\n",
       "      <td>0.0</td>\n",
       "      <td>-80.440</td>\n",
       "      <td>0.0</td>\n",
       "      <td>-28.210</td>\n",
       "      <td>0.0</td>\n",
       "      <td>25.135</td>\n",
       "      <td>0.001</td>\n",
       "    </tr>\n",
       "    <tr>\n",
       "      <th>2</th>\n",
       "      <td>0.167</td>\n",
       "      <td>0.0</td>\n",
       "      <td>-0.008</td>\n",
       "      <td>0.0</td>\n",
       "      <td>-0.143</td>\n",
       "      <td>0.0</td>\n",
       "      <td>-67.044</td>\n",
       "      <td>0.0</td>\n",
       "      <td>-21.404</td>\n",
       "      <td>0.0</td>\n",
       "      <td>1.455</td>\n",
       "      <td>0.845</td>\n",
       "    </tr>\n",
       "  </tbody>\n",
       "</table>\n",
       "</div>"
      ],
      "text/plain": [
       "      Clustering         Betweenness_centrality         Closeness_centrality  \\\n",
       "          params pvalues                 params pvalues               params   \n",
       "const      0.484     0.0                  0.009     0.0                0.623   \n",
       "1          0.232     0.0                 -0.009     0.0               -0.392   \n",
       "2          0.167     0.0                 -0.008     0.0               -0.143   \n",
       "\n",
       "              InDegree         OutDegree         Average_weight          \n",
       "      pvalues   params pvalues    params pvalues         params pvalues  \n",
       "const     0.0   84.173     0.0    52.704     0.0          4.055   0.426  \n",
       "1         0.0  -80.440     0.0   -28.210     0.0         25.135   0.001  \n",
       "2         0.0  -67.044     0.0   -21.404     0.0          1.455   0.845  "
      ]
     },
     "execution_count": 13,
     "metadata": {},
     "output_type": "execute_result"
    }
   ],
   "source": [
    "pd.concat(list_of_df_3, axis=1).apply(lambda x:round(x, 3))"
   ]
  },
  {
   "cell_type": "code",
   "execution_count": 47,
   "metadata": {},
   "outputs": [],
   "source": [
    "# pd.concat(list_of_df_3, axis=1).apply(lambda x:round(x, 3)).to_excel(\"testing/structural_indicators.xlsx\")"
   ]
  },
  {
   "cell_type": "markdown",
   "metadata": {},
   "source": [
    "## Predicting development variables"
   ]
  },
  {
   "cell_type": "code",
   "execution_count": 20,
   "metadata": {},
   "outputs": [],
   "source": [
    "df_hdi = pd.read_excel(\"data/metadata_country/metadata_country_3.xlsx\").drop([\"Embedding_3\",\"Embedding_4\"], axis=1)"
   ]
  },
  {
   "cell_type": "code",
   "execution_count": 22,
   "metadata": {},
   "outputs": [],
   "source": [
    "df_hdi = df_emb_3.merge(df_hdi, on=\"Node\", how=\"left\")"
   ]
  },
  {
   "cell_type": "code",
   "execution_count": 24,
   "metadata": {},
   "outputs": [],
   "source": [
    "df_GDP = pd.read_excel(\"data/metadata_country/GDP_2015.xlsx\")[[\"Country Code\", 2015]]"
   ]
  },
  {
   "cell_type": "code",
   "execution_count": 25,
   "metadata": {},
   "outputs": [],
   "source": [
    "df_GDP.columns = [\"Node\", \"GDP\"]"
   ]
  },
  {
   "cell_type": "code",
   "execution_count": 26,
   "metadata": {},
   "outputs": [],
   "source": [
    "df_GDP[\"GDP\"] = [float(x) if x != \"..\" else np.nan for x in df_GDP[\"GDP\"]]"
   ]
  },
  {
   "cell_type": "code",
   "execution_count": 27,
   "metadata": {},
   "outputs": [
    {
     "data": {
      "text/plain": [
       "Node    0\n",
       "GDP     8\n",
       "dtype: int64"
      ]
     },
     "execution_count": 27,
     "metadata": {},
     "output_type": "execute_result"
    }
   ],
   "source": [
    "df_GDP.isnull().sum()"
   ]
  },
  {
   "cell_type": "code",
   "execution_count": 28,
   "metadata": {},
   "outputs": [
    {
     "data": {
      "text/plain": [
       "Node                 0\n",
       "Embedding            0\n",
       "child_mortality    216\n",
       "eys                 35\n",
       "gnipc               35\n",
       "hdi                 36\n",
       "le                  33\n",
       "mmr                 44\n",
       "mys                 36\n",
       "dtype: int64"
      ]
     },
     "execution_count": 28,
     "metadata": {},
     "output_type": "execute_result"
    }
   ],
   "source": [
    "df_hdi.isnull().sum()"
   ]
  },
  {
   "cell_type": "code",
   "execution_count": 29,
   "metadata": {},
   "outputs": [],
   "source": [
    "df_hdi = df_hdi.merge(df_GDP, on = \"Node\")"
   ]
  },
  {
   "cell_type": "code",
   "execution_count": 31,
   "metadata": {},
   "outputs": [],
   "source": [
    "hdi_mean = df_hdi.groupby(\"Embedding\")[\"hdi\"].mean()\n",
    "index_min = hdi_mean[hdi_mean == min(hdi_mean)].index.values[0]"
   ]
  },
  {
   "cell_type": "code",
   "execution_count": 35,
   "metadata": {},
   "outputs": [],
   "source": [
    "def getHDITable(df_hdi,  hdi_list =  ['child_mortality', 'eys', 'gnipc', 'hdi', 'le', 'mmr', 'mys','GDP']):\n",
    "    hdi_mean = df_hdi.groupby(\"Embedding\")[\"hdi\"].mean()\n",
    "    index_min = hdi_mean[hdi_mean == min(hdi_mean)].index.values[0]\n",
    "\n",
    "    hdi_reg = {}\n",
    "    for hdi_stat in list(hdi_list):\n",
    "        df = df_hdi.dropna(subset=hdi_stat)\n",
    "        y = df[hdi_stat]\n",
    "        X_hdi = pd.get_dummies(df[\"Embedding\"],dtype=int, drop_first=True)\n",
    "        X_hdi = sm.add_constant(X_hdi)\n",
    "        model = sm.OLS(y,X_hdi)\n",
    "        results = model.fit()\n",
    "        hdi_reg[hdi_stat] = results\n",
    "\n",
    "    list_of_df = []\n",
    "\n",
    "    for hdi_stat, result in hdi_reg.items():\n",
    "        params = result.params\n",
    "        pvalues = result.pvalues\n",
    "        index_col = pd.MultiIndex.from_tuples([(hdi_stat,\"params\"), (hdi_stat,\"pvalues\")])\n",
    "        df = pd.DataFrame(columns=index_col)\n",
    "        df[hdi_stat,\"params\"] = params\n",
    "        df[hdi_stat,\"pvalues\"] = pvalues\n",
    "\n",
    "        list_of_df.append(df)\n",
    "    \n",
    "    return pd.concat(list_of_df, axis=1).apply(lambda x:round(x, 3))"
   ]
  },
  {
   "cell_type": "code",
   "execution_count": 36,
   "metadata": {},
   "outputs": [],
   "source": [
    "list_of_hdi = ['hdi','GDP', 'gnipc', 'eys', 'mys']"
   ]
  },
  {
   "cell_type": "code",
   "execution_count": 38,
   "metadata": {},
   "outputs": [],
   "source": [
    "hdi_stat_3 = getHDITable(df_hdi, hdi_list=list_of_hdi)"
   ]
  },
  {
   "cell_type": "code",
   "execution_count": 39,
   "metadata": {},
   "outputs": [],
   "source": [
    "# hdi_stat_4 = getHDITable(df_hdi, n_emb=\"4\")"
   ]
  },
  {
   "cell_type": "code",
   "execution_count": 40,
   "metadata": {},
   "outputs": [],
   "source": [
    "indicators = {\n",
    "\"eys\":\"Expected Years of Schooling (years)\",\n",
    "\"hdi\":\"Human Development Index (value)\",\n",
    "\"le\":\"Life Expectancy at Birth (years)\",\n",
    "\"mys\":\"Mean Years of Schooling (years)\",\n",
    "\"mmr\":\"Maternal Mortality Ratio (deaths per 100,000 live births)\",\n",
    "\"child_mortality\":\"Child mortality (%)\",\n",
    "\"gnipc\":\"Gross National Income Per Capita (2017 PPP$)\",\n",
    "\"GDP\":\"GDP\"\n",
    "}"
   ]
  },
  {
   "cell_type": "code",
   "execution_count": 41,
   "metadata": {},
   "outputs": [],
   "source": [
    "index_tubles = []\n",
    "for layer0, layer1 in hdi_stat_3.columns:\n",
    "    index_tubles.append((indicators[layer0],layer1))"
   ]
  },
  {
   "cell_type": "code",
   "execution_count": 42,
   "metadata": {},
   "outputs": [],
   "source": [
    "new_index = pd.MultiIndex.from_tuples(index_tubles)"
   ]
  },
  {
   "cell_type": "code",
   "execution_count": 43,
   "metadata": {},
   "outputs": [],
   "source": [
    "hdi_stat_3.columns = new_index"
   ]
  },
  {
   "cell_type": "code",
   "execution_count": 44,
   "metadata": {},
   "outputs": [
    {
     "data": {
      "text/html": [
       "<div>\n",
       "<style scoped>\n",
       "    .dataframe tbody tr th:only-of-type {\n",
       "        vertical-align: middle;\n",
       "    }\n",
       "\n",
       "    .dataframe tbody tr th {\n",
       "        vertical-align: top;\n",
       "    }\n",
       "\n",
       "    .dataframe thead tr th {\n",
       "        text-align: left;\n",
       "    }\n",
       "</style>\n",
       "<table border=\"1\" class=\"dataframe\">\n",
       "  <thead>\n",
       "    <tr>\n",
       "      <th></th>\n",
       "      <th colspan=\"2\" halign=\"left\">Human Development Index (value)</th>\n",
       "      <th colspan=\"2\" halign=\"left\">GDP</th>\n",
       "      <th colspan=\"2\" halign=\"left\">Gross National Income Per Capita (2017 PPP$)</th>\n",
       "      <th colspan=\"2\" halign=\"left\">Expected Years of Schooling (years)</th>\n",
       "      <th colspan=\"2\" halign=\"left\">Mean Years of Schooling (years)</th>\n",
       "    </tr>\n",
       "    <tr>\n",
       "      <th></th>\n",
       "      <th>params</th>\n",
       "      <th>pvalues</th>\n",
       "      <th>params</th>\n",
       "      <th>pvalues</th>\n",
       "      <th>params</th>\n",
       "      <th>pvalues</th>\n",
       "      <th>params</th>\n",
       "      <th>pvalues</th>\n",
       "      <th>params</th>\n",
       "      <th>pvalues</th>\n",
       "    </tr>\n",
       "  </thead>\n",
       "  <tbody>\n",
       "    <tr>\n",
       "      <th>const</th>\n",
       "      <td>0.802</td>\n",
       "      <td>0.0</td>\n",
       "      <td>8.407666e+11</td>\n",
       "      <td>0.000</td>\n",
       "      <td>30306.561</td>\n",
       "      <td>0.0</td>\n",
       "      <td>14.897</td>\n",
       "      <td>0.0</td>\n",
       "      <td>10.043</td>\n",
       "      <td>0.000</td>\n",
       "    </tr>\n",
       "    <tr>\n",
       "      <th>1</th>\n",
       "      <td>-0.121</td>\n",
       "      <td>0.0</td>\n",
       "      <td>-7.457377e+11</td>\n",
       "      <td>0.005</td>\n",
       "      <td>-18278.596</td>\n",
       "      <td>0.0</td>\n",
       "      <td>-2.144</td>\n",
       "      <td>0.0</td>\n",
       "      <td>-1.447</td>\n",
       "      <td>0.007</td>\n",
       "    </tr>\n",
       "    <tr>\n",
       "      <th>2</th>\n",
       "      <td>-0.170</td>\n",
       "      <td>0.0</td>\n",
       "      <td>-8.179836e+11</td>\n",
       "      <td>0.002</td>\n",
       "      <td>-18774.041</td>\n",
       "      <td>0.0</td>\n",
       "      <td>-3.054</td>\n",
       "      <td>0.0</td>\n",
       "      <td>-3.182</td>\n",
       "      <td>0.000</td>\n",
       "    </tr>\n",
       "  </tbody>\n",
       "</table>\n",
       "</div>"
      ],
      "text/plain": [
       "      Human Development Index (value)                   GDP          \\\n",
       "                               params pvalues        params pvalues   \n",
       "const                           0.802     0.0  8.407666e+11   0.000   \n",
       "1                              -0.121     0.0 -7.457377e+11   0.005   \n",
       "2                              -0.170     0.0 -8.179836e+11   0.002   \n",
       "\n",
       "      Gross National Income Per Capita (2017 PPP$)          \\\n",
       "                                            params pvalues   \n",
       "const                                    30306.561     0.0   \n",
       "1                                       -18278.596     0.0   \n",
       "2                                       -18774.041     0.0   \n",
       "\n",
       "      Expected Years of Schooling (years)          \\\n",
       "                                   params pvalues   \n",
       "const                              14.897     0.0   \n",
       "1                                  -2.144     0.0   \n",
       "2                                  -3.054     0.0   \n",
       "\n",
       "      Mean Years of Schooling (years)          \n",
       "                               params pvalues  \n",
       "const                          10.043   0.000  \n",
       "1                              -1.447   0.007  \n",
       "2                              -3.182   0.000  "
      ]
     },
     "execution_count": 44,
     "metadata": {},
     "output_type": "execute_result"
    }
   ],
   "source": [
    "hdi_stat_3"
   ]
  },
  {
   "cell_type": "code",
   "execution_count": 65,
   "metadata": {},
   "outputs": [],
   "source": [
    "indicators = {\n",
    "\"eys\":\"Expected Years of Schooling (years)\",\n",
    "\"hdi\":\"Human Development Index (value)\",\n",
    "\"le\":\"Life Expectancy at Birth (years)\",\n",
    "\"mys\":\"Mean Years of Schooling (years)\",\n",
    "\"mmr\":\"Maternal Mortality Ratio (deaths per 100,000 live births)\",\n",
    "\"child_mortality\":\"Child mortality (%)\",\n",
    "\"gnipc\":\"Gross National Income Per Capita (2017 PPP$)\"\n",
    "}"
   ]
  },
  {
   "cell_type": "code",
   "execution_count": 93,
   "metadata": {},
   "outputs": [],
   "source": [
    "df_hdi_mean = df_hdi.groupby(\"Embedding_3\")[list_of_hdi].mean().apply(lambda x: round(x,4))"
   ]
  },
  {
   "cell_type": "code",
   "execution_count": 94,
   "metadata": {},
   "outputs": [],
   "source": [
    "col_hdi = [indicators[col_] for col_ in  df_hdi_mean.columns]"
   ]
  },
  {
   "cell_type": "code",
   "execution_count": 95,
   "metadata": {},
   "outputs": [],
   "source": [
    "df_hdi_mean.columns = col_hdi"
   ]
  },
  {
   "cell_type": "code",
   "execution_count": 111,
   "metadata": {},
   "outputs": [],
   "source": [
    "table = df_hdi_mean.to_latex()"
   ]
  },
  {
   "cell_type": "code",
   "execution_count": 113,
   "metadata": {},
   "outputs": [
    {
     "name": "stdout",
     "output_type": "stream",
     "text": [
      "\\begin{tabular}{|lrrrrr|}\n",
      "\\hline\n",
      " & Human Development Index (value) & GDP & Gross National Income Per Capita (2017 PPP$) & Expected Years of Schooling (years) & Mean Years of Schooling (years) \\\\\n",
      "Embedding_3 &  &  &  &  &  \\\\\n",
      "\\hline\n",
      "0 & 0.821700 & 948772100252.480347 & 30861.525600 & 15.232000 & 10.749400 \\\\\n",
      "1 & 0.672800 & 13796300182.583300 & 13264.792100 & 12.754400 & 8.030700 \\\\\n",
      "2 & 0.640400 & 91001244784.275803 & 12346.194600 & 11.959200 & 7.048700 \\\\\n",
      "\\hline\n",
      "\\end{tabular}\n",
      "\n"
     ]
    }
   ],
   "source": [
    "print(table.replace('\\\\begin{tabular}{', '\\\\begin{tabular}{|').replace('}\\n\\\\toprule', '|}\\n\\\\hline').replace('\\\\midrule', '\\\\hline').replace('\\\\bottomrule', '\\\\hline'))"
   ]
  },
  {
   "cell_type": "code",
   "execution_count": 106,
   "metadata": {},
   "outputs": [],
   "source": [
    "s = df_hdi_mean.style"
   ]
  },
  {
   "cell_type": "code",
   "execution_count": null,
   "metadata": {},
   "outputs": [],
   "source": []
  },
  {
   "cell_type": "code",
   "execution_count": 110,
   "metadata": {},
   "outputs": [
    {
     "name": "stdout",
     "output_type": "stream",
     "text": [
      "\\begin{tabular}{lrrrrr}\n",
      "\\toprule\n",
      " & Human Development Index (value) & GDP & Gross National Income Per Capita (2017 PPP$) & Expected Years of Schooling (years) & Mean Years of Schooling (years) \\\\\n",
      "Embedding_3 &  &  &  &  &  \\\\\n",
      "\\midrule\n",
      "0 & 0.821700 & 948772100252.480347 & 30861.525600 & 15.232000 & 10.749400 \\\\\n",
      "1 & 0.672800 & 13796300182.583300 & 13264.792100 & 12.754400 & 8.030700 \\\\\n",
      "2 & 0.640400 & 91001244784.275803 & 12346.194600 & 11.959200 & 7.048700 \\\\\n",
      "\\bottomrule\n",
      "\\end{tabular}\n",
      "\n"
     ]
    }
   ],
   "source": [
    "print(s.to_latex(hrules=True))"
   ]
  },
  {
   "cell_type": "markdown",
   "metadata": {},
   "source": [
    "## Predicting fertility and mortality"
   ]
  },
  {
   "cell_type": "code",
   "execution_count": 31,
   "metadata": {},
   "outputs": [
    {
     "data": {
      "text/html": [
       "<div>\n",
       "<style scoped>\n",
       "    .dataframe tbody tr th:only-of-type {\n",
       "        vertical-align: middle;\n",
       "    }\n",
       "\n",
       "    .dataframe tbody tr th {\n",
       "        vertical-align: top;\n",
       "    }\n",
       "\n",
       "    .dataframe thead th {\n",
       "        text-align: right;\n",
       "    }\n",
       "</style>\n",
       "<table border=\"1\" class=\"dataframe\">\n",
       "  <thead>\n",
       "    <tr style=\"text-align: right;\">\n",
       "      <th></th>\n",
       "      <th>Node</th>\n",
       "      <th>Embedding</th>\n",
       "    </tr>\n",
       "  </thead>\n",
       "  <tbody>\n",
       "    <tr>\n",
       "      <th>0</th>\n",
       "      <td>AFG</td>\n",
       "      <td>0</td>\n",
       "    </tr>\n",
       "    <tr>\n",
       "      <th>1</th>\n",
       "      <td>AUS</td>\n",
       "      <td>0</td>\n",
       "    </tr>\n",
       "  </tbody>\n",
       "</table>\n",
       "</div>"
      ],
      "text/plain": [
       "  Node  Embedding\n",
       "0  AFG          0\n",
       "1  AUS          0"
      ]
     },
     "execution_count": 31,
     "metadata": {},
     "output_type": "execute_result"
    }
   ],
   "source": [
    "df_emb_3.head(2)"
   ]
  },
  {
   "cell_type": "code",
   "execution_count": 45,
   "metadata": {},
   "outputs": [],
   "source": [
    "df_fert = pd.read_excel(\"data/metadata_country/MortalityFertilityData.xlsx\")"
   ]
  },
  {
   "cell_type": "code",
   "execution_count": 46,
   "metadata": {},
   "outputs": [],
   "source": [
    "df_fert_emb = df_emb_3.merge(df_fert, left_on=\"Node\", right_on=\"Country Code\", how=\"left\")"
   ]
  },
  {
   "cell_type": "code",
   "execution_count": 47,
   "metadata": {},
   "outputs": [],
   "source": [
    "df_fert_emb = df_fert_emb.drop(\"Country Code\", axis=1).set_index(\"Node\", drop=True)"
   ]
  },
  {
   "cell_type": "code",
   "execution_count": 48,
   "metadata": {},
   "outputs": [],
   "source": [
    "target_list = list(df_fert_emb.columns)[1:]"
   ]
  },
  {
   "cell_type": "code",
   "execution_count": 49,
   "metadata": {},
   "outputs": [
    {
     "data": {
      "text/plain": [
       "['Fertility rate, total (births per woman)',\n",
       " 'Mortality rate, adult, female (per 1,000 female adults)',\n",
       " 'Mortality rate, adult, male (per 1,000 male adults)',\n",
       " 'Mortality rate, infant (per 1,000 live births)']"
      ]
     },
     "execution_count": 49,
     "metadata": {},
     "output_type": "execute_result"
    }
   ],
   "source": [
    "target_list"
   ]
  },
  {
   "cell_type": "code",
   "execution_count": 52,
   "metadata": {},
   "outputs": [],
   "source": [
    "def getHDITable(df_hdi,  hdi_list =  ['child_mortality', 'eys', 'gnipc', 'hdi', 'le', 'mmr', 'mys','GDP']):\n",
    "    # for column in df_hdi.columns:\n",
    "    #     if \"Embedding\" in column:\n",
    "    #         if column[-1] != str(n_emb):\n",
    "    #             df_hdi.drop(column, axis=1)\n",
    "\n",
    "    # hdi_mean = df_hdi.groupby(\"Embedding_\" + n_emb)[\"hdi\"].mean()\n",
    "    # index_min = hdi_mean[hdi_mean == min(hdi_mean)].index.values[0]\n",
    "    hdi_reg = {}\n",
    "    for hdi_stat in list(hdi_list):\n",
    "        df = df_hdi.dropna(subset=hdi_stat)\n",
    "        y = df[hdi_stat]\n",
    "        X_hdi = pd.get_dummies(df[\"Embedding\"],dtype=int, drop_first=True)\n",
    "        X_hdi = sm.add_constant(X_hdi)\n",
    "        model = sm.OLS(y,X_hdi)\n",
    "        results = model.fit()\n",
    "        hdi_reg[hdi_stat] = results\n",
    "\n",
    "    list_of_df = []\n",
    "\n",
    "    for hdi_stat, result in hdi_reg.items():\n",
    "        params = result.params\n",
    "        pvalues = result.pvalues\n",
    "        index_col = pd.MultiIndex.from_tuples([(hdi_stat,\"params\"), (hdi_stat,\"pvalues\")])\n",
    "        df = pd.DataFrame(columns=index_col)\n",
    "        df[hdi_stat,\"params\"] = params\n",
    "        df[hdi_stat,\"pvalues\"] = pvalues\n",
    "\n",
    "        list_of_df.append(df)\n",
    "    \n",
    "    return pd.concat(list_of_df, axis=1).apply(lambda x:round(x, 3))"
   ]
  },
  {
   "cell_type": "code",
   "execution_count": 53,
   "metadata": {},
   "outputs": [
    {
     "data": {
      "text/html": [
       "<div>\n",
       "<style scoped>\n",
       "    .dataframe tbody tr th:only-of-type {\n",
       "        vertical-align: middle;\n",
       "    }\n",
       "\n",
       "    .dataframe tbody tr th {\n",
       "        vertical-align: top;\n",
       "    }\n",
       "\n",
       "    .dataframe thead tr th {\n",
       "        text-align: left;\n",
       "    }\n",
       "</style>\n",
       "<table border=\"1\" class=\"dataframe\">\n",
       "  <thead>\n",
       "    <tr>\n",
       "      <th></th>\n",
       "      <th colspan=\"2\" halign=\"left\">Fertility rate, total (births per woman)</th>\n",
       "      <th colspan=\"2\" halign=\"left\">Mortality rate, adult, female (per 1,000 female adults)</th>\n",
       "      <th colspan=\"2\" halign=\"left\">Mortality rate, adult, male (per 1,000 male adults)</th>\n",
       "      <th colspan=\"2\" halign=\"left\">Mortality rate, infant (per 1,000 live births)</th>\n",
       "    </tr>\n",
       "    <tr>\n",
       "      <th></th>\n",
       "      <th>params</th>\n",
       "      <th>pvalues</th>\n",
       "      <th>params</th>\n",
       "      <th>pvalues</th>\n",
       "      <th>params</th>\n",
       "      <th>pvalues</th>\n",
       "      <th>params</th>\n",
       "      <th>pvalues</th>\n",
       "    </tr>\n",
       "  </thead>\n",
       "  <tbody>\n",
       "    <tr>\n",
       "      <th>const</th>\n",
       "      <td>2.234</td>\n",
       "      <td>0.000</td>\n",
       "      <td>93.274</td>\n",
       "      <td>0.000</td>\n",
       "      <td>154.517</td>\n",
       "      <td>0.0</td>\n",
       "      <td>14.183</td>\n",
       "      <td>0.000</td>\n",
       "    </tr>\n",
       "    <tr>\n",
       "      <th>1</th>\n",
       "      <td>0.558</td>\n",
       "      <td>0.013</td>\n",
       "      <td>44.458</td>\n",
       "      <td>0.003</td>\n",
       "      <td>61.455</td>\n",
       "      <td>0.0</td>\n",
       "      <td>10.876</td>\n",
       "      <td>0.002</td>\n",
       "    </tr>\n",
       "    <tr>\n",
       "      <th>2</th>\n",
       "      <td>1.024</td>\n",
       "      <td>0.000</td>\n",
       "      <td>65.275</td>\n",
       "      <td>0.000</td>\n",
       "      <td>80.767</td>\n",
       "      <td>0.0</td>\n",
       "      <td>17.378</td>\n",
       "      <td>0.000</td>\n",
       "    </tr>\n",
       "  </tbody>\n",
       "</table>\n",
       "</div>"
      ],
      "text/plain": [
       "      Fertility rate, total (births per woman)          \\\n",
       "                                        params pvalues   \n",
       "const                                    2.234   0.000   \n",
       "1                                        0.558   0.013   \n",
       "2                                        1.024   0.000   \n",
       "\n",
       "      Mortality rate, adult, female (per 1,000 female adults)          \\\n",
       "                                                       params pvalues   \n",
       "const                                             93.274        0.000   \n",
       "1                                                 44.458        0.003   \n",
       "2                                                 65.275        0.000   \n",
       "\n",
       "      Mortality rate, adult, male (per 1,000 male adults)          \\\n",
       "                                                   params pvalues   \n",
       "const                                            154.517      0.0   \n",
       "1                                                 61.455      0.0   \n",
       "2                                                 80.767      0.0   \n",
       "\n",
       "      Mortality rate, infant (per 1,000 live births)          \n",
       "                                              params pvalues  \n",
       "const                                         14.183   0.000  \n",
       "1                                             10.876   0.002  \n",
       "2                                             17.378   0.000  "
      ]
     },
     "execution_count": 53,
     "metadata": {},
     "output_type": "execute_result"
    }
   ],
   "source": [
    "getHDITable(df_fert_emb, hdi_list = target_list)"
   ]
  },
  {
   "cell_type": "code",
   "execution_count": 54,
   "metadata": {},
   "outputs": [
    {
     "data": {
      "text/html": [
       "<div>\n",
       "<style scoped>\n",
       "    .dataframe tbody tr th:only-of-type {\n",
       "        vertical-align: middle;\n",
       "    }\n",
       "\n",
       "    .dataframe tbody tr th {\n",
       "        vertical-align: top;\n",
       "    }\n",
       "\n",
       "    .dataframe thead th {\n",
       "        text-align: right;\n",
       "    }\n",
       "</style>\n",
       "<table border=\"1\" class=\"dataframe\">\n",
       "  <thead>\n",
       "    <tr style=\"text-align: right;\">\n",
       "      <th></th>\n",
       "      <th>Fertility rate, total (births per woman)</th>\n",
       "      <th>Mortality rate, adult, female (per 1,000 female adults)</th>\n",
       "      <th>Mortality rate, adult, male (per 1,000 male adults)</th>\n",
       "      <th>Mortality rate, infant (per 1,000 live births)</th>\n",
       "    </tr>\n",
       "    <tr>\n",
       "      <th>Embedding</th>\n",
       "      <th></th>\n",
       "      <th></th>\n",
       "      <th></th>\n",
       "      <th></th>\n",
       "    </tr>\n",
       "  </thead>\n",
       "  <tbody>\n",
       "    <tr>\n",
       "      <th>0</th>\n",
       "      <td>2.233867</td>\n",
       "      <td>93.274089</td>\n",
       "      <td>154.516544</td>\n",
       "      <td>14.183117</td>\n",
       "    </tr>\n",
       "    <tr>\n",
       "      <th>1</th>\n",
       "      <td>2.791966</td>\n",
       "      <td>137.732089</td>\n",
       "      <td>215.971661</td>\n",
       "      <td>25.059615</td>\n",
       "    </tr>\n",
       "    <tr>\n",
       "      <th>2</th>\n",
       "      <td>3.257375</td>\n",
       "      <td>158.549000</td>\n",
       "      <td>235.283866</td>\n",
       "      <td>31.560938</td>\n",
       "    </tr>\n",
       "  </tbody>\n",
       "</table>\n",
       "</div>"
      ],
      "text/plain": [
       "           Fertility rate, total (births per woman)  \\\n",
       "Embedding                                             \n",
       "0                                          2.233867   \n",
       "1                                          2.791966   \n",
       "2                                          3.257375   \n",
       "\n",
       "           Mortality rate, adult, female (per 1,000 female adults)  \\\n",
       "Embedding                                                            \n",
       "0                                                  93.274089         \n",
       "1                                                 137.732089         \n",
       "2                                                 158.549000         \n",
       "\n",
       "           Mortality rate, adult, male (per 1,000 male adults)  \\\n",
       "Embedding                                                        \n",
       "0                                                 154.516544     \n",
       "1                                                 215.971661     \n",
       "2                                                 235.283866     \n",
       "\n",
       "           Mortality rate, infant (per 1,000 live births)  \n",
       "Embedding                                                  \n",
       "0                                               14.183117  \n",
       "1                                               25.059615  \n",
       "2                                               31.560938  "
      ]
     },
     "execution_count": 54,
     "metadata": {},
     "output_type": "execute_result"
    }
   ],
   "source": [
    "df_fert_emb.groupby(\"Embedding\").mean()"
   ]
  },
  {
   "cell_type": "markdown",
   "metadata": {},
   "source": [
    "### For reference"
   ]
  },
  {
   "cell_type": "code",
   "execution_count": null,
   "metadata": {},
   "outputs": [],
   "source": []
  },
  {
   "cell_type": "code",
   "execution_count": 40,
   "metadata": {},
   "outputs": [
    {
     "name": "stdout",
     "output_type": "stream",
     "text": [
      "                            OLS Regression Results                            \n",
      "==============================================================================\n",
      "Dep. Variable:                 income   R-squared:                       0.525\n",
      "Model:                            OLS   Adj. R-squared:                  0.514\n",
      "Method:                 Least Squares   F-statistic:                     47.51\n",
      "Date:                Mon, 25 Nov 2024   Prob (F-statistic):           1.84e-08\n",
      "Time:                        13:49:42   Log-Likelihood:                -190.42\n",
      "No. Observations:                  45   AIC:                             384.8\n",
      "Df Residuals:                      43   BIC:                             388.5\n",
      "Df Model:                           1                                         \n",
      "Covariance Type:            nonrobust                                         \n",
      "==============================================================================\n",
      "                 coef    std err          t      P>|t|      [0.025      0.975]\n",
      "------------------------------------------------------------------------------\n",
      "const         10.6035      5.198      2.040      0.048       0.120      21.087\n",
      "education      0.5949      0.086      6.893      0.000       0.421       0.769\n",
      "==============================================================================\n",
      "Omnibus:                        9.841   Durbin-Watson:                   1.736\n",
      "Prob(Omnibus):                  0.007   Jarque-Bera (JB):               10.609\n",
      "Skew:                           0.776   Prob(JB):                      0.00497\n",
      "Kurtosis:                       4.802   Cond. No.                         123.\n",
      "==============================================================================\n",
      "\n",
      "Notes:\n",
      "[1] Standard Errors assume that the covariance matrix of the errors is correctly specified.\n"
     ]
    }
   ],
   "source": [
    "duncan_prestige = sm.datasets.get_rdataset(\"Duncan\", \"carData\")\n",
    "Y = duncan_prestige.data['income']\n",
    "X = duncan_prestige.data['education']\n",
    "X = sm.add_constant(X)\n",
    "model = sm.OLS(Y,X)\n",
    "results = model.fit()\n",
    "print(results.summary())"
   ]
  }
 ],
 "metadata": {
  "kernelspec": {
   "display_name": "Python 3",
   "language": "python",
   "name": "python3"
  },
  "language_info": {
   "codemirror_mode": {
    "name": "ipython",
    "version": 3
   },
   "file_extension": ".py",
   "mimetype": "text/x-python",
   "name": "python",
   "nbconvert_exporter": "python",
   "pygments_lexer": "ipython3",
   "version": "3.13.0"
  }
 },
 "nbformat": 4,
 "nbformat_minor": 2
}

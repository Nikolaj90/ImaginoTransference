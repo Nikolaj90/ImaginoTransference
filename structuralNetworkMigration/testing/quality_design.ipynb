{
 "cells": [
  {
   "cell_type": "markdown",
   "metadata": {},
   "source": [
    "# Quality testing design\n",
    "I will test the quality of an embedding both in terms of the structural properties of the nodes and in terms of the development variables."
   ]
  },
  {
   "cell_type": "code",
   "execution_count": 1,
   "metadata": {},
   "outputs": [],
   "source": [
    "import os\n",
    "os.chdir(\"../..\") # Change to parent directory\n",
    "from struc2vec.src.Helpers import *\n",
    "os.chdir(\"structuralNetworkMigration\")"
   ]
  },
  {
   "cell_type": "code",
   "execution_count": 2,
   "metadata": {},
   "outputs": [],
   "source": [
    "import statsmodels.api as sm\n",
    "import numpy as np\n",
    "import requests\n",
    "import json\n",
    "import pandas as pd\n",
    "import matplotlib.pyplot as plt\n",
    "import seaborn as sns\n",
    "from sklearn.decomposition import PCA, FactorAnalysis\n",
    "import re\n"
   ]
  },
  {
   "cell_type": "code",
   "execution_count": 3,
   "metadata": {},
   "outputs": [],
   "source": [
    "df_emb_4 = pd.read_excel(\"data/embeddings/all_nw500_1000_wl80_vs75_pca4.xlsx\")[[\"Node\",\"Embedding\"]]\n",
    "df_emb_3 = pd.read_excel(\"data/embeddings/all_nw500_1000_wl80_vs75_pca3.xlsx\")[[\"Node\",\"Embedding\"]]"
   ]
  },
  {
   "cell_type": "code",
   "execution_count": 4,
   "metadata": {},
   "outputs": [],
   "source": [
    "G = nx.read_gexf(\"data/Graphs/0_directed.gexf\")"
   ]
  },
  {
   "cell_type": "markdown",
   "metadata": {},
   "source": [
    "## Predicting structural properties\n",
    "To test the quality of the classification, I make a linear regression for dummy variables of the classifications as predictions of each structural property. This will give an estimate of the variance within each classification."
   ]
  },
  {
   "cell_type": "code",
   "execution_count": 5,
   "metadata": {},
   "outputs": [],
   "source": [
    "df_meta_4, df_agg_4 = get_meta_data(G, df_emb_4[\"Node\"].values, df_emb_4[\"Embedding\"].values)\n",
    "df_meta_3, df_agg_3 = get_meta_data(G, df_emb_3[\"Node\"].values, df_emb_3[\"Embedding\"].values)"
   ]
  },
  {
   "cell_type": "code",
   "execution_count": 41,
   "metadata": {},
   "outputs": [],
   "source": [
    "X_4 = pd.get_dummies(df_meta_4[\"Embedding\"], dtype=int, drop_first=True)\n",
    "X_3 = pd.get_dummies(df_meta_3[\"Embedding\"],  dtype=int, drop_first=True)"
   ]
  },
  {
   "cell_type": "code",
   "execution_count": 42,
   "metadata": {},
   "outputs": [],
   "source": [
    "struc_reg_4 = {}\n",
    "for struc_prop in list(df_meta_4.columns[2:]):\n",
    "    y = df_meta_4[struc_prop]\n",
    "    X_4 = sm.add_constant(X_4)\n",
    "    model = sm.OLS(y,X_4)\n",
    "    results = model.fit()\n",
    "    struc_reg_4[struc_prop] = results"
   ]
  },
  {
   "cell_type": "code",
   "execution_count": 43,
   "metadata": {},
   "outputs": [],
   "source": [
    "struc_reg_3 = {}\n",
    "for struc_prop in list(df_meta_3.columns[2:]):\n",
    "    y = df_meta_3[struc_prop]\n",
    "    X_3 = sm.add_constant(X_3)\n",
    "    model = sm.OLS(y,X_3)\n",
    "    results = model.fit()\n",
    "    struc_reg_3[struc_prop] = results"
   ]
  },
  {
   "cell_type": "code",
   "execution_count": 44,
   "metadata": {},
   "outputs": [],
   "source": [
    "list_of_df_4 = []\n",
    "\n",
    "for struc_prop, result in struc_reg_4.items():\n",
    "    params = result.params\n",
    "    pvalues = result.pvalues\n",
    "    index_col = pd.MultiIndex.from_tuples([(struc_prop,\"params\"), (struc_prop,\"pvalues\")])\n",
    "    df = pd.DataFrame(columns=index_col)\n",
    "    df[struc_prop,\"params\"] = params\n",
    "    df[struc_prop,\"pvalues\"] = pvalues\n",
    "\n",
    "    list_of_df_4.append(df)\n",
    "\n"
   ]
  },
  {
   "cell_type": "code",
   "execution_count": 45,
   "metadata": {},
   "outputs": [],
   "source": [
    "list_of_df_3 = []\n",
    "\n",
    "for struc_prop, result in struc_reg_3.items():\n",
    "    params = result.params\n",
    "    pvalues = result.pvalues\n",
    "    index_col = pd.MultiIndex.from_tuples([(struc_prop,\"params\"), (struc_prop,\"pvalues\")])\n",
    "    df = pd.DataFrame(columns=index_col)\n",
    "    df[struc_prop,\"params\"] = params\n",
    "    df[struc_prop,\"pvalues\"] = pvalues\n",
    "\n",
    "    list_of_df_3.append(df)"
   ]
  },
  {
   "cell_type": "code",
   "execution_count": 46,
   "metadata": {},
   "outputs": [
    {
     "data": {
      "text/html": [
       "<div>\n",
       "<style scoped>\n",
       "    .dataframe tbody tr th:only-of-type {\n",
       "        vertical-align: middle;\n",
       "    }\n",
       "\n",
       "    .dataframe tbody tr th {\n",
       "        vertical-align: top;\n",
       "    }\n",
       "\n",
       "    .dataframe thead tr th {\n",
       "        text-align: left;\n",
       "    }\n",
       "</style>\n",
       "<table border=\"1\" class=\"dataframe\">\n",
       "  <thead>\n",
       "    <tr>\n",
       "      <th></th>\n",
       "      <th colspan=\"2\" halign=\"left\">Clustering</th>\n",
       "      <th colspan=\"2\" halign=\"left\">Betweenness_centrality</th>\n",
       "      <th colspan=\"2\" halign=\"left\">Closeness_centrality</th>\n",
       "      <th colspan=\"2\" halign=\"left\">InDegree</th>\n",
       "      <th colspan=\"2\" halign=\"left\">OutDegree</th>\n",
       "      <th colspan=\"2\" halign=\"left\">Average_weight</th>\n",
       "    </tr>\n",
       "    <tr>\n",
       "      <th></th>\n",
       "      <th>params</th>\n",
       "      <th>pvalues</th>\n",
       "      <th>params</th>\n",
       "      <th>pvalues</th>\n",
       "      <th>params</th>\n",
       "      <th>pvalues</th>\n",
       "      <th>params</th>\n",
       "      <th>pvalues</th>\n",
       "      <th>params</th>\n",
       "      <th>pvalues</th>\n",
       "      <th>params</th>\n",
       "      <th>pvalues</th>\n",
       "    </tr>\n",
       "  </thead>\n",
       "  <tbody>\n",
       "    <tr>\n",
       "      <th>const</th>\n",
       "      <td>0.689</td>\n",
       "      <td>0.000</td>\n",
       "      <td>0.001</td>\n",
       "      <td>0.514</td>\n",
       "      <td>0.321</td>\n",
       "      <td>0.0</td>\n",
       "      <td>15.227</td>\n",
       "      <td>0.004</td>\n",
       "      <td>36.561</td>\n",
       "      <td>0.000</td>\n",
       "      <td>3.124</td>\n",
       "      <td>0.583</td>\n",
       "    </tr>\n",
       "    <tr>\n",
       "      <th>1</th>\n",
       "      <td>-0.105</td>\n",
       "      <td>0.000</td>\n",
       "      <td>0.001</td>\n",
       "      <td>0.779</td>\n",
       "      <td>0.156</td>\n",
       "      <td>0.0</td>\n",
       "      <td>7.429</td>\n",
       "      <td>0.320</td>\n",
       "      <td>-15.038</td>\n",
       "      <td>0.000</td>\n",
       "      <td>21.310</td>\n",
       "      <td>0.008</td>\n",
       "    </tr>\n",
       "    <tr>\n",
       "      <th>2</th>\n",
       "      <td>-0.136</td>\n",
       "      <td>0.000</td>\n",
       "      <td>0.011</td>\n",
       "      <td>0.000</td>\n",
       "      <td>0.205</td>\n",
       "      <td>0.0</td>\n",
       "      <td>71.913</td>\n",
       "      <td>0.000</td>\n",
       "      <td>12.799</td>\n",
       "      <td>0.001</td>\n",
       "      <td>17.110</td>\n",
       "      <td>0.049</td>\n",
       "    </tr>\n",
       "    <tr>\n",
       "      <th>3</th>\n",
       "      <td>-0.080</td>\n",
       "      <td>0.009</td>\n",
       "      <td>0.001</td>\n",
       "      <td>0.495</td>\n",
       "      <td>0.189</td>\n",
       "      <td>0.0</td>\n",
       "      <td>17.726</td>\n",
       "      <td>0.036</td>\n",
       "      <td>9.346</td>\n",
       "      <td>0.023</td>\n",
       "      <td>-1.997</td>\n",
       "      <td>0.825</td>\n",
       "    </tr>\n",
       "  </tbody>\n",
       "</table>\n",
       "</div>"
      ],
      "text/plain": [
       "      Clustering         Betweenness_centrality         Closeness_centrality  \\\n",
       "          params pvalues                 params pvalues               params   \n",
       "const      0.689   0.000                  0.001   0.514                0.321   \n",
       "1         -0.105   0.000                  0.001   0.779                0.156   \n",
       "2         -0.136   0.000                  0.011   0.000                0.205   \n",
       "3         -0.080   0.009                  0.001   0.495                0.189   \n",
       "\n",
       "              InDegree         OutDegree         Average_weight          \n",
       "      pvalues   params pvalues    params pvalues         params pvalues  \n",
       "const     0.0   15.227   0.004    36.561   0.000          3.124   0.583  \n",
       "1         0.0    7.429   0.320   -15.038   0.000         21.310   0.008  \n",
       "2         0.0   71.913   0.000    12.799   0.001         17.110   0.049  \n",
       "3         0.0   17.726   0.036     9.346   0.023         -1.997   0.825  "
      ]
     },
     "execution_count": 46,
     "metadata": {},
     "output_type": "execute_result"
    }
   ],
   "source": [
    "pd.concat(list_of_df_4, axis=1).apply(lambda x:round(x, 3))"
   ]
  },
  {
   "cell_type": "code",
   "execution_count": 47,
   "metadata": {},
   "outputs": [],
   "source": [
    "# pd.concat(list_of_df_3, axis=1).apply(lambda x:round(x, 3)).to_excel(\"testing/structural_indicators.xlsx\")"
   ]
  },
  {
   "cell_type": "markdown",
   "metadata": {},
   "source": [
    "## Predicting development variables"
   ]
  },
  {
   "cell_type": "code",
   "execution_count": 48,
   "metadata": {},
   "outputs": [],
   "source": [
    "df_hdi = pd.read_excel(\"data/metadata_country/metadata_country_3.xlsx\")"
   ]
  },
  {
   "cell_type": "code",
   "execution_count": 49,
   "metadata": {},
   "outputs": [],
   "source": [
    "df_GDP = pd.read_excel(\"data/metadata_country/GDP_2015.xlsx\")[[\"Country Code\", 2015]]"
   ]
  },
  {
   "cell_type": "code",
   "execution_count": 50,
   "metadata": {},
   "outputs": [],
   "source": [
    "df_GDP.columns = [\"Node\", \"GDP\"]"
   ]
  },
  {
   "cell_type": "code",
   "execution_count": 51,
   "metadata": {},
   "outputs": [],
   "source": [
    "df_GDP[\"GDP\"] = [float(x) if x != \"..\" else np.nan for x in df_GDP[\"GDP\"]]"
   ]
  },
  {
   "cell_type": "code",
   "execution_count": 52,
   "metadata": {},
   "outputs": [
    {
     "data": {
      "text/plain": [
       "Node    0\n",
       "GDP     8\n",
       "dtype: int64"
      ]
     },
     "execution_count": 52,
     "metadata": {},
     "output_type": "execute_result"
    }
   ],
   "source": [
    "df_GDP.isnull().sum()"
   ]
  },
  {
   "cell_type": "code",
   "execution_count": 53,
   "metadata": {},
   "outputs": [
    {
     "data": {
      "text/plain": [
       "Node                 0\n",
       "Embedding_3          0\n",
       "child_mortality    216\n",
       "eys                 35\n",
       "gnipc               35\n",
       "hdi                 36\n",
       "le                  33\n",
       "mmr                 44\n",
       "mys                 36\n",
       "Embedding_4          0\n",
       "dtype: int64"
      ]
     },
     "execution_count": 53,
     "metadata": {},
     "output_type": "execute_result"
    }
   ],
   "source": [
    "df_hdi.isnull().sum()"
   ]
  },
  {
   "cell_type": "code",
   "execution_count": 54,
   "metadata": {},
   "outputs": [],
   "source": [
    "df_hdi = df_hdi.merge(df_GDP, on = \"Node\")"
   ]
  },
  {
   "cell_type": "code",
   "execution_count": 55,
   "metadata": {},
   "outputs": [],
   "source": [
    "hdi_mean = df_hdi.groupby(\"Embedding_3\")[\"hdi\"].mean()\n",
    "index_min = hdi_mean[hdi_mean == min(hdi_mean)].index.values[0]"
   ]
  },
  {
   "cell_type": "code",
   "execution_count": 56,
   "metadata": {},
   "outputs": [
    {
     "name": "stdout",
     "output_type": "stream",
     "text": [
      "True\n",
      "False\n"
     ]
    }
   ],
   "source": [
    "for column in df_hdi.columns:\n",
    "    if \"Embedding\" in column:\n",
    "        print(column[-1] == \"3\")"
   ]
  },
  {
   "cell_type": "code",
   "execution_count": 123,
   "metadata": {},
   "outputs": [],
   "source": [
    "def getHDITable(df_hdi,  hdi_list =  ['child_mortality', 'eys', 'gnipc', 'hdi', 'le', 'mmr', 'mys','GDP'] ,n_emb=\"3\"):\n",
    "    for column in df_hdi.columns:\n",
    "        if \"Embedding\" in column:\n",
    "            if column[-1] != str(n_emb):\n",
    "                df_hdi.drop(column, axis=1)\n",
    "\n",
    "    hdi_mean = df_hdi.groupby(\"Embedding_\" + n_emb)[\"hdi\"].mean()\n",
    "    index_min = hdi_mean[hdi_mean == min(hdi_mean)].index.values[0]\n",
    "\n",
    "    hdi_reg = {}\n",
    "    for hdi_stat in list(hdi_list):\n",
    "        df = df_hdi.dropna(subset=hdi_stat)\n",
    "        y = df[hdi_stat]\n",
    "        X_hdi = pd.get_dummies(df[\"Embedding_\" + n_emb],dtype=int, drop_first=True)\n",
    "        X_hdi = sm.add_constant(X_hdi)\n",
    "        model = sm.OLS(y,X_hdi)\n",
    "        results = model.fit()\n",
    "        hdi_reg[hdi_stat] = results\n",
    "\n",
    "    list_of_df = []\n",
    "\n",
    "    for hdi_stat, result in hdi_reg.items():\n",
    "        params = result.params\n",
    "        pvalues = result.pvalues\n",
    "        index_col = pd.MultiIndex.from_tuples([(hdi_stat,\"params\"), (hdi_stat,\"pvalues\")])\n",
    "        df = pd.DataFrame(columns=index_col)\n",
    "        df[hdi_stat,\"params\"] = params\n",
    "        df[hdi_stat,\"pvalues\"] = pvalues\n",
    "\n",
    "        list_of_df.append(df)\n",
    "    \n",
    "    return pd.concat(list_of_df, axis=1).apply(lambda x:round(x, 3))"
   ]
  },
  {
   "cell_type": "code",
   "execution_count": 124,
   "metadata": {},
   "outputs": [],
   "source": [
    "list_of_hdi = ['hdi','GDP', 'gnipc', 'eys', 'mys']"
   ]
  },
  {
   "cell_type": "code",
   "execution_count": 125,
   "metadata": {},
   "outputs": [],
   "source": [
    "hdi_stat_3 = getHDITable(df_hdi, hdi_list=list_of_hdi, n_emb=\"3\")"
   ]
  },
  {
   "cell_type": "code",
   "execution_count": 126,
   "metadata": {},
   "outputs": [],
   "source": [
    "# hdi_stat_4 = getHDITable(df_hdi, n_emb=\"4\")"
   ]
  },
  {
   "cell_type": "code",
   "execution_count": 127,
   "metadata": {},
   "outputs": [],
   "source": [
    "indicators = {\n",
    "\"eys\":\"Expected Years of Schooling (years)\",\n",
    "\"hdi\":\"Human Development Index (value)\",\n",
    "\"le\":\"Life Expectancy at Birth (years)\",\n",
    "\"mys\":\"Mean Years of Schooling (years)\",\n",
    "\"mmr\":\"Maternal Mortality Ratio (deaths per 100,000 live births)\",\n",
    "\"child_mortality\":\"Child mortality (%)\",\n",
    "\"gnipc\":\"Gross National Income Per Capita (2017 PPP$)\",\n",
    "\"GDP\":\"GDP\"\n",
    "}"
   ]
  },
  {
   "cell_type": "code",
   "execution_count": 128,
   "metadata": {},
   "outputs": [],
   "source": [
    "index_tubles = []\n",
    "for layer0, layer1 in hdi_stat_3.columns:\n",
    "    index_tubles.append((indicators[layer0],layer1))"
   ]
  },
  {
   "cell_type": "code",
   "execution_count": 129,
   "metadata": {},
   "outputs": [],
   "source": [
    "new_index = pd.MultiIndex.from_tuples(index_tubles)"
   ]
  },
  {
   "cell_type": "code",
   "execution_count": 130,
   "metadata": {},
   "outputs": [],
   "source": [
    "hdi_stat_3.columns = new_index"
   ]
  },
  {
   "cell_type": "code",
   "execution_count": 131,
   "metadata": {},
   "outputs": [
    {
     "data": {
      "text/html": [
       "<div>\n",
       "<style scoped>\n",
       "    .dataframe tbody tr th:only-of-type {\n",
       "        vertical-align: middle;\n",
       "    }\n",
       "\n",
       "    .dataframe tbody tr th {\n",
       "        vertical-align: top;\n",
       "    }\n",
       "\n",
       "    .dataframe thead tr th {\n",
       "        text-align: left;\n",
       "    }\n",
       "</style>\n",
       "<table border=\"1\" class=\"dataframe\">\n",
       "  <thead>\n",
       "    <tr>\n",
       "      <th></th>\n",
       "      <th colspan=\"2\" halign=\"left\">Human Development Index (value)</th>\n",
       "      <th colspan=\"2\" halign=\"left\">GDP</th>\n",
       "      <th colspan=\"2\" halign=\"left\">Gross National Income Per Capita (2017 PPP$)</th>\n",
       "      <th colspan=\"2\" halign=\"left\">Expected Years of Schooling (years)</th>\n",
       "      <th colspan=\"2\" halign=\"left\">Mean Years of Schooling (years)</th>\n",
       "    </tr>\n",
       "    <tr>\n",
       "      <th></th>\n",
       "      <th>params</th>\n",
       "      <th>pvalues</th>\n",
       "      <th>params</th>\n",
       "      <th>pvalues</th>\n",
       "      <th>params</th>\n",
       "      <th>pvalues</th>\n",
       "      <th>params</th>\n",
       "      <th>pvalues</th>\n",
       "      <th>params</th>\n",
       "      <th>pvalues</th>\n",
       "    </tr>\n",
       "  </thead>\n",
       "  <tbody>\n",
       "    <tr>\n",
       "      <th>const</th>\n",
       "      <td>0.822</td>\n",
       "      <td>0.0</td>\n",
       "      <td>9.487721e+11</td>\n",
       "      <td>0.000</td>\n",
       "      <td>30861.526</td>\n",
       "      <td>0.0</td>\n",
       "      <td>15.232</td>\n",
       "      <td>0.0</td>\n",
       "      <td>10.749</td>\n",
       "      <td>0.0</td>\n",
       "    </tr>\n",
       "    <tr>\n",
       "      <th>1</th>\n",
       "      <td>-0.149</td>\n",
       "      <td>0.0</td>\n",
       "      <td>-9.349758e+11</td>\n",
       "      <td>0.001</td>\n",
       "      <td>-17596.734</td>\n",
       "      <td>0.0</td>\n",
       "      <td>-2.478</td>\n",
       "      <td>0.0</td>\n",
       "      <td>-2.719</td>\n",
       "      <td>0.0</td>\n",
       "    </tr>\n",
       "    <tr>\n",
       "      <th>2</th>\n",
       "      <td>-0.181</td>\n",
       "      <td>0.0</td>\n",
       "      <td>-8.577709e+11</td>\n",
       "      <td>0.001</td>\n",
       "      <td>-18515.331</td>\n",
       "      <td>0.0</td>\n",
       "      <td>-3.273</td>\n",
       "      <td>0.0</td>\n",
       "      <td>-3.701</td>\n",
       "      <td>0.0</td>\n",
       "    </tr>\n",
       "  </tbody>\n",
       "</table>\n",
       "</div>"
      ],
      "text/plain": [
       "      Human Development Index (value)                   GDP          \\\n",
       "                               params pvalues        params pvalues   \n",
       "const                           0.822     0.0  9.487721e+11   0.000   \n",
       "1                              -0.149     0.0 -9.349758e+11   0.001   \n",
       "2                              -0.181     0.0 -8.577709e+11   0.001   \n",
       "\n",
       "      Gross National Income Per Capita (2017 PPP$)          \\\n",
       "                                            params pvalues   \n",
       "const                                    30861.526     0.0   \n",
       "1                                       -17596.734     0.0   \n",
       "2                                       -18515.331     0.0   \n",
       "\n",
       "      Expected Years of Schooling (years)          \\\n",
       "                                   params pvalues   \n",
       "const                              15.232     0.0   \n",
       "1                                  -2.478     0.0   \n",
       "2                                  -3.273     0.0   \n",
       "\n",
       "      Mean Years of Schooling (years)          \n",
       "                               params pvalues  \n",
       "const                          10.749     0.0  \n",
       "1                              -2.719     0.0  \n",
       "2                              -3.701     0.0  "
      ]
     },
     "execution_count": 131,
     "metadata": {},
     "output_type": "execute_result"
    }
   ],
   "source": [
    "hdi_stat_3"
   ]
  },
  {
   "cell_type": "code",
   "execution_count": 65,
   "metadata": {},
   "outputs": [],
   "source": [
    "indicators = {\n",
    "\"eys\":\"Expected Years of Schooling (years)\",\n",
    "\"hdi\":\"Human Development Index (value)\",\n",
    "\"le\":\"Life Expectancy at Birth (years)\",\n",
    "\"mys\":\"Mean Years of Schooling (years)\",\n",
    "\"mmr\":\"Maternal Mortality Ratio (deaths per 100,000 live births)\",\n",
    "\"child_mortality\":\"Child mortality (%)\",\n",
    "\"gnipc\":\"Gross National Income Per Capita (2017 PPP$)\"\n",
    "}"
   ]
  },
  {
   "cell_type": "code",
   "execution_count": 93,
   "metadata": {},
   "outputs": [],
   "source": [
    "df_hdi_mean = df_hdi.groupby(\"Embedding_3\")[list_of_hdi].mean().apply(lambda x: round(x,4))"
   ]
  },
  {
   "cell_type": "code",
   "execution_count": 94,
   "metadata": {},
   "outputs": [],
   "source": [
    "col_hdi = [indicators[col_] for col_ in  df_hdi_mean.columns]"
   ]
  },
  {
   "cell_type": "code",
   "execution_count": 95,
   "metadata": {},
   "outputs": [],
   "source": [
    "df_hdi_mean.columns = col_hdi"
   ]
  },
  {
   "cell_type": "code",
   "execution_count": 111,
   "metadata": {},
   "outputs": [],
   "source": [
    "table = df_hdi_mean.to_latex()"
   ]
  },
  {
   "cell_type": "code",
   "execution_count": 113,
   "metadata": {},
   "outputs": [
    {
     "name": "stdout",
     "output_type": "stream",
     "text": [
      "\\begin{tabular}{|lrrrrr|}\n",
      "\\hline\n",
      " & Human Development Index (value) & GDP & Gross National Income Per Capita (2017 PPP$) & Expected Years of Schooling (years) & Mean Years of Schooling (years) \\\\\n",
      "Embedding_3 &  &  &  &  &  \\\\\n",
      "\\hline\n",
      "0 & 0.821700 & 948772100252.480347 & 30861.525600 & 15.232000 & 10.749400 \\\\\n",
      "1 & 0.672800 & 13796300182.583300 & 13264.792100 & 12.754400 & 8.030700 \\\\\n",
      "2 & 0.640400 & 91001244784.275803 & 12346.194600 & 11.959200 & 7.048700 \\\\\n",
      "\\hline\n",
      "\\end{tabular}\n",
      "\n"
     ]
    }
   ],
   "source": [
    "print(table.replace('\\\\begin{tabular}{', '\\\\begin{tabular}{|').replace('}\\n\\\\toprule', '|}\\n\\\\hline').replace('\\\\midrule', '\\\\hline').replace('\\\\bottomrule', '\\\\hline'))"
   ]
  },
  {
   "cell_type": "code",
   "execution_count": 106,
   "metadata": {},
   "outputs": [],
   "source": [
    "s = df_hdi_mean.style"
   ]
  },
  {
   "cell_type": "code",
   "execution_count": null,
   "metadata": {},
   "outputs": [],
   "source": []
  },
  {
   "cell_type": "code",
   "execution_count": 110,
   "metadata": {},
   "outputs": [
    {
     "name": "stdout",
     "output_type": "stream",
     "text": [
      "\\begin{tabular}{lrrrrr}\n",
      "\\toprule\n",
      " & Human Development Index (value) & GDP & Gross National Income Per Capita (2017 PPP$) & Expected Years of Schooling (years) & Mean Years of Schooling (years) \\\\\n",
      "Embedding_3 &  &  &  &  &  \\\\\n",
      "\\midrule\n",
      "0 & 0.821700 & 948772100252.480347 & 30861.525600 & 15.232000 & 10.749400 \\\\\n",
      "1 & 0.672800 & 13796300182.583300 & 13264.792100 & 12.754400 & 8.030700 \\\\\n",
      "2 & 0.640400 & 91001244784.275803 & 12346.194600 & 11.959200 & 7.048700 \\\\\n",
      "\\bottomrule\n",
      "\\end{tabular}\n",
      "\n"
     ]
    }
   ],
   "source": [
    "print(s.to_latex(hrules=True))"
   ]
  },
  {
   "cell_type": "markdown",
   "metadata": {},
   "source": [
    "## Predicting fertility and mortality"
   ]
  },
  {
   "cell_type": "code",
   "execution_count": 31,
   "metadata": {},
   "outputs": [
    {
     "data": {
      "text/html": [
       "<div>\n",
       "<style scoped>\n",
       "    .dataframe tbody tr th:only-of-type {\n",
       "        vertical-align: middle;\n",
       "    }\n",
       "\n",
       "    .dataframe tbody tr th {\n",
       "        vertical-align: top;\n",
       "    }\n",
       "\n",
       "    .dataframe thead th {\n",
       "        text-align: right;\n",
       "    }\n",
       "</style>\n",
       "<table border=\"1\" class=\"dataframe\">\n",
       "  <thead>\n",
       "    <tr style=\"text-align: right;\">\n",
       "      <th></th>\n",
       "      <th>Node</th>\n",
       "      <th>Embedding</th>\n",
       "    </tr>\n",
       "  </thead>\n",
       "  <tbody>\n",
       "    <tr>\n",
       "      <th>0</th>\n",
       "      <td>AFG</td>\n",
       "      <td>0</td>\n",
       "    </tr>\n",
       "    <tr>\n",
       "      <th>1</th>\n",
       "      <td>AUS</td>\n",
       "      <td>0</td>\n",
       "    </tr>\n",
       "  </tbody>\n",
       "</table>\n",
       "</div>"
      ],
      "text/plain": [
       "  Node  Embedding\n",
       "0  AFG          0\n",
       "1  AUS          0"
      ]
     },
     "execution_count": 31,
     "metadata": {},
     "output_type": "execute_result"
    }
   ],
   "source": [
    "df_emb_3.head(2)"
   ]
  },
  {
   "cell_type": "code",
   "execution_count": 32,
   "metadata": {},
   "outputs": [],
   "source": [
    "df_fert = pd.read_excel(\"data/metadata_country/MortalityFertilityData.xlsx\")"
   ]
  },
  {
   "cell_type": "code",
   "execution_count": 33,
   "metadata": {},
   "outputs": [],
   "source": [
    "df_fert_emb = df_emb_3.merge(df_fert, left_on=\"Node\", right_on=\"Country Code\", how=\"left\")"
   ]
  },
  {
   "cell_type": "code",
   "execution_count": 34,
   "metadata": {},
   "outputs": [],
   "source": [
    "df_fert_emb = df_fert_emb.drop(\"Country Code\", axis=1).set_index(\"Node\", drop=True)"
   ]
  },
  {
   "cell_type": "code",
   "execution_count": 35,
   "metadata": {},
   "outputs": [],
   "source": [
    "target_list = list(df_fert_emb.columns)[1:]"
   ]
  },
  {
   "cell_type": "code",
   "execution_count": 36,
   "metadata": {},
   "outputs": [
    {
     "data": {
      "text/plain": [
       "['Fertility rate, total (births per woman)',\n",
       " 'Mortality rate, adult, female (per 1,000 female adults)',\n",
       " 'Mortality rate, adult, male (per 1,000 male adults)',\n",
       " 'Mortality rate, infant (per 1,000 live births)']"
      ]
     },
     "execution_count": 36,
     "metadata": {},
     "output_type": "execute_result"
    }
   ],
   "source": [
    "target_list"
   ]
  },
  {
   "cell_type": "code",
   "execution_count": 37,
   "metadata": {},
   "outputs": [],
   "source": [
    "def getHDITable(df_hdi,  hdi_list =  ['child_mortality', 'eys', 'gnipc', 'hdi', 'le', 'mmr', 'mys','GDP']):\n",
    "    # for column in df_hdi.columns:\n",
    "    #     if \"Embedding\" in column:\n",
    "    #         if column[-1] != str(n_emb):\n",
    "    #             df_hdi.drop(column, axis=1)\n",
    "\n",
    "    # hdi_mean = df_hdi.groupby(\"Embedding_\" + n_emb)[\"hdi\"].mean()\n",
    "    # index_min = hdi_mean[hdi_mean == min(hdi_mean)].index.values[0]\n",
    "    hdi_reg = {}\n",
    "    for hdi_stat in list(hdi_list):\n",
    "        df = df_hdi.dropna(subset=hdi_stat)\n",
    "        y = df[hdi_stat]\n",
    "        X_hdi = pd.get_dummies(df[\"Embedding\"],dtype=int).drop(2, axis=1)\n",
    "        X_hdi = sm.add_constant(X_hdi)\n",
    "        model = sm.OLS(y,X_hdi)\n",
    "        results = model.fit()\n",
    "        hdi_reg[hdi_stat] = results\n",
    "\n",
    "    list_of_df = []\n",
    "\n",
    "    for hdi_stat, result in hdi_reg.items():\n",
    "        params = result.params\n",
    "        pvalues = result.pvalues\n",
    "        index_col = pd.MultiIndex.from_tuples([(hdi_stat,\"params\"), (hdi_stat,\"pvalues\")])\n",
    "        df = pd.DataFrame(columns=index_col)\n",
    "        df[hdi_stat,\"params\"] = params\n",
    "        df[hdi_stat,\"pvalues\"] = pvalues\n",
    "\n",
    "        list_of_df.append(df)\n",
    "    \n",
    "    return pd.concat(list_of_df, axis=1).apply(lambda x:round(x, 3))"
   ]
  },
  {
   "cell_type": "code",
   "execution_count": 38,
   "metadata": {},
   "outputs": [
    {
     "data": {
      "text/html": [
       "<div>\n",
       "<style scoped>\n",
       "    .dataframe tbody tr th:only-of-type {\n",
       "        vertical-align: middle;\n",
       "    }\n",
       "\n",
       "    .dataframe tbody tr th {\n",
       "        vertical-align: top;\n",
       "    }\n",
       "\n",
       "    .dataframe thead tr th {\n",
       "        text-align: left;\n",
       "    }\n",
       "</style>\n",
       "<table border=\"1\" class=\"dataframe\">\n",
       "  <thead>\n",
       "    <tr>\n",
       "      <th></th>\n",
       "      <th colspan=\"2\" halign=\"left\">Fertility rate, total (births per woman)</th>\n",
       "      <th colspan=\"2\" halign=\"left\">Mortality rate, adult, female (per 1,000 female adults)</th>\n",
       "      <th colspan=\"2\" halign=\"left\">Mortality rate, adult, male (per 1,000 male adults)</th>\n",
       "      <th colspan=\"2\" halign=\"left\">Mortality rate, infant (per 1,000 live births)</th>\n",
       "    </tr>\n",
       "    <tr>\n",
       "      <th></th>\n",
       "      <th>params</th>\n",
       "      <th>pvalues</th>\n",
       "      <th>params</th>\n",
       "      <th>pvalues</th>\n",
       "      <th>params</th>\n",
       "      <th>pvalues</th>\n",
       "      <th>params</th>\n",
       "      <th>pvalues</th>\n",
       "    </tr>\n",
       "  </thead>\n",
       "  <tbody>\n",
       "    <tr>\n",
       "      <th>const</th>\n",
       "      <td>3.446</td>\n",
       "      <td>0.0</td>\n",
       "      <td>166.319</td>\n",
       "      <td>0.000</td>\n",
       "      <td>238.911</td>\n",
       "      <td>0.000</td>\n",
       "      <td>32.399</td>\n",
       "      <td>0.000</td>\n",
       "    </tr>\n",
       "    <tr>\n",
       "      <th>0</th>\n",
       "      <td>-1.398</td>\n",
       "      <td>0.0</td>\n",
       "      <td>-91.410</td>\n",
       "      <td>0.000</td>\n",
       "      <td>-97.427</td>\n",
       "      <td>0.000</td>\n",
       "      <td>-22.412</td>\n",
       "      <td>0.000</td>\n",
       "    </tr>\n",
       "    <tr>\n",
       "      <th>1</th>\n",
       "      <td>-0.895</td>\n",
       "      <td>0.0</td>\n",
       "      <td>-30.475</td>\n",
       "      <td>0.031</td>\n",
       "      <td>-28.315</td>\n",
       "      <td>0.092</td>\n",
       "      <td>-6.406</td>\n",
       "      <td>0.068</td>\n",
       "    </tr>\n",
       "  </tbody>\n",
       "</table>\n",
       "</div>"
      ],
      "text/plain": [
       "      Fertility rate, total (births per woman)          \\\n",
       "                                        params pvalues   \n",
       "const                                    3.446     0.0   \n",
       "0                                       -1.398     0.0   \n",
       "1                                       -0.895     0.0   \n",
       "\n",
       "      Mortality rate, adult, female (per 1,000 female adults)          \\\n",
       "                                                       params pvalues   \n",
       "const                                            166.319        0.000   \n",
       "0                                                -91.410        0.000   \n",
       "1                                                -30.475        0.031   \n",
       "\n",
       "      Mortality rate, adult, male (per 1,000 male adults)          \\\n",
       "                                                   params pvalues   \n",
       "const                                            238.911    0.000   \n",
       "0                                                -97.427    0.000   \n",
       "1                                                -28.315    0.092   \n",
       "\n",
       "      Mortality rate, infant (per 1,000 live births)          \n",
       "                                              params pvalues  \n",
       "const                                         32.399   0.000  \n",
       "0                                            -22.412   0.000  \n",
       "1                                             -6.406   0.068  "
      ]
     },
     "execution_count": 38,
     "metadata": {},
     "output_type": "execute_result"
    }
   ],
   "source": [
    "getHDITable(df_fert_emb, hdi_list = target_list)"
   ]
  },
  {
   "cell_type": "code",
   "execution_count": 39,
   "metadata": {},
   "outputs": [
    {
     "data": {
      "text/html": [
       "<div>\n",
       "<style scoped>\n",
       "    .dataframe tbody tr th:only-of-type {\n",
       "        vertical-align: middle;\n",
       "    }\n",
       "\n",
       "    .dataframe tbody tr th {\n",
       "        vertical-align: top;\n",
       "    }\n",
       "\n",
       "    .dataframe thead th {\n",
       "        text-align: right;\n",
       "    }\n",
       "</style>\n",
       "<table border=\"1\" class=\"dataframe\">\n",
       "  <thead>\n",
       "    <tr style=\"text-align: right;\">\n",
       "      <th></th>\n",
       "      <th>Fertility rate, total (births per woman)</th>\n",
       "      <th>Mortality rate, adult, female (per 1,000 female adults)</th>\n",
       "      <th>Mortality rate, adult, male (per 1,000 male adults)</th>\n",
       "      <th>Mortality rate, infant (per 1,000 live births)</th>\n",
       "    </tr>\n",
       "    <tr>\n",
       "      <th>Embedding</th>\n",
       "      <th></th>\n",
       "      <th></th>\n",
       "      <th></th>\n",
       "      <th></th>\n",
       "    </tr>\n",
       "  </thead>\n",
       "  <tbody>\n",
       "    <tr>\n",
       "      <th>0</th>\n",
       "      <td>2.047293</td>\n",
       "      <td>74.909014</td>\n",
       "      <td>141.484536</td>\n",
       "      <td>9.987143</td>\n",
       "    </tr>\n",
       "    <tr>\n",
       "      <th>1</th>\n",
       "      <td>2.550991</td>\n",
       "      <td>135.843769</td>\n",
       "      <td>210.595942</td>\n",
       "      <td>25.992857</td>\n",
       "    </tr>\n",
       "    <tr>\n",
       "      <th>2</th>\n",
       "      <td>3.445531</td>\n",
       "      <td>166.318951</td>\n",
       "      <td>238.911321</td>\n",
       "      <td>32.398765</td>\n",
       "    </tr>\n",
       "  </tbody>\n",
       "</table>\n",
       "</div>"
      ],
      "text/plain": [
       "           Fertility rate, total (births per woman)  \\\n",
       "Embedding                                             \n",
       "0                                          2.047293   \n",
       "1                                          2.550991   \n",
       "2                                          3.445531   \n",
       "\n",
       "           Mortality rate, adult, female (per 1,000 female adults)  \\\n",
       "Embedding                                                            \n",
       "0                                                  74.909014         \n",
       "1                                                 135.843769         \n",
       "2                                                 166.318951         \n",
       "\n",
       "           Mortality rate, adult, male (per 1,000 male adults)  \\\n",
       "Embedding                                                        \n",
       "0                                                 141.484536     \n",
       "1                                                 210.595942     \n",
       "2                                                 238.911321     \n",
       "\n",
       "           Mortality rate, infant (per 1,000 live births)  \n",
       "Embedding                                                  \n",
       "0                                                9.987143  \n",
       "1                                               25.992857  \n",
       "2                                               32.398765  "
      ]
     },
     "execution_count": 39,
     "metadata": {},
     "output_type": "execute_result"
    }
   ],
   "source": [
    "df_fert_emb.groupby(\"Embedding\").mean()"
   ]
  },
  {
   "cell_type": "markdown",
   "metadata": {},
   "source": [
    "### For reference"
   ]
  },
  {
   "cell_type": "code",
   "execution_count": null,
   "metadata": {},
   "outputs": [],
   "source": []
  },
  {
   "cell_type": "code",
   "execution_count": 40,
   "metadata": {},
   "outputs": [
    {
     "name": "stdout",
     "output_type": "stream",
     "text": [
      "                            OLS Regression Results                            \n",
      "==============================================================================\n",
      "Dep. Variable:                 income   R-squared:                       0.525\n",
      "Model:                            OLS   Adj. R-squared:                  0.514\n",
      "Method:                 Least Squares   F-statistic:                     47.51\n",
      "Date:                Mon, 25 Nov 2024   Prob (F-statistic):           1.84e-08\n",
      "Time:                        13:49:42   Log-Likelihood:                -190.42\n",
      "No. Observations:                  45   AIC:                             384.8\n",
      "Df Residuals:                      43   BIC:                             388.5\n",
      "Df Model:                           1                                         \n",
      "Covariance Type:            nonrobust                                         \n",
      "==============================================================================\n",
      "                 coef    std err          t      P>|t|      [0.025      0.975]\n",
      "------------------------------------------------------------------------------\n",
      "const         10.6035      5.198      2.040      0.048       0.120      21.087\n",
      "education      0.5949      0.086      6.893      0.000       0.421       0.769\n",
      "==============================================================================\n",
      "Omnibus:                        9.841   Durbin-Watson:                   1.736\n",
      "Prob(Omnibus):                  0.007   Jarque-Bera (JB):               10.609\n",
      "Skew:                           0.776   Prob(JB):                      0.00497\n",
      "Kurtosis:                       4.802   Cond. No.                         123.\n",
      "==============================================================================\n",
      "\n",
      "Notes:\n",
      "[1] Standard Errors assume that the covariance matrix of the errors is correctly specified.\n"
     ]
    }
   ],
   "source": [
    "duncan_prestige = sm.datasets.get_rdataset(\"Duncan\", \"carData\")\n",
    "Y = duncan_prestige.data['income']\n",
    "X = duncan_prestige.data['education']\n",
    "X = sm.add_constant(X)\n",
    "model = sm.OLS(Y,X)\n",
    "results = model.fit()\n",
    "print(results.summary())"
   ]
  }
 ],
 "metadata": {
  "kernelspec": {
   "display_name": "Python 3",
   "language": "python",
   "name": "python3"
  },
  "language_info": {
   "codemirror_mode": {
    "name": "ipython",
    "version": 3
   },
   "file_extension": ".py",
   "mimetype": "text/x-python",
   "name": "python",
   "nbconvert_exporter": "python",
   "pygments_lexer": "ipython3",
   "version": "3.12.2"
  }
 },
 "nbformat": 4,
 "nbformat_minor": 2
}

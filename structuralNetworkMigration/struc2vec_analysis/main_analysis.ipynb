{
 "cells": [
  {
   "cell_type": "code",
   "execution_count": 1,
   "metadata": {},
   "outputs": [],
   "source": [
    "import os\n",
    "os.chdir(\"../..\")"
   ]
  },
  {
   "cell_type": "code",
   "execution_count": 2,
   "metadata": {},
   "outputs": [],
   "source": [
    "assert \"struc2vec\" in os.listdir()"
   ]
  },
  {
   "cell_type": "code",
   "execution_count": null,
   "metadata": {},
   "outputs": [],
   "source": [
    "from struc2vec.src import struc2vec as s2v\n",
    "import networkx as nx\n",
    "import pandas as pd\n",
    "# from gensim.models import Word2Vec\n",
    "import numpy as np\n",
    "from sklearn.decomposition import PCA\n",
    "import matplotlib.pyplot as plt\n"
   ]
  },
  {
   "cell_type": "code",
   "execution_count": 4,
   "metadata": {},
   "outputs": [],
   "source": [
    "os.chdir(\"structuralNetworkMigration\")\n",
    "assert \"data\" in os.listdir()"
   ]
  },
  {
   "cell_type": "markdown",
   "metadata": {},
   "source": [
    "## Load data"
   ]
  },
  {
   "cell_type": "markdown",
   "metadata": {},
   "source": [
    "First load each graph"
   ]
  },
  {
   "cell_type": "code",
   "execution_count": 5,
   "metadata": {},
   "outputs": [],
   "source": [
    "G = {\"0\":None,\"25\":None,\"50\":None, \"75\":None}\n",
    "\n",
    "for perc, graph in G.items():\n",
    "    G[perc] =  nx.read_gexf(f\"data/Graphs/bynode_{perc}_directed.gexf\")"
   ]
  },
  {
   "cell_type": "markdown",
   "metadata": {},
   "source": [
    "Create struc2vec objects"
   ]
  },
  {
   "cell_type": "code",
   "execution_count": 6,
   "metadata": {},
   "outputs": [],
   "source": [
    "s2vG_dict = {}\n",
    "for perc, graph in G.items():\n",
    "    s2vG_dict[perc] = s2v.struc2vec(graph)"
   ]
  },
  {
   "cell_type": "markdown",
   "metadata": {},
   "source": [
    "Load contextgraphs"
   ]
  },
  {
   "cell_type": "code",
   "execution_count": 10,
   "metadata": {},
   "outputs": [
    {
     "ename": "KeyboardInterrupt",
     "evalue": "",
     "output_type": "error",
     "traceback": [
      "\u001b[1;31m---------------------------------------------------------------------------\u001b[0m",
      "\u001b[1;31mKeyboardInterrupt\u001b[0m                         Traceback (most recent call last)",
      "Cell \u001b[1;32mIn[10], line 2\u001b[0m\n\u001b[0;32m      1\u001b[0m \u001b[38;5;28;01mfor\u001b[39;00m perc, s2vG \u001b[38;5;129;01min\u001b[39;00m s2vG_dict\u001b[38;5;241m.\u001b[39mitems():\n\u001b[1;32m----> 2\u001b[0m     \u001b[43ms2vG\u001b[49m\u001b[38;5;241;43m.\u001b[39;49m\u001b[43mgetMultiLevelGraph\u001b[49m\u001b[43m(\u001b[49m\u001b[43m)\u001b[49m\n",
      "File \u001b[1;32mc:\\Users\\bjorn\\Documents\\GitHub\\ImaginoTransference\\struc2vec\\src\\struc2vec.py:43\u001b[0m, in \u001b[0;36mstruc2vec.getMultiLevelGraph\u001b[1;34m(self, path)\u001b[0m\n\u001b[0;32m     41\u001b[0m     \u001b[38;5;28;01mif\u001b[39;00m path[\u001b[38;5;241m-\u001b[39m\u001b[38;5;241m1\u001b[39m] \u001b[38;5;241m!=\u001b[39m \u001b[38;5;124m\"\u001b[39m\u001b[38;5;124m/\u001b[39m\u001b[38;5;124m\"\u001b[39m:\n\u001b[0;32m     42\u001b[0m         path \u001b[38;5;241m=\u001b[39m path \u001b[38;5;241m+\u001b[39m \u001b[38;5;124m\"\u001b[39m\u001b[38;5;124m/\u001b[39m\u001b[38;5;124m\"\u001b[39m\n\u001b[1;32m---> 43\u001b[0m \u001b[38;5;28mself\u001b[39m\u001b[38;5;241m.\u001b[39mG_ML, \u001b[38;5;28mself\u001b[39m\u001b[38;5;241m.\u001b[39madj_dicts \u001b[38;5;241m=\u001b[39m \u001b[43mga\u001b[49m\u001b[43m(\u001b[49m\u001b[43m)\u001b[49m\u001b[38;5;241;43m.\u001b[39;49m\u001b[43mMultiLevelGraph\u001b[49m\u001b[43m(\u001b[49m\u001b[38;5;28;43mself\u001b[39;49m\u001b[43m,\u001b[49m\u001b[38;5;28;43mself\u001b[39;49m\u001b[38;5;241;43m.\u001b[39;49m\u001b[43mdiameter\u001b[49m\u001b[43m,\u001b[49m\u001b[43mpath\u001b[49m\u001b[38;5;241;43m=\u001b[39;49m\u001b[43mpath\u001b[49m\u001b[43m)\u001b[49m\n\u001b[0;32m     44\u001b[0m \u001b[38;5;28mself\u001b[39m\u001b[38;5;241m.\u001b[39mn_layers \u001b[38;5;241m=\u001b[39m \u001b[38;5;28mself\u001b[39m\u001b[38;5;241m.\u001b[39mdiameter\n\u001b[0;32m     45\u001b[0m \u001b[38;5;28mself\u001b[39m\u001b[38;5;241m.\u001b[39mupweightdict \u001b[38;5;241m=\u001b[39m ga()\u001b[38;5;241m.\u001b[39mgetUpWeightDict(\u001b[38;5;28mself\u001b[39m\u001b[38;5;241m.\u001b[39mG_ML)\n",
      "File \u001b[1;32mc:\\Users\\bjorn\\Documents\\GitHub\\ImaginoTransference\\struc2vec\\src\\GraphAlgorithms.py:133\u001b[0m, in \u001b[0;36mGraphAlgorithms.MultiLevelGraph\u001b[1;34m(self, s2vG, n_level, path)\u001b[0m\n\u001b[0;32m    131\u001b[0m G_ML \u001b[38;5;241m=\u001b[39m {}\n\u001b[0;32m    132\u001b[0m \u001b[38;5;28;01mfor\u001b[39;00m i \u001b[38;5;129;01min\u001b[39;00m \u001b[38;5;28mrange\u001b[39m(n_level\u001b[38;5;241m+\u001b[39m\u001b[38;5;241m1\u001b[39m):\n\u001b[1;32m--> 133\u001b[0m     edgelist_i \u001b[38;5;241m=\u001b[39m \u001b[38;5;28;43mself\u001b[39;49m\u001b[38;5;241;43m.\u001b[39;49m\u001b[43mcalculateDistances\u001b[49m\u001b[43m(\u001b[49m\u001b[43ms2vG\u001b[49m\u001b[43m,\u001b[49m\u001b[43m \u001b[49m\u001b[43mi\u001b[49m\u001b[43m)\u001b[49m\n\u001b[0;32m    134\u001b[0m     G_i \u001b[38;5;241m=\u001b[39m nx\u001b[38;5;241m.\u001b[39mGraph(edgelist_i)\n\u001b[0;32m    135\u001b[0m     G_ML[i] \u001b[38;5;241m=\u001b[39m G_i\n",
      "File \u001b[1;32mc:\\Users\\bjorn\\Documents\\GitHub\\ImaginoTransference\\struc2vec\\src\\GraphAlgorithms.py:96\u001b[0m, in \u001b[0;36mGraphAlgorithms.calculateDistances\u001b[1;34m(self, s2vG, n_steps)\u001b[0m\n\u001b[0;32m     93\u001b[0m arr1_out \u001b[38;5;241m=\u001b[39m arr1_out \u001b[38;5;241m+\u001b[39m np\u001b[38;5;241m.\u001b[39mones((\u001b[38;5;28mlen\u001b[39m(arr1_out),\u001b[38;5;241m1\u001b[39m))\n\u001b[0;32m     95\u001b[0m dist_in, conv_vect \u001b[38;5;241m=\u001b[39m fastdtw\u001b[38;5;241m.\u001b[39mfastdtw(arr0_in, arr1_in, dist\u001b[38;5;241m=\u001b[39m\u001b[38;5;28mself\u001b[39m\u001b[38;5;241m.\u001b[39md_func)\n\u001b[1;32m---> 96\u001b[0m dist_out, conv_vect \u001b[38;5;241m=\u001b[39m \u001b[43mfastdtw\u001b[49m\u001b[38;5;241;43m.\u001b[39;49m\u001b[43mfastdtw\u001b[49m\u001b[43m(\u001b[49m\u001b[43marr0_out\u001b[49m\u001b[43m,\u001b[49m\u001b[43m \u001b[49m\u001b[43marr1_out\u001b[49m\u001b[43m,\u001b[49m\u001b[43m \u001b[49m\u001b[43mdist\u001b[49m\u001b[38;5;241;43m=\u001b[39;49m\u001b[38;5;28;43mself\u001b[39;49m\u001b[38;5;241;43m.\u001b[39;49m\u001b[43md_func\u001b[49m\u001b[43m)\u001b[49m\n\u001b[0;32m     98\u001b[0m edge \u001b[38;5;241m=\u001b[39m (v0,v1,{\u001b[38;5;124m\"\u001b[39m\u001b[38;5;124mweight\u001b[39m\u001b[38;5;124m\"\u001b[39m: np\u001b[38;5;241m.\u001b[39mexp(\u001b[38;5;241m-\u001b[39mnp\u001b[38;5;241m.\u001b[39mmean([dist_in, dist_out]))})\n\u001b[0;32m     99\u001b[0m edgelist_dist\u001b[38;5;241m.\u001b[39mappend(edge)\n",
      "File \u001b[1;32mc:\\Users\\bjorn\\AppData\\Local\\Programs\\Python\\Python313\\Lib\\site-packages\\fastdtw\\fastdtw.py:53\u001b[0m, in \u001b[0;36mfastdtw\u001b[1;34m(x, y, radius, dist)\u001b[0m\n\u001b[0;32m     16\u001b[0m \u001b[38;5;250m\u001b[39m\u001b[38;5;124;03m''' return the approximate distance between 2 time series with O(N)\u001b[39;00m\n\u001b[0;32m     17\u001b[0m \u001b[38;5;124;03m    time and memory complexity\u001b[39;00m\n\u001b[0;32m     18\u001b[0m \n\u001b[1;32m   (...)\u001b[0m\n\u001b[0;32m     50\u001b[0m \u001b[38;5;124;03m    (2.0, [(0, 0), (1, 0), (2, 1), (3, 2), (4, 2)])\u001b[39;00m\n\u001b[0;32m     51\u001b[0m \u001b[38;5;124;03m'''\u001b[39;00m\n\u001b[0;32m     52\u001b[0m x, y, dist \u001b[38;5;241m=\u001b[39m __prep_inputs(x, y, dist)\n\u001b[1;32m---> 53\u001b[0m \u001b[38;5;28;01mreturn\u001b[39;00m \u001b[43m__fastdtw\u001b[49m\u001b[43m(\u001b[49m\u001b[43mx\u001b[49m\u001b[43m,\u001b[49m\u001b[43m \u001b[49m\u001b[43my\u001b[49m\u001b[43m,\u001b[49m\u001b[43m \u001b[49m\u001b[43mradius\u001b[49m\u001b[43m,\u001b[49m\u001b[43m \u001b[49m\u001b[43mdist\u001b[49m\u001b[43m)\u001b[49m\n",
      "File \u001b[1;32mc:\\Users\\bjorn\\AppData\\Local\\Programs\\Python\\Python313\\Lib\\site-packages\\fastdtw\\fastdtw.py:73\u001b[0m, in \u001b[0;36m__fastdtw\u001b[1;34m(x, y, radius, dist)\u001b[0m\n\u001b[0;32m     70\u001b[0m x_shrinked \u001b[38;5;241m=\u001b[39m __reduce_by_half(x)\n\u001b[0;32m     71\u001b[0m y_shrinked \u001b[38;5;241m=\u001b[39m __reduce_by_half(y)\n\u001b[0;32m     72\u001b[0m distance, path \u001b[38;5;241m=\u001b[39m \\\n\u001b[1;32m---> 73\u001b[0m     \u001b[43m__fastdtw\u001b[49m\u001b[43m(\u001b[49m\u001b[43mx_shrinked\u001b[49m\u001b[43m,\u001b[49m\u001b[43m \u001b[49m\u001b[43my_shrinked\u001b[49m\u001b[43m,\u001b[49m\u001b[43m \u001b[49m\u001b[43mradius\u001b[49m\u001b[38;5;241;43m=\u001b[39;49m\u001b[43mradius\u001b[49m\u001b[43m,\u001b[49m\u001b[43m \u001b[49m\u001b[43mdist\u001b[49m\u001b[38;5;241;43m=\u001b[39;49m\u001b[43mdist\u001b[49m\u001b[43m)\u001b[49m\n\u001b[0;32m     74\u001b[0m window \u001b[38;5;241m=\u001b[39m __expand_window(path, \u001b[38;5;28mlen\u001b[39m(x), \u001b[38;5;28mlen\u001b[39m(y), radius)\n\u001b[0;32m     75\u001b[0m \u001b[38;5;28;01mreturn\u001b[39;00m __dtw(x, y, window, dist\u001b[38;5;241m=\u001b[39mdist)\n",
      "File \u001b[1;32mc:\\Users\\bjorn\\AppData\\Local\\Programs\\Python\\Python313\\Lib\\site-packages\\fastdtw\\fastdtw.py:75\u001b[0m, in \u001b[0;36m__fastdtw\u001b[1;34m(x, y, radius, dist)\u001b[0m\n\u001b[0;32m     72\u001b[0m distance, path \u001b[38;5;241m=\u001b[39m \\\n\u001b[0;32m     73\u001b[0m     __fastdtw(x_shrinked, y_shrinked, radius\u001b[38;5;241m=\u001b[39mradius, dist\u001b[38;5;241m=\u001b[39mdist)\n\u001b[0;32m     74\u001b[0m window \u001b[38;5;241m=\u001b[39m __expand_window(path, \u001b[38;5;28mlen\u001b[39m(x), \u001b[38;5;28mlen\u001b[39m(y), radius)\n\u001b[1;32m---> 75\u001b[0m \u001b[38;5;28;01mreturn\u001b[39;00m \u001b[43m__dtw\u001b[49m\u001b[43m(\u001b[49m\u001b[43mx\u001b[49m\u001b[43m,\u001b[49m\u001b[43m \u001b[49m\u001b[43my\u001b[49m\u001b[43m,\u001b[49m\u001b[43m \u001b[49m\u001b[43mwindow\u001b[49m\u001b[43m,\u001b[49m\u001b[43m \u001b[49m\u001b[43mdist\u001b[49m\u001b[38;5;241;43m=\u001b[39;49m\u001b[43mdist\u001b[49m\u001b[43m)\u001b[49m\n",
      "File \u001b[1;32mc:\\Users\\bjorn\\AppData\\Local\\Programs\\Python\\Python313\\Lib\\site-packages\\fastdtw\\fastdtw.py:142\u001b[0m, in \u001b[0;36m__dtw\u001b[1;34m(x, y, window, dist)\u001b[0m\n\u001b[0;32m    140\u001b[0m \u001b[38;5;28;01mfor\u001b[39;00m i, j \u001b[38;5;129;01min\u001b[39;00m window:\n\u001b[0;32m    141\u001b[0m     dt \u001b[38;5;241m=\u001b[39m dist(x[i\u001b[38;5;241m-\u001b[39m\u001b[38;5;241m1\u001b[39m], y[j\u001b[38;5;241m-\u001b[39m\u001b[38;5;241m1\u001b[39m])\n\u001b[1;32m--> 142\u001b[0m     D[i, j] \u001b[38;5;241m=\u001b[39m \u001b[38;5;28;43mmin\u001b[39;49m\u001b[43m(\u001b[49m\u001b[43m(\u001b[49m\u001b[43mD\u001b[49m\u001b[43m[\u001b[49m\u001b[43mi\u001b[49m\u001b[38;5;241;43m-\u001b[39;49m\u001b[38;5;241;43m1\u001b[39;49m\u001b[43m,\u001b[49m\u001b[43m \u001b[49m\u001b[43mj\u001b[49m\u001b[43m]\u001b[49m\u001b[43m[\u001b[49m\u001b[38;5;241;43m0\u001b[39;49m\u001b[43m]\u001b[49m\u001b[38;5;241;43m+\u001b[39;49m\u001b[43mdt\u001b[49m\u001b[43m,\u001b[49m\u001b[43m \u001b[49m\u001b[43mi\u001b[49m\u001b[38;5;241;43m-\u001b[39;49m\u001b[38;5;241;43m1\u001b[39;49m\u001b[43m,\u001b[49m\u001b[43m \u001b[49m\u001b[43mj\u001b[49m\u001b[43m)\u001b[49m\u001b[43m,\u001b[49m\u001b[43m \u001b[49m\u001b[43m(\u001b[49m\u001b[43mD\u001b[49m\u001b[43m[\u001b[49m\u001b[43mi\u001b[49m\u001b[43m,\u001b[49m\u001b[43m \u001b[49m\u001b[43mj\u001b[49m\u001b[38;5;241;43m-\u001b[39;49m\u001b[38;5;241;43m1\u001b[39;49m\u001b[43m]\u001b[49m\u001b[43m[\u001b[49m\u001b[38;5;241;43m0\u001b[39;49m\u001b[43m]\u001b[49m\u001b[38;5;241;43m+\u001b[39;49m\u001b[43mdt\u001b[49m\u001b[43m,\u001b[49m\u001b[43m \u001b[49m\u001b[43mi\u001b[49m\u001b[43m,\u001b[49m\u001b[43m \u001b[49m\u001b[43mj\u001b[49m\u001b[38;5;241;43m-\u001b[39;49m\u001b[38;5;241;43m1\u001b[39;49m\u001b[43m)\u001b[49m\u001b[43m,\u001b[49m\n\u001b[0;32m    143\u001b[0m \u001b[43m                  \u001b[49m\u001b[43m(\u001b[49m\u001b[43mD\u001b[49m\u001b[43m[\u001b[49m\u001b[43mi\u001b[49m\u001b[38;5;241;43m-\u001b[39;49m\u001b[38;5;241;43m1\u001b[39;49m\u001b[43m,\u001b[49m\u001b[43m \u001b[49m\u001b[43mj\u001b[49m\u001b[38;5;241;43m-\u001b[39;49m\u001b[38;5;241;43m1\u001b[39;49m\u001b[43m]\u001b[49m\u001b[43m[\u001b[49m\u001b[38;5;241;43m0\u001b[39;49m\u001b[43m]\u001b[49m\u001b[38;5;241;43m+\u001b[39;49m\u001b[43mdt\u001b[49m\u001b[43m,\u001b[49m\u001b[43m \u001b[49m\u001b[43mi\u001b[49m\u001b[38;5;241;43m-\u001b[39;49m\u001b[38;5;241;43m1\u001b[39;49m\u001b[43m,\u001b[49m\u001b[43m \u001b[49m\u001b[43mj\u001b[49m\u001b[38;5;241;43m-\u001b[39;49m\u001b[38;5;241;43m1\u001b[39;49m\u001b[43m)\u001b[49m\u001b[43m,\u001b[49m\u001b[43m \u001b[49m\u001b[43mkey\u001b[49m\u001b[38;5;241;43m=\u001b[39;49m\u001b[38;5;28;43;01mlambda\u001b[39;49;00m\u001b[43m \u001b[49m\u001b[43ma\u001b[49m\u001b[43m:\u001b[49m\u001b[43m \u001b[49m\u001b[43ma\u001b[49m\u001b[43m[\u001b[49m\u001b[38;5;241;43m0\u001b[39;49m\u001b[43m]\u001b[49m\u001b[43m)\u001b[49m\n\u001b[0;32m    144\u001b[0m path \u001b[38;5;241m=\u001b[39m []\n\u001b[0;32m    145\u001b[0m i, j \u001b[38;5;241m=\u001b[39m len_x, len_y\n",
      "File \u001b[1;32mc:\\Users\\bjorn\\AppData\\Local\\Programs\\Python\\Python313\\Lib\\site-packages\\fastdtw\\fastdtw.py:143\u001b[0m, in \u001b[0;36m__dtw.<locals>.<lambda>\u001b[1;34m(a)\u001b[0m\n\u001b[0;32m    140\u001b[0m \u001b[38;5;28;01mfor\u001b[39;00m i, j \u001b[38;5;129;01min\u001b[39;00m window:\n\u001b[0;32m    141\u001b[0m     dt \u001b[38;5;241m=\u001b[39m dist(x[i\u001b[38;5;241m-\u001b[39m\u001b[38;5;241m1\u001b[39m], y[j\u001b[38;5;241m-\u001b[39m\u001b[38;5;241m1\u001b[39m])\n\u001b[0;32m    142\u001b[0m     D[i, j] \u001b[38;5;241m=\u001b[39m \u001b[38;5;28mmin\u001b[39m((D[i\u001b[38;5;241m-\u001b[39m\u001b[38;5;241m1\u001b[39m, j][\u001b[38;5;241m0\u001b[39m]\u001b[38;5;241m+\u001b[39mdt, i\u001b[38;5;241m-\u001b[39m\u001b[38;5;241m1\u001b[39m, j), (D[i, j\u001b[38;5;241m-\u001b[39m\u001b[38;5;241m1\u001b[39m][\u001b[38;5;241m0\u001b[39m]\u001b[38;5;241m+\u001b[39mdt, i, j\u001b[38;5;241m-\u001b[39m\u001b[38;5;241m1\u001b[39m),\n\u001b[1;32m--> 143\u001b[0m                   (D[i\u001b[38;5;241m-\u001b[39m\u001b[38;5;241m1\u001b[39m, j\u001b[38;5;241m-\u001b[39m\u001b[38;5;241m1\u001b[39m][\u001b[38;5;241m0\u001b[39m]\u001b[38;5;241m+\u001b[39mdt, i\u001b[38;5;241m-\u001b[39m\u001b[38;5;241m1\u001b[39m, j\u001b[38;5;241m-\u001b[39m\u001b[38;5;241m1\u001b[39m), key\u001b[38;5;241m=\u001b[39m\u001b[38;5;28;01mlambda\u001b[39;00m a: a[\u001b[38;5;241m0\u001b[39m])\n\u001b[0;32m    144\u001b[0m path \u001b[38;5;241m=\u001b[39m []\n\u001b[0;32m    145\u001b[0m i, j \u001b[38;5;241m=\u001b[39m len_x, len_y\n",
      "\u001b[1;31mKeyboardInterrupt\u001b[0m: "
     ]
    }
   ],
   "source": [
    "for perc, s2vG in s2vG_dict.items():\n",
    "    s2vG.getMultiLevelGraph()"
   ]
  },
  {
   "cell_type": "code",
   "execution_count": null,
   "metadata": {},
   "outputs": [],
   "source": []
  },
  {
   "cell_type": "code",
   "execution_count": null,
   "metadata": {},
   "outputs": [],
   "source": [
    "# for perc, s2vG in s2vG_dict.items():\n",
    "#     s2vG.getMultiLevelGraph(path=f\"data/GML/{perc}\")"
   ]
  },
  {
   "cell_type": "markdown",
   "metadata": {},
   "source": [
    "## Final embedding"
   ]
  },
  {
   "cell_type": "code",
   "execution_count": 19,
   "metadata": {},
   "outputs": [],
   "source": [
    "walks = []\n",
    "for perc, s2vG in s2vG_dict.items():\n",
    "    n_walk = 500\n",
    "    if (perc == \"25\")|(perc==\"50\"):\n",
    "        n_walk = 1000\n",
    "    walks_ = s2vG.getRandomWalks(number_of_walks = n_walk, walk_length=80)\n",
    "    walks.extend(walks_)\n",
    "\n",
    "model = Word2Vec(walks, vector_size=75)\n",
    "embeddings = {node: model.wv[node] for node in G[\"0\"].nodes}\n",
    "embeddings_values = [x for x in embeddings.values()]\n",
    "X = np.array(embeddings_values)"
   ]
  },
  {
   "cell_type": "code",
   "execution_count": 23,
   "metadata": {},
   "outputs": [],
   "source": [
    "pd.DataFrame(X).to_csv(\"data/embeddings/from_graph_thresholds.csv\")"
   ]
  },
  {
   "cell_type": "code",
   "execution_count": null,
   "metadata": {},
   "outputs": [],
   "source": []
  }
 ],
 "metadata": {
  "kernelspec": {
   "display_name": "Python 3",
   "language": "python",
   "name": "python3"
  },
  "language_info": {
   "codemirror_mode": {
    "name": "ipython",
    "version": 3
   },
   "file_extension": ".py",
   "mimetype": "text/x-python",
   "name": "python",
   "nbconvert_exporter": "python",
   "pygments_lexer": "ipython3",
   "version": "3.13.0"
  }
 },
 "nbformat": 4,
 "nbformat_minor": 2
}

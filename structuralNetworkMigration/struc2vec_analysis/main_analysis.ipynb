{
 "cells": [
  {
   "cell_type": "code",
   "execution_count": 1,
   "metadata": {},
   "outputs": [],
   "source": [
    "import os\n",
    "os.chdir(\"../..\")"
   ]
  },
  {
   "cell_type": "code",
   "execution_count": 2,
   "metadata": {},
   "outputs": [],
   "source": [
    "assert \"struc2vec\" in os.listdir()"
   ]
  },
  {
   "cell_type": "code",
   "execution_count": 16,
   "metadata": {},
   "outputs": [],
   "source": [
    "from struc2vec.src import struc2vec as s2v\n",
    "import networkx as nx\n",
    "import pandas as pd\n",
    "# from gensim.models import Word2Vec\n",
    "import numpy as np\n",
    "# from sklearn.decomposition import PCA\n",
    "import matplotlib.pyplot as plt\n"
   ]
  },
  {
   "cell_type": "code",
   "execution_count": 5,
   "metadata": {},
   "outputs": [],
   "source": [
    "os.chdir(\"structuralNetworkMigration\")\n",
    "assert \"data\" in os.listdir()"
   ]
  },
  {
   "cell_type": "markdown",
   "metadata": {},
   "source": [
    "## Load data"
   ]
  },
  {
   "cell_type": "markdown",
   "metadata": {},
   "source": [
    "First load each graph"
   ]
  },
  {
   "cell_type": "code",
   "execution_count": 6,
   "metadata": {},
   "outputs": [],
   "source": [
    "G = {\"0\":None,\"25\":None,\"50\":None, \"75\":None}\n",
    "\n",
    "for perc, graph in G.items():\n",
    "    G[perc] =  nx.read_gexf(f\"data/Graphs/bynode_{perc}_directed.gexf\")"
   ]
  },
  {
   "cell_type": "markdown",
   "metadata": {},
   "source": [
    "Create struc2vec objects"
   ]
  },
  {
   "cell_type": "code",
   "execution_count": 8,
   "metadata": {},
   "outputs": [],
   "source": [
    "s2vG_dict = {}\n",
    "for perc, graph in G.items():\n",
    "    s2vG_dict[perc] = s2v.struc2vec(graph)"
   ]
  },
  {
   "cell_type": "markdown",
   "metadata": {},
   "source": [
    "Load contextgraphs"
   ]
  },
  {
   "cell_type": "code",
   "execution_count": null,
   "metadata": {},
   "outputs": [],
   "source": [
    "for perc, s2vG in s2vG_dict.items():\n",
    "    s2vG.getMultiLevelGraph()\n",
    "    try:\n",
    "        for i, G in s2vG.G_ML.items():\n",
    "            nx.write_gexf(G, f\"data/GML/{perc}/{i}_fromnode.gexf\")\n",
    "    except:\n",
    "        continue"
   ]
  },
  {
   "cell_type": "code",
   "execution_count": null,
   "metadata": {},
   "outputs": [],
   "source": [
    "    # for i, G in cur_s2vG.G_ML.items():\n",
    "    #     nx.write_gexf(G, f\"GML/{perc}/{i}.gexf\")"
   ]
  },
  {
   "cell_type": "code",
   "execution_count": null,
   "metadata": {},
   "outputs": [],
   "source": [
    "# for perc, s2vG in s2vG_dict.items():\n",
    "#     s2vG.getMultiLevelGraph(path=f\"data/GML/{perc}\")"
   ]
  },
  {
   "cell_type": "markdown",
   "metadata": {},
   "source": [
    "## Final embedding"
   ]
  },
  {
   "cell_type": "code",
   "execution_count": 17,
   "metadata": {},
   "outputs": [
    {
     "ename": "ValueError",
     "evalue": "invalid literal for int() with base 10: np.str_('LTU')",
     "output_type": "error",
     "traceback": [
      "\u001b[1;31m---------------------------------------------------------------------------\u001b[0m",
      "\u001b[1;31mValueError\u001b[0m                                Traceback (most recent call last)",
      "Cell \u001b[1;32mIn[17], line 6\u001b[0m\n\u001b[0;32m      4\u001b[0m     \u001b[38;5;28;01mif\u001b[39;00m (perc \u001b[38;5;241m==\u001b[39m \u001b[38;5;124m\"\u001b[39m\u001b[38;5;124m25\u001b[39m\u001b[38;5;124m\"\u001b[39m)\u001b[38;5;241m|\u001b[39m(perc\u001b[38;5;241m==\u001b[39m\u001b[38;5;124m\"\u001b[39m\u001b[38;5;124m50\u001b[39m\u001b[38;5;124m\"\u001b[39m):\n\u001b[0;32m      5\u001b[0m         n_walk \u001b[38;5;241m=\u001b[39m \u001b[38;5;241m1000\u001b[39m\n\u001b[1;32m----> 6\u001b[0m     walks_ \u001b[38;5;241m=\u001b[39m \u001b[43ms2vG\u001b[49m\u001b[38;5;241;43m.\u001b[39;49m\u001b[43mgetRandomWalks\u001b[49m\u001b[43m(\u001b[49m\u001b[43mnumber_of_walks\u001b[49m\u001b[43m \u001b[49m\u001b[38;5;241;43m=\u001b[39;49m\u001b[43m \u001b[49m\u001b[43mn_walk\u001b[49m\u001b[43m,\u001b[49m\u001b[43m \u001b[49m\u001b[43mwalk_length\u001b[49m\u001b[38;5;241;43m=\u001b[39;49m\u001b[38;5;241;43m80\u001b[39;49m\u001b[43m)\u001b[49m\n\u001b[0;32m      7\u001b[0m     walks\u001b[38;5;241m.\u001b[39mextend(walks_)\n\u001b[0;32m      9\u001b[0m \u001b[38;5;66;03m# model = Word2Vec(walks, vector_size=75)\u001b[39;00m\n\u001b[0;32m     10\u001b[0m \u001b[38;5;66;03m# embeddings = {node: model.wv[node] for node in G[\"0\"].nodes}\u001b[39;00m\n\u001b[0;32m     11\u001b[0m \u001b[38;5;66;03m# embeddings_values = [x for x in embeddings.values()]\u001b[39;00m\n\u001b[0;32m     12\u001b[0m \u001b[38;5;66;03m# X = np.array(embeddings_values)\u001b[39;00m\n",
      "File \u001b[1;32mc:\\Users\\nikol\\Documents\\GitHub\\ImaginoTransference\\struc2vec\\src\\struc2vec.py:48\u001b[0m, in \u001b[0;36mstruc2vec.getRandomWalks\u001b[1;34m(self, start_node, number_of_walks, walk_length, q)\u001b[0m\n\u001b[0;32m     47\u001b[0m \u001b[38;5;28;01mdef\u001b[39;00m \u001b[38;5;21mgetRandomWalks\u001b[39m(\u001b[38;5;28mself\u001b[39m, start_node\u001b[38;5;241m=\u001b[39m\u001b[38;5;28;01mNone\u001b[39;00m, number_of_walks\u001b[38;5;241m=\u001b[39m\u001b[38;5;241m100\u001b[39m, walk_length\u001b[38;5;241m=\u001b[39m\u001b[38;5;241m10\u001b[39m, q\u001b[38;5;241m=\u001b[39m\u001b[38;5;241m0.2\u001b[39m):\n\u001b[1;32m---> 48\u001b[0m     walks \u001b[38;5;241m=\u001b[39m \u001b[43mrandom_walk\u001b[49m\u001b[43m(\u001b[49m\u001b[38;5;28;43mself\u001b[39;49m\u001b[43m,\u001b[49m\u001b[43mstart_node\u001b[49m\u001b[43m,\u001b[49m\u001b[43m \u001b[49m\u001b[43mnumber_of_walks\u001b[49m\u001b[43m,\u001b[49m\u001b[43m \u001b[49m\u001b[43mwalk_length\u001b[49m\u001b[43m,\u001b[49m\u001b[43m \u001b[49m\u001b[43mq\u001b[49m\u001b[43m)\u001b[49m\n\u001b[0;32m     49\u001b[0m     \u001b[38;5;28;01mreturn\u001b[39;00m walks\n",
      "File \u001b[1;32mc:\\Users\\nikol\\Documents\\GitHub\\ImaginoTransference\\struc2vec\\src\\RandomWalker.py:20\u001b[0m, in \u001b[0;36mrandom_walk\u001b[1;34m(s2vG, start_node, number_of_walks, walk_length, q)\u001b[0m\n\u001b[0;32m     18\u001b[0m \u001b[38;5;28;01mfor\u001b[39;00m i \u001b[38;5;129;01min\u001b[39;00m \u001b[38;5;28mrange\u001b[39m(number_of_walks):\n\u001b[0;32m     19\u001b[0m     current_node \u001b[38;5;241m=\u001b[39m start_node \u001b[38;5;28;01mif\u001b[39;00m start_node \u001b[38;5;28;01melse\u001b[39;00m np\u001b[38;5;241m.\u001b[39mrandom\u001b[38;5;241m.\u001b[39mchoice(s2vG\u001b[38;5;241m.\u001b[39mnodes)\n\u001b[1;32m---> 20\u001b[0m     walk \u001b[38;5;241m=\u001b[39m [\u001b[38;5;28;43mint\u001b[39;49m\u001b[43m(\u001b[49m\u001b[43mcurrent_node\u001b[49m\u001b[43m)\u001b[49m]\n\u001b[0;32m     21\u001b[0m     \u001b[38;5;28;01mfor\u001b[39;00m j \u001b[38;5;129;01min\u001b[39;00m \u001b[38;5;28mrange\u001b[39m(walk_length):\n\u001b[0;32m     22\u001b[0m         n_layer \u001b[38;5;241m=\u001b[39m getLayer(s2vG, n_layer, current_node, q)\n",
      "\u001b[1;31mValueError\u001b[0m: invalid literal for int() with base 10: np.str_('LTU')"
     ]
    }
   ],
   "source": [
    "walks = []\n",
    "for perc, s2vG in s2vG_dict.items():\n",
    "    n_walk = 500\n",
    "    if (perc == \"25\")|(perc==\"50\"):\n",
    "        n_walk = 1000\n",
    "    walks_ = s2vG.getRandomWalks(number_of_walks = n_walk, walk_length=80)\n",
    "    walks.extend(walks_)\n",
    "\n",
    "# model = Word2Vec(walks, vector_size=75)\n",
    "# embeddings = {node: model.wv[node] for node in G[\"0\"].nodes}\n",
    "# embeddings_values = [x for x in embeddings.values()]\n",
    "# X = np.array(embeddings_values)"
   ]
  },
  {
   "cell_type": "code",
   "execution_count": 23,
   "metadata": {},
   "outputs": [],
   "source": [
    "pd.DataFrame(X).to_csv(\"data/embeddings/from_graph_thresholds.csv\")"
   ]
  },
  {
   "cell_type": "code",
   "execution_count": null,
   "metadata": {},
   "outputs": [],
   "source": []
  }
 ],
 "metadata": {
  "kernelspec": {
   "display_name": "Python 3",
   "language": "python",
   "name": "python3"
  },
  "language_info": {
   "codemirror_mode": {
    "name": "ipython",
    "version": 3
   },
   "file_extension": ".py",
   "mimetype": "text/x-python",
   "name": "python",
   "nbconvert_exporter": "python",
   "pygments_lexer": "ipython3",
   "version": "3.13.0"
  }
 },
 "nbformat": 4,
 "nbformat_minor": 2
}

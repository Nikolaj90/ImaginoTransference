{
 "cells": [
  {
   "cell_type": "code",
   "execution_count": 1,
   "metadata": {},
   "outputs": [],
   "source": [
    "import os\n",
    "os.chdir(\"../..\")"
   ]
  },
  {
   "cell_type": "code",
   "execution_count": 2,
   "metadata": {},
   "outputs": [],
   "source": [
    "assert \"struc2vec\" in os.listdir()"
   ]
  },
  {
   "cell_type": "code",
   "execution_count": 3,
   "metadata": {},
   "outputs": [],
   "source": [
    "from struc2vec.src import struc2vec as s2v\n",
    "import networkx as nx\n",
    "import pandas as pd\n",
    "from gensim.models import Word2Vec\n",
    "import numpy as np\n",
    "from sklearn.decomposition import PCA\n",
    "import matplotlib.pyplot as plt"
   ]
  },
  {
   "cell_type": "code",
   "execution_count": 4,
   "metadata": {},
   "outputs": [],
   "source": [
    "os.chdir(\"structuralNetworkMigration\")\n",
    "assert \"data\" in os.listdir()"
   ]
  },
  {
   "cell_type": "markdown",
   "metadata": {},
   "source": [
    "## Load data"
   ]
  },
  {
   "cell_type": "markdown",
   "metadata": {},
   "source": [
    "First load each graph"
   ]
  },
  {
   "cell_type": "code",
   "execution_count": 16,
   "metadata": {},
   "outputs": [],
   "source": [
    "G = {\"0\":None,\"25\":None,\"50\":None, \"75\":None}\n",
    "\n",
    "for perc, graph in G.items():\n",
    "    G[perc] =  nx.read_gexf(f\"data/Graphs/bygraph_{perc}_directed.gexf\")"
   ]
  },
  {
   "cell_type": "markdown",
   "metadata": {},
   "source": [
    "Create struc2vec objects"
   ]
  },
  {
   "cell_type": "code",
   "execution_count": 17,
   "metadata": {},
   "outputs": [],
   "source": [
    "s2vG_dict = {}\n",
    "for perc, graph in G.items():\n",
    "    s2vG_dict[perc] = s2v.struc2vec(graph)"
   ]
  },
  {
   "cell_type": "markdown",
   "metadata": {},
   "source": [
    "Load contextgraphs"
   ]
  },
  {
   "cell_type": "code",
   "execution_count": 18,
   "metadata": {},
   "outputs": [],
   "source": [
    "for perc, s2vG in s2vG_dict.items():\n",
    "    s2vG.getMultiLevelGraph(path=f\"data/GML/{perc}\")"
   ]
  },
  {
   "cell_type": "markdown",
   "metadata": {},
   "source": [
    "## Final embedding"
   ]
  },
  {
   "cell_type": "code",
   "execution_count": 19,
   "metadata": {},
   "outputs": [],
   "source": [
    "walks = []\n",
    "for perc, s2vG in s2vG_dict.items():\n",
    "    n_walk = 500\n",
    "    if (perc == \"25\")|(perc==\"50\"):\n",
    "        n_walk = 1000\n",
    "    walks_ = s2vG.getRandomWalks(number_of_walks = n_walk, walk_length=80)\n",
    "    walks.extend(walks_)\n",
    "\n",
    "model = Word2Vec(walks, vector_size=75)\n",
    "embeddings = {node: model.wv[node] for node in G[\"0\"].nodes}\n",
    "embeddings_values = [x for x in embeddings.values()]\n",
    "X = np.array(embeddings_values)"
   ]
  },
  {
   "cell_type": "code",
   "execution_count": 23,
   "metadata": {},
   "outputs": [],
   "source": [
    "pd.DataFrame(X).to_csv(\"data/embeddings/from_graph_thresholds.csv\")"
   ]
  },
  {
   "cell_type": "code",
   "execution_count": null,
   "metadata": {},
   "outputs": [],
   "source": []
  }
 ],
 "metadata": {
  "kernelspec": {
   "display_name": "Python 3",
   "language": "python",
   "name": "python3"
  },
  "language_info": {
   "codemirror_mode": {
    "name": "ipython",
    "version": 3
   },
   "file_extension": ".py",
   "mimetype": "text/x-python",
   "name": "python",
   "nbconvert_exporter": "python",
   "pygments_lexer": "ipython3",
   "version": "3.12.2"
  }
 },
 "nbformat": 4,
 "nbformat_minor": 2
}

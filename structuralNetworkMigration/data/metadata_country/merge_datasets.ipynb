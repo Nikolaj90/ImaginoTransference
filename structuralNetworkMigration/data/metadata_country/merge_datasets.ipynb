{
 "cells": [
  {
   "cell_type": "code",
   "execution_count": 22,
   "metadata": {},
   "outputs": [],
   "source": [
    "import pandas as pd\n",
    "import json\n",
    "import numpy as np"
   ]
  },
  {
   "cell_type": "markdown",
   "metadata": {},
   "source": [
    "### Load datasets"
   ]
  },
  {
   "cell_type": "code",
   "execution_count": 39,
   "metadata": {},
   "outputs": [],
   "source": [
    "hdi_data = pd.read_excel(\"datasets/hdi_data.xlsx\")\n",
    "gdp_data = pd.read_csv(\"datasets/gdp_2017.csv\")[[\"Country Code\", \"2017 [YR2017]\"]]\n",
    "fert_data = pd.read_excel(\"datasets/MortalityFertilityData.xlsx\")"
   ]
  },
  {
   "cell_type": "code",
   "execution_count": 40,
   "metadata": {},
   "outputs": [],
   "source": [
    "hdi_data_keys = {k:v for k, v in  pd.read_excel(\"datasets/HDI_indicators.xlsx\").values}\n",
    "hdi_data.columns = [hdi_data_keys[column_] if column_ in hdi_data_keys.keys() else column_ for column_ in hdi_data.columns]"
   ]
  },
  {
   "cell_type": "code",
   "execution_count": 42,
   "metadata": {},
   "outputs": [],
   "source": [
    "gdp_data.columns = [\"Node\", \"GDP\"]\n",
    "gdp_data[\"GDP\"] = gdp_data[\"GDP\"].replace(\"..\", np.nan)\n"
   ]
  },
  {
   "cell_type": "code",
   "execution_count": 43,
   "metadata": {},
   "outputs": [],
   "source": [
    "fert_data[\"Node\"] = fert_data[\"Country Code\"]\n",
    "fert_data = fert_data.drop(\"Country Code\", axis=1)"
   ]
  },
  {
   "cell_type": "code",
   "execution_count": 44,
   "metadata": {},
   "outputs": [],
   "source": [
    "hdi_data = hdi_data.set_index(\"Node\", drop=True)\n",
    "gdp_data = gdp_data.set_index(\"Node\", drop=True)\n",
    "fert_data = fert_data.set_index(\"Node\", drop=True)"
   ]
  },
  {
   "cell_type": "markdown",
   "metadata": {},
   "source": [
    "### Load classifications"
   ]
  },
  {
   "cell_type": "code",
   "execution_count": 45,
   "metadata": {},
   "outputs": [],
   "source": [
    "with open(\"../embeddings/node2class.json\", \"r\") as f:\n",
    "    class_data = json.load(f)"
   ]
  },
  {
   "cell_type": "code",
   "execution_count": 50,
   "metadata": {},
   "outputs": [],
   "source": [
    "dev_data = pd.DataFrame(class_data.items(), columns=[\"Node\", \"Class\"]).set_index(\"Node\", drop=True)\n",
    "dev_data = pd.concat([dev_data,hdi_data,gdp_data,fert_data], axis=1).dropna(subset=\"Class\")"
   ]
  },
  {
   "cell_type": "code",
   "execution_count": 51,
   "metadata": {},
   "outputs": [],
   "source": [
    "dev_data.to_csv(\"metadata_full.csv\")"
   ]
  },
  {
   "cell_type": "code",
   "execution_count": null,
   "metadata": {},
   "outputs": [],
   "source": []
  },
  {
   "cell_type": "code",
   "execution_count": null,
   "metadata": {},
   "outputs": [],
   "source": []
  }
 ],
 "metadata": {
  "kernelspec": {
   "display_name": "Python 3",
   "language": "python",
   "name": "python3"
  },
  "language_info": {
   "codemirror_mode": {
    "name": "ipython",
    "version": 3
   },
   "file_extension": ".py",
   "mimetype": "text/x-python",
   "name": "python",
   "nbconvert_exporter": "python",
   "pygments_lexer": "ipython3",
   "version": "3.12.2"
  }
 },
 "nbformat": 4,
 "nbformat_minor": 2
}

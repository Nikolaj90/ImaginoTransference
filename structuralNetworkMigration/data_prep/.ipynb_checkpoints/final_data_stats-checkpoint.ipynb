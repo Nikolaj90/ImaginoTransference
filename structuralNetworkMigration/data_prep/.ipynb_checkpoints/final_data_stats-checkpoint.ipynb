{
 "cells": [
  {
   "cell_type": "code",
   "execution_count": 1,
   "metadata": {},
   "outputs": [],
   "source": [
    "import networkx as nx\n",
    "import pandas as pd\n",
    "import json"
   ]
  },
  {
   "cell_type": "code",
   "execution_count": 4,
   "metadata": {},
   "outputs": [],
   "source": [
    "G0 = nx.read_gexf(\"../data/Graphs/bynode_0_directed.gexf\")\n",
    "G25 = nx.read_gexf(\"../data/Graphs/bynode_25_directed.gexf\")\n",
    "G50 = nx.read_gexf(\"../data/Graphs/bynode_50_directed.gexf\")\n",
    "G75 = nx.read_gexf(\"../data/Graphs/bynode_75_directed.gexf\")"
   ]
  },
  {
   "cell_type": "code",
   "execution_count": 7,
   "metadata": {},
   "outputs": [
    {
     "name": "stdout",
     "output_type": "stream",
     "text": [
      "Nodes: 226 \n",
      "Edges: 8297 \n",
      "\n",
      "Nodes: 226 \n",
      "Edges: 6132 \n",
      "\n",
      "Nodes: 226 \n",
      "Edges: 4090 \n",
      "\n",
      "Nodes: 221 \n",
      "Edges: 1984 \n",
      "\n"
     ]
    }
   ],
   "source": [
    "for G in [G0, G25, G50, G75]:\n",
    "    print(f\"Nodes: {len(G)} \\nEdges: {len(G.edges())} \\n\")"
   ]
  }
 ],
 "metadata": {
  "kernelspec": {
   "display_name": "Python 3",
   "language": "python",
   "name": "python3"
  },
  "language_info": {
   "codemirror_mode": {
    "name": "ipython",
    "version": 3
   },
   "file_extension": ".py",
   "mimetype": "text/x-python",
   "name": "python",
   "nbconvert_exporter": "python",
   "pygments_lexer": "ipython3",
   "version": "3.12.2"
  }
 },
 "nbformat": 4,
 "nbformat_minor": 2
}

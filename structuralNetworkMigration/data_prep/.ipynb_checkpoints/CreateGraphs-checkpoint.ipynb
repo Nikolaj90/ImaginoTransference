{
 "cells": [
  {
   "cell_type": "markdown",
   "metadata": {},
   "source": [
    "# Data prep/Create Graphs"
   ]
  },
  {
   "cell_type": "code",
   "execution_count": 106,
   "metadata": {},
   "outputs": [],
   "source": [
    "import networkx as nx\n",
    "import pandas as pd\n",
    "import numpy as np"
   ]
  },
  {
   "cell_type": "code",
   "execution_count": 107,
   "metadata": {},
   "outputs": [],
   "source": [
    "df = pd.read_excel(\"../data/edgelist/UN_full.xlsx\")"
   ]
  },
  {
   "cell_type": "code",
   "execution_count": 108,
   "metadata": {},
   "outputs": [],
   "source": [
    "edgelist = [(origin, destination, {\"weight\":weight}) for origin, destination, weight in df[[\"origin\",\"destination\",\"weight_scaled\"]].values]"
   ]
  },
  {
   "cell_type": "code",
   "execution_count": 109,
   "metadata": {},
   "outputs": [],
   "source": [
    "G = nx.DiGraph(edgelist)"
   ]
  },
  {
   "cell_type": "code",
   "execution_count": 110,
   "metadata": {},
   "outputs": [],
   "source": [
    "# Let's start by getting the adjacency matrix\n",
    "A = nx.adjacency_matrix(G).toarray()"
   ]
  },
  {
   "cell_type": "code",
   "execution_count": 111,
   "metadata": {},
   "outputs": [],
   "source": [
    "for i in range(len(A)):\n",
    "    A[i,:] /= A[i,:].sum()"
   ]
  },
  {
   "cell_type": "code",
   "execution_count": 112,
   "metadata": {},
   "outputs": [],
   "source": [
    "# For convenience, let's make it into a pandas dataframe\n",
    "df = pd.DataFrame(A).stack().reset_index()\n",
    "df.columns = (\"source\", \"target\", \"weight\")\n",
    "df = df[df[\"weight\"] > 0]"
   ]
  },
  {
   "cell_type": "code",
   "execution_count": 113,
   "metadata": {},
   "outputs": [],
   "source": [
    "# For reference\n",
    "indexNodes = {i: node for i, node in enumerate(G.nodes())}"
   ]
  },
  {
   "cell_type": "markdown",
   "metadata": {},
   "source": [
    "## Remove by graph\n",
    "Remove X% with lowest weight"
   ]
  },
  {
   "cell_type": "code",
   "execution_count": 114,
   "metadata": {},
   "outputs": [
    {
     "name": "stdout",
     "output_type": "stream",
     "text": [
      "0.000171368592421224 0.0013355643910900972 0.009280984410031808\n"
     ]
    }
   ],
   "source": [
    "quat25 = df[\"weight\"].describe()[\"25%\"]\n",
    "quat50 = df[\"weight\"].describe()[\"50%\"]\n",
    "quat75 = df[\"weight\"].describe()[\"75%\"]\n",
    "\n",
    "print(quat25,quat50,quat75)"
   ]
  },
  {
   "cell_type": "code",
   "execution_count": 115,
   "metadata": {},
   "outputs": [],
   "source": [
    "edgelists = {\"0\":edgelist}\n",
    "for (perc, lim) in [(\"25\",quat25), (\"50\", quat50), (\"75\",quat75)]:\n",
    "    edgelist_ = [(indexNodes[int(origin)], indexNodes[int(destination)], {\"weight\": weight}) for [origin, destination, weight] in df[df[\"weight\"]>lim].values]\n",
    "    edgelists[perc] = edgelist_"
   ]
  },
  {
   "cell_type": "code",
   "execution_count": 116,
   "metadata": {},
   "outputs": [
    {
     "name": "stdout",
     "output_type": "stream",
     "text": [
      "0 8328\n",
      "25 6222\n",
      "50 4148\n",
      "75 2074\n"
     ]
    }
   ],
   "source": [
    "for k, v in edgelists.items():\n",
    "    print(k, len(v))"
   ]
  },
  {
   "cell_type": "code",
   "execution_count": 117,
   "metadata": {},
   "outputs": [],
   "source": [
    "for perc, edgelist_ in edgelists.items():\n",
    "    G_ = nx.DiGraph(edgelist_)\n",
    "    nx.write_gexf(G_, f\"../data/Graphs/bygraph_{perc}_directed.gexf\")"
   ]
  },
  {
   "cell_type": "markdown",
   "metadata": {},
   "source": [
    "## Remove by node\n",
    "Get edges by percentile"
   ]
  },
  {
   "cell_type": "code",
   "execution_count": 118,
   "metadata": {},
   "outputs": [],
   "source": [
    "edgelists = {\"0\":edgelist}\n",
    "for (perc, limit) in [(\"25\",0.75), (\"50\", 0.5), (\"75\",0.25)]:\n",
    "    edgelist_ = []\n",
    "    for node in df[\"source\"].unique():\n",
    "        df_node = df[df[\"source\"] == node].sort_values(\"weight\", ascending=False)\n",
    "        top_n = int(len(df_node)*limit)\n",
    "        edges = [(indexNodes[int(origin)], indexNodes[int(destination)], {\"weight\": weight}) for [origin, destination, weight] in df_node.head(top_n).values]\n",
    "        edgelist_.extend(edges)\n",
    "    edgelists[perc] = edgelist_"
   ]
  },
  {
   "cell_type": "code",
   "execution_count": 119,
   "metadata": {},
   "outputs": [
    {
     "name": "stdout",
     "output_type": "stream",
     "text": [
      "0 8328\n",
      "25 6132\n",
      "50 4090\n",
      "75 1984\n"
     ]
    }
   ],
   "source": [
    "for k, v in edgelists.items():\n",
    "    print(k, len(v))"
   ]
  },
  {
   "cell_type": "code",
   "execution_count": 120,
   "metadata": {},
   "outputs": [],
   "source": [
    "for perc, edgelist_ in edgelists.items():\n",
    "    G_ = nx.DiGraph(edgelist_)\n",
    "    nx.write_gexf(G_, f\"../data/Graphs/bynode_{perc}_directed.gexf\")"
   ]
  }
 ],
 "metadata": {
  "kernelspec": {
   "display_name": "Python 3 (ipykernel)",
   "language": "python",
   "name": "python3"
  },
  "language_info": {
   "codemirror_mode": {
    "name": "ipython",
    "version": 3
   },
   "file_extension": ".py",
   "mimetype": "text/x-python",
   "name": "python",
   "nbconvert_exporter": "python",
   "pygments_lexer": "ipython3",
   "version": "3.12.2"
  }
 },
 "nbformat": 4,
 "nbformat_minor": 4
}

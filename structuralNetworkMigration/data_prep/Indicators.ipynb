{
 "cells": [
  {
   "cell_type": "markdown",
   "metadata": {},
   "source": [
    "# Data prep/HDI indicators"
   ]
  },
  {
   "cell_type": "code",
   "execution_count": 4,
   "metadata": {},
   "outputs": [],
   "source": [
    "import requests\n",
    "import json\n",
    "import pandas as pd\n",
    "import os\n",
    "os.chdir(\"..\")"
   ]
  },
  {
   "cell_type": "code",
   "execution_count": null,
   "metadata": {},
   "outputs": [],
   "source": [
    "API_KEY = \"\""
   ]
  },
  {
   "cell_type": "code",
   "execution_count": 3,
   "metadata": {},
   "outputs": [],
   "source": [
    "url = f\"https://hdrdata.org/api/CompositeIndices/query?apikey={API_KEY}&countryOrAggregation=AFG&year=2022\""
   ]
  },
  {
   "cell_type": "code",
   "execution_count": 4,
   "metadata": {},
   "outputs": [],
   "source": [
    "response = requests.get(url)"
   ]
  },
  {
   "cell_type": "code",
   "execution_count": 5,
   "metadata": {},
   "outputs": [
    {
     "data": {
      "text/plain": [
       "200"
      ]
     },
     "execution_count": 5,
     "metadata": {},
     "output_type": "execute_result"
    }
   ],
   "source": [
    "response.status_code"
   ]
  },
  {
   "cell_type": "code",
   "execution_count": 6,
   "metadata": {},
   "outputs": [],
   "source": [
    "url = f\"https://hdrdata.org/api/Metadata/Indicators?apikey={API_KEY}\""
   ]
  },
  {
   "cell_type": "code",
   "execution_count": 7,
   "metadata": {},
   "outputs": [],
   "source": [
    "response = requests.get(url)"
   ]
  },
  {
   "cell_type": "code",
   "execution_count": 8,
   "metadata": {},
   "outputs": [],
   "source": [
    "input_ = [(output[\"code\"],output[\"name\"]) for output in response.json()]"
   ]
  },
  {
   "cell_type": "code",
   "execution_count": 9,
   "metadata": {},
   "outputs": [],
   "source": [
    "pd.DataFrame(input_, columns=[\"code\", \"name\"]).to_excel(\"HDI_indicators.xlsx\", index=False)"
   ]
  },
  {
   "cell_type": "markdown",
   "metadata": {},
   "source": [
    "eys\t: Expected Years of Schooling (years) \\\n",
    "hdi : Human Development Index (value) \\\n",
    "le\t: Life Expectancy at Birth (years) \\\n",
    "mys\t: Mean Years of Schooling (years) \\\n",
    "mmr :\tMaternal Mortality Ratio (deaths per 100,000 live births) \\\n",
    "child_mortality\t: Child mortality (%) \\\n",
    "gnipc : Gross National Income Per Capita (2017 PPP$)"
   ]
  },
  {
   "cell_type": "code",
   "execution_count": 10,
   "metadata": {},
   "outputs": [],
   "source": [
    "indicators = {\n",
    "\"eys\":\"Expected Years of Schooling (years)\",\n",
    "\"hdi\":\"Human Development Index (value)\",\n",
    "\"le\":\"Life Expectancy at Birth (years)\",\n",
    "\"mys\":\"Mean Years of Schooling (years)\",\n",
    "\"mmr\":\"Maternal Mortality Ratio (deaths per 100,000 live births)\",\n",
    "\"child_mortality\":\"Child mortality (%)\",\n",
    "\"gnipc\":\"Gross National Income Per Capita (2017 PPP$)\"\n",
    "}"
   ]
  },
  {
   "cell_type": "code",
   "execution_count": 11,
   "metadata": {},
   "outputs": [],
   "source": [
    "ind_str = \",\".join([ind for ind in indicators.keys()])"
   ]
  },
  {
   "cell_type": "code",
   "execution_count": 12,
   "metadata": {},
   "outputs": [],
   "source": [
    "query = f\"https://hdrdata.org/api/CompositeIndices/query-detailed?apikey={API_KEY}&year=2015&indicator={ind_str}\""
   ]
  },
  {
   "cell_type": "code",
   "execution_count": 13,
   "metadata": {},
   "outputs": [],
   "source": [
    "response = requests.get(query)"
   ]
  },
  {
   "cell_type": "code",
   "execution_count": 15,
   "metadata": {},
   "outputs": [],
   "source": [
    "country_data = {}\n",
    "for data_output in response.json():\n",
    "    isoCode = data_output[\"countryIsoCode\"]\n",
    "    indCode = data_output[\"indicatorCode\"]\n",
    "    if isoCode not in country_data.keys():\n",
    "        country_data[isoCode] = {}\n",
    "    country_data[isoCode][indCode] = data_output[\"value\"]"
   ]
  },
  {
   "cell_type": "code",
   "execution_count": 16,
   "metadata": {},
   "outputs": [],
   "source": [
    "hdi_data = pd.DataFrame.from_dict(country_data, orient=\"index\")"
   ]
  },
  {
   "cell_type": "code",
   "execution_count": null,
   "metadata": {},
   "outputs": [],
   "source": [
    "emb = pd.read_excel(\"embeddings/all_nw500_1000_wl80_vs75_pca4.xlsx\")\n",
    "df_emb = emb[[\"Node\",\"Embedding\"]].set_index(\"Node\", drop=True)\n",
    "df_merge =df_emb.merge(hdi_data, left_index=True,right_index=True, how=\"left\")"
   ]
  },
  {
   "cell_type": "code",
   "execution_count": 22,
   "metadata": {},
   "outputs": [
    {
     "data": {
      "text/html": [
       "<div>\n",
       "<style scoped>\n",
       "    .dataframe tbody tr th:only-of-type {\n",
       "        vertical-align: middle;\n",
       "    }\n",
       "\n",
       "    .dataframe tbody tr th {\n",
       "        vertical-align: top;\n",
       "    }\n",
       "\n",
       "    .dataframe thead th {\n",
       "        text-align: right;\n",
       "    }\n",
       "</style>\n",
       "<table border=\"1\" class=\"dataframe\">\n",
       "  <thead>\n",
       "    <tr style=\"text-align: right;\">\n",
       "      <th></th>\n",
       "      <th>child_mortality</th>\n",
       "      <th>eys</th>\n",
       "      <th>gnipc</th>\n",
       "      <th>hdi</th>\n",
       "      <th>le</th>\n",
       "      <th>mmr</th>\n",
       "      <th>mys</th>\n",
       "    </tr>\n",
       "    <tr>\n",
       "      <th>Embedding</th>\n",
       "      <th></th>\n",
       "      <th></th>\n",
       "      <th></th>\n",
       "      <th></th>\n",
       "      <th></th>\n",
       "      <th></th>\n",
       "      <th></th>\n",
       "    </tr>\n",
       "  </thead>\n",
       "  <tbody>\n",
       "    <tr>\n",
       "      <th>0</th>\n",
       "      <td>11.9126</td>\n",
       "      <td>12.678641</td>\n",
       "      <td>15975.186094</td>\n",
       "      <td>0.689141</td>\n",
       "      <td>70.704108</td>\n",
       "      <td>168.926492</td>\n",
       "      <td>8.149031</td>\n",
       "    </tr>\n",
       "    <tr>\n",
       "      <th>1</th>\n",
       "      <td>6.9965</td>\n",
       "      <td>12.885268</td>\n",
       "      <td>13899.585707</td>\n",
       "      <td>0.676122</td>\n",
       "      <td>68.664878</td>\n",
       "      <td>206.297600</td>\n",
       "      <td>8.213220</td>\n",
       "    </tr>\n",
       "    <tr>\n",
       "      <th>2</th>\n",
       "      <td>49.7610</td>\n",
       "      <td>15.545977</td>\n",
       "      <td>33365.807047</td>\n",
       "      <td>0.832628</td>\n",
       "      <td>77.677773</td>\n",
       "      <td>29.143857</td>\n",
       "      <td>10.902488</td>\n",
       "    </tr>\n",
       "    <tr>\n",
       "      <th>3</th>\n",
       "      <td>5.9090</td>\n",
       "      <td>12.451167</td>\n",
       "      <td>15461.260674</td>\n",
       "      <td>0.668214</td>\n",
       "      <td>69.649512</td>\n",
       "      <td>226.191024</td>\n",
       "      <td>7.416119</td>\n",
       "    </tr>\n",
       "  </tbody>\n",
       "</table>\n",
       "</div>"
      ],
      "text/plain": [
       "           child_mortality        eys         gnipc       hdi         le  \\\n",
       "Embedding                                                                  \n",
       "0                  11.9126  12.678641  15975.186094  0.689141  70.704108   \n",
       "1                   6.9965  12.885268  13899.585707  0.676122  68.664878   \n",
       "2                  49.7610  15.545977  33365.807047  0.832628  77.677773   \n",
       "3                   5.9090  12.451167  15461.260674  0.668214  69.649512   \n",
       "\n",
       "                  mmr        mys  \n",
       "Embedding                         \n",
       "0          168.926492   8.149031  \n",
       "1          206.297600   8.213220  \n",
       "2           29.143857  10.902488  \n",
       "3          226.191024   7.416119  "
      ]
     },
     "execution_count": 22,
     "metadata": {},
     "output_type": "execute_result"
    }
   ],
   "source": [
    "df_merge.groupby(\"Embedding\").mean()"
   ]
  },
  {
   "cell_type": "code",
   "execution_count": 26,
   "metadata": {},
   "outputs": [],
   "source": [
    "df_merge.to_excel(\"metadata_country/metadata_country.xlsx\")"
   ]
  },
  {
   "cell_type": "code",
   "execution_count": 8,
   "metadata": {},
   "outputs": [],
   "source": [
    "df_3 = pd.read_excel(\"metadata_country/metadata_country.xlsx\").set_index(\"Node\",drop=True)"
   ]
  },
  {
   "cell_type": "code",
   "execution_count": 12,
   "metadata": {},
   "outputs": [],
   "source": [
    "df_3[\"Embedding_4\"] = df_3[\"Embedding\"]\n",
    "df_3 = df_3.drop(\"Embedding\", axis=1)"
   ]
  },
  {
   "cell_type": "code",
   "execution_count": 13,
   "metadata": {},
   "outputs": [],
   "source": [
    "emb_3 = pd.read_excel(\"embeddings/all_nw500_1000_wl80_vs75_pca3.xlsx\")\n",
    "df_emb_3 = emb_3[[\"Node\",\"Embedding\"]].set_index(\"Node\", drop=True)\n",
    "df_emb_3[\"Embedding_3\"] = df_emb_3[\"Embedding\"]\n",
    "df_emb_3 = df_emb_3.drop(\"Embedding\", axis=1) \n",
    "df_merge_3 =df_emb_3.merge(df_3, left_index=True,right_index=True, how=\"left\")"
   ]
  },
  {
   "cell_type": "code",
   "execution_count": 14,
   "metadata": {},
   "outputs": [
    {
     "data": {
      "text/html": [
       "<div>\n",
       "<style scoped>\n",
       "    .dataframe tbody tr th:only-of-type {\n",
       "        vertical-align: middle;\n",
       "    }\n",
       "\n",
       "    .dataframe tbody tr th {\n",
       "        vertical-align: top;\n",
       "    }\n",
       "\n",
       "    .dataframe thead th {\n",
       "        text-align: right;\n",
       "    }\n",
       "</style>\n",
       "<table border=\"1\" class=\"dataframe\">\n",
       "  <thead>\n",
       "    <tr style=\"text-align: right;\">\n",
       "      <th></th>\n",
       "      <th>child_mortality</th>\n",
       "      <th>eys</th>\n",
       "      <th>gnipc</th>\n",
       "      <th>hdi</th>\n",
       "      <th>le</th>\n",
       "      <th>mmr</th>\n",
       "      <th>mys</th>\n",
       "      <th>Embedding_4</th>\n",
       "    </tr>\n",
       "    <tr>\n",
       "      <th>Embedding_3</th>\n",
       "      <th></th>\n",
       "      <th></th>\n",
       "      <th></th>\n",
       "      <th></th>\n",
       "      <th></th>\n",
       "      <th></th>\n",
       "      <th></th>\n",
       "      <th></th>\n",
       "    </tr>\n",
       "  </thead>\n",
       "  <tbody>\n",
       "    <tr>\n",
       "      <th>0</th>\n",
       "      <td>25.8825</td>\n",
       "      <td>15.232000</td>\n",
       "      <td>30861.525600</td>\n",
       "      <td>0.821686</td>\n",
       "      <td>76.830514</td>\n",
       "      <td>37.582200</td>\n",
       "      <td>10.749357</td>\n",
       "      <td>1.642857</td>\n",
       "    </tr>\n",
       "    <tr>\n",
       "      <th>1</th>\n",
       "      <td>1.9010</td>\n",
       "      <td>12.754381</td>\n",
       "      <td>13264.792098</td>\n",
       "      <td>0.672805</td>\n",
       "      <td>69.618357</td>\n",
       "      <td>183.256235</td>\n",
       "      <td>8.030732</td>\n",
       "      <td>1.054795</td>\n",
       "    </tr>\n",
       "    <tr>\n",
       "      <th>2</th>\n",
       "      <td>5.9408</td>\n",
       "      <td>11.959203</td>\n",
       "      <td>12346.194600</td>\n",
       "      <td>0.640392</td>\n",
       "      <td>68.168778</td>\n",
       "      <td>252.889538</td>\n",
       "      <td>7.048722</td>\n",
       "      <td>1.253012</td>\n",
       "    </tr>\n",
       "  </tbody>\n",
       "</table>\n",
       "</div>"
      ],
      "text/plain": [
       "             child_mortality        eys         gnipc       hdi         le  \\\n",
       "Embedding_3                                                                  \n",
       "0                    25.8825  15.232000  30861.525600  0.821686  76.830514   \n",
       "1                     1.9010  12.754381  13264.792098  0.672805  69.618357   \n",
       "2                     5.9408  11.959203  12346.194600  0.640392  68.168778   \n",
       "\n",
       "                    mmr        mys  Embedding_4  \n",
       "Embedding_3                                      \n",
       "0             37.582200  10.749357     1.642857  \n",
       "1            183.256235   8.030732     1.054795  \n",
       "2            252.889538   7.048722     1.253012  "
      ]
     },
     "execution_count": 14,
     "metadata": {},
     "output_type": "execute_result"
    }
   ],
   "source": [
    "df_merge_3.groupby(\"Embedding_3\").mean()"
   ]
  },
  {
   "cell_type": "code",
   "execution_count": 15,
   "metadata": {},
   "outputs": [],
   "source": [
    "df_merge_3.to_excel(\"metadata_country/metadata_country_3.xlsx\")"
   ]
  }
 ],
 "metadata": {
  "kernelspec": {
   "display_name": "Python 3 (ipykernel)",
   "language": "python",
   "name": "python3"
  },
  "language_info": {
   "codemirror_mode": {
    "name": "ipython",
    "version": 3
   },
   "file_extension": ".py",
   "mimetype": "text/x-python",
   "name": "python",
   "nbconvert_exporter": "python",
   "pygments_lexer": "ipython3",
   "version": "3.12.2"
  }
 },
 "nbformat": 4,
 "nbformat_minor": 4
}

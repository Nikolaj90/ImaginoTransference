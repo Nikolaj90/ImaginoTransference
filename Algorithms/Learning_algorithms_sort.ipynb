{
 "cells": [
  {
   "cell_type": "code",
   "execution_count": 2,
   "id": "ee6e6843",
   "metadata": {},
   "outputs": [],
   "source": [
    "import numpy as np\n",
    "from collections import deque"
   ]
  },
  {
   "cell_type": "markdown",
   "id": "6e960ca8",
   "metadata": {},
   "source": [
    "### Merge sort"
   ]
  },
  {
   "cell_type": "code",
   "execution_count": 78,
   "id": "033e711e",
   "metadata": {},
   "outputs": [],
   "source": [
    "List1 = [1,4,13,23,57,87,99]\n",
    "List2 = [2,4,4,5,8]\n",
    "Log = []"
   ]
  },
  {
   "cell_type": "code",
   "execution_count": 79,
   "id": "83921aa3",
   "metadata": {},
   "outputs": [],
   "source": [
    "def Merge(list1,list2):\n",
    "    sorted_list = []\n",
    "    list1 = list1.copy()\n",
    "    list2 = list2.copy()\n",
    "    list1 = [*reversed(list1)]\n",
    "    list2 = [*reversed(list2)]\n",
    "    while (len(list1)!=0)&(len(list2)!=0):\n",
    "        if list1[-1] < list2[-1]:\n",
    "            sorted_list.append(list1.pop())\n",
    "        else:\n",
    "            sorted_list.append(list2.pop())\n",
    "    if len(list1) > 0:\n",
    "        list1 = [*reversed(list1)]\n",
    "        sorted_list.extend(list1)\n",
    "    else:\n",
    "        list2 = [*reversed(list2)]\n",
    "        sorted_list.extend(list2)\n",
    "    return sorted_list"
   ]
  },
  {
   "cell_type": "code",
   "execution_count": 80,
   "id": "643711ee",
   "metadata": {},
   "outputs": [],
   "source": [
    "def Merge_que(list1,list2):\n",
    "    sorted_list = []\n",
    "    while (len(list1)!=0)&(len(list2)!=0):\n",
    "        if list1[0] < list2[0]:\n",
    "            sorted_list.append(list1.pop(0))\n",
    "        else:\n",
    "            sorted_list.append(list2.pop(0))\n",
    "    if len(list1) > 0:\n",
    "        sorted_list.extend(list1)\n",
    "    else:\n",
    "        sorted_list.extend(list2)\n",
    "    return sorted_list"
   ]
  },
  {
   "cell_type": "code",
   "execution_count": 81,
   "id": "8c104fc7",
   "metadata": {},
   "outputs": [
    {
     "data": {
      "text/plain": [
       "[1, 2, 4, 4, 4, 5, 8, 13, 23, 57, 87, 99]"
      ]
     },
     "execution_count": 81,
     "metadata": {},
     "output_type": "execute_result"
    }
   ],
   "source": [
    "Merge(List1,List2)"
   ]
  },
  {
   "cell_type": "code",
   "execution_count": 82,
   "id": "99698565",
   "metadata": {},
   "outputs": [
    {
     "data": {
      "text/plain": [
       "[1, 2, 4, 4, 4, 5, 8, 13, 23, 57, 87, 99]"
      ]
     },
     "execution_count": 82,
     "metadata": {},
     "output_type": "execute_result"
    }
   ],
   "source": [
    "Merge_que(List1,List2)"
   ]
  },
  {
   "cell_type": "code",
   "execution_count": 83,
   "id": "ceb725a0",
   "metadata": {},
   "outputs": [
    {
     "name": "stdout",
     "output_type": "stream",
     "text": [
      "1.49 µs ± 292 ns per loop (mean ± std. dev. of 7 runs, 1000000 loops each)\n"
     ]
    }
   ],
   "source": [
    "%timeit Merge(List1,List2)"
   ]
  },
  {
   "cell_type": "code",
   "execution_count": 84,
   "id": "3a2d4a8e",
   "metadata": {},
   "outputs": [
    {
     "name": "stdout",
     "output_type": "stream",
     "text": [
      "369 ns ± 9.33 ns per loop (mean ± std. dev. of 7 runs, 1000000 loops each)\n"
     ]
    }
   ],
   "source": [
    "%timeit Merge_que(List1,List2)"
   ]
  },
  {
   "cell_type": "code",
   "execution_count": 58,
   "id": "17c9f6e5",
   "metadata": {},
   "outputs": [],
   "source": [
    "def MergeSort(list1):\n",
    "    if len(list1) == 1:\n",
    "        return list1\n",
    "    first_half = list1[:len(list1)//2]\n",
    "    last_half = list1[len(list1)//2:]\n",
    "    SortedFirst = MergeSort(first_half)\n",
    "    SortedLast = MergeSort(last_half)\n",
    "    SortedList = Merge(SortedFirst,SortedLast)\n",
    "    return SortedList"
   ]
  },
  {
   "cell_type": "code",
   "execution_count": 85,
   "id": "7eb87e1d",
   "metadata": {},
   "outputs": [],
   "source": [
    "def MergeSort_que(list1):\n",
    "    if len(list1) == 1:\n",
    "        return list1\n",
    "    first_half = list1[:len(list1)//2]\n",
    "    last_half = list1[len(list1)//2:]\n",
    "    SortedFirst = MergeSort_que(first_half)\n",
    "    SortedLast = MergeSort_que(last_half)\n",
    "    SortedList = Merge_que(SortedFirst,SortedLast)\n",
    "    return SortedList"
   ]
  },
  {
   "cell_type": "code",
   "execution_count": 107,
   "id": "00c0aca8",
   "metadata": {},
   "outputs": [],
   "source": [
    "list_test =np.random.randint(0, high = 1000, size = 20)\n",
    "list_test = list(list_test)"
   ]
  },
  {
   "cell_type": "code",
   "execution_count": 89,
   "id": "f6116d16",
   "metadata": {},
   "outputs": [
    {
     "data": {
      "text/plain": [
       "[113,\n",
       " 306,\n",
       " 326,\n",
       " 368,\n",
       " 428,\n",
       " 430,\n",
       " 471,\n",
       " 479,\n",
       " 541,\n",
       " 584,\n",
       " 604,\n",
       " 632,\n",
       " 679,\n",
       " 681,\n",
       " 703,\n",
       " 794,\n",
       " 878,\n",
       " 901,\n",
       " 916,\n",
       " 963]"
      ]
     },
     "execution_count": 89,
     "metadata": {},
     "output_type": "execute_result"
    }
   ],
   "source": [
    "MergeSort_que(list_test)"
   ]
  },
  {
   "cell_type": "code",
   "execution_count": 90,
   "id": "1a7b86c4",
   "metadata": {},
   "outputs": [
    {
     "data": {
      "text/plain": [
       "[113,\n",
       " 306,\n",
       " 326,\n",
       " 368,\n",
       " 428,\n",
       " 430,\n",
       " 471,\n",
       " 479,\n",
       " 541,\n",
       " 584,\n",
       " 604,\n",
       " 632,\n",
       " 679,\n",
       " 681,\n",
       " 703,\n",
       " 794,\n",
       " 878,\n",
       " 901,\n",
       " 916,\n",
       " 963]"
      ]
     },
     "execution_count": 90,
     "metadata": {},
     "output_type": "execute_result"
    }
   ],
   "source": [
    "MergeSort(list_test)"
   ]
  },
  {
   "cell_type": "code",
   "execution_count": 92,
   "id": "42540eb9",
   "metadata": {},
   "outputs": [
    {
     "name": "stdout",
     "output_type": "stream",
     "text": [
      "90.6 µs ± 2.22 µs per loop (mean ± std. dev. of 7 runs, 10000 loops each)\n"
     ]
    }
   ],
   "source": [
    "%timeit MergeSort(list_test)"
   ]
  },
  {
   "cell_type": "code",
   "execution_count": 91,
   "id": "dc347d7c",
   "metadata": {},
   "outputs": [
    {
     "name": "stdout",
     "output_type": "stream",
     "text": [
      "63.4 µs ± 1.73 µs per loop (mean ± std. dev. of 7 runs, 10000 loops each)\n"
     ]
    }
   ],
   "source": [
    "%timeit MergeSort_que(list_test)"
   ]
  },
  {
   "cell_type": "code",
   "execution_count": 93,
   "id": "ec2e4fa2",
   "metadata": {},
   "outputs": [
    {
     "name": "stdout",
     "output_type": "stream",
     "text": [
      "1.11 µs ± 78.7 ns per loop (mean ± std. dev. of 7 runs, 1000000 loops each)\n"
     ]
    }
   ],
   "source": [
    "%timeit sorted(list_test)"
   ]
  },
  {
   "cell_type": "markdown",
   "id": "08f4cd4d",
   "metadata": {},
   "source": [
    "## Find the two largest numbers"
   ]
  },
  {
   "cell_type": "code",
   "execution_count": 96,
   "id": "d095c368",
   "metadata": {},
   "outputs": [
    {
     "data": {
      "text/plain": [
       "882108"
      ]
     },
     "execution_count": 96,
     "metadata": {},
     "output_type": "execute_result"
    }
   ],
   "source": [
    "963*916"
   ]
  },
  {
   "cell_type": "code",
   "execution_count": 94,
   "id": "df659363",
   "metadata": {},
   "outputs": [],
   "source": [
    "def add_highest_sort(list_input):\n",
    "    sortedList = MergeSort_que(list_input)\n",
    "    return sortedList[-1] * sortedList[-2]"
   ]
  },
  {
   "cell_type": "code",
   "execution_count": 109,
   "id": "3f6c4c0c",
   "metadata": {},
   "outputs": [
    {
     "data": {
      "text/plain": [
       "608144"
      ]
     },
     "execution_count": 109,
     "metadata": {},
     "output_type": "execute_result"
    }
   ],
   "source": [
    "add_highest_sort(list_test)"
   ]
  },
  {
   "cell_type": "code",
   "execution_count": 115,
   "id": "647bdd45",
   "metadata": {},
   "outputs": [],
   "source": [
    "def find_max(list_input):\n",
    "    maximum = list_input[0]-1\n",
    "    for item in list_input:\n",
    "        if item > maximum:\n",
    "            maximum = item\n",
    "    return maximum\n",
    "\n",
    "def multiply_nmax(list_input, n=2):\n",
    "    list_input = list_input.copy()\n",
    "    sum_output = 1\n",
    "    for i in range(n):\n",
    "        max_number = find_max(list_input)\n",
    "        sum_output = sum_output*max_number\n",
    "        index = list_input.index(max_number)\n",
    "        list_input.pop(index)\n",
    "    return sum_output\n",
    "\n",
    "def max_pair(list_input):\n",
    "    first = list_input[0]\n",
    "    second = list_input[1]\n",
    "    \n",
    "    for item in list_input:\n",
    "        if item > first:\n",
    "            first = item\n",
    "        elif item > second:\n",
    "            second = item\n",
    "    return first*second"
   ]
  },
  {
   "cell_type": "code",
   "execution_count": 108,
   "id": "b2c41fad",
   "metadata": {},
   "outputs": [
    {
     "data": {
      "text/plain": [
       "608144"
      ]
     },
     "execution_count": 108,
     "metadata": {},
     "output_type": "execute_result"
    }
   ],
   "source": [
    "multiply_nmax(list_test)"
   ]
  },
  {
   "cell_type": "code",
   "execution_count": 116,
   "id": "e4808784",
   "metadata": {},
   "outputs": [
    {
     "data": {
      "text/plain": [
       "608144"
      ]
     },
     "execution_count": 116,
     "metadata": {},
     "output_type": "execute_result"
    }
   ],
   "source": [
    "max_pair(list_test)"
   ]
  },
  {
   "cell_type": "code",
   "execution_count": 111,
   "id": "4b03e0a2",
   "metadata": {},
   "outputs": [
    {
     "name": "stdout",
     "output_type": "stream",
     "text": [
      "59.7 µs ± 835 ns per loop (mean ± std. dev. of 7 runs, 10000 loops each)\n"
     ]
    }
   ],
   "source": [
    "%timeit add_highest_sort(list_test)"
   ]
  },
  {
   "cell_type": "code",
   "execution_count": 110,
   "id": "859f0303",
   "metadata": {},
   "outputs": [
    {
     "name": "stdout",
     "output_type": "stream",
     "text": [
      "5.86 µs ± 362 ns per loop (mean ± std. dev. of 7 runs, 100000 loops each)\n"
     ]
    }
   ],
   "source": [
    "%timeit multiply_nmax(list_test)"
   ]
  },
  {
   "cell_type": "code",
   "execution_count": 117,
   "id": "d118c754",
   "metadata": {},
   "outputs": [
    {
     "name": "stdout",
     "output_type": "stream",
     "text": [
      "3.15 µs ± 131 ns per loop (mean ± std. dev. of 7 runs, 100000 loops each)\n"
     ]
    }
   ],
   "source": [
    "%timeit max_pair(list_test)"
   ]
  },
  {
   "cell_type": "code",
   "execution_count": 112,
   "id": "5c4ff2ed",
   "metadata": {},
   "outputs": [],
   "source": [
    "def max_pairwise_product(numbers):\n",
    "    n = len(numbers)\n",
    "    max_product = 0\n",
    "    for first in range(n):\n",
    "        for second in range(first + 1, n):\n",
    "            max_product = max(max_product, numbers[first] * numbers[second])\n",
    "    return max_product"
   ]
  },
  {
   "cell_type": "code",
   "execution_count": 113,
   "id": "98f68c11",
   "metadata": {},
   "outputs": [
    {
     "data": {
      "text/plain": [
       "608144"
      ]
     },
     "execution_count": 113,
     "metadata": {},
     "output_type": "execute_result"
    }
   ],
   "source": [
    "max_pairwise_product(list_test)"
   ]
  },
  {
   "cell_type": "code",
   "execution_count": 114,
   "id": "bce6d9e4",
   "metadata": {},
   "outputs": [
    {
     "name": "stdout",
     "output_type": "stream",
     "text": [
      "81.2 µs ± 1.87 µs per loop (mean ± std. dev. of 7 runs, 10000 loops each)\n"
     ]
    }
   ],
   "source": [
    "%timeit max_pairwise_product(list_test)"
   ]
  },
  {
   "cell_type": "code",
   "execution_count": 120,
   "id": "51499ddb",
   "metadata": {},
   "outputs": [],
   "source": [
    "def multiply_two_largest(arr):\n",
    "    def find_two_largest_helper(arr, start, end):\n",
    "        if start == end:\n",
    "            return arr[start], float('-inf')\n",
    "        elif end - start == 1:\n",
    "            return max(arr[start], arr[end]), min(arr[start], arr[end])\n",
    "\n",
    "        mid = (start + end) // 2\n",
    "        max1_left, max2_left = find_two_largest_helper(arr, start, mid)\n",
    "        max1_right, max2_right = find_two_largest_helper(arr, mid+1, end)\n",
    "\n",
    "        if max1_left > max1_right:\n",
    "            max1 = max1_left\n",
    "            max2 = max(max2_left, max1_right)\n",
    "        else:\n",
    "            max1 = max1_right\n",
    "            max2 = max(max2_right, max1_left)\n",
    "\n",
    "        for i in range(start, mid+1):\n",
    "            if arr[i] > max2 and arr[i] < max1:\n",
    "                max2 = arr[i]\n",
    "        for i in range(mid+1, end+1):\n",
    "            if arr[i] > max2 and arr[i] < max1:\n",
    "                max2 = arr[i]\n",
    "\n",
    "        return max1, max2\n",
    "\n",
    "    if len(arr) < 2:\n",
    "        raise ValueError(\"Array must have at least 2 elements\")\n",
    "\n",
    "    max1, max2 = find_two_largest_helper(arr, 0, len(arr)-1)\n",
    "    return max1 * max2"
   ]
  },
  {
   "cell_type": "code",
   "execution_count": 123,
   "id": "a72a3144",
   "metadata": {},
   "outputs": [
    {
     "name": "stdout",
     "output_type": "stream",
     "text": [
      "43.1 µs ± 1.92 µs per loop (mean ± std. dev. of 7 runs, 10000 loops each)\n"
     ]
    }
   ],
   "source": [
    "%timeit multiply_two_largest(list_test)"
   ]
  },
  {
   "cell_type": "code",
   "execution_count": 124,
   "id": "7f58251b",
   "metadata": {},
   "outputs": [],
   "source": [
    "long_test = np.random.randint(0,1000,size=5000000)"
   ]
  },
  {
   "cell_type": "code",
   "execution_count": 125,
   "id": "fa896a7b",
   "metadata": {},
   "outputs": [
    {
     "name": "stdout",
     "output_type": "stream",
     "text": [
      "20.3 s ± 69.4 ms per loop (mean ± std. dev. of 7 runs, 1 loop each)\n"
     ]
    }
   ],
   "source": [
    "%timeit multiply_two_largest(long_test)"
   ]
  },
  {
   "cell_type": "code",
   "execution_count": 126,
   "id": "c664c784",
   "metadata": {},
   "outputs": [
    {
     "name": "stdout",
     "output_type": "stream",
     "text": [
      "640 ms ± 18 ms per loop (mean ± std. dev. of 7 runs, 1 loop each)\n"
     ]
    }
   ],
   "source": [
    "%timeit max_pair(long_test)"
   ]
  }
 ],
 "metadata": {
  "kernelspec": {
   "display_name": "Python 3",
   "language": "python",
   "name": "python3"
  },
  "language_info": {
   "codemirror_mode": {
    "name": "ipython",
    "version": 3
   },
   "file_extension": ".py",
   "mimetype": "text/x-python",
   "name": "python",
   "nbconvert_exporter": "python",
   "pygments_lexer": "ipython3",
   "version": "3.8.8"
  }
 },
 "nbformat": 4,
 "nbformat_minor": 5
}

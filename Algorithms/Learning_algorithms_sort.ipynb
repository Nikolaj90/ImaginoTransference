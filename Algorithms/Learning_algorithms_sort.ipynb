{
 "cells": [
  {
   "cell_type": "code",
   "execution_count": 2,
   "id": "5d3be775",
   "metadata": {},
   "outputs": [],
   "source": [
    "import numpy as np\n",
    "from collections import deque"
   ]
  },
  {
   "cell_type": "markdown",
   "id": "6e960ca8",
   "metadata": {},
   "source": [
    "### Merge sort"
   ]
  },
  {
   "cell_type": "code",
   "execution_count": 78,
   "id": "033e711e",
   "metadata": {},
   "outputs": [],
   "source": [
    "List1 = [1,4,13,23,57,87,99]\n",
    "List2 = [2,4,4,5,8]\n",
    "Log = []"
   ]
  },
  {
   "cell_type": "code",
   "execution_count": 79,
   "id": "83921aa3",
   "metadata": {},
   "outputs": [],
   "source": [
    "def Merge(list1,list2):\n",
    "    sorted_list = []\n",
    "    list1 = list1.copy()\n",
    "    list2 = list2.copy()\n",
    "    list1 = [*reversed(list1)]\n",
    "    list2 = [*reversed(list2)]\n",
    "    while (len(list1)!=0)&(len(list2)!=0):\n",
    "        if list1[-1] < list2[-1]:\n",
    "            sorted_list.append(list1.pop())\n",
    "        else:\n",
    "            sorted_list.append(list2.pop())\n",
    "    if len(list1) > 0:\n",
    "        list1 = [*reversed(list1)]\n",
    "        sorted_list.extend(list1)\n",
    "    else:\n",
    "        list2 = [*reversed(list2)]\n",
    "        sorted_list.extend(list2)\n",
    "    return sorted_list"
   ]
  },
  {
   "cell_type": "code",
   "execution_count": 80,
   "id": "3aa81edd",
   "metadata": {},
   "outputs": [],
   "source": [
    "def Merge_que(list1,list2):\n",
    "    sorted_list = []\n",
    "    while (len(list1)!=0)&(len(list2)!=0):\n",
    "        if list1[0] < list2[0]:\n",
    "            sorted_list.append(list1.pop(0))\n",
    "        else:\n",
    "            sorted_list.append(list2.pop(0))\n",
    "    if len(list1) > 0:\n",
    "        sorted_list.extend(list1)\n",
    "    else:\n",
    "        sorted_list.extend(list2)\n",
    "    return sorted_list"
   ]
  },
  {
   "cell_type": "code",
   "execution_count": 81,
   "id": "e8e7412f",
   "metadata": {},
   "outputs": [
    {
     "data": {
      "text/plain": [
       "[1, 2, 4, 4, 4, 5, 8, 13, 23, 57, 87, 99]"
      ]
     },
     "execution_count": 81,
     "metadata": {},
     "output_type": "execute_result"
    }
   ],
   "source": [
    "Merge(List1,List2)"
   ]
  },
  {
   "cell_type": "code",
   "execution_count": 82,
   "id": "6c9cc9ca",
   "metadata": {},
   "outputs": [
    {
     "data": {
      "text/plain": [
       "[1, 2, 4, 4, 4, 5, 8, 13, 23, 57, 87, 99]"
      ]
     },
     "execution_count": 82,
     "metadata": {},
     "output_type": "execute_result"
    }
   ],
   "source": [
    "Merge_que(List1,List2)"
   ]
  },
  {
   "cell_type": "code",
   "execution_count": 83,
   "id": "c3735815",
   "metadata": {},
   "outputs": [
    {
     "name": "stdout",
     "output_type": "stream",
     "text": [
      "1.49 µs ± 292 ns per loop (mean ± std. dev. of 7 runs, 1000000 loops each)\n"
     ]
    }
   ],
   "source": [
    "%timeit Merge(List1,List2)"
   ]
  },
  {
   "cell_type": "code",
   "execution_count": 84,
   "id": "5a0254a3",
   "metadata": {},
   "outputs": [
    {
     "name": "stdout",
     "output_type": "stream",
     "text": [
      "369 ns ± 9.33 ns per loop (mean ± std. dev. of 7 runs, 1000000 loops each)\n"
     ]
    }
   ],
   "source": [
    "%timeit Merge_que(List1,List2)"
   ]
  },
  {
   "cell_type": "code",
   "execution_count": 58,
   "id": "17c9f6e5",
   "metadata": {},
   "outputs": [],
   "source": [
    "def MergeSort(list1):\n",
    "    if len(list1) == 1:\n",
    "        return list1\n",
    "    first_half = list1[:len(list1)//2]\n",
    "    last_half = list1[len(list1)//2:]\n",
    "    SortedFirst = MergeSort(first_half)\n",
    "    SortedLast = MergeSort(last_half)\n",
    "    SortedList = Merge(SortedFirst,SortedLast)\n",
    "    return SortedList"
   ]
  },
  {
   "cell_type": "code",
   "execution_count": 85,
   "id": "60b22436",
   "metadata": {},
   "outputs": [],
   "source": [
    "def MergeSort_que(list1):\n",
    "    if len(list1) == 1:\n",
    "        return list1\n",
    "    first_half = list1[:len(list1)//2]\n",
    "    last_half = list1[len(list1)//2:]\n",
    "    SortedFirst = MergeSort_que(first_half)\n",
    "    SortedLast = MergeSort_que(last_half)\n",
    "    SortedList = Merge_que(SortedFirst,SortedLast)\n",
    "    return SortedList"
   ]
  },
  {
   "cell_type": "code",
   "execution_count": 107,
   "id": "9ce109fb",
   "metadata": {},
   "outputs": [],
   "source": [
    "list_test =np.random.randint(0, high = 1000, size = 20)\n",
    "list_test = list(list_test)"
   ]
  },
  {
   "cell_type": "code",
   "execution_count": 89,
   "id": "983b59e8",
   "metadata": {},
   "outputs": [
    {
     "data": {
      "text/plain": [
       "[113,\n",
       " 306,\n",
       " 326,\n",
       " 368,\n",
       " 428,\n",
       " 430,\n",
       " 471,\n",
       " 479,\n",
       " 541,\n",
       " 584,\n",
       " 604,\n",
       " 632,\n",
       " 679,\n",
       " 681,\n",
       " 703,\n",
       " 794,\n",
       " 878,\n",
       " 901,\n",
       " 916,\n",
       " 963]"
      ]
     },
     "execution_count": 89,
     "metadata": {},
     "output_type": "execute_result"
    }
   ],
   "source": [
    "MergeSort_que(list_test)"
   ]
  },
  {
   "cell_type": "code",
   "execution_count": 90,
   "id": "06ff2f32",
   "metadata": {},
   "outputs": [
    {
     "data": {
      "text/plain": [
       "[113,\n",
       " 306,\n",
       " 326,\n",
       " 368,\n",
       " 428,\n",
       " 430,\n",
       " 471,\n",
       " 479,\n",
       " 541,\n",
       " 584,\n",
       " 604,\n",
       " 632,\n",
       " 679,\n",
       " 681,\n",
       " 703,\n",
       " 794,\n",
       " 878,\n",
       " 901,\n",
       " 916,\n",
       " 963]"
      ]
     },
     "execution_count": 90,
     "metadata": {},
     "output_type": "execute_result"
    }
   ],
   "source": [
    "MergeSort(list_test)"
   ]
  },
  {
   "cell_type": "code",
   "execution_count": 92,
   "id": "42540eb9",
   "metadata": {},
   "outputs": [
    {
     "name": "stdout",
     "output_type": "stream",
     "text": [
      "90.6 µs ± 2.22 µs per loop (mean ± std. dev. of 7 runs, 10000 loops each)\n"
     ]
    }
   ],
   "source": [
    "%timeit MergeSort(list_test)"
   ]
  },
  {
   "cell_type": "code",
   "execution_count": 91,
   "id": "b6366015",
   "metadata": {},
   "outputs": [
    {
     "name": "stdout",
     "output_type": "stream",
     "text": [
      "63.4 µs ± 1.73 µs per loop (mean ± std. dev. of 7 runs, 10000 loops each)\n"
     ]
    }
   ],
   "source": [
    "%timeit MergeSort_que(list_test)"
   ]
  },
  {
   "cell_type": "code",
   "execution_count": 93,
   "id": "1cd15aa9",
   "metadata": {},
   "outputs": [
    {
     "name": "stdout",
     "output_type": "stream",
     "text": [
      "1.11 µs ± 78.7 ns per loop (mean ± std. dev. of 7 runs, 1000000 loops each)\n"
     ]
    }
   ],
   "source": [
    "%timeit sorted(list_test)"
   ]
  },
  {
   "cell_type": "markdown",
   "id": "5e497ffb",
   "metadata": {},
   "source": [
    "## Find the two largest numbers"
   ]
  },
  {
   "cell_type": "code",
   "execution_count": 96,
   "id": "1883ac94",
   "metadata": {},
   "outputs": [
    {
     "data": {
      "text/plain": [
       "882108"
      ]
     },
     "execution_count": 96,
     "metadata": {},
     "output_type": "execute_result"
    }
   ],
   "source": [
    "963*916"
   ]
  },
  {
   "cell_type": "code",
   "execution_count": 94,
   "id": "73166a9a",
   "metadata": {},
   "outputs": [],
   "source": [
    "def add_highest_sort(list_input):\n",
    "    sortedList = MergeSort_que(list_input)\n",
    "    return sortedList[-1] * sortedList[-2]"
   ]
  },
  {
   "cell_type": "code",
   "execution_count": 109,
   "id": "f3933e40",
   "metadata": {},
   "outputs": [
    {
     "data": {
      "text/plain": [
       "608144"
      ]
     },
     "execution_count": 109,
     "metadata": {},
     "output_type": "execute_result"
    }
   ],
   "source": [
    "add_highest_sort(list_test)"
   ]
  },
  {
   "cell_type": "code",
   "execution_count": 105,
   "id": "9760d99f",
   "metadata": {},
   "outputs": [],
   "source": [
    "def find_max(list_input):\n",
    "    maximum = list_input[0]-1\n",
    "    for item in list_input:\n",
    "        if item > maximum:\n",
    "            maximum = item\n",
    "    return maximum\n",
    "\n",
    "def multiply_nmax(list_input, n=2):\n",
    "    list_input = list_input.copy()\n",
    "    sum_output = 1\n",
    "    for i in range(n):\n",
    "        max_number = find_max(list_input)\n",
    "        sum_output = sum_output*max_number\n",
    "        index = list_input.index(max_number)\n",
    "        list_input.pop(index)\n",
    "    return sum_output"
   ]
  },
  {
   "cell_type": "code",
   "execution_count": 108,
   "id": "e14030dd",
   "metadata": {},
   "outputs": [
    {
     "data": {
      "text/plain": [
       "608144"
      ]
     },
     "execution_count": 108,
     "metadata": {},
     "output_type": "execute_result"
    }
   ],
   "source": [
    "multiply_nmax(list_test)"
   ]
  },
  {
   "cell_type": "code",
   "execution_count": 111,
   "id": "98db2bcf",
   "metadata": {},
   "outputs": [
    {
     "name": "stdout",
     "output_type": "stream",
     "text": [
      "59.7 µs ± 835 ns per loop (mean ± std. dev. of 7 runs, 10000 loops each)\n"
     ]
    }
   ],
   "source": [
    "%timeit add_highest_sort(list_test)"
   ]
  },
  {
   "cell_type": "code",
   "execution_count": 110,
   "id": "88de0cf3",
   "metadata": {},
   "outputs": [
    {
     "name": "stdout",
     "output_type": "stream",
     "text": [
      "5.86 µs ± 362 ns per loop (mean ± std. dev. of 7 runs, 100000 loops each)\n"
     ]
    }
   ],
   "source": [
    "%timeit multiply_nmax(list_test)"
   ]
  }
 ],
 "metadata": {
  "kernelspec": {
   "display_name": "Python 3",
   "language": "python",
   "name": "python3"
  },
  "language_info": {
   "codemirror_mode": {
    "name": "ipython",
    "version": 3
   },
   "file_extension": ".py",
   "mimetype": "text/x-python",
   "name": "python",
   "nbconvert_exporter": "python",
   "pygments_lexer": "ipython3",
   "version": "3.8.8"
  }
 },
 "nbformat": 4,
 "nbformat_minor": 5
}

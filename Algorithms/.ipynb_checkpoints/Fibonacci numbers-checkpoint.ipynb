{
 "cells": [
  {
   "cell_type": "code",
   "execution_count": 7,
   "id": "865b3de7",
   "metadata": {},
   "outputs": [],
   "source": [
    "def fibonacci(n):\n",
    "    if n <= 1:\n",
    "        return n\n",
    "    else:\n",
    "        return fibonacci(n-2)+fibonacci(n-1)"
   ]
  },
  {
   "cell_type": "code",
   "execution_count": 8,
   "id": "05362dfe",
   "metadata": {},
   "outputs": [
    {
     "data": {
      "text/plain": [
       "2"
      ]
     },
     "execution_count": 8,
     "metadata": {},
     "output_type": "execute_result"
    }
   ],
   "source": [
    "fibonacci(3)"
   ]
  },
  {
   "cell_type": "code",
   "execution_count": 15,
   "id": "967eb122",
   "metadata": {},
   "outputs": [
    {
     "data": {
      "text/plain": [
       "55"
      ]
     },
     "execution_count": 15,
     "metadata": {},
     "output_type": "execute_result"
    }
   ],
   "source": [
    "fibonacci(10)"
   ]
  },
  {
   "cell_type": "code",
   "execution_count": 10,
   "id": "c3314d41",
   "metadata": {},
   "outputs": [],
   "source": [
    "def fibo_iter(n):\n",
    "    if n <= 1:\n",
    "        return n\n",
    "    previous = 0\n",
    "    current = 1\n",
    "    for i in range(n-1):\n",
    "        oldPrevious = previous\n",
    "        previous = current\n",
    "        current = oldPrevious + previous\n",
    "    return current"
   ]
  },
  {
   "cell_type": "code",
   "execution_count": 25,
   "id": "84e635d6",
   "metadata": {},
   "outputs": [
    {
     "data": {
      "text/plain": [
       "139423224561697880139724382870407283950070256587697307264108962948325571622863290691557658876222521294125"
      ]
     },
     "execution_count": 25,
     "metadata": {},
     "output_type": "execute_result"
    }
   ],
   "source": [
    "fibo_iter(500)"
   ]
  },
  {
   "cell_type": "code",
   "execution_count": 12,
   "id": "ce08392d",
   "metadata": {},
   "outputs": [
    {
     "name": "stdout",
     "output_type": "stream",
     "text": [
      "29.2 µs ± 796 ns per loop (mean ± std. dev. of 7 runs, 10000 loops each)\n"
     ]
    }
   ],
   "source": [
    "%timeit fibonacci(10)"
   ]
  },
  {
   "cell_type": "code",
   "execution_count": 13,
   "id": "da0bb6b3",
   "metadata": {},
   "outputs": [
    {
     "name": "stdout",
     "output_type": "stream",
     "text": [
      "1.19 µs ± 16.8 ns per loop (mean ± std. dev. of 7 runs, 1000000 loops each)\n"
     ]
    }
   ],
   "source": [
    "%timeit fibo_iter(10)"
   ]
  },
  {
   "cell_type": "code",
   "execution_count": 18,
   "id": "06813164",
   "metadata": {},
   "outputs": [],
   "source": [
    "mem = {}\n",
    "\n",
    "def fib_mem(n):\n",
    "    if n not in mem:\n",
    "        if n <= 1:\n",
    "            mem[n] = n\n",
    "        else:\n",
    "            mem[n] = fib_mem(n-2) + fib_mem(n-1)\n",
    "    return mem[n]"
   ]
  },
  {
   "cell_type": "code",
   "execution_count": 26,
   "id": "4497ea90",
   "metadata": {},
   "outputs": [
    {
     "data": {
      "text/plain": [
       "139423224561697880139724382870407283950070256587697307264108962948325571622863290691557658876222521294125"
      ]
     },
     "execution_count": 26,
     "metadata": {},
     "output_type": "execute_result"
    }
   ],
   "source": [
    "fib_mem(500)"
   ]
  },
  {
   "cell_type": "markdown",
   "id": "cde8503c",
   "metadata": {},
   "source": [
    "### Get the last digit of fibonacci"
   ]
  },
  {
   "cell_type": "code",
   "execution_count": 30,
   "id": "635a0b17",
   "metadata": {},
   "outputs": [
    {
     "name": "stdout",
     "output_type": "stream",
     "text": [
      "610 0 \n",
      "\n",
      " 987 7 \n",
      "\n",
      " 1597 7\n"
     ]
    }
   ],
   "source": [
    "print(fib_mem(15),fib_mem(15)%10,\"\\n\\n\",fib_mem(16),fib_mem(16)%10,\"\\n\\n\",fib_mem(17),fib_mem(17)%10)"
   ]
  },
  {
   "cell_type": "code",
   "execution_count": 31,
   "id": "152c6a87",
   "metadata": {},
   "outputs": [],
   "source": [
    "memLD = {}\n",
    "def fibLastDigit(n):\n",
    "    if n not in memLD:\n",
    "        if n <= 1:\n",
    "            memLD[n] = n\n",
    "        else:\n",
    "            memLD[n] = (fib_mem(n-2) + fib_mem(n-1))%10\n",
    "    return memLD[n]"
   ]
  },
  {
   "cell_type": "code",
   "execution_count": 38,
   "id": "d381c99f",
   "metadata": {},
   "outputs": [
    {
     "data": {
      "text/plain": [
       "5"
      ]
     },
     "execution_count": 38,
     "metadata": {},
     "output_type": "execute_result"
    }
   ],
   "source": [
    "fibLastDigit(2000)"
   ]
  },
  {
   "cell_type": "code",
   "execution_count": 39,
   "id": "ec826ac5",
   "metadata": {},
   "outputs": [
    {
     "data": {
      "text/plain": [
       "4224696333392304878706725602341482782579852840250681098010280137314308584370130707224123599639141511088446087538909603607640194711643596029271983312598737326253555802606991585915229492453904998722256795316982874482472992263901833716778060607011615497886719879858311468870876264597369086722884023654422295243347964480139515349562972087652656069529806499841977448720155612802665404554171717881930324025204312082516817125"
      ]
     },
     "execution_count": 39,
     "metadata": {},
     "output_type": "execute_result"
    }
   ],
   "source": [
    "fib_mem(2000)"
   ]
  }
 ],
 "metadata": {
  "kernelspec": {
   "display_name": "Python 3",
   "language": "python",
   "name": "python3"
  },
  "language_info": {
   "codemirror_mode": {
    "name": "ipython",
    "version": 3
   },
   "file_extension": ".py",
   "mimetype": "text/x-python",
   "name": "python",
   "nbconvert_exporter": "python",
   "pygments_lexer": "ipython3",
   "version": "3.8.8"
  }
 },
 "nbformat": 4,
 "nbformat_minor": 5
}

{
 "cells": [
  {
   "cell_type": "markdown",
   "id": "6e960ca8",
   "metadata": {},
   "source": [
    "### Merge sort"
   ]
  },
  {
   "cell_type": "code",
   "execution_count": 59,
   "id": "033e711e",
   "metadata": {},
   "outputs": [],
   "source": [
    "List1 = [1,4,13,23,57,87,99]\n",
    "List2 = [2,4,4,5,8]"
   ]
  },
  {
   "cell_type": "code",
   "execution_count": 60,
   "id": "c48fe896",
   "metadata": {},
   "outputs": [
    {
     "data": {
      "text/plain": [
       "[1, 2, 4, 4, 4, 5, 8, 99, 87, 57, 23, 13]"
      ]
     },
     "execution_count": 60,
     "metadata": {},
     "output_type": "execute_result"
    }
   ],
   "source": [
    "Merge(List1,List2)"
   ]
  },
  {
   "cell_type": "code",
   "execution_count": 61,
   "id": "83921aa3",
   "metadata": {},
   "outputs": [],
   "source": [
    "def Merge(list1,list2):\n",
    "    sorted_list = []\n",
    "    list1 = list1.copy()\n",
    "    list2 = list2.copy()\n",
    "    list1 = [*reversed(list1)]\n",
    "    list2 = [*reversed(list2)]\n",
    "    while (len(list1)!=0)&(len(list2)!=0):\n",
    "        if list1[-1] < list2[-1]:\n",
    "            sorted_list.append(list1.pop())\n",
    "        else:\n",
    "            sorted_list.append(list2.pop())\n",
    "    if len(list1) > 0:\n",
    "        list1 = [*reversed(list1)]\n",
    "        sorted_list.extend(list1)\n",
    "    else:\n",
    "        list2 = [*reversed(list2)]\n",
    "        sorted_list.extend(list2)\n",
    "    return sorted_list"
   ]
  },
  {
   "cell_type": "code",
   "execution_count": 62,
   "id": "17c9f6e5",
   "metadata": {},
   "outputs": [],
   "source": [
    "def MergeSort(list1):\n",
    "    if len(list1) == 1:\n",
    "        return list1\n",
    "    first_half = list1[:len(list1)//2]\n",
    "    last_half = list1[len(list1)//2:]\n",
    "    SortedFirst = MergeSort(first_half)\n",
    "    SortedLast = MergeSort(last_half)\n",
    "    SortedList = Merge(SortedFirst,SortedLast)\n",
    "    return SortedList"
   ]
  },
  {
   "cell_type": "code",
   "execution_count": 63,
   "id": "42540eb9",
   "metadata": {},
   "outputs": [
    {
     "data": {
      "text/plain": [
       "[12, 22, 34, 43, 46, 56, 87, 111, 954, 2333, 5998]"
      ]
     },
     "execution_count": 63,
     "metadata": {},
     "output_type": "execute_result"
    }
   ],
   "source": [
    "MergeSort([22,954,34,111,56,43,12,2333,46,5998,87])"
   ]
  },
  {
   "cell_type": "code",
   "execution_count": null,
   "id": "7b9ab106",
   "metadata": {},
   "outputs": [],
   "source": []
  }
 ],
 "metadata": {
  "kernelspec": {
   "display_name": "Python 3",
   "language": "python",
   "name": "python3"
  },
  "language_info": {
   "codemirror_mode": {
    "name": "ipython",
    "version": 3
   },
   "file_extension": ".py",
   "mimetype": "text/x-python",
   "name": "python",
   "nbconvert_exporter": "python",
   "pygments_lexer": "ipython3",
   "version": "3.8.8"
  }
 },
 "nbformat": 4,
 "nbformat_minor": 5
}

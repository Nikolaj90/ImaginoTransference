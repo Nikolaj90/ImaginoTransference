{
 "cells": [
  {
   "cell_type": "code",
   "execution_count": 13,
   "metadata": {},
   "outputs": [],
   "source": [
    "import networkx as nx\n",
    "import pandas as pd\n",
    "import fastdtw\n",
    "import numpy as np"
   ]
  },
  {
   "cell_type": "code",
   "execution_count": 2,
   "metadata": {},
   "outputs": [],
   "source": [
    "df_main = pd.read_excel(\"../../Data/edgelist/UN_full.xlsx\")"
   ]
  },
  {
   "cell_type": "code",
   "execution_count": 3,
   "metadata": {},
   "outputs": [],
   "source": [
    "edgelist = [(origin, destination, {\"weight\":weight}) for [origin, destination, weight] in df_main[[\"origin\",\"destination\", \"weight_scaled\"]].values]"
   ]
  },
  {
   "cell_type": "markdown",
   "metadata": {},
   "source": [
    "I will use the directed graph to calculate in and out degree, but I will use a undirected graph to retrieve neighbourhoods for each node."
   ]
  },
  {
   "cell_type": "code",
   "execution_count": 4,
   "metadata": {},
   "outputs": [],
   "source": [
    "G = nx.DiGraph(edgelist)"
   ]
  },
  {
   "cell_type": "code",
   "execution_count": null,
   "metadata": {},
   "outputs": [],
   "source": []
  },
  {
   "cell_type": "code",
   "execution_count": 5,
   "metadata": {},
   "outputs": [],
   "source": [
    "G_UD = nx.Graph(edgelist)"
   ]
  },
  {
   "cell_type": "code",
   "execution_count": 50,
   "metadata": {},
   "outputs": [
    {
     "data": {
      "text/plain": [
       "3"
      ]
     },
     "execution_count": 50,
     "metadata": {},
     "output_type": "execute_result"
    }
   ],
   "source": [
    "nx.diameter(G_UD)"
   ]
  },
  {
   "cell_type": "markdown",
   "metadata": {},
   "source": [
    "From the adjecency matrix I can calculate the nodes indegree from the corresponding column and the out-degree from the row"
   ]
  },
  {
   "cell_type": "code",
   "execution_count": 6,
   "metadata": {},
   "outputs": [],
   "source": [
    "A = nx.adjacency_matrix(G, weight=None) # All cells are either 0 or 1 to support counting for degree"
   ]
  },
  {
   "cell_type": "code",
   "execution_count": 7,
   "metadata": {},
   "outputs": [],
   "source": [
    "ind2node = {i:node for i, node in enumerate(G.nodes())}"
   ]
  },
  {
   "cell_type": "code",
   "execution_count": 8,
   "metadata": {},
   "outputs": [],
   "source": [
    "degreeDict = {}\n",
    "\n",
    "for i in range(A.shape[0]):\n",
    "    inDegree = A[:,[i]].sum()\n",
    "    outDegree = A[[i],:].sum()\n",
    "    degreeDict[ind2node[i]] = {\"inDegree\":inDegree, \"outDegree\":outDegree}"
   ]
  },
  {
   "cell_type": "markdown",
   "metadata": {},
   "source": [
    "For the preprocess I will create a dictionary with the neighborhoods of all nodes.\n",
    "\n",
    "The format is {origin node : {layer_1:\\[neighbors\\], ... , layer_n:\\[neighbors\\]}}\n",
    "\n",
    "This makes it possible to quickly get all neighbors within a given layer. This can also be converted to the degree vectors for in and out degree."
   ]
  },
  {
   "cell_type": "code",
   "execution_count": 9,
   "metadata": {},
   "outputs": [],
   "source": [
    "all_shortest_paths = {node:paths for node, paths in nx.all_pairs_shortest_path_length(G_UD)}"
   ]
  },
  {
   "cell_type": "code",
   "execution_count": 10,
   "metadata": {},
   "outputs": [],
   "source": [
    "neighborhood_by_layer = {}\n",
    "for origin_node, neighbors in all_shortest_paths.items():\n",
    "    neighborhood_by_layer[origin_node] = {}\n",
    "    for node, layer in neighbors.items():\n",
    "        if layer == 0:\n",
    "            continue\n",
    "        if layer not in neighborhood_by_layer[origin_node]:\n",
    "            neighborhood_by_layer[origin_node][layer] = []\n",
    "        neighborhood_by_layer[origin_node][layer].append(node)"
   ]
  },
  {
   "cell_type": "markdown",
   "metadata": {},
   "source": [
    "With the same syntax from above we replace neighborhoods with an in degree array and an out degree array, these will always incorporate the previous arrays such that all arrays include all nodes _within_ a given layer"
   ]
  },
  {
   "cell_type": "code",
   "execution_count": 19,
   "metadata": {},
   "outputs": [],
   "source": [
    "degree_vectors = {}\n",
    "\n",
    "for origin_node, neighborhoods in neighborhood_by_layer.items():\n",
    "    degree_vectors[origin_node] = {}\n",
    "    for layer, nodes in neighborhoods.items():\n",
    "        vector_in = [degreeDict[node][\"inDegree\"] for node in nodes]\n",
    "        vector_out = [degreeDict[node][\"outDegree\"] for node in nodes]\n",
    "        if layer == 1:\n",
    "            degree_vectors[origin_node][layer] = {\"in\": vector_in, \"out\":vector_out}\n",
    "        else:\n",
    "            vec_in_prev = degree_vectors[origin_node][layer-1][\"in\"].copy()\n",
    "            vec_in_prev.extend(vector_in)\n",
    "\n",
    "            vec_out_prev = degree_vectors[origin_node][layer-1][\"out\"].copy()\n",
    "            vec_out_prev.extend(vector_out)\n",
    "\n",
    "            degree_vectors[origin_node][layer] = {}\n",
    "            degree_vectors[origin_node][layer][\"in\"] = vec_in_prev\n",
    "            degree_vectors[origin_node][layer][\"out\"] = vec_out_prev"
   ]
  },
  {
   "cell_type": "markdown",
   "metadata": {},
   "source": [
    "## Calculating distances between node pairs combining in- and out-degree"
   ]
  },
  {
   "cell_type": "code",
   "execution_count": 117,
   "metadata": {},
   "outputs": [],
   "source": [
    "# I'll define two nodes as an example\n",
    "v0 = \"SWE\"\n",
    "v1 = \"DNK\"\n",
    "n_steps = 1"
   ]
  },
  {
   "cell_type": "code",
   "execution_count": 118,
   "metadata": {},
   "outputs": [],
   "source": [
    "arr0_in = np.array(sorted(degree_vectors[v0][n_steps][\"in\"], reverse=True))\n",
    "arr0_out = np.array(sorted(degree_vectors[v0][n_steps][\"out\"], reverse=True))\n",
    "arr1_in = np.array(sorted(degree_vectors[v1][n_steps][\"in\"], reverse=True))\n",
    "arr1_out = np.array(sorted(degree_vectors[v1][n_steps][\"out\"], reverse=True))"
   ]
  },
  {
   "cell_type": "code",
   "execution_count": 119,
   "metadata": {},
   "outputs": [],
   "source": [
    "def d_func(a,b):\n",
    "    '''\n",
    "    Calculate distance\n",
    "    '''\n",
    "    return float((max(a,b)/min(a,b))-1)"
   ]
  },
  {
   "cell_type": "code",
   "execution_count": 120,
   "metadata": {},
   "outputs": [],
   "source": [
    "arr0_in = arr0_in.reshape(len(arr0_in),1)\n",
    "arr1_in = arr1_in.reshape(len(arr1_in),1)\n",
    "arr0_out = arr0_out.reshape(len(arr0_out),1)\n",
    "arr1_out = arr1_out.reshape(len(arr1_out),1)"
   ]
  },
  {
   "cell_type": "code",
   "execution_count": 121,
   "metadata": {},
   "outputs": [],
   "source": [
    "arr0_in = arr0_in + np.ones((len(arr0_in),1))\n",
    "arr1_in = arr1_in + np.ones((len(arr1_in),1))\n",
    "arr0_out = arr0_out + np.ones((len(arr0_out),1))\n",
    "arr1_out = arr1_out + np.ones((len(arr1_out),1))"
   ]
  },
  {
   "cell_type": "code",
   "execution_count": 122,
   "metadata": {},
   "outputs": [
    {
     "name": "stderr",
     "output_type": "stream",
     "text": [
      "C:\\Users\\nikol\\AppData\\Local\\Temp\\ipykernel_4652\\100461986.py:5: DeprecationWarning: Conversion of an array with ndim > 0 to a scalar is deprecated, and will error in future. Ensure you extract a single element from your array before performing this operation. (Deprecated NumPy 1.25.)\n",
      "  return float((max(a,b)/min(a,b))-1)\n"
     ]
    }
   ],
   "source": [
    "dist_in, conv_vect = fastdtw.fastdtw(arr0_in, arr1_in, dist=d_func)"
   ]
  },
  {
   "cell_type": "code",
   "execution_count": 123,
   "metadata": {},
   "outputs": [
    {
     "name": "stderr",
     "output_type": "stream",
     "text": [
      "C:\\Users\\nikol\\AppData\\Local\\Temp\\ipykernel_4652\\100461986.py:5: DeprecationWarning: Conversion of an array with ndim > 0 to a scalar is deprecated, and will error in future. Ensure you extract a single element from your array before performing this operation. (Deprecated NumPy 1.25.)\n",
      "  return float((max(a,b)/min(a,b))-1)\n"
     ]
    }
   ],
   "source": [
    "dist_out, conv_vect = fastdtw.fastdtw(arr0_out, arr1_out, dist=d_func)"
   ]
  },
  {
   "cell_type": "code",
   "execution_count": 124,
   "metadata": {},
   "outputs": [
    {
     "data": {
      "text/plain": [
       "0.1494588744588743"
      ]
     },
     "execution_count": 124,
     "metadata": {},
     "output_type": "execute_result"
    }
   ],
   "source": [
    "dist_in"
   ]
  },
  {
   "cell_type": "code",
   "execution_count": 125,
   "metadata": {},
   "outputs": [
    {
     "data": {
      "text/plain": [
       "0.32415240343629104"
      ]
     },
     "execution_count": 125,
     "metadata": {},
     "output_type": "execute_result"
    }
   ],
   "source": [
    "dist_out"
   ]
  },
  {
   "cell_type": "code",
   "execution_count": 126,
   "metadata": {},
   "outputs": [
    {
     "data": {
      "text/plain": [
       "0.7891446520982162"
      ]
     },
     "execution_count": 126,
     "metadata": {},
     "output_type": "execute_result"
    }
   ],
   "source": [
    "np.exp(-np.mean([dist_in, dist_out]))"
   ]
  },
  {
   "cell_type": "code",
   "execution_count": null,
   "metadata": {},
   "outputs": [],
   "source": []
  }
 ],
 "metadata": {
  "kernelspec": {
   "display_name": "Python 3",
   "language": "python",
   "name": "python3"
  },
  "language_info": {
   "codemirror_mode": {
    "name": "ipython",
    "version": 3
   },
   "file_extension": ".py",
   "mimetype": "text/x-python",
   "name": "python",
   "nbconvert_exporter": "python",
   "pygments_lexer": "ipython3",
   "version": "3.12.2"
  }
 },
 "nbformat": 4,
 "nbformat_minor": 2
}
